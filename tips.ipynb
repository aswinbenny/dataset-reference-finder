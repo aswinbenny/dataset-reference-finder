{
 "cells": [
  {
   "cell_type": "markdown",
   "id": "30f93b1b",
   "metadata": {
    "vscode": {
     "languageId": "plaintext"
    }
   },
   "source": [
    "Column in DF\n",
    "Description\n",
    "article_id\n",
    "From filename or parsed XML metadata\n",
    "dataset_reference\n",
    "A candidate URL or DOI from full text or reference section\n",
    "context_before\n",
    "~50 words (or characters) before the citation in the sentence or paragraph\n",
    "context_after\n",
    "~50 words (or characters) after the citation\n",
    "full_sentence\n",
    "(Optional) The whole sentence or paragraph containing the citation\n",
    "section_title\n",
    "(Optional) Which section it came from: Abstract, Methods, etc.\n",
    "ref_type\n",
    "(Optional, for later) whether it came from <ref> section or inline\n"
   ]
  },
  {
   "cell_type": "markdown",
   "id": "7106dc54",
   "metadata": {},
   "source": [
    "CHEMBL 29"
   ]
  },
  {
   "cell_type": "markdown",
   "id": "b4088c7c",
   "metadata": {},
   "source": [
    "Pattern\n",
    "Sample(s)\n",
    "Count\n",
    "BioSample\n",
    "SAMN07159041, SAMN07159044, SAMN07159045\n",
    "41\n",
    "GISAID\n",
    "EPI_ISL_291131, EPI_ISL_293286, EPI_ISL_293287\n",
    "35\n",
    "InterPro\n",
    "IPR000884, IPR001124, IPR001577\n",
    "33\n",
    "CHEMBL\n",
    "CHEMBL1097, CHEMBL1257578, CHEMBL1257821\n",
    "29\n",
    "GISAID (alt)\n",
    "EPI1018205, EPI1018206, EPI1018207\n",
    "29\n",
    "BioProject\n",
    "PRJNA10687, PRJNA16146, PRJNA16148\n",
    "26\n",
    "GEO Expression\n",
    "E-GEOD-19722, E-GEOD-28654, E-GEOD-29623\n",
    "25\n",
    "UniProt (old?)\n",
    "F6RVJ3, K02388, K02389\n",
    "22\n",
    "Ensembl\n",
    "ENSBTAG00000011038, ENSBTAG00000013718, ENSBTAG00000017121\n",
    "21\n",
    "Pfam\n",
    "PF00348, PF00484, PF01493\n",
    "21\n",
    "Cellosaurus\n",
    "CVCL_0213, CVCL_0395, CVCL_0530\n",
    "16\n",
    "EC Number (Enzyme)\n",
    "3.10.180.10, 3.20.20.120, 3.20.20.140\n",
    "14\n",
    "E-PROT\n",
    "E-PROT-100, E-PROT-101, E-PROT-102\n",
    "12\n",
    "EMPIAR\n",
    "EMPIAR-10005, EMPIAR-10017, EMPIAR-10028\n",
    "12\n",
    "UniProt (new)\n",
    "O75787, P17900, P21741\n",
    "12\n"
   ]
  }
 ],
 "metadata": {
  "language_info": {
   "name": "python"
  }
 },
 "nbformat": 4,
 "nbformat_minor": 5
}
