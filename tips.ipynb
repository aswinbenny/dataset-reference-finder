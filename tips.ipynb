{
 "cells": [
  {
   "cell_type": "markdown",
   "id": "30f93b1b",
   "metadata": {
    "vscode": {
     "languageId": "plaintext"
    }
   },
   "source": [
    "Column in DF\n",
    "Description\n",
    "article_id\n",
    "From filename or parsed XML metadata\n",
    "dataset_reference\n",
    "A candidate URL or DOI from full text or reference section\n",
    "context_before\n",
    "~50 words (or characters) before the citation in the sentence or paragraph\n",
    "context_after\n",
    "~50 words (or characters) after the citation\n",
    "full_sentence\n",
    "(Optional) The whole sentence or paragraph containing the citation\n",
    "section_title\n",
    "(Optional) Which section it came from: Abstract, Methods, etc.\n",
    "ref_type\n",
    "(Optional, for later) whether it came from <ref> section or inline\n"
   ]
  },
  {
   "cell_type": "code",
   "execution_count": 1,
   "id": "707e0014",
   "metadata": {},
   "outputs": [],
   "source": [
    "import warnings\n",
    "warnings.filterwarnings(\"ignore\")\n",
    "import pandas as pd\n",
    "pd.set_option('display.max_columns', None)\n",
    "pd.set_option('display.max_rows', None)"
   ]
  },
  {
   "cell_type": "code",
   "execution_count": 2,
   "id": "a7aa50dd",
   "metadata": {},
   "outputs": [
    {
     "name": "stdout",
     "output_type": "stream",
     "text": [
      "MuPDF error: unsupported error: cannot create appearance stream for  annotations\n",
      "\n",
      "MuPDF error: unsupported error: cannot create appearance stream for  annotations\n",
      "\n",
      "MuPDF error: unsupported error: cannot create appearance stream for  annotations\n",
      "\n",
      "MuPDF error: unsupported error: cannot create appearance stream for  annotations\n",
      "\n",
      "MuPDF error: unsupported error: cannot create appearance stream for  annotations\n",
      "\n",
      "MuPDF error: unsupported error: cannot create appearance stream for  annotations\n",
      "\n",
      "MuPDF error: unsupported error: cannot create appearance stream for  annotations\n",
      "\n",
      "MuPDF error: unsupported error: cannot create appearance stream for  annotations\n",
      "\n",
      "MuPDF error: unsupported error: cannot create appearance stream for  annotations\n",
      "\n",
      "MuPDF error: unsupported error: cannot create appearance stream for  annotations\n",
      "\n",
      "MuPDF error: unsupported error: cannot create appearance stream for  annotations\n",
      "\n",
      "MuPDF error: unsupported error: cannot create appearance stream for  annotations\n",
      "\n",
      "MuPDF error: unsupported error: cannot create appearance stream for  annotations\n",
      "\n",
      "MuPDF error: unsupported error: cannot create appearance stream for  annotations\n",
      "\n",
      "MuPDF error: unsupported error: cannot create appearance stream for  annotations\n",
      "\n",
      "MuPDF error: unsupported error: cannot create appearance stream for  annotations\n",
      "\n",
      "MuPDF error: unsupported error: cannot create appearance stream for  annotations\n",
      "\n",
      "MuPDF error: unsupported error: cannot create appearance stream for  annotations\n",
      "\n"
     ]
    },
    {
     "data": {
      "text/html": [
       "<div>\n",
       "<style scoped>\n",
       "    .dataframe tbody tr th:only-of-type {\n",
       "        vertical-align: middle;\n",
       "    }\n",
       "\n",
       "    .dataframe tbody tr th {\n",
       "        vertical-align: top;\n",
       "    }\n",
       "\n",
       "    .dataframe thead th {\n",
       "        text-align: right;\n",
       "    }\n",
       "</style>\n",
       "<table border=\"1\" class=\"dataframe\">\n",
       "  <thead>\n",
       "    <tr style=\"text-align: right;\">\n",
       "      <th></th>\n",
       "      <th>row_id</th>\n",
       "      <th>article_id</th>\n",
       "      <th>dataset_id</th>\n",
       "      <th>context</th>\n",
       "      <th>pattern_type</th>\n",
       "      <th>source</th>\n",
       "      <th>start_idx</th>\n",
       "      <th>score</th>\n",
       "    </tr>\n",
       "  </thead>\n",
       "  <tbody>\n",
       "    <tr>\n",
       "      <th>0</th>\n",
       "      <td>0</td>\n",
       "      <td>10.1002_2017jc013030</td>\n",
       "      <td>https://doi.org/10.3354/meps11580</td>\n",
       "      <td>properties of some phytoplankters.Deep Sea Res...</td>\n",
       "      <td>doi_short</td>\n",
       "      <td>pdf</td>\n",
       "      <td>58307</td>\n",
       "      <td>0</td>\n",
       "    </tr>\n",
       "    <tr>\n",
       "      <th>1</th>\n",
       "      <td>1</td>\n",
       "      <td>10.1002_2017jc013030</td>\n",
       "      <td>https://doi.org/10.4319/lo.2011.56.3.0955</td>\n",
       "      <td>southern Bay of Biscay .Marine Ecology Progres...</td>\n",
       "      <td>doi_short</td>\n",
       "      <td>pdf</td>\n",
       "      <td>58569</td>\n",
       "      <td>0</td>\n",
       "    </tr>\n",
       "    <tr>\n",
       "      <th>2</th>\n",
       "      <td>2</td>\n",
       "      <td>10.1002_2017jc013030</td>\n",
       "      <td>https://doi.org/10.4319/lo.2003.48.2.0843</td>\n",
       "      <td>bio-optical oceanic regimes.Limnology and Ocea...</td>\n",
       "      <td>doi_short</td>\n",
       "      <td>pdf</td>\n",
       "      <td>58828</td>\n",
       "      <td>0</td>\n",
       "    </tr>\n",
       "    <tr>\n",
       "      <th>3</th>\n",
       "      <td>3</td>\n",
       "      <td>10.1002_2017jc013030</td>\n",
       "      <td>https://doi.org/10.1016/s0967-0637</td>\n",
       "      <td>J Nolan 10.1016/S0967-0637 01 00025-5 Deep Sea...</td>\n",
       "      <td>doi_xml</td>\n",
       "      <td>xml</td>\n",
       "      <td>57177</td>\n",
       "      <td>0</td>\n",
       "    </tr>\n",
       "    <tr>\n",
       "      <th>4</th>\n",
       "      <td>4</td>\n",
       "      <td>10.1002_2017jc013030</td>\n",
       "      <td>https://doi.org/10.4319/lo.1996.41.8.1684</td>\n",
       "      <td>Part I: Oceanographic Research Papers 48 11 24...</td>\n",
       "      <td>doi_short</td>\n",
       "      <td>pdf</td>\n",
       "      <td>59686</td>\n",
       "      <td>0</td>\n",
       "    </tr>\n",
       "  </tbody>\n",
       "</table>\n",
       "</div>"
      ],
      "text/plain": [
       "   row_id            article_id                                 dataset_id  \\\n",
       "0       0  10.1002_2017jc013030          https://doi.org/10.3354/meps11580   \n",
       "1       1  10.1002_2017jc013030  https://doi.org/10.4319/lo.2011.56.3.0955   \n",
       "2       2  10.1002_2017jc013030  https://doi.org/10.4319/lo.2003.48.2.0843   \n",
       "3       3  10.1002_2017jc013030         https://doi.org/10.1016/s0967-0637   \n",
       "4       4  10.1002_2017jc013030  https://doi.org/10.4319/lo.1996.41.8.1684   \n",
       "\n",
       "                                             context pattern_type source  \\\n",
       "0  properties of some phytoplankters.Deep Sea Res...    doi_short    pdf   \n",
       "1  southern Bay of Biscay .Marine Ecology Progres...    doi_short    pdf   \n",
       "2  bio-optical oceanic regimes.Limnology and Ocea...    doi_short    pdf   \n",
       "3  J Nolan 10.1016/S0967-0637 01 00025-5 Deep Sea...      doi_xml    xml   \n",
       "4  Part I: Oceanographic Research Papers 48 11 24...    doi_short    pdf   \n",
       "\n",
       "   start_idx  score  \n",
       "0      58307      0  \n",
       "1      58569      0  \n",
       "2      58828      0  \n",
       "3      57177      0  \n",
       "4      59686      0  "
      ]
     },
     "execution_count": 2,
     "metadata": {},
     "output_type": "execute_result"
    }
   ],
   "source": [
    "from dataset_reference_extractor import DatasetReferenceExtractor\n",
    "from regex_patterns import patterns\n",
    "\n",
    "extractor = DatasetReferenceExtractor(regex_patterns=patterns, context_window=40)\n",
    "\n",
    "df = extractor.run_on_folder(\n",
    "    pdf_folder=\"data/train/PDF\",\n",
    "    xml_folder=\"data/train/XML\"\n",
    ")\n",
    "\n",
    "df.head()"
   ]
  },
  {
   "cell_type": "code",
   "execution_count": 3,
   "id": "8f0c4ed6",
   "metadata": {},
   "outputs": [],
   "source": [
    "#df.groupby('article_id')."
   ]
  },
  {
   "cell_type": "code",
   "execution_count": 4,
   "id": "7cb96145",
   "metadata": {},
   "outputs": [
    {
     "data": {
      "text/plain": [
       "pattern_type\n",
       "doi_long                            8265\n",
       "doi_short                           6851\n",
       "doi_xml                             2980\n",
       "PDB ID                               533\n",
       "EC Numbers                           487\n",
       "F ID                                 299\n",
       "Short Alphanumeric ID (PDB-like)     197\n",
       "UniProt ID                           145\n",
       "rs ID                                 88\n",
       "SAMN BioSample                        85\n",
       "GSE                                   83\n",
       "SRX/SRR/SRP                           73\n",
       "PRJNA (BioProject)                    51\n",
       "KEGG K Numbers                        48\n",
       "D ID                                  36\n",
       "EPI_ISL (GISAID)                      35\n",
       "IPR                                   35\n",
       "NM_ RefSeq                            33\n",
       "PF                                    30\n",
       "CHEMBL                                29\n",
       "EPI Short (Legacy)                    29\n",
       "E-GEOD (GEO)                          26\n",
       "CVCL (Cellosaurus)                    20\n",
       "EMPIAR                                18\n",
       "PXD (ProteomeXchange)                 17\n",
       "ENSEMBL Gene ENSMMUT                  14\n",
       "ENSEMBL Gene ENSBTAG                  13\n",
       "HPA ID                                13\n",
       "ENSEMBL Gene ENSOARG                  12\n",
       "E-PROT (Expression Atlas)             12\n",
       "NC_ RefSeq                             8\n",
       "BX ID                                  6\n",
       "CP GenBank/RefSeq                      6\n",
       "ERR ID (ENA Run)                       5\n",
       "CAB ID                                 3\n",
       "KX ID                                  3\n",
       "STH ID                                 1\n",
       "MODEL ID                               1\n",
       "Name: count, dtype: int64"
      ]
     },
     "execution_count": 4,
     "metadata": {},
     "output_type": "execute_result"
    }
   ],
   "source": [
    "df['pattern_type'].value_counts()"
   ]
  },
  {
   "cell_type": "code",
   "execution_count": 5,
   "id": "575fa44b",
   "metadata": {},
   "outputs": [
    {
     "data": {
      "text/plain": [
       "19639"
      ]
     },
     "execution_count": 5,
     "metadata": {},
     "output_type": "execute_result"
    }
   ],
   "source": [
    "df['dataset_id'].nunique()"
   ]
  },
  {
   "cell_type": "code",
   "execution_count": 6,
   "id": "9133de18",
   "metadata": {},
   "outputs": [
    {
     "data": {
      "text/plain": [
       "20590"
      ]
     },
     "execution_count": 6,
     "metadata": {},
     "output_type": "execute_result"
    }
   ],
   "source": [
    "# Number of unique (article_id, dataset_id) pairs\n",
    "df[['article_id', 'dataset_id']].drop_duplicates().shape[0]"
   ]
  },
  {
   "cell_type": "code",
   "execution_count": 7,
   "id": "b923a52f",
   "metadata": {},
   "outputs": [
    {
     "data": {
      "text/plain": [
       "(20590, 8)"
      ]
     },
     "execution_count": 7,
     "metadata": {},
     "output_type": "execute_result"
    }
   ],
   "source": [
    "df.shape"
   ]
  },
  {
   "cell_type": "code",
   "execution_count": 8,
   "id": "d6a8ae34",
   "metadata": {},
   "outputs": [
    {
     "data": {
      "text/html": [
       "<div>\n",
       "<style scoped>\n",
       "    .dataframe tbody tr th:only-of-type {\n",
       "        vertical-align: middle;\n",
       "    }\n",
       "\n",
       "    .dataframe tbody tr th {\n",
       "        vertical-align: top;\n",
       "    }\n",
       "\n",
       "    .dataframe thead th {\n",
       "        text-align: right;\n",
       "    }\n",
       "</style>\n",
       "<table border=\"1\" class=\"dataframe\">\n",
       "  <thead>\n",
       "    <tr style=\"text-align: right;\">\n",
       "      <th></th>\n",
       "      <th>row_id</th>\n",
       "      <th>article_id</th>\n",
       "      <th>dataset_id</th>\n",
       "      <th>context</th>\n",
       "      <th>pattern_type</th>\n",
       "      <th>source</th>\n",
       "      <th>start_idx</th>\n",
       "      <th>score</th>\n",
       "    </tr>\n",
       "  </thead>\n",
       "  <tbody>\n",
       "    <tr>\n",
       "      <th>0</th>\n",
       "      <td>0</td>\n",
       "      <td>10.1002_2017jc013030</td>\n",
       "      <td>https://doi.org/10.3354/meps11580</td>\n",
       "      <td>properties of some phytoplankters.Deep Sea Res...</td>\n",
       "      <td>doi_short</td>\n",
       "      <td>pdf</td>\n",
       "      <td>58307</td>\n",
       "      <td>0</td>\n",
       "    </tr>\n",
       "    <tr>\n",
       "      <th>259</th>\n",
       "      <td>259</td>\n",
       "      <td>10.1002_2017jc013030</td>\n",
       "      <td>https://doi.org/10.5194/essd-2017-58.bio-optic...</td>\n",
       "      <td>derived from BGC-Argo float measurements for m...</td>\n",
       "      <td>doi_long</td>\n",
       "      <td>xml</td>\n",
       "      <td>94876</td>\n",
       "      <td>0</td>\n",
       "    </tr>\n",
       "    <tr>\n",
       "      <th>258</th>\n",
       "      <td>258</td>\n",
       "      <td>10.1002_2017jc013030</td>\n",
       "      <td>https://doi.org/10.5194/essd-2017-58.bio-optical</td>\n",
       "      <td>derived from BGC-Argo float measurements for m...</td>\n",
       "      <td>doi_short</td>\n",
       "      <td>xml</td>\n",
       "      <td>94876</td>\n",
       "      <td>0</td>\n",
       "    </tr>\n",
       "    <tr>\n",
       "      <th>242</th>\n",
       "      <td>242</td>\n",
       "      <td>10.1002_2017jc013030</td>\n",
       "      <td>https://doi.org/10.1364/oe.17.012685journal</td>\n",
       "      <td>Research 116 C6 .https://doi.org/10.1029/2010J...</td>\n",
       "      <td>doi_long</td>\n",
       "      <td>pdf</td>\n",
       "      <td>94063</td>\n",
       "      <td>0</td>\n",
       "    </tr>\n",
       "    <tr>\n",
       "      <th>241</th>\n",
       "      <td>241</td>\n",
       "      <td>10.1002_2017jc013030</td>\n",
       "      <td>https://doi.org/10.4319/lo.1989.34.8.1694zhang</td>\n",
       "      <td>processing and mutual interpretation of radiom...</td>\n",
       "      <td>doi_long</td>\n",
       "      <td>pdf</td>\n",
       "      <td>93913</td>\n",
       "      <td>0</td>\n",
       "    </tr>\n",
       "  </tbody>\n",
       "</table>\n",
       "</div>"
      ],
      "text/plain": [
       "     row_id            article_id  \\\n",
       "0         0  10.1002_2017jc013030   \n",
       "259     259  10.1002_2017jc013030   \n",
       "258     258  10.1002_2017jc013030   \n",
       "242     242  10.1002_2017jc013030   \n",
       "241     241  10.1002_2017jc013030   \n",
       "\n",
       "                                            dataset_id  \\\n",
       "0                    https://doi.org/10.3354/meps11580   \n",
       "259  https://doi.org/10.5194/essd-2017-58.bio-optic...   \n",
       "258   https://doi.org/10.5194/essd-2017-58.bio-optical   \n",
       "242        https://doi.org/10.1364/oe.17.012685journal   \n",
       "241     https://doi.org/10.4319/lo.1989.34.8.1694zhang   \n",
       "\n",
       "                                               context pattern_type source  \\\n",
       "0    properties of some phytoplankters.Deep Sea Res...    doi_short    pdf   \n",
       "259  derived from BGC-Argo float measurements for m...     doi_long    xml   \n",
       "258  derived from BGC-Argo float measurements for m...    doi_short    xml   \n",
       "242  Research 116 C6 .https://doi.org/10.1029/2010J...     doi_long    pdf   \n",
       "241  processing and mutual interpretation of radiom...     doi_long    pdf   \n",
       "\n",
       "     start_idx  score  \n",
       "0        58307      0  \n",
       "259      94876      0  \n",
       "258      94876      0  \n",
       "242      94063      0  \n",
       "241      93913      0  "
      ]
     },
     "execution_count": 8,
     "metadata": {},
     "output_type": "execute_result"
    }
   ],
   "source": [
    "doi_df = df[df['dataset_id'].str.contains(\"doi.org\", case=False, na=False)]\n",
    "doi_df.sort_values(by='article_id', inplace=True)\n",
    "doi_df.head()"
   ]
  },
  {
   "cell_type": "code",
   "execution_count": 9,
   "id": "e3f96b78",
   "metadata": {},
   "outputs": [
    {
     "data": {
      "text/plain": [
       "(13320, 8)"
      ]
     },
     "execution_count": 9,
     "metadata": {},
     "output_type": "execute_result"
    }
   ],
   "source": [
    "doi_df[doi_df['source'] == 'pdf'].shape"
   ]
  },
  {
   "cell_type": "code",
   "execution_count": 10,
   "id": "2c1bfee5",
   "metadata": {},
   "outputs": [
    {
     "data": {
      "text/html": [
       "<div>\n",
       "<style scoped>\n",
       "    .dataframe tbody tr th:only-of-type {\n",
       "        vertical-align: middle;\n",
       "    }\n",
       "\n",
       "    .dataframe tbody tr th {\n",
       "        vertical-align: top;\n",
       "    }\n",
       "\n",
       "    .dataframe thead th {\n",
       "        text-align: right;\n",
       "    }\n",
       "</style>\n",
       "<table border=\"1\" class=\"dataframe\">\n",
       "  <thead>\n",
       "    <tr style=\"text-align: right;\">\n",
       "      <th></th>\n",
       "      <th>row_id</th>\n",
       "      <th>article_id</th>\n",
       "      <th>dataset_id</th>\n",
       "      <th>context</th>\n",
       "      <th>pattern_type</th>\n",
       "      <th>source</th>\n",
       "      <th>start_idx</th>\n",
       "      <th>score</th>\n",
       "    </tr>\n",
       "  </thead>\n",
       "  <tbody>\n",
       "  </tbody>\n",
       "</table>\n",
       "</div>"
      ],
      "text/plain": [
       "Empty DataFrame\n",
       "Columns: [row_id, article_id, dataset_id, context, pattern_type, source, start_idx, score]\n",
       "Index: []"
      ]
     },
     "execution_count": 10,
     "metadata": {},
     "output_type": "execute_result"
    }
   ],
   "source": [
    "doi_df[doi_df['dataset_id'] == 'https://doi.org/10.5061/dryad.5q1sb']"
   ]
  },
  {
   "cell_type": "code",
   "execution_count": 11,
   "id": "485adbeb",
   "metadata": {},
   "outputs": [
    {
     "name": "stdout",
     "output_type": "stream",
     "text": [
      "Missed 111 true (article_id, dataset_id) pairs\n"
     ]
    }
   ],
   "source": [
    "# Read ground truth labels\n",
    "import pandas as pd\n",
    "labels_df = pd.read_csv(\"data/train_labels.csv\")\n",
    "#labels_df.loc[labels_df['article_id'] == '10.1371_journal.pone.0070749', 'dataset_id'] = 'https://doi.org/10.5061/dryad.5q1sb'\n",
    "\n",
    "# Ensure we compare only unique combinations\n",
    "labels_df_cleaned = labels_df[labels_df['dataset_id'] != 'Missing']\n",
    "label_pairs = set(zip(labels_df_cleaned.article_id, labels_df_cleaned.dataset_id))\n",
    "extracted_pairs = set(zip(df.article_id, df.dataset_id))\n",
    "\n",
    "# Missed pairs (False Negatives)\n",
    "missed = label_pairs - extracted_pairs\n",
    "print(f\"Missed {len(missed)} true (article_id, dataset_id) pairs\")"
   ]
  },
  {
   "cell_type": "code",
   "execution_count": 12,
   "id": "73e4cc4d",
   "metadata": {},
   "outputs": [
    {
     "name": "stdout",
     "output_type": "stream",
     "text": [
      "Extracted 19982 pairs that were not in ground truth\n"
     ]
    }
   ],
   "source": [
    "# Extra pairs (False Positives)\n",
    "extras = extracted_pairs - label_pairs\n",
    "print(f\"Extracted {len(extras)} pairs that were not in ground truth\")"
   ]
  },
  {
   "cell_type": "code",
   "execution_count": 13,
   "id": "6a0fcdae",
   "metadata": {},
   "outputs": [
    {
     "data": {
      "text/html": [
       "<div>\n",
       "<style scoped>\n",
       "    .dataframe tbody tr th:only-of-type {\n",
       "        vertical-align: middle;\n",
       "    }\n",
       "\n",
       "    .dataframe tbody tr th {\n",
       "        vertical-align: top;\n",
       "    }\n",
       "\n",
       "    .dataframe thead th {\n",
       "        text-align: right;\n",
       "    }\n",
       "</style>\n",
       "<table border=\"1\" class=\"dataframe\">\n",
       "  <thead>\n",
       "    <tr style=\"text-align: right;\">\n",
       "      <th></th>\n",
       "      <th>article_id</th>\n",
       "      <th>dataset_id</th>\n",
       "    </tr>\n",
       "  </thead>\n",
       "  <tbody>\n",
       "    <tr>\n",
       "      <th>100</th>\n",
       "      <td>10.1002_ecs2.4619</td>\n",
       "      <td>https://doi.org/10.25349/d9qw5x</td>\n",
       "    </tr>\n",
       "    <tr>\n",
       "      <th>23</th>\n",
       "      <td>10.1002_nafm.10870</td>\n",
       "      <td>https://doi.org/10.5066/p9gtumay</td>\n",
       "    </tr>\n",
       "    <tr>\n",
       "      <th>85</th>\n",
       "      <td>10.1007_s00259-022-06053-8</td>\n",
       "      <td>https://doi.org/10.7937/tcia.2019.30ilqfcl</td>\n",
       "    </tr>\n",
       "    <tr>\n",
       "      <th>58</th>\n",
       "      <td>10.1007_s00259-022-06053-8</td>\n",
       "      <td>https://doi.org/10.7937/k9/tcia.2017.7hs46erv</td>\n",
       "    </tr>\n",
       "    <tr>\n",
       "      <th>81</th>\n",
       "      <td>10.1007_s12559-020-09751-3</td>\n",
       "      <td>https://doi.org/10.7937/k9/tcia.2015.u1x8a5nr</td>\n",
       "    </tr>\n",
       "    <tr>\n",
       "      <th>74</th>\n",
       "      <td>10.1016_j.ast.2022.107401</td>\n",
       "      <td>https://doi.org/10.17862/cranfield.rd.19146182</td>\n",
       "    </tr>\n",
       "    <tr>\n",
       "      <th>89</th>\n",
       "      <td>10.1016_j.ast.2022.107401</td>\n",
       "      <td>https://doi.org/10.17862/cranfield.rd.19146182.v1</td>\n",
       "    </tr>\n",
       "    <tr>\n",
       "      <th>92</th>\n",
       "      <td>10.1016_j.cpc.2024.109087</td>\n",
       "      <td>https://doi.org/10.17632/9gr6pxhfjm</td>\n",
       "    </tr>\n",
       "    <tr>\n",
       "      <th>42</th>\n",
       "      <td>10.1016_j.fuel.2022.125768</td>\n",
       "      <td>https://doi.org/10.11583/dtu.20555586.v3</td>\n",
       "    </tr>\n",
       "    <tr>\n",
       "      <th>10</th>\n",
       "      <td>10.1016_j.fuel.2022.125768</td>\n",
       "      <td>https://doi.org/10.11583/dtu.20555586</td>\n",
       "    </tr>\n",
       "    <tr>\n",
       "      <th>64</th>\n",
       "      <td>10.1016_j.jlp.2022.104761</td>\n",
       "      <td>https://doi.org/10.23642/usn.15134442.v1</td>\n",
       "    </tr>\n",
       "    <tr>\n",
       "      <th>39</th>\n",
       "      <td>10.1016_j.jlp.2022.104761</td>\n",
       "      <td>https://doi.org/10.23642/usn.15134442</td>\n",
       "    </tr>\n",
       "    <tr>\n",
       "      <th>106</th>\n",
       "      <td>10.1016_j.jobe.2023.107105</td>\n",
       "      <td>https://doi.org/10.5281/zenodo.8014149</td>\n",
       "    </tr>\n",
       "    <tr>\n",
       "      <th>49</th>\n",
       "      <td>10.1016_j.jsames.2022.103824</td>\n",
       "      <td>https://doi.org/10.5066/f7k072r7</td>\n",
       "    </tr>\n",
       "    <tr>\n",
       "      <th>65</th>\n",
       "      <td>10.1016_j.scitotenv.2024.171850</td>\n",
       "      <td>https://doi.org/10.17863/cam.107163</td>\n",
       "    </tr>\n",
       "    <tr>\n",
       "      <th>33</th>\n",
       "      <td>10.1021_acs.jcim.9b01185</td>\n",
       "      <td>https://doi.org/10.5281/zenodo.3667633</td>\n",
       "    </tr>\n",
       "    <tr>\n",
       "      <th>9</th>\n",
       "      <td>10.1021_jacs.2c06519</td>\n",
       "      <td>https://doi.org/10.25377/sussex.21184705</td>\n",
       "    </tr>\n",
       "    <tr>\n",
       "      <th>99</th>\n",
       "      <td>10.1021_jacs.2c06519</td>\n",
       "      <td>https://doi.org/10.25377/sussex.21184705.v1</td>\n",
       "    </tr>\n",
       "    <tr>\n",
       "      <th>7</th>\n",
       "      <td>10.1029_2019jg005297</td>\n",
       "      <td>https://doi.org/10.5061/dryad.pp045j3</td>\n",
       "    </tr>\n",
       "    <tr>\n",
       "      <th>4</th>\n",
       "      <td>10.1029_2022gl100473</td>\n",
       "      <td>https://doi.org/10.5281/zenodo.6886498</td>\n",
       "    </tr>\n",
       "    <tr>\n",
       "      <th>11</th>\n",
       "      <td>10.1038_hdy.2013.74</td>\n",
       "      <td>https://doi.org/10.5061/dryad.75030</td>\n",
       "    </tr>\n",
       "    <tr>\n",
       "      <th>94</th>\n",
       "      <td>10.1038_hdy.2014.75</td>\n",
       "      <td>https://doi.org/10.5061/dryad.1p80f</td>\n",
       "    </tr>\n",
       "    <tr>\n",
       "      <th>103</th>\n",
       "      <td>10.1038_hdy.2015.99</td>\n",
       "      <td>https://doi.org/10.5061/dryad.f47f6</td>\n",
       "    </tr>\n",
       "    <tr>\n",
       "      <th>62</th>\n",
       "      <td>10.1038_s41437-020-0318-8</td>\n",
       "      <td>https://doi.org/10.5061/dryad.rxwdbrv58</td>\n",
       "    </tr>\n",
       "    <tr>\n",
       "      <th>26</th>\n",
       "      <td>10.1038_s41467-018-04041-x</td>\n",
       "      <td>https://doi.org/10.1594/pangaea.876062</td>\n",
       "    </tr>\n",
       "  </tbody>\n",
       "</table>\n",
       "</div>"
      ],
      "text/plain": [
       "                          article_id  \\\n",
       "100                10.1002_ecs2.4619   \n",
       "23                10.1002_nafm.10870   \n",
       "85        10.1007_s00259-022-06053-8   \n",
       "58        10.1007_s00259-022-06053-8   \n",
       "81        10.1007_s12559-020-09751-3   \n",
       "74         10.1016_j.ast.2022.107401   \n",
       "89         10.1016_j.ast.2022.107401   \n",
       "92         10.1016_j.cpc.2024.109087   \n",
       "42        10.1016_j.fuel.2022.125768   \n",
       "10        10.1016_j.fuel.2022.125768   \n",
       "64         10.1016_j.jlp.2022.104761   \n",
       "39         10.1016_j.jlp.2022.104761   \n",
       "106       10.1016_j.jobe.2023.107105   \n",
       "49      10.1016_j.jsames.2022.103824   \n",
       "65   10.1016_j.scitotenv.2024.171850   \n",
       "33          10.1021_acs.jcim.9b01185   \n",
       "9               10.1021_jacs.2c06519   \n",
       "99              10.1021_jacs.2c06519   \n",
       "7               10.1029_2019jg005297   \n",
       "4               10.1029_2022gl100473   \n",
       "11               10.1038_hdy.2013.74   \n",
       "94               10.1038_hdy.2014.75   \n",
       "103              10.1038_hdy.2015.99   \n",
       "62         10.1038_s41437-020-0318-8   \n",
       "26        10.1038_s41467-018-04041-x   \n",
       "\n",
       "                                            dataset_id  \n",
       "100                    https://doi.org/10.25349/d9qw5x  \n",
       "23                    https://doi.org/10.5066/p9gtumay  \n",
       "85          https://doi.org/10.7937/tcia.2019.30ilqfcl  \n",
       "58       https://doi.org/10.7937/k9/tcia.2017.7hs46erv  \n",
       "81       https://doi.org/10.7937/k9/tcia.2015.u1x8a5nr  \n",
       "74      https://doi.org/10.17862/cranfield.rd.19146182  \n",
       "89   https://doi.org/10.17862/cranfield.rd.19146182.v1  \n",
       "92                 https://doi.org/10.17632/9gr6pxhfjm  \n",
       "42            https://doi.org/10.11583/dtu.20555586.v3  \n",
       "10               https://doi.org/10.11583/dtu.20555586  \n",
       "64            https://doi.org/10.23642/usn.15134442.v1  \n",
       "39               https://doi.org/10.23642/usn.15134442  \n",
       "106             https://doi.org/10.5281/zenodo.8014149  \n",
       "49                    https://doi.org/10.5066/f7k072r7  \n",
       "65                 https://doi.org/10.17863/cam.107163  \n",
       "33              https://doi.org/10.5281/zenodo.3667633  \n",
       "9             https://doi.org/10.25377/sussex.21184705  \n",
       "99         https://doi.org/10.25377/sussex.21184705.v1  \n",
       "7                https://doi.org/10.5061/dryad.pp045j3  \n",
       "4               https://doi.org/10.5281/zenodo.6886498  \n",
       "11                 https://doi.org/10.5061/dryad.75030  \n",
       "94                 https://doi.org/10.5061/dryad.1p80f  \n",
       "103                https://doi.org/10.5061/dryad.f47f6  \n",
       "62             https://doi.org/10.5061/dryad.rxwdbrv58  \n",
       "26              https://doi.org/10.1594/pangaea.876062  "
      ]
     },
     "execution_count": 13,
     "metadata": {},
     "output_type": "execute_result"
    }
   ],
   "source": [
    "missed_df = pd.DataFrame(list(missed), columns=['article_id', 'dataset_id'])\n",
    "missed_df.sort_values(by='article_id', inplace=True)\n",
    "missed_df.head(25)"
   ]
  },
  {
   "cell_type": "code",
   "execution_count": 14,
   "id": "d452e4d9",
   "metadata": {},
   "outputs": [
    {
     "data": {
      "text/plain": [
       "(111, 2)"
      ]
     },
     "execution_count": 14,
     "metadata": {},
     "output_type": "execute_result"
    }
   ],
   "source": [
    "missed_df.shape"
   ]
  },
  {
   "cell_type": "code",
   "execution_count": 15,
   "id": "11ee193b",
   "metadata": {},
   "outputs": [
    {
     "data": {
      "text/plain": [
       "(325, 3)"
      ]
     },
     "execution_count": 15,
     "metadata": {},
     "output_type": "execute_result"
    }
   ],
   "source": [
    "labels_df[labels_df['dataset_id'].str.contains(\"https://doi.org/\")].shape"
   ]
  },
  {
   "cell_type": "code",
   "execution_count": 16,
   "id": "896eb301",
   "metadata": {},
   "outputs": [
    {
     "data": {
      "text/html": [
       "<div>\n",
       "<style scoped>\n",
       "    .dataframe tbody tr th:only-of-type {\n",
       "        vertical-align: middle;\n",
       "    }\n",
       "\n",
       "    .dataframe tbody tr th {\n",
       "        vertical-align: top;\n",
       "    }\n",
       "\n",
       "    .dataframe thead th {\n",
       "        text-align: right;\n",
       "    }\n",
       "</style>\n",
       "<table border=\"1\" class=\"dataframe\">\n",
       "  <thead>\n",
       "    <tr style=\"text-align: right;\">\n",
       "      <th></th>\n",
       "      <th>article_id</th>\n",
       "      <th>dataset_id</th>\n",
       "    </tr>\n",
       "  </thead>\n",
       "  <tbody>\n",
       "  </tbody>\n",
       "</table>\n",
       "</div>"
      ],
      "text/plain": [
       "Empty DataFrame\n",
       "Columns: [article_id, dataset_id]\n",
       "Index: []"
      ]
     },
     "execution_count": 16,
     "metadata": {},
     "output_type": "execute_result"
    }
   ],
   "source": [
    "missed_df[~missed_df['dataset_id'].str.contains(\"https://doi.org/\")]"
   ]
  },
  {
   "cell_type": "code",
   "execution_count": null,
   "id": "e97b36c0",
   "metadata": {},
   "outputs": [],
   "source": []
  }
 ],
 "metadata": {
  "kernelspec": {
   "display_name": "dataset-reference-finder",
   "language": "python",
   "name": "dataset-reference-finder"
  },
  "language_info": {
   "codemirror_mode": {
    "name": "ipython",
    "version": 3
   },
   "file_extension": ".py",
   "mimetype": "text/x-python",
   "name": "python",
   "nbconvert_exporter": "python",
   "pygments_lexer": "ipython3",
   "version": "3.10.11"
  }
 },
 "nbformat": 4,
 "nbformat_minor": 5
}
