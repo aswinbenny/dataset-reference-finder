{
 "cells": [
  {
   "cell_type": "markdown",
   "id": "ecf48acb",
   "metadata": {},
   "source": [
    "# Dataset Reference Extraction\n",
    "\n",
    "This notebook demonstrates how to use the `DatasetReferenceExtractor` class and regex patterns \n",
    "to extract dataset references from PDF and XML files.  "
   ]
  },
  {
   "cell_type": "markdown",
   "id": "5c2ab0a7",
   "metadata": {},
   "source": [
    "### Setup\n",
    "\n",
    "Import required libraries and configure settings for Pandas and warnings.\n"
   ]
  },
  {
   "cell_type": "code",
   "execution_count": 3,
   "id": "707e0014",
   "metadata": {},
   "outputs": [],
   "source": [
    "import warnings\n",
    "warnings.filterwarnings(\"ignore\")\n",
    "import pandas as pd\n",
    "pd.set_option('display.max_columns', None)\n",
    "pd.set_option('display.max_rows', None)"
   ]
  },
  {
   "cell_type": "markdown",
   "id": "28aee4e8",
   "metadata": {},
   "source": [
    "### Load Extractor and Regex Patterns\n",
    "\n",
    "We use the custom `DatasetReferenceExtractor` class with a predefined set of regex patterns \n",
    "for identifiers like DOIs, BioProject IDs, UniProt IDs, GEO accessions, etc.\n"
   ]
  },
  {
   "cell_type": "markdown",
   "id": "9aedb316",
   "metadata": {},
   "source": [
    "### Run Extraction\n",
    "\n",
    "Apply the extractor on a folder of PDFs and XMLs.  \n",
    "The output is a DataFrame with extracted references and their surrounding context.\n"
   ]
  },
  {
   "cell_type": "code",
   "execution_count": 4,
   "id": "a7aa50dd",
   "metadata": {},
   "outputs": [
    {
     "name": "stdout",
     "output_type": "stream",
     "text": [
      "MuPDF error: unsupported error: cannot create appearance stream for  annotations\n",
      "\n",
      "MuPDF error: unsupported error: cannot create appearance stream for  annotations\n",
      "\n",
      "MuPDF error: unsupported error: cannot create appearance stream for  annotations\n",
      "\n",
      "MuPDF error: unsupported error: cannot create appearance stream for  annotations\n",
      "\n",
      "MuPDF error: unsupported error: cannot create appearance stream for  annotations\n",
      "\n",
      "MuPDF error: unsupported error: cannot create appearance stream for  annotations\n",
      "\n",
      "MuPDF error: unsupported error: cannot create appearance stream for  annotations\n",
      "\n",
      "MuPDF error: unsupported error: cannot create appearance stream for  annotations\n",
      "\n",
      "MuPDF error: unsupported error: cannot create appearance stream for  annotations\n",
      "\n",
      "MuPDF error: unsupported error: cannot create appearance stream for  annotations\n",
      "\n",
      "MuPDF error: unsupported error: cannot create appearance stream for  annotations\n",
      "\n",
      "MuPDF error: unsupported error: cannot create appearance stream for  annotations\n",
      "\n",
      "MuPDF error: unsupported error: cannot create appearance stream for  annotations\n",
      "\n",
      "MuPDF error: unsupported error: cannot create appearance stream for  annotations\n",
      "\n",
      "MuPDF error: unsupported error: cannot create appearance stream for  annotations\n",
      "\n",
      "MuPDF error: unsupported error: cannot create appearance stream for  annotations\n",
      "\n",
      "MuPDF error: unsupported error: cannot create appearance stream for  annotations\n",
      "\n",
      "MuPDF error: unsupported error: cannot create appearance stream for  annotations\n",
      "\n"
     ]
    },
    {
     "data": {
      "text/html": [
       "<div>\n",
       "<style scoped>\n",
       "    .dataframe tbody tr th:only-of-type {\n",
       "        vertical-align: middle;\n",
       "    }\n",
       "\n",
       "    .dataframe tbody tr th {\n",
       "        vertical-align: top;\n",
       "    }\n",
       "\n",
       "    .dataframe thead th {\n",
       "        text-align: right;\n",
       "    }\n",
       "</style>\n",
       "<table border=\"1\" class=\"dataframe\">\n",
       "  <thead>\n",
       "    <tr style=\"text-align: right;\">\n",
       "      <th></th>\n",
       "      <th>row_id</th>\n",
       "      <th>article_id</th>\n",
       "      <th>dataset_id</th>\n",
       "      <th>context</th>\n",
       "      <th>pattern_type</th>\n",
       "      <th>source</th>\n",
       "      <th>start_idx</th>\n",
       "      <th>score</th>\n",
       "    </tr>\n",
       "  </thead>\n",
       "  <tbody>\n",
       "    <tr>\n",
       "      <th>0</th>\n",
       "      <td>0</td>\n",
       "      <td>10.1002_2017jc013030</td>\n",
       "      <td>https://doi.org/10.3354/meps11580</td>\n",
       "      <td>properties of some phytoplankters.Deep Sea Res...</td>\n",
       "      <td>doi_short</td>\n",
       "      <td>pdf</td>\n",
       "      <td>58307</td>\n",
       "      <td>0</td>\n",
       "    </tr>\n",
       "    <tr>\n",
       "      <th>1</th>\n",
       "      <td>1</td>\n",
       "      <td>10.1002_2017jc013030</td>\n",
       "      <td>https://doi.org/10.4319/lo.2011.56.3.0955</td>\n",
       "      <td>southern Bay of Biscay .Marine Ecology Progres...</td>\n",
       "      <td>doi_short</td>\n",
       "      <td>pdf</td>\n",
       "      <td>58569</td>\n",
       "      <td>0</td>\n",
       "    </tr>\n",
       "    <tr>\n",
       "      <th>2</th>\n",
       "      <td>2</td>\n",
       "      <td>10.1002_2017jc013030</td>\n",
       "      <td>https://doi.org/10.4319/lo.2003.48.2.0843</td>\n",
       "      <td>bio-optical oceanic regimes.Limnology and Ocea...</td>\n",
       "      <td>doi_short</td>\n",
       "      <td>pdf</td>\n",
       "      <td>58828</td>\n",
       "      <td>0</td>\n",
       "    </tr>\n",
       "    <tr>\n",
       "      <th>3</th>\n",
       "      <td>3</td>\n",
       "      <td>10.1002_2017jc013030</td>\n",
       "      <td>https://doi.org/10.1016/s0967-0637</td>\n",
       "      <td>J Nolan 10.1016/S0967-0637 01 00025-5 Deep Sea...</td>\n",
       "      <td>doi_xml</td>\n",
       "      <td>xml</td>\n",
       "      <td>57177</td>\n",
       "      <td>0</td>\n",
       "    </tr>\n",
       "    <tr>\n",
       "      <th>4</th>\n",
       "      <td>4</td>\n",
       "      <td>10.1002_2017jc013030</td>\n",
       "      <td>https://doi.org/10.4319/lo.1996.41.8.1684</td>\n",
       "      <td>Part I: Oceanographic Research Papers 48 11 24...</td>\n",
       "      <td>doi_short</td>\n",
       "      <td>pdf</td>\n",
       "      <td>59686</td>\n",
       "      <td>0</td>\n",
       "    </tr>\n",
       "  </tbody>\n",
       "</table>\n",
       "</div>"
      ],
      "text/plain": [
       "   row_id            article_id                                 dataset_id  \\\n",
       "0       0  10.1002_2017jc013030          https://doi.org/10.3354/meps11580   \n",
       "1       1  10.1002_2017jc013030  https://doi.org/10.4319/lo.2011.56.3.0955   \n",
       "2       2  10.1002_2017jc013030  https://doi.org/10.4319/lo.2003.48.2.0843   \n",
       "3       3  10.1002_2017jc013030         https://doi.org/10.1016/s0967-0637   \n",
       "4       4  10.1002_2017jc013030  https://doi.org/10.4319/lo.1996.41.8.1684   \n",
       "\n",
       "                                             context pattern_type source  \\\n",
       "0  properties of some phytoplankters.Deep Sea Res...    doi_short    pdf   \n",
       "1  southern Bay of Biscay .Marine Ecology Progres...    doi_short    pdf   \n",
       "2  bio-optical oceanic regimes.Limnology and Ocea...    doi_short    pdf   \n",
       "3  J Nolan 10.1016/S0967-0637 01 00025-5 Deep Sea...      doi_xml    xml   \n",
       "4  Part I: Oceanographic Research Papers 48 11 24...    doi_short    pdf   \n",
       "\n",
       "   start_idx  score  \n",
       "0      58307      0  \n",
       "1      58569      0  \n",
       "2      58828      0  \n",
       "3      57177      0  \n",
       "4      59686      0  "
      ]
     },
     "execution_count": 4,
     "metadata": {},
     "output_type": "execute_result"
    }
   ],
   "source": [
    "from dataset_reference_extractor import DatasetReferenceExtractor\n",
    "from regex_patterns import patterns\n",
    "\n",
    "extractor = DatasetReferenceExtractor(regex_patterns=patterns, context_window=40)\n",
    "\n",
    "df = extractor.run_on_folder(\n",
    "    pdf_folder=\"data/train/PDF\",\n",
    "    xml_folder=\"data/train/XML\"\n",
    ")\n",
    "\n",
    "df.head()"
   ]
  },
  {
   "cell_type": "markdown",
   "id": "38b86318",
   "metadata": {},
   "source": [
    "### Notes\n",
    "- This notebook focuses on **regex-based extraction** only.  \n",
    "- Planned NLP-based scoring and classification (usage vs. citation vs. access) \n",
    "  were dropped due to time/scope.  "
   ]
  }
 ],
 "metadata": {
  "kernelspec": {
   "display_name": "dataset-reference-finder",
   "language": "python",
   "name": "dataset-reference-finder"
  },
  "language_info": {
   "codemirror_mode": {
    "name": "ipython",
    "version": 3
   },
   "file_extension": ".py",
   "mimetype": "text/x-python",
   "name": "python",
   "nbconvert_exporter": "python",
   "pygments_lexer": "ipython3",
   "version": "3.10.11"
  }
 },
 "nbformat": 4,
 "nbformat_minor": 5
}
