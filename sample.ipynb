{
 "cells": [
  {
   "cell_type": "code",
   "execution_count": 142,
   "id": "07c763a3",
   "metadata": {},
   "outputs": [],
   "source": [
    "import pandas as pd\n",
    "import numpy as np\n",
    "import ftfy\n",
    "import unicodedata\n",
    "import re\n",
    "from lxml import etree\n",
    "pd.set_option('display.max_columns', None)\n",
    "pd.set_option('display.max_rows', None)"
   ]
  },
  {
   "cell_type": "code",
   "execution_count": 143,
   "id": "72a003ee",
   "metadata": {},
   "outputs": [
    {
     "data": {
      "text/html": [
       "<div>\n",
       "<style scoped>\n",
       "    .dataframe tbody tr th:only-of-type {\n",
       "        vertical-align: middle;\n",
       "    }\n",
       "\n",
       "    .dataframe tbody tr th {\n",
       "        vertical-align: top;\n",
       "    }\n",
       "\n",
       "    .dataframe thead th {\n",
       "        text-align: right;\n",
       "    }\n",
       "</style>\n",
       "<table border=\"1\" class=\"dataframe\">\n",
       "  <thead>\n",
       "    <tr style=\"text-align: right;\">\n",
       "      <th></th>\n",
       "      <th>article_id</th>\n",
       "      <th>dataset_id</th>\n",
       "      <th>type</th>\n",
       "    </tr>\n",
       "  </thead>\n",
       "  <tbody>\n",
       "    <tr>\n",
       "      <th>0</th>\n",
       "      <td>10.1002_2017jc013030</td>\n",
       "      <td>https://doi.org/10.17882/49388</td>\n",
       "      <td>Primary</td>\n",
       "    </tr>\n",
       "    <tr>\n",
       "      <th>1</th>\n",
       "      <td>10.1002_anie.201916483</td>\n",
       "      <td>Missing</td>\n",
       "      <td>Missing</td>\n",
       "    </tr>\n",
       "    <tr>\n",
       "      <th>2</th>\n",
       "      <td>10.1002_anie.202005531</td>\n",
       "      <td>Missing</td>\n",
       "      <td>Missing</td>\n",
       "    </tr>\n",
       "    <tr>\n",
       "      <th>3</th>\n",
       "      <td>10.1002_anie.202007717</td>\n",
       "      <td>Missing</td>\n",
       "      <td>Missing</td>\n",
       "    </tr>\n",
       "    <tr>\n",
       "      <th>4</th>\n",
       "      <td>10.1002_chem.201902131</td>\n",
       "      <td>Missing</td>\n",
       "      <td>Missing</td>\n",
       "    </tr>\n",
       "  </tbody>\n",
       "</table>\n",
       "</div>"
      ],
      "text/plain": [
       "               article_id                      dataset_id     type\n",
       "0    10.1002_2017jc013030  https://doi.org/10.17882/49388  Primary\n",
       "1  10.1002_anie.201916483                         Missing  Missing\n",
       "2  10.1002_anie.202005531                         Missing  Missing\n",
       "3  10.1002_anie.202007717                         Missing  Missing\n",
       "4  10.1002_chem.201902131                         Missing  Missing"
      ]
     },
     "execution_count": 143,
     "metadata": {},
     "output_type": "execute_result"
    }
   ],
   "source": [
    "train_labels = pd.read_csv('data/train_labels.csv')\n",
    "train_labels.head()"
   ]
  },
  {
   "cell_type": "code",
   "execution_count": 144,
   "id": "bc175253",
   "metadata": {},
   "outputs": [
    {
     "data": {
      "text/html": [
       "<div>\n",
       "<style scoped>\n",
       "    .dataframe tbody tr th:only-of-type {\n",
       "        vertical-align: middle;\n",
       "    }\n",
       "\n",
       "    .dataframe tbody tr th {\n",
       "        vertical-align: top;\n",
       "    }\n",
       "\n",
       "    .dataframe thead th {\n",
       "        text-align: right;\n",
       "    }\n",
       "</style>\n",
       "<table border=\"1\" class=\"dataframe\">\n",
       "  <thead>\n",
       "    <tr style=\"text-align: right;\">\n",
       "      <th></th>\n",
       "      <th>article_id</th>\n",
       "      <th>dataset_id</th>\n",
       "      <th>type</th>\n",
       "    </tr>\n",
       "  </thead>\n",
       "  <tbody>\n",
       "    <tr>\n",
       "      <th>984</th>\n",
       "      <td>10.7554_eLife.72626</td>\n",
       "      <td>MODEL2106070001</td>\n",
       "      <td>Primary</td>\n",
       "    </tr>\n",
       "  </tbody>\n",
       "</table>\n",
       "</div>"
      ],
      "text/plain": [
       "              article_id       dataset_id     type\n",
       "984  10.7554_eLife.72626  MODEL2106070001  Primary"
      ]
     },
     "execution_count": 144,
     "metadata": {},
     "output_type": "execute_result"
    }
   ],
   "source": [
    "train_labels[train_labels['dataset_id'] ==  'MODEL2106070001']"
   ]
  },
  {
   "cell_type": "code",
   "execution_count": 147,
   "id": "3c72fd49",
   "metadata": {},
   "outputs": [
    {
     "data": {
      "text/plain": [
       "['https://doi.org/10.17882/49388']"
      ]
     },
     "execution_count": 147,
     "metadata": {},
     "output_type": "execute_result"
    }
   ],
   "source": [
    "list(train_labels[train_labels['article_id'] == '10.1002_2017jc013030']['dataset_id'])"
   ]
  },
  {
   "cell_type": "code",
   "execution_count": 56,
   "id": "f7458514",
   "metadata": {},
   "outputs": [
    {
     "data": {
      "text/plain": [
       "(11, 3)"
      ]
     },
     "execution_count": 56,
     "metadata": {},
     "output_type": "execute_result"
    }
   ],
   "source": [
    "train_labels[train_labels['article_id'] == '10.1021_acsomega.3c06074'].shape"
   ]
  },
  {
   "cell_type": "code",
   "execution_count": 5,
   "id": "7f2e421c",
   "metadata": {},
   "outputs": [
    {
     "data": {
      "text/plain": [
       "(1028, 3)"
      ]
     },
     "execution_count": 5,
     "metadata": {},
     "output_type": "execute_result"
    }
   ],
   "source": [
    "train_labels.shape"
   ]
  },
  {
   "cell_type": "code",
   "execution_count": 6,
   "id": "6b8cb966",
   "metadata": {},
   "outputs": [
    {
     "data": {
      "text/plain": [
       "np.int64(0)"
      ]
     },
     "execution_count": 6,
     "metadata": {},
     "output_type": "execute_result"
    }
   ],
   "source": [
    "train_labels['dataset_id'].isna().sum()"
   ]
  },
  {
   "cell_type": "code",
   "execution_count": 7,
   "id": "486de694",
   "metadata": {},
   "outputs": [
    {
     "data": {
      "text/plain": [
       "(309, 3)"
      ]
     },
     "execution_count": 7,
     "metadata": {},
     "output_type": "execute_result"
    }
   ],
   "source": [
    "train_labels[train_labels['dataset_id'] == 'Missing'].shape"
   ]
  },
  {
   "cell_type": "code",
   "execution_count": 8,
   "id": "e69964ab",
   "metadata": {},
   "outputs": [
    {
     "data": {
      "text/plain": [
       "720"
      ]
     },
     "execution_count": 8,
     "metadata": {},
     "output_type": "execute_result"
    }
   ],
   "source": [
    "train_labels['dataset_id'].nunique()"
   ]
  },
  {
   "cell_type": "code",
   "execution_count": null,
   "id": "7ae09644",
   "metadata": {},
   "outputs": [
    {
     "data": {
      "text/plain": [
       "396"
      ]
     },
     "execution_count": 9,
     "metadata": {},
     "output_type": "execute_result"
    }
   ],
   "source": [
    "# train_labels.loc[train_labels['dataset_id'].str.contains('https://doi.org/10'), 'dataset_id'] = 1\n",
    "# train_labels.loc[train_labels['dataset_id'] == 'Missing', 'dataset_id'] = 0\n",
    "# train_labels['dataset_id'].nunique()"
   ]
  },
  {
   "cell_type": "code",
   "execution_count": 146,
   "id": "185be395",
   "metadata": {},
   "outputs": [
    {
     "data": {
      "text/plain": [
       "0                     10.1002_2017jc013030\n",
       "11                       10.1002_ece3.4466\n",
       "12                       10.1002_ece3.5260\n",
       "14                       10.1002_ece3.6144\n",
       "15                       10.1002_ece3.6303\n",
       "18                       10.1002_ece3.9627\n",
       "19                       10.1002_ecs2.1280\n",
       "20                       10.1002_ecs2.4619\n",
       "24                        10.1002_esp.5058\n",
       "25                        10.1002_esp.5090\n",
       "26                        10.1002_mp.14424\n",
       "27                        10.1002_mp.14424\n",
       "28                      10.1002_nafm.10870\n",
       "33              10.1007_s00259-022-06053-8\n",
       "34              10.1007_s00259-022-06053-8\n",
       "36              10.1007_s00382-022-06361-7\n",
       "37              10.1007_s00382-022-06361-7\n",
       "38              10.1007_s00442-022-05201-z\n",
       "41              10.1007_s12559-020-09751-3\n",
       "42               10.1016_j.ast.2022.107401\n",
       "43               10.1016_j.ast.2022.107401\n",
       "44               10.1016_j.cpc.2024.109087\n",
       "45               10.1016_j.dib.2022.108797\n",
       "46               10.1016_j.dib.2023.109949\n",
       "47           10.1016_j.ecolind.2021.107934\n",
       "48              10.1016_j.fuel.2022.125768\n",
       "49              10.1016_j.fuel.2022.125768\n",
       "50               10.1016_j.jlp.2022.104761\n",
       "51               10.1016_j.jlp.2022.104761\n",
       "52              10.1016_j.jobe.2023.107105\n",
       "53              10.1016_j.jobe.2023.107105\n",
       "54            10.1016_j.jsames.2022.103824\n",
       "55            10.1016_j.molcel.2018.11.006\n",
       "56            10.1016_j.molcel.2018.11.006\n",
       "57         10.1016_j.scitotenv.2024.171850\n",
       "58            10.1016_j.websem.2024.100815\n",
       "59                     10.1017_rdc.2022.19\n",
       "60               10.1017_s0007123423000601\n",
       "61                10.1021_acs.jcim.9b01185\n",
       "62              10.1021_acscentsci.1c01109\n",
       "74                    10.1021_jacs.2c06519\n",
       "75                    10.1021_jacs.2c06519\n",
       "76                    10.1029_2018gl078007\n",
       "77                    10.1029_2019jg005297\n",
       "78                    10.1029_2019jg005297\n",
       "79                    10.1029_2019pa003774\n",
       "80                    10.1029_2020jf005675\n",
       "81                    10.1029_2021ea001703\n",
       "82                    10.1029_2021gl096173\n",
       "83                    10.1029_2021pa004379\n",
       "84                    10.1029_2022gl100473\n",
       "85                    10.1029_2023ea002840\n",
       "86                    10.1029_2023ea002840\n",
       "87                    10.1029_2023wr035126\n",
       "88                     10.1038_hdy.2013.74\n",
       "89                     10.1038_hdy.2014.75\n",
       "90                     10.1038_hdy.2015.99\n",
       "123              10.1038_s41437-020-0318-8\n",
       "124             10.1038_s41467-018-04041-x\n",
       "125             10.1038_s41467-018-07681-1\n",
       "126             10.1038_s41467-018-07681-1\n",
       "128             10.1038_s41558-022-01301-z\n",
       "129             10.1038_s41562-021-01247-w\n",
       "132             10.1038_s41597-022-01555-4\n",
       "133             10.1038_s41597-022-01555-4\n",
       "134             10.1038_s41597-022-01555-4\n",
       "135             10.1038_s41597-022-01555-4\n",
       "169             10.1038_s41598-021-85671-y\n",
       "170             10.1038_s41598-021-85671-y\n",
       "171             10.1038_s41598-021-85671-y\n",
       "176              10.1038_s41893-020-0559-9\n",
       "177                 10.1038_sdata.2017.167\n",
       "189                     10.1039_d1ee03696c\n",
       "190                     10.1039_d2cc00847e\n",
       "191                     10.1039_d2cc00847e\n",
       "194                10.1073_pnas.1323607111\n",
       "195                10.1073_pnas.1705601114\n",
       "196                10.1073_pnas.1711872115\n",
       "197                10.1073_pnas.1711872115\n",
       "198                10.1073_pnas.1915395117\n",
       "199                10.1073_pnas.1915395117\n",
       "200                10.1073_pnas.1915395117\n",
       "201                10.1073_pnas.2306723120\n",
       "202                10.1073_pnas.2306723120\n",
       "211          10.1080_19475683.2023.2226196\n",
       "212          10.1080_19475683.2023.2226196\n",
       "213          10.1080_19475683.2023.2226196\n",
       "214          10.1080_19475683.2023.2226196\n",
       "215          10.1080_19475683.2023.2226196\n",
       "216          10.1080_19475683.2023.2226196\n",
       "217          10.1080_19475683.2023.2226196\n",
       "218          10.1080_19475683.2023.2226196\n",
       "219          10.1080_19475683.2023.2226196\n",
       "220          10.1080_19475683.2023.2226196\n",
       "221          10.1080_19475683.2023.2226196\n",
       "222          10.1080_19475683.2023.2226196\n",
       "223          10.1080_19475683.2023.2226196\n",
       "224          10.1080_19475683.2023.2226196\n",
       "225          10.1080_19475683.2023.2226196\n",
       "226          10.1080_19475683.2023.2226196\n",
       "227          10.1080_19475683.2023.2226196\n",
       "239                 10.1093_beheco_arad016\n",
       "240                  10.1093_beheco_arw167\n",
       "241                  10.1093_beheco_arz101\n",
       "242                    10.1093_bib_bbab395\n",
       "243                 10.1093_evolut_qpad206\n",
       "260                  10.1093_sysbio_syy011\n",
       "261                 10.1098_rsbl.2015.0113\n",
       "262                    10.1098_rsos.160417\n",
       "263                    10.1098_rsos.160417\n",
       "264                    10.1098_rsos.160417\n",
       "265                    10.1098_rsos.170796\n",
       "266                    10.1098_rsos.190841\n",
       "267                    10.1098_rsos.210982\n",
       "268                 10.1098_rspb.2015.0371\n",
       "269                 10.1098_rspb.2015.1498\n",
       "270                 10.1098_rspb.2015.2726\n",
       "271                 10.1098_rspb.2015.2764\n",
       "272                         10.1101_096297\n",
       "273              10.1101_2022.02.10.480011\n",
       "274              10.1101_2022.07.21.501061\n",
       "275              10.1101_2022.07.21.501061\n",
       "276              10.1101_2022.07.21.501061\n",
       "277              10.1101_2022.07.21.501061\n",
       "278       10.1103_physrevresearch.4.023008\n",
       "307              10.1107_s2059798322005691\n",
       "308              10.1107_s2059798322005691\n",
       "309              10.1107_s2059798322005691\n",
       "310              10.1107_s2059798322005691\n",
       "311              10.1107_s2059798322005691\n",
       "312              10.1107_s2059798322005691\n",
       "313              10.1107_s2059798322005691\n",
       "318            10.1109_access.2024.3385658\n",
       "319                10.1111_1365-2435.13087\n",
       "320                10.1111_1365-2435.13431\n",
       "321                10.1111_1365-2435.13569\n",
       "322                10.1111_1365-2656.12382\n",
       "323                10.1111_1365-2656.12491\n",
       "324                10.1111_1365-2656.12501\n",
       "325                10.1111_1365-2656.12594\n",
       "326                10.1111_1365-2664.13128\n",
       "327                10.1111_1365-2664.13136\n",
       "328                10.1111_1365-2664.13168\n",
       "329                10.1111_1365-2664.13446\n",
       "330                10.1111_1365-2745.13449\n",
       "331                10.1111_2041-210x.12453\n",
       "332                10.1111_2041-210x.13817\n",
       "360                      10.1111_ejn.13855\n",
       "361                      10.1111_eva.12151\n",
       "362                      10.1111_eva.12446\n",
       "363                      10.1111_eva.12768\n",
       "364                      10.1111_evo.13972\n",
       "365                      10.1111_gcb.13914\n",
       "367                      10.1111_ggr.12517\n",
       "368                      10.1111_mec.16743\n",
       "369                      10.1111_mec.16743\n",
       "370                      10.1111_mec.16977\n",
       "371                      10.1111_njb.02077\n",
       "423                     10.1130_ges01387.1\n",
       "444                10.1145_3461702.3462538\n",
       "445                10.1145_3461702.3462538\n",
       "446                10.1145_3461702.3462538\n",
       "447                10.1145_3461702.3462538\n",
       "448                10.1145_3461702.3462538\n",
       "449                10.1145_3461702.3462538\n",
       "450                10.1145_3461702.3462538\n",
       "451                10.1145_3461702.3462538\n",
       "452                10.1145_3461702.3462538\n",
       "453                10.1145_3461702.3462538\n",
       "454                10.1145_3461702.3462538\n",
       "455                10.1145_3461702.3462538\n",
       "456                10.1145_3461702.3462538\n",
       "457                10.1145_3461702.3462538\n",
       "458                10.1145_3461702.3462538\n",
       "459                10.1145_3461702.3462538\n",
       "460                10.1145_3461702.3462538\n",
       "461                10.1145_3461702.3462538\n",
       "463               10.1177_0018720820970751\n",
       "577              10.1186_s13071-018-2842-4\n",
       "614           10.1212_wnl.0000000000006035\n",
       "615                     10.1242_bio.035071\n",
       "616                     10.1242_dev.138545\n",
       "617                     10.1242_jeb.211466\n",
       "618         10.12688_f1000research.10556.1\n",
       "619         10.12688_f1000research.10556.1\n",
       "620         10.12688_f1000research.11698.1\n",
       "621         10.12688_f1000research.11698.1\n",
       "622         10.12688_f1000research.11698.1\n",
       "623         10.12688_f1000research.11698.1\n",
       "624         10.12688_f1000research.11698.1\n",
       "625         10.12688_f1000research.11698.1\n",
       "626         10.12688_f1000research.11698.1\n",
       "627         10.12688_f1000research.11698.1\n",
       "628         10.12688_f1000research.13064.1\n",
       "629         10.12688_f1000research.13483.1\n",
       "630         10.12688_f1000research.13622.1\n",
       "631         10.12688_f1000research.13622.1\n",
       "632         10.12688_f1000research.13622.1\n",
       "633         10.12688_f1000research.13622.1\n",
       "634         10.12688_f1000research.13852.1\n",
       "635          10.12688_f1000research.4660.1\n",
       "636                   10.1364_oe.25.001985\n",
       "659           10.1371_journal.pntd.0005385\n",
       "660           10.1371_journal.pone.0070749\n",
       "661           10.1371_journal.pone.0070749\n",
       "662           10.1371_journal.pone.0070749\n",
       "665           10.1371_journal.pone.0117675\n",
       "666           10.1371_journal.pone.0137181\n",
       "667           10.1371_journal.pone.0139215\n",
       "668           10.1371_journal.pone.0139215\n",
       "669           10.1371_journal.pone.0139215\n",
       "670           10.1371_journal.pone.0146274\n",
       "699           10.1371_journal.pone.0188323\n",
       "701           10.1371_journal.pone.0198382\n",
       "702           10.1371_journal.pone.0200041\n",
       "728           10.1371_journal.pone.0220399\n",
       "729           10.1371_journal.pone.0253228\n",
       "733           10.1371_journal.pone.0284951\n",
       "734               10.14358_pers.22-00039r2\n",
       "735     10.14379_iodp.proc.390393.208.2024\n",
       "736     10.14379_iodp.proc.390393.208.2024\n",
       "737                  10.1534_g3.119.400401\n",
       "738                  10.1534_g3.119.400993\n",
       "739            10.1534_genetics.120.303190\n",
       "790             10.1617_s11527-023-02260-3\n",
       "791                 10.17581_bp.2020.09104\n",
       "792                 10.17581_bp.2020.09104\n",
       "794                    10.18438_eblip29674\n",
       "795       10.20944_preprints202009.0353.v1\n",
       "796                    10.21105_joss.04237\n",
       "797                    10.21105_joss.04237\n",
       "798                    10.21105_joss.04237\n",
       "799            10.21203_rs.3.rs-2814013_v1\n",
       "800            10.21203_rs.3.rs-3338732_v1\n",
       "801            10.21203_rs.3.rs-3338732_v1\n",
       "802                        10.3133_cir1497\n",
       "803                        10.3133_cir1497\n",
       "804                        10.3133_cir1497\n",
       "805                        10.3133_cir1497\n",
       "806                        10.3133_cir1497\n",
       "807                        10.3133_cir1497\n",
       "808                        10.3133_cir1497\n",
       "809                        10.3133_cir1497\n",
       "810                        10.3133_cir1497\n",
       "811                        10.3133_cir1497\n",
       "812                        10.3133_cir1497\n",
       "813                        10.3133_cir1497\n",
       "814                        10.3133_cir1497\n",
       "815                        10.3133_cir1497\n",
       "816                        10.3133_cir1497\n",
       "817                        10.3133_cir1497\n",
       "818                        10.3133_cir1497\n",
       "819                        10.3133_cir1497\n",
       "820                     10.3133_fs20233046\n",
       "821                    10.3133_ofr20201035\n",
       "822                    10.3133_ofr20231026\n",
       "823                    10.3133_ofr20231026\n",
       "824                    10.3133_ofr20231026\n",
       "825                    10.3133_ofr20231026\n",
       "826                    10.3133_ofr20231027\n",
       "827              10.3389_fcell.2020.618552\n",
       "828              10.3389_fcell.2020.618552\n",
       "843             10.3389_feart.2023.1205211\n",
       "844              10.3389_fevo.2023.1112519\n",
       "845              10.3389_fevo.2023.1112519\n",
       "846              10.3389_fevo.2023.1112519\n",
       "865              10.3389_fpls.2023.1160645\n",
       "868                      10.3390_d13010019\n",
       "892                     10.3390_rs12121957\n",
       "893                      10.3390_rs4102923\n",
       "894                      10.3390_rs4102923\n",
       "895                      10.3390_rs4102923\n",
       "896                      10.3390_s19030479\n",
       "897                      10.3390_s23094491\n",
       "898                      10.3390_s23177333\n",
       "935                  10.3897_jhr.96.111550\n",
       "936                  10.3897_jhr.96.111550\n",
       "937              10.3897_neobiota.82.87455\n",
       "938              10.3897_neobiota.82.87455\n",
       "939               10.3897_zookeys.500.9360\n",
       "943                   10.5194_acp-2021-570\n",
       "944                   10.5194_acp-2021-570\n",
       "945               10.5194_acp-22-2769-2022\n",
       "946               10.5194_acp-22-2769-2022\n",
       "947               10.5194_acp-22-2769-2022\n",
       "948               10.5194_acp-22-5701-2022\n",
       "949               10.5194_acp-22-5701-2022\n",
       "950               10.5194_acp-22-5701-2022\n",
       "951               10.5194_amt-15-3969-2022\n",
       "952              10.5194_essd-12-1287-2020\n",
       "953              10.5194_essd-12-1287-2020\n",
       "954                  10.5194_essd-2019-206\n",
       "955                  10.5194_essd-2023-187\n",
       "956                  10.5194_essd-2023-187\n",
       "957                  10.5194_essd-2023-198\n",
       "958                  10.5194_essd-2023-198\n",
       "959                  10.5194_essd-2023-198\n",
       "960                  10.5194_essd-2023-198\n",
       "961                10.5194_essd-8-663-2016\n",
       "962               10.5194_gmd-12-4221-2019\n",
       "963                10.5194_gmd-13-335-2020\n",
       "964                10.5194_se-13-1541-2022\n",
       "965                10.5194_tc-17-3617-2023\n",
       "966                10.5194_tc-17-3617-2023\n",
       "967                10.5194_tc-17-3617-2023\n",
       "968                  10.5937_bnhmb1811227u\n",
       "969                  10.5937_bnhmb1811227u\n",
       "985                    10.7554_elife.29944\n",
       "986                    10.7554_elife.42722\n",
       "987                    10.7554_elife.62329\n",
       "988                    10.7554_elife.63455\n",
       "989                    10.7554_elife.63455\n",
       "990                    10.7554_elife.73695\n",
       "991                    10.7554_elife.73695\n",
       "992                    10.7554_elife.73695\n",
       "993                    10.7554_elife.74937\n",
       "1019                   10.7717_peerj.11352\n",
       "1020                   10.7717_peerj.12422\n",
       "1021                   10.7717_peerj.12422\n",
       "1022                   10.7717_peerj.12422\n",
       "1023                   10.7717_peerj.12422\n",
       "1024                   10.7717_peerj.12422\n",
       "1025                   10.7717_peerj.13193\n",
       "1026                   10.7717_peerj.13193\n",
       "1027                   10.7717_peerj.13193\n",
       "Name: article_id, dtype: object"
      ]
     },
     "execution_count": 146,
     "metadata": {},
     "output_type": "execute_result"
    }
   ],
   "source": [
    "train_labels[train_labels['dataset_id'].str.contains('https://doi.org/10', na=False)]['article_id']"
   ]
  },
  {
   "cell_type": "code",
   "execution_count": 148,
   "id": "b5f19c51",
   "metadata": {},
   "outputs": [
    {
     "data": {
      "text/plain": [
       "0                          https://doi.org/10.17882/49388\n",
       "11                  https://doi.org/10.5061/dryad.r6nq870\n",
       "12                  https://doi.org/10.5061/dryad.2f62927\n",
       "14                https://doi.org/10.5061/dryad.zw3r22854\n",
       "15                https://doi.org/10.5061/dryad.37pvmcvgb\n",
       "18                https://doi.org/10.5061/dryad.b8gtht7h3\n",
       "19                    https://doi.org/10.5061/dryad.p3fg9\n",
       "20                        https://doi.org/10.25349/d9qw5x\n",
       "24                https://doi.org/10.5061/dryad.jh9w0vt9t\n",
       "25                       https://doi.org/10.5066/p9353101\n",
       "26          https://doi.org/10.7937/k9/tcia.2015.pf0m9rei\n",
       "27            https://doi.org/10.7937/tcia.2020.6c7y-gq39\n",
       "28                       https://doi.org/10.5066/p9gtumay\n",
       "33          https://doi.org/10.7937/k9/tcia.2017.7hs46erv\n",
       "34             https://doi.org/10.7937/tcia.2019.30ilqfcl\n",
       "36                       https://doi.org/10.6075/j0154fjj\n",
       "37                       https://doi.org/10.6075/j089161b\n",
       "38                https://doi.org/10.5061/dryad.wpzgmsbps\n",
       "41          https://doi.org/10.7937/k9/tcia.2015.u1x8a5nr\n",
       "42         https://doi.org/10.17862/cranfield.rd.19146182\n",
       "43      https://doi.org/10.17862/cranfield.rd.19146182.v1\n",
       "44                    https://doi.org/10.17632/9gr6pxhfjm\n",
       "45                 https://doi.org/10.1594/pangaea.949117\n",
       "46                 https://doi.org/10.5281/zenodo.8338991\n",
       "47      https://doi.org/10.6073/pasta/be42bb841e696b7b...\n",
       "48                  https://doi.org/10.11583/dtu.20555586\n",
       "49               https://doi.org/10.11583/dtu.20555586.v3\n",
       "50                  https://doi.org/10.23642/usn.15134442\n",
       "51               https://doi.org/10.23642/usn.15134442.v1\n",
       "52                 https://doi.org/10.5281/zenodo.8014149\n",
       "53                 https://doi.org/10.5281/zenodo.8014150\n",
       "54                       https://doi.org/10.5066/f7k072r7\n",
       "55                  https://doi.org/10.17632/jb4jjxsbb7.1\n",
       "56                  https://doi.org/10.17632/xtb4mkvf8f.1\n",
       "57                    https://doi.org/10.17863/cam.107163\n",
       "58                     https://doi.org/10.17863/cam.82548\n",
       "59                    https://doi.org/10.11588/data/10100\n",
       "60                     https://doi.org/10.7910/dvn/fwckse\n",
       "61                 https://doi.org/10.5281/zenodo.3667633\n",
       "62                  https://doi.org/10.21942/uva.17040392\n",
       "74               https://doi.org/10.25377/sussex.21184705\n",
       "75            https://doi.org/10.25377/sussex.21184705.v1\n",
       "76                  https://doi.org/10.5061/dryad.886pr72\n",
       "77                  https://doi.org/10.5061/dryad.pp045j3\n",
       "78                       https://doi.org/10.5066/f78s4n1v\n",
       "79      https://doi.org/10.3334/cdiac/otg.ndp093_glodapv2\n",
       "80                       https://doi.org/10.5066/p9bu8faq\n",
       "81                     https://doi.org/10.13020/jjdx-1m95\n",
       "82                            https://doi.org/10.25326/09\n",
       "83                     https://doi.org/10.25921/dt5g-my32\n",
       "84                 https://doi.org/10.5281/zenodo.6886498\n",
       "85                 https://doi.org/10.1594/pangaea.964081\n",
       "86                 https://doi.org/10.1594/pangaea.964085\n",
       "87      https://doi.org/10.6073/pasta/bb935444378d112d...\n",
       "88                    https://doi.org/10.5061/dryad.75030\n",
       "89                    https://doi.org/10.5061/dryad.1p80f\n",
       "90                    https://doi.org/10.5061/dryad.f47f6\n",
       "123               https://doi.org/10.5061/dryad.rxwdbrv58\n",
       "124                https://doi.org/10.1594/pangaea.876062\n",
       "125                https://doi.org/10.5281/zenodo.1472499\n",
       "126                https://doi.org/10.5281/zenodo.1472500\n",
       "128                https://doi.org/10.5281/zenodo.5889575\n",
       "129                    https://doi.org/10.34973/983b-a047\n",
       "132         https://doi.org/10.7937/k9/tcia.2016.hdhpgjlk\n",
       "133                     https://doi.org/10.7937/q1ee-j082\n",
       "134                https://doi.org/10.7937/tcia.e3sv-re93\n",
       "135                https://doi.org/10.7937/tcia.xc7a-qt20\n",
       "169         https://doi.org/10.7937/k9/tcia.2017.8oje5q00\n",
       "170            https://doi.org/10.7937/tcia.2019.8dho2gls\n",
       "171            https://doi.org/10.7937/tcia.2019.8kap372n\n",
       "176               https://doi.org/10.5061/dryad.ns1rn8pnt\n",
       "177                   https://doi.org/10.5061/dryad.sm847\n",
       "189             https://doi.org/10.3334/cdiac/00001_v2017\n",
       "190                https://doi.org/10.5281/zenodo.6010341\n",
       "191                https://doi.org/10.5281/zenodo.6010342\n",
       "194                   https://doi.org/10.5061/dryad.v2t58\n",
       "195                   https://doi.org/10.5061/dryad.7248c\n",
       "196                https://doi.org/10.5281/zenodo.1135371\n",
       "197                https://doi.org/10.5281/zenodo.1135372\n",
       "198     https://doi.org/10.6073/pasta/1a5760c3146c574c...\n",
       "199     https://doi.org/10.6073/pasta/57108aaeede00e77...\n",
       "200     https://doi.org/10.6073/pasta/721fdcde85b630d1...\n",
       "201                    https://doi.org/10.15468/dl.a2a348\n",
       "202                    https://doi.org/10.15468/dl.k8zeq6\n",
       "211                    https://doi.org/10.15468/dl.2a5f6c\n",
       "212                    https://doi.org/10.15468/dl.6qzmh7\n",
       "213                    https://doi.org/10.15468/dl.92jj3s\n",
       "214                    https://doi.org/10.15468/dl.ah5fq7\n",
       "215                    https://doi.org/10.15468/dl.be7krr\n",
       "216                    https://doi.org/10.15468/dl.cb2hsf\n",
       "217                    https://doi.org/10.15468/dl.dcatgu\n",
       "218                    https://doi.org/10.15468/dl.gtnw2a\n",
       "219                    https://doi.org/10.15468/dl.nvnscr\n",
       "220                    https://doi.org/10.15468/dl.qgemaq\n",
       "221                    https://doi.org/10.15468/dl.qm4v2t\n",
       "222                    https://doi.org/10.15468/dl.sz5x6g\n",
       "223                    https://doi.org/10.15468/dl.txwcpa\n",
       "224                    https://doi.org/10.15468/dl.ucepps\n",
       "225                    https://doi.org/10.15468/dl.waw9qx\n",
       "226                    https://doi.org/10.15468/dl.yc59mu\n",
       "227                    https://doi.org/10.15468/dl.zrhwa2\n",
       "239               https://doi.org/10.5061/dryad.rxwdbrvdc\n",
       "240                   https://doi.org/10.5061/dryad.12np0\n",
       "241                 https://doi.org/10.5061/dryad.4dj6042\n",
       "242                https://doi.org/10.5281/zenodo.4923158\n",
       "243               https://doi.org/10.5061/dryad.d2547d87h\n",
       "260                   https://doi.org/10.5061/dryad.739bs\n",
       "261                   https://doi.org/10.5061/dryad.1h7p0\n",
       "262                   https://doi.org/10.5061/dryad.2bs69\n",
       "263                 https://doi.org/10.5061/dryad.2bs69.1\n",
       "264                 https://doi.org/10.5061/dryad.2bs69.2\n",
       "265                   https://doi.org/10.5061/dryad.2g5f9\n",
       "266                 https://doi.org/10.5061/dryad.3b65k44\n",
       "267               https://doi.org/10.5061/dryad.fxpnvx0pn\n",
       "268                   https://doi.org/10.5061/dryad.kh7nt\n",
       "269                   https://doi.org/10.5061/dryad.rj7g1\n",
       "270                   https://doi.org/10.5061/dryad.2fp25\n",
       "271                   https://doi.org/10.5061/dryad.447sq\n",
       "272                 https://doi.org/10.5281/zenodo.817658\n",
       "273             https://doi.org/10.15482/usda.adc/1524676\n",
       "274                    https://doi.org/10.15468/dl.354f8k\n",
       "275                    https://doi.org/10.15468/dl.nbku3v\n",
       "276                    https://doi.org/10.15468/dl.pdjqte\n",
       "277                    https://doi.org/10.15468/dl.uejpg6\n",
       "278            https://doi.org/10.5291/ill-data.5-31-2380\n",
       "307                       https://doi.org/10.18150/6oxplo\n",
       "308                       https://doi.org/10.18150/lienz5\n",
       "309                       https://doi.org/10.18150/r8vj7v\n",
       "310                       https://doi.org/10.18150/vaojlj\n",
       "311                       https://doi.org/10.18150/vazz2f\n",
       "312                       https://doi.org/10.18150/wefsc9\n",
       "313                       https://doi.org/10.18150/xsexuf\n",
       "318               https://doi.org/10.5281/zenodo.10908593\n",
       "319                 https://doi.org/10.5061/dryad.hs20gv7\n",
       "320                 https://doi.org/10.5061/dryad.d84hg87\n",
       "321               https://doi.org/10.5061/dryad.9s4mw6mbw\n",
       "322                   https://doi.org/10.5061/dryad.r390f\n",
       "323                   https://doi.org/10.5061/dryad.h5j86\n",
       "324                   https://doi.org/10.5061/dryad.m02hm\n",
       "325     https://doi.org/10.5285/378f0f77-1842-4789-ba1...\n",
       "326                   https://doi.org/10.5061/dryad.n3k9f\n",
       "327                 https://doi.org/10.5061/dryad.bn7p2f5\n",
       "328                 https://doi.org/10.5061/dryad.j8cm402\n",
       "329                 https://doi.org/10.5061/dryad.6d66b49\n",
       "330               https://doi.org/10.5061/dryad.r7sqv9s8n\n",
       "331                   https://doi.org/10.5061/dryad.h4f7p\n",
       "332               https://doi.org/10.5061/dryad.fn2z34tw7\n",
       "360                https://doi.org/10.5281/zenodo.1158410\n",
       "361                   https://doi.org/10.5061/dryad.3978f\n",
       "362                   https://doi.org/10.5061/dryad.7g2c9\n",
       "363                 https://doi.org/10.5061/dryad.rf79641\n",
       "364               https://doi.org/10.5061/dryad.3xsj3txbz\n",
       "365            https://doi.org/10.15131/shef.data.5414629\n",
       "367                https://doi.org/10.5281/zenodo.7804445\n",
       "368               https://doi.org/10.5061/dryad.g1jwstqsg\n",
       "369                      https://doi.org/10.5066/p93r9uel\n",
       "370               https://doi.org/10.5061/dryad.4mw6m90cz\n",
       "371                 https://doi.org/10.5061/dryad.2gh0ht2\n",
       "423                      https://doi.org/10.5066/f7qn64xq\n",
       "444                 https://doi.org/10.3886/icpsr25104.v1\n",
       "445                 https://doi.org/10.3886/icpsr27646.v1\n",
       "446                 https://doi.org/10.3886/icpsr30765.v1\n",
       "447                 https://doi.org/10.3886/icpsr30770.v1\n",
       "448                 https://doi.org/10.3886/icpsr33525.v1\n",
       "449                 https://doi.org/10.3886/icpsr33530.v1\n",
       "450                 https://doi.org/10.3886/icpsr34584.v1\n",
       "451                 https://doi.org/10.3886/icpsr34585.v1\n",
       "452                 https://doi.org/10.3886/icpsr35020.v1\n",
       "453                 https://doi.org/10.3886/icpsr35035.v1\n",
       "454                 https://doi.org/10.3886/icpsr36119.v1\n",
       "455                 https://doi.org/10.3886/icpsr36120.v2\n",
       "456                 https://doi.org/10.3886/icpsr36395.v1\n",
       "457                 https://doi.org/10.3886/icpsr36398.v1\n",
       "458                 https://doi.org/10.3886/icpsr36791.v1\n",
       "459                 https://doi.org/10.3886/icpsr36795.v1\n",
       "460                 https://doi.org/10.3886/icpsr37062.v1\n",
       "461                 https://doi.org/10.3886/icpsr37065.v2\n",
       "463                      https://doi.org/10.4121/13077797\n",
       "577     https://doi.org/10.17638/datacat.liverpool.ac....\n",
       "614                 https://doi.org/10.5061/dryad.tq61224\n",
       "615                 https://doi.org/10.5061/dryad.dk5gt88\n",
       "616                   https://doi.org/10.5061/dryad.fj0qj\n",
       "617               https://doi.org/10.5061/dryad.gtht76hhb\n",
       "618     https://doi.org/10.5256/f1000research.10556.d1...\n",
       "619     https://doi.org/10.5256/f1000research.10556.d1...\n",
       "620     https://doi.org/10.5256/f1000research.11698.d1...\n",
       "621     https://doi.org/10.5256/f1000research.11698.d1...\n",
       "622     https://doi.org/10.5256/f1000research.11698.d1...\n",
       "623     https://doi.org/10.5256/f1000research.11698.d1...\n",
       "624     https://doi.org/10.5256/f1000research.11698.d1...\n",
       "625     https://doi.org/10.5256/f1000research.11698.d1...\n",
       "626     https://doi.org/10.5256/f1000research.11698.d1...\n",
       "627     https://doi.org/10.5256/f1000research.11698.d1...\n",
       "628     https://doi.org/10.5256/f1000research.13064.d1...\n",
       "629     https://doi.org/10.5256/f1000research.13483.d1...\n",
       "630     https://doi.org/10.5256/f1000research.13622.d1...\n",
       "631     https://doi.org/10.5256/f1000research.13622.d1...\n",
       "632     https://doi.org/10.5256/f1000research.13622.d1...\n",
       "633     https://doi.org/10.5256/f1000research.13622.d1...\n",
       "634     https://doi.org/10.5256/f1000research.13852.d1...\n",
       "635     https://doi.org/10.5256/f1000research.4660.d34165\n",
       "636                   https://doi.org/10.15125/bath-00325\n",
       "659                   https://doi.org/10.5061/dryad.72v34\n",
       "660                   https://doi.org/10.5061/dryad.5q1sb\n",
       "661                 https://doi.org/10.5061/dryad.5q1sb.1\n",
       "662                 https://doi.org/10.5061/dryad.5q1sb.2\n",
       "665                   https://doi.org/10.5061/dryad.7pd40\n",
       "666                   https://doi.org/10.5061/dryad.m4r46\n",
       "667                   https://doi.org/10.5061/dryad.27m63\n",
       "668                 https://doi.org/10.5061/dryad.27m63.1\n",
       "669                 https://doi.org/10.5061/dryad.27m63.2\n",
       "670                   https://doi.org/10.5061/dryad.kh186\n",
       "699                       https://doi.org/10.13020/d6wx0s\n",
       "701                      https://doi.org/10.5066/f72j69rm\n",
       "702                 https://doi.org/10.5061/dryad.f8c5r7q\n",
       "728                 https://doi.org/10.5061/dryad.8t3g361\n",
       "729               https://doi.org/10.5061/dryad.j0zpc86f2\n",
       "733             https://doi.org/10.13012/b2idb-5784165_v1\n",
       "734                      https://doi.org/10.5066/p98lo5d4\n",
       "735                https://doi.org/10.1594/pangaea.964943\n",
       "736                https://doi.org/10.1594/pangaea.965000\n",
       "737                   https://doi.org/10.25387/g3.9478253\n",
       "738                   https://doi.org/10.25387/g3.9626636\n",
       "739            https://doi.org/10.25386/genetics.12136941\n",
       "790                          https://doi.org/10.5518/1438\n",
       "791                    https://doi.org/10.15468/dl.elq8xm\n",
       "792                    https://doi.org/10.15468/dl.ze0mrg\n",
       "794                        https://doi.org/10.6078/d1k419\n",
       "795                    https://doi.org/10.15468/dl.jx7wck\n",
       "796                      https://doi.org/10.15485/1843541\n",
       "797             https://doi.org/10.5067/modis/mod13a2.006\n",
       "798                  https://doi.org/10.5067/zx7yx2y2lheb\n",
       "799                    https://doi.org/10.15468/dl.qv53hc\n",
       "800            https://doi.org/10.25422/azu.data.19680372\n",
       "801                      https://doi.org/10.5066/p9vqpe9w\n",
       "802                      https://doi.org/10.5066/f72z13n1\n",
       "803                      https://doi.org/10.5066/f77d2s7b\n",
       "804                      https://doi.org/10.5066/f7930sg7\n",
       "805                      https://doi.org/10.5066/f7h993cz\n",
       "806                      https://doi.org/10.5066/f7nc5zfm\n",
       "807                      https://doi.org/10.5066/f7tt4q4b\n",
       "808                      https://doi.org/10.5066/f7wq01t3\n",
       "809                      https://doi.org/10.5066/p92bghw1\n",
       "810                      https://doi.org/10.5066/p99onunm\n",
       "811                      https://doi.org/10.5066/p9eucgjq\n",
       "812                      https://doi.org/10.5066/p9fz4ojw\n",
       "813                      https://doi.org/10.5066/p9gcdyt2\n",
       "814                      https://doi.org/10.5066/p9h1s1pv\n",
       "815                      https://doi.org/10.5066/p9hdxe32\n",
       "816                      https://doi.org/10.5066/p9s5pvon\n",
       "817                      https://doi.org/10.5066/p9vysweh\n",
       "818                      https://doi.org/10.5066/p9xvjdnp\n",
       "819                      https://doi.org/10.5066/p9z04lnk\n",
       "820                      https://doi.org/10.5066/p9ys1x7p\n",
       "821                      https://doi.org/10.5066/p9zudioh\n",
       "822                      https://doi.org/10.5066/f7dz0771\n",
       "823                      https://doi.org/10.5066/p918e2p3\n",
       "824                      https://doi.org/10.5066/p9irl3gv\n",
       "825                      https://doi.org/10.5066/p9kehy2s\n",
       "826                      https://doi.org/10.5066/p9ooiq0e\n",
       "827                https://doi.org/10.5281/zenodo.4311472\n",
       "828                https://doi.org/10.5281/zenodo.4311473\n",
       "843                      https://doi.org/10.5066/p9j10nh5\n",
       "844                https://doi.org/10.1594/pangaea.941189\n",
       "845                https://doi.org/10.1594/pangaea.941234\n",
       "846                https://doi.org/10.1594/pangaea.941236\n",
       "865                      https://doi.org/10.4121/21864590\n",
       "868     https://doi.org/10.6073/pasta/eeb59ddf840c51b9...\n",
       "892                https://doi.org/10.1594/pangaea.917588\n",
       "893                https://doi.org/10.1594/pangaea.775959\n",
       "894                https://doi.org/10.1594/pangaea.779748\n",
       "895                https://doi.org/10.1594/pangaea.780464\n",
       "896                      https://doi.org/10.4231/r7rx991c\n",
       "897                https://doi.org/10.5281/zenodo.7871636\n",
       "898                https://doi.org/10.5281/zenodo.8090619\n",
       "935                    https://doi.org/10.15468/dl.4hgjbk\n",
       "936                    https://doi.org/10.15468/dl.x6cwjx\n",
       "937                    https://doi.org/10.15468/dl.yjd4cg\n",
       "938                    https://doi.org/10.15468/dl.yu2xpv\n",
       "939                   https://doi.org/10.5061/dryad.dv44b\n",
       "943             https://doi.org/10.22033/esgf/cmip6.10843\n",
       "944              https://doi.org/10.22033/esgf/cmip6.1621\n",
       "945     https://doi.org/10.5067/suborbital/oracles/p3/...\n",
       "946     https://doi.org/10.5067/suborbital/oracles/p3/...\n",
       "947     https://doi.org/10.5067/suborbital/oracles/p3/...\n",
       "948                  https://doi.org/10.6096/aeroclo.1754\n",
       "949                  https://doi.org/10.6096/aeroclo.1774\n",
       "950                  https://doi.org/10.6096/aeroclo.1777\n",
       "951            https://doi.org/10.5067/modis/myd06_l2.006\n",
       "952                        https://doi.org/10.17882/59867\n",
       "953                        https://doi.org/10.17882/70340\n",
       "954                       https://doi.org/10.18434/m32126\n",
       "955                        https://doi.org/10.17882/53389\n",
       "956                        https://doi.org/10.17882/55741\n",
       "957                        https://doi.org/10.17882/94031\n",
       "958                        https://doi.org/10.17882/94032\n",
       "959                        https://doi.org/10.17882/94146\n",
       "960                        https://doi.org/10.17882/94147\n",
       "961                https://doi.org/10.1594/pangaea.845258\n",
       "962                      https://doi.org/10.6075/j0k35s05\n",
       "963     https://doi.org/10.6073/pasta/fed17d67583eda16...\n",
       "964                https://doi.org/10.1594/pangaea.938422\n",
       "965                 https://doi.org/10.24381/cds.32b04ec5\n",
       "966                 https://doi.org/10.24381/cds.6a6d1bc3\n",
       "967            https://doi.org/10.5067/modis/mod10a1f.061\n",
       "968                    https://doi.org/10.15468/dl.i71k4s\n",
       "969                    https://doi.org/10.15468/dl.ize4xx\n",
       "985                   https://doi.org/10.5061/dryad.8153g\n",
       "986                 https://doi.org/10.5061/dryad.d0779mb\n",
       "987               https://doi.org/10.5061/dryad.12jm63xwd\n",
       "988               https://doi.org/10.5061/dryad.37pvmcvj9\n",
       "989               https://doi.org/10.5061/dryad.qnk98sffp\n",
       "990                   https://doi.org/10.5061/dryad.6h5b7\n",
       "991               https://doi.org/10.5061/dryad.p5hqbzkqf\n",
       "992                https://doi.org/10.5441/001/1.3q2131q5\n",
       "993                https://doi.org/10.5281/zenodo.6335347\n",
       "1019                       https://doi.org/10.7291/d11m38\n",
       "1020                   https://doi.org/10.15468/dl.czyyq2\n",
       "1021                   https://doi.org/10.15468/dl.j4fe7k\n",
       "1022                   https://doi.org/10.15468/dl.k6jv69\n",
       "1023                   https://doi.org/10.15468/dl.t3h8b4\n",
       "1024                   https://doi.org/10.15468/dl.yak5vd\n",
       "1025    https://doi.org/10.6073/pasta/02e2764efb408a8b...\n",
       "1026    https://doi.org/10.6073/pasta/275ad28a2f31356c...\n",
       "1027    https://doi.org/10.6073/pasta/b23deb8e1ccf1c14...\n",
       "Name: dataset_id, dtype: object"
      ]
     },
     "execution_count": 148,
     "metadata": {},
     "output_type": "execute_result"
    }
   ],
   "source": [
    "train_labels[train_labels['dataset_id'].str.contains('https://doi.org/10', na=False)]['dataset_id']"
   ]
  },
  {
   "cell_type": "code",
   "execution_count": 10,
   "id": "89e8e600",
   "metadata": {},
   "outputs": [
    {
     "name": "stdout",
     "output_type": "stream",
     "text": [
      "[1, 0, '5VA1', 'CHEMBL1097', 'CHEMBL1257578', 'CHEMBL1257821', 'CHEMBL1782574', 'CHEMBL195180', 'CHEMBL2424928', 'CHEMBL3422978', 'CHEMBL390649', 'CHEMBL572163', 'CHEMBL70', 'IPR000884', 'IPR001124', 'IPR001577', 'IPR002477', 'IPR002889', 'IPR004007', 'IPR004302', 'IPR004785', 'IPR004911', 'IPR004963', 'IPR004981', 'IPR005524', 'IPR006201', 'IPR008139', 'IPR009613', 'IPR011040', 'IPR011124', 'IPR012338', 'IPR016201', 'IPR017920', 'IPR021345', 'IPR028730', 'IPR029723', 'IPR029787', 'IPR033396', 'IPR036452', 'PF00348', 'PF00484', 'PF01493', 'PF05834', 'PF15461', 'GSE130386', 'SRP184152', 'EMPIAR-10005', 'EMPIAR-10017', 'EMPIAR-10028', 'EMPIAR-10081', 'EMPIAR-10093', 'EMPIAR-10345', 'EMPIAR-10387', 'EMPIAR-10406', 'EMPIAR-10532', 'EMPIAR-10590', 'EMPIAR-10852', 'EMPIAR-11057', 'ENSBTAG00000011038', 'ENSBTAG00000013718', 'ENSBTAG00000017121', 'ENSBTAG00000017131', 'ENSBTAG00000021275', 'ENSBTAG00000047833', 'ENSOARG00000003950', 'ENSOARG00000012128', 'ENSOARG00000012835', 'ENSOARG00000013782', 'ENSOARG00000013966', 'ENSOARG00000014129', 'IPR000264', 'IPR002172', 'IPR014760', 'IPR020857', 'IPR020858', 'IPR021177', 'IPR023415', 'NM_001078656', 'BX119912', 'CP001848', 'CP130886', 'STH00996', 'ENSMMUT00000003274', 'ENSMMUT00000007289', 'ENSMMUT00000008499', 'ENSMMUT00000013362', 'ENSMMUT00000015979', 'ENSMMUT00000017222', 'ENSMMUT00000042190', 'ENSMMUT00000043132', 'ENSMMUT00000047863', 'F6RVJ3', '3.10.180.10', '3.20.20.120', '3.20.20.140', '3.30.450.20', '3.30.450.40', '3.30.930.10', '3.40.30.10', '3.40.50.1000', '3.40.50.1820', '3.40.50.620', '3.40.630.30', '3.90.1200.10', '3.90.226.10', '3.90.228.10', 'PF00106', 'PF03372', 'rs33912345', 'CAB004592', 'CAB010055', 'HPA001426', 'HPA001522', 'HPA001612', 'HPA003156', 'HPA003927', 'HPA007450', 'HPA008063', 'HPA030827', 'HPA042865', 'O75787', 'P17900', 'P21741', 'P23142', 'P24593', 'P24821', 'P51884', 'P53004', 'Q08629', 'Q12907', 'Q96AG4', 'Q99538', 'EPI_ISL_291131', 'EPI_ISL_293286', 'EPI_ISL_293287', 'EPI_ISL_293288', 'EPI_ISL_293289', 'EPI_ISL_293290', 'EPI_ISL_293291', 'EPI_ISL_332358', 'EPI_ISL_332395', 'EPI_ISL_332396', 'EPI_ISL_332399', 'EPI_ISL_332401', 'EPI_ISL_376123', 'EPI_ISL_445001', 'EPI_ISL_445002', 'EPI_ISL_445051', 'EPI_ISL_445052', 'EPI_ISL_445089', 'EPI_ISL_445090', 'EPI_ISL_445091', 'EPI_ISL_445092', 'EPI_ISL_445093', 'K02388', 'K02389', 'K02390', 'K02391', 'K02396', 'K02397', 'K02398', 'K02400', 'K02401', 'K02404', 'K02405', 'K02407', 'K02409', 'K02410', 'K02412', 'K02413', 'K02414', 'K02417', 'K02418', 'K02422', 'PF00248', 'PF00356', 'PF01052', 'PF02154', 'PF03748', 'PF03963', 'PF04347', 'PF04509', 'PF13377', 'CVCL_0213', 'CVCL_0395', 'CVCL_0530', 'CVCL_0627', 'CVCL_1916', 'CVCL_1917', 'CVCL_1918', 'CVCL_1919', 'CVCL_2213', 'CVCL_2235', 'CVCL_3967', 'CVCL_6245', 'CVCL_7151', 'CVCL_D615', 'CVCL_KS61', 'GSE67047', 'GSE87048', 'E-PROT-100', 'E-PROT-101', 'E-PROT-102', 'E-PROT-103', 'E-PROT-104', 'E-PROT-105', 'E-PROT-106', 'E-PROT-107', 'E-PROT-108', 'E-PROT-109', 'E-PROT-110', 'E-PROT-23', 'PXD001676', 'PXD002137', 'PXD005693', 'PXD005709', 'PXD010458', 'PXD014511', 'PXD019504', 'PXD020454', 'PXD031556', 'PXD032899', 'CP013147', 'PRJNA10687', 'PRJNA16146', 'PRJNA16148', 'PRJNA167229', 'PRJNA167235', 'PRJNA167242', 'PRJNA167243', 'PRJNA167255', 'PRJNA167259', 'PRJNA185511', 'PRJNA20133', 'PRJNA217894', 'PRJNA287300', 'PRJNA293', 'PRJNA296687', 'PRJNA32553', 'PRJNA47139', 'PRJNA65041', 'PRJNA65043', 'PRJNA74039', 'PRJNA74077', 'PRJNA74079', 'PRJNA74089', 'PRJNA74123', 'PRJNA74167', 'SRX1830060', 'E-GEOD-19722', 'E-GEOD-28654', 'E-GEOD-29623', 'E-GEOD-39084', 'E-GEOD-45216', 'E-GEOD-45670', 'E-GEOD-46474', 'E-GEOD-48278', 'E-GEOD-48350', 'E-GEOD-48780', 'E-GEOD-49243', 'E-GEOD-50774', 'E-GEOD-53224', 'E-GEOD-53890', 'E-GEOD-54543', 'E-GEOD-54837', 'E-GEOD-58697', 'E-GEOD-59312', 'E-GEOD-60028', 'E-GEOD-61804', 'E-GEOD-63626', 'E-GEOD-64415', 'E-GEOD-64857', 'E-GEOD-67851', 'E-GEOD-68720', '2nrj', '4k1p', '7nmq', 'EPI_ISL_10271777', 'EPI_ISL_13295050', 'EPI_ISL_1626969', 'EPI_ISL_17371329', 'EPI_ISL_2340570', 'EPI_ISL_2340575', 'EPI_ISL_2340581', 'EPI_ISL_2340614', 'EPI_ISL_2340615', 'EPI_ISL_2340626', 'EPI_ISL_2340662', 'EPI_ISL_2365356', 'EPI_ISL_2402571', 'NC_017643.1', 'SAMN07159041', 'SAMN07159044', 'SAMN07159045', 'SAMN08172567', 'SAMN08199278', 'SAMN09534374', 'SAMN12620691', 'SAMN12620692', 'SAMN12620693', 'SAMN12620694', 'SAMN12620697', 'SAMN12620700', 'SAMN12620701', 'SAMN12620702', 'SAMN12620703', 'SAMN12620704', 'SAMN17525956', 'CHEMBL1568820', 'CHEMBL1652119', 'CHEMBL198796', 'CHEMBL243644', 'CHEMBL2436978', 'CHEMBL3109593', 'CHEMBL3311228', 'CHEMBL3752642', 'CHEMBL3960662', 'CHEMBL402487', 'CHEMBL403', 'CHEMBL4065616', 'CHEMBL408500', 'CHEMBL561', 'CHEMBL64391', 'CHEMBL76', 'D10700', 'EPI1018205', 'EPI1018206', 'EPI1018207', 'EPI1018208', 'EPI1018210', 'EPI1018211', 'EPI1019551', 'EPI1019552', 'EPI1019553', 'EPI1019554', 'EPI1019555', 'EPI1019556', 'EPI1019558', 'EPI1104284', 'EPI1104285', 'EPI1104286', 'EPI1104288', 'EPI1183999', 'EPI1184004', 'EPI1184005', 'EPI1184014', 'EPI1387245', 'EPI954552', 'EPI954553', 'EPI954554', 'EPI954555', 'EPI954556', 'EPI954557', 'EPI954559', 'KX000727', 'KX000734', 'ERR2135448', 'PF00078', 'PF02170', 'PF02171', 'PF03368', 'PF05183', 'SRR2429147', 'SRR2430028', 'SRR2430030', 'SRR7962068', 'CHEMBL3347550', 'CHEMBL3347551', 'CHEMBL3733336', 'CVCL_1379', 'MODEL2106070001', 'PRJNA664798', 'SAMN16233641', 'SAMN16233642', 'SAMN16233643', 'SAMN16233644', 'SAMN16233645', 'SAMN16233646', 'SAMN16233647', 'SAMN16233648', 'SAMN16233649', 'SAMN16233650', 'SAMN16233651', 'SAMN16233652', 'SAMN16233653', 'SAMN16233654', 'SAMN16233655', 'SAMN16233656', 'SAMN16233657', 'SAMN16233658', 'SAMN16233659', 'SAMN16233660', 'SAMN16233661', 'SAMN16233662', 'SAMN16233663', 'SAMN16233664']\n"
     ]
    }
   ],
   "source": [
    "print(list(train_labels['dataset_id'].unique()))\n"
   ]
  },
  {
   "cell_type": "code",
   "execution_count": null,
   "id": "31e60225",
   "metadata": {},
   "outputs": [],
   "source": []
  },
  {
   "cell_type": "code",
   "execution_count": 11,
   "id": "f2695443",
   "metadata": {},
   "outputs": [
    {
     "data": {
      "text/plain": [
       "396"
      ]
     },
     "execution_count": 11,
     "metadata": {},
     "output_type": "execute_result"
    }
   ],
   "source": [
    "len(list(train_labels['dataset_id'].unique()))"
   ]
  },
  {
   "cell_type": "code",
   "execution_count": 12,
   "id": "d9d61eb0",
   "metadata": {},
   "outputs": [],
   "source": [
    "li = list(train_labels['dataset_id'].unique())\n",
    "li = [item for item in li if item not in [0, 1]]\n",
    "\n"
   ]
  },
  {
   "cell_type": "code",
   "execution_count": 13,
   "id": "f954eb71",
   "metadata": {},
   "outputs": [
    {
     "name": "stdout",
     "output_type": "stream",
     "text": [
      "41\n",
      "['SAMN07159041', 'SAMN07159044', 'SAMN07159045', 'SAMN08172567', 'SAMN08199278', 'SAMN09534374', 'SAMN12620691', 'SAMN12620692', 'SAMN12620693', 'SAMN12620694', 'SAMN12620697', 'SAMN12620700', 'SAMN12620701', 'SAMN12620702', 'SAMN12620703', 'SAMN12620704', 'SAMN17525956', 'SAMN16233641', 'SAMN16233642', 'SAMN16233643', 'SAMN16233644', 'SAMN16233645', 'SAMN16233646', 'SAMN16233647', 'SAMN16233648', 'SAMN16233649', 'SAMN16233650', 'SAMN16233651', 'SAMN16233652', 'SAMN16233653', 'SAMN16233654', 'SAMN16233655', 'SAMN16233656', 'SAMN16233657', 'SAMN16233658', 'SAMN16233659', 'SAMN16233660', 'SAMN16233661', 'SAMN16233662', 'SAMN16233663', 'SAMN16233664']\n"
     ]
    }
   ],
   "source": [
    "samn = [item for item in li if item.startswith('SAMN')]\n",
    "print(len(samn))\n",
    "print(samn)"
   ]
  },
  {
   "cell_type": "code",
   "execution_count": 14,
   "id": "fadaf47a",
   "metadata": {},
   "outputs": [
    {
     "name": "stdout",
     "output_type": "stream",
     "text": [
      "41\n",
      "['SAMN07159041', 'SAMN07159044', 'SAMN07159045', 'SAMN08172567', 'SAMN08199278', 'SAMN09534374', 'SAMN12620691', 'SAMN12620692', 'SAMN12620693', 'SAMN12620694', 'SAMN12620697', 'SAMN12620700', 'SAMN12620701', 'SAMN12620702', 'SAMN12620703', 'SAMN12620704', 'SAMN17525956', 'SAMN16233641', 'SAMN16233642', 'SAMN16233643', 'SAMN16233644', 'SAMN16233645', 'SAMN16233646', 'SAMN16233647', 'SAMN16233648', 'SAMN16233649', 'SAMN16233650', 'SAMN16233651', 'SAMN16233652', 'SAMN16233653', 'SAMN16233654', 'SAMN16233655', 'SAMN16233656', 'SAMN16233657', 'SAMN16233658', 'SAMN16233659', 'SAMN16233660', 'SAMN16233661', 'SAMN16233662', 'SAMN16233663', 'SAMN16233664']\n"
     ]
    }
   ],
   "source": [
    "samns = re.findall(r'\\bSAMN\\d{8}\\b', ' '.join(li))\n",
    "print(len(samns))\n",
    "print(samns)"
   ]
  },
  {
   "cell_type": "code",
   "execution_count": 15,
   "id": "228105bb",
   "metadata": {},
   "outputs": [
    {
     "name": "stdout",
     "output_type": "stream",
     "text": [
      "29\n",
      "['CHEMBL1097', 'CHEMBL1257578', 'CHEMBL1257821', 'CHEMBL1782574', 'CHEMBL195180', 'CHEMBL2424928', 'CHEMBL3422978', 'CHEMBL390649', 'CHEMBL572163', 'CHEMBL70', 'CHEMBL1568820', 'CHEMBL1652119', 'CHEMBL198796', 'CHEMBL243644', 'CHEMBL2436978', 'CHEMBL3109593', 'CHEMBL3311228', 'CHEMBL3752642', 'CHEMBL3960662', 'CHEMBL402487', 'CHEMBL403', 'CHEMBL4065616', 'CHEMBL408500', 'CHEMBL561', 'CHEMBL64391', 'CHEMBL76', 'CHEMBL3347550', 'CHEMBL3347551', 'CHEMBL3733336']\n"
     ]
    }
   ],
   "source": [
    "che = [item for item in li if item.startswith('CHEMBL')]\n",
    "print(len( che))\n",
    "print(che)"
   ]
  },
  {
   "cell_type": "code",
   "execution_count": null,
   "id": "0f16f592",
   "metadata": {},
   "outputs": [],
   "source": [
    "\n",
    "\n",
    "def clean_text(text):\n",
    "    # 1. Fix encoding issues like mojibake or smart quotes\n",
    "    text = ftfy.fix_text(text)\n",
    "\n",
    "    # 2. Normalize ligatures and full-width characters\n",
    "    text = unicodedata.normalize(\"NFKC\", text)\n",
    "\n",
    "    # 3. Remove non-printable control characters (ASCII 0–31 and 127)\n",
    "    text = re.sub(r'[\\x00-\\x1F\\x7F]', '', text)\n",
    "\n",
    "    # 4. Remove unnecessary backslashes before quotes (like d\\'Océanographie → d'Océanographie)\n",
    "    text = re.sub(r'\\\\([\\'\"“”‘’`´])', r'\\1', text)\n",
    "\n",
    "    # 5. Add space between glued lowercase-uppercase boundaries (e.g., datasetEuropean → dataset European)\n",
    "    text = re.sub(r'(?<=[a-z])(?=[A-Z])', ' ', text)\n",
    "\n",
    "    # 6. Insert space before URLs (e.g., doihttps://... → doi https://...)\n",
    "    text = re.sub(r'(?<=[a-zA-Z])(?=https?://)', ' ', text)\n",
    "\n",
    "    # 7. Replace all weird dash characters with standard hyphen\n",
    "    text = re.sub(r'[\\u2010\\u2011\\u2012\\u2013\\u2014\\u2212]', '-', text)\n",
    "\n",
    "    # 8. Add space after punctuation if not followed by space\n",
    "    text = re.sub(r'([,;!?)\\]\\}])(?=\\S)', r'\\1 ', text)\n",
    "\n",
    "    # 9.Remove all symbols **except** alphanumeric, hyphen, underscore, dot, and space\n",
    "    text = re.sub(r'[^\\w\\s\\.\\-_\\/]', ' ', text)\n",
    "\n",
    "    # 10.Collapse repeated valid symbols, while preserving `//`\n",
    "    text = re.sub(r'-{2,}', '-', text)\n",
    "    text = re.sub(r'_{2,}', '_', text)\n",
    "    text = re.sub(r'\\.{2,}', '.', text)\n",
    "    text = re.sub(r'/{3,}', '//', text)  # Keep `//` but collapse longer\n",
    "\n",
    "    # 11. Flatten all whitespace (spaces, tabs, newlines) into a single space\n",
    "    text = re.sub(r'\\s+', ' ', text)\n",
    "\n",
    "    # 12. Remove any leftover leading/trailing space\n",
    "    return text.strip()"
   ]
  },
  {
   "cell_type": "code",
   "execution_count": 17,
   "id": "c239869c",
   "metadata": {},
   "outputs": [],
   "source": [
    "\n",
    "\n",
    "def extract_text_from_xml(xml_path):\n",
    "    parser = etree.XMLParser(recover=True)\n",
    "    tree = etree.parse(xml_path, parser)\n",
    "    root = tree.getroot()\n",
    "    text_parts = []\n",
    "    for elem in root.iter():\n",
    "        if elem.text and elem.text.strip():\n",
    "            text_parts.append(elem.text.strip())\n",
    "        if elem.tail and elem.tail.strip():\n",
    "            text_parts.append(elem.tail.strip())\n",
    "    \n",
    "    text =  ''.join(text_parts)\n",
    "    return clean_text(text)"
   ]
  },
  {
   "cell_type": "code",
   "execution_count": 33,
   "id": "afb8cbef",
   "metadata": {},
   "outputs": [
    {
     "data": {
      "text/plain": [
       "'open_access-//NLM//DTD JATS Z39.96 Journal Publishing DTD v1.1 20151215//ENpublic JATS-journalpublishing1.dtd1.1jp2nlmx2.xsl1Peer JPeer Jpeerjpeerj Peer J2167-8359Peer J Inc.San Diego USA78799491045210.7717/peerj.10452Agricultural Science Biotechnology Microbiology Molecular Biology Mycology Bacterial community diversity lignocellulose components and histological changes in composting using agricultural straws for Agaricus bisporusproduction Song Tingting1Shen Yingyue1Jin Qunli1Feng Weilin1Fan Lijun1Cao Guangtian15a1903025 cjlu.edu.cn2Cai Weimingcaiwm0527 126.com11Institute of Horticulture Zhejiang Academy of Agricultural Sciences Hanzghou Zhejiang China2China Jiliang University College of Standardisation Hangzhou Zhejiang China Arora Gunjan92202120219e1045210820209112020 2021 Song et al.2021Song et al.This is an open access article distributed under the terms of the Creative Commons Attribution License which permits unrestricted use distribution reproduction and adaptation in any medium and for any purpose provided that it is properly attributed. For attribution the original author s title publication source Peer J and either DOI or URL of the article must be cited.Agricultural straws AS may serve as potential base-substances in the production of Agaricus bisporus. Six AS that occur across China were investigated in a two-stage composting experiment lignocellulose components AS morphology and the effects of different AS on mushroom yields from 2015-2017 were examined. In addition microbial biodiversity and their impact on substrate degradation were studied using 16S gene sequenc based on six different AS on the 3rd I.F 6th I.S and 10th I.T day of Phase I and Phase II II . Results showed that the six different AS exhibited differences in the progression of degradation under the same compost condition the wheat straw rice straw and cotton straw induced a significantly higher mushroom yield than did the others P 0.05 Thermobispora Thermopolyspora and Vulgatibactergenera may play an important role in the different AS degradations. According to our experiments we can adjust formulations and compost methods to obtain high-yield mushroom compost based on different AS in the future.Agaricus bisporus Agricultural straw Lignocellulose Composting Histological changes16S r RNA sequencing Mushroom yield China Agriculture Research System CARS -20 Substrate Utilization of Crop Straw201503137This work was supported by the China Agriculture Research System CARS -20 and Substrate Utilization of Crop Straw 201503137 . The funders had no role in study design data collection and analysis decision to publish or preparation of the manuscript.Introduction Agricultural straws AS are organic agricultural residues produced at a global rate of 2-4 109t per year which is 1.4 times the annual crop yield Smil 1999 . AS comprise mainly of lignocellulosic biomass most of which is used for combustion in China Sheng et al. 2018 . Until 2018 the amount of AS had reached 886 million tons in China. AS waste is rich in macromolecular organic matter including cellulose hemicellulose starch and lignin. Many techniques have been applied to the utilization of AS waste resources. Among these methods mushroom cultivation is one of the most efficient and economical biotechnological process for converting lignocellulosic materials into high quality food. Rice straw and wheat straw have been used for hydrogen production Liu et al. 2015 and ethanol fermentation Nair et al. 2017 .White button mushrooms Agaricus bisporus are well-known basidiomycete fungi grown on substrate with a casing layer and produced in large quantities for human consumption De Groot et al. 1998 . In America and Europe the wheat straw is a major traditional ingredients for A. bisporuscultivating Straatsma et al. 2000 . In China rice straw is widely available and has formed the major material for A. bisporuscultivation in recent decades Gong 2011 . There are three distinct phases of the compost production and preparation Mc Gee 2018 Phases I and II form the aerobic fermentation processes Simsek et al. 2008 and Phase III form inoculation and mycelium growth processes Patyshakuliyeva et al. 2015 . In general Phase I periods of about 5-7 and 15-21 days are used in Europe and China respectively. The compost temperature stays at approximately 80 C due to the growth of thermophilic microorganisms Zhang et al. 2019 . Subsequently a pasteurization process Phase II is performed at 45-50 C for about 4-9 days until the ammonia level decreases to a level that is non-toxic to A. bisporusmycelia. The compost preparation is achieved by manipulating the natural succession of microorganisms present in the raw materials. The microbial populations substrate compositions and the physical states of the materials change during Phases I and II of this process.The bacterial community of the compost is highly diverse and exhibits dynamic changes in response to the quality of the compost Székely et al. 2009 Zhang et al. 2014 Siyoum et al. 2016 Mc Gee et al. 2017 . The substrates are self-heated after mixing and wetting in Phase I compost and are characterized by high microbial activity Miller Harper Macauley 1989 while aerobic microorganisms dominate the fermentation process because of controlled temperature conditions in Phase II compost Straatsma et al. 1995 . For the past decades several techniques have been used for studying of microbial communities at different stages including community-level physiological profile analysis phospholipid fatty acid analysis and environmental DNA amplification-based methods Dees Ghiorse 2001 Tiquia Michel 2002 Helgason Walley Germida 2010 Takaku et al. 2006 . The development of next-generation sequencing technologies has provide a more reliable method for the analysis of the depth and composition of microbial communities.In order to make full use of AS across the different areas of China six major straws and residues including wheat straw WS rice straw RS cotton straw CS corncob CC corn straw C and bagasse B were selected as the representative substrates to cultivate A. bisporus following the initial screening of various materials. Then physicochemical properties histological changes and the production properties of the different A. bisporuscompost materials were compared. Additionally the bacterial community structure of four-stage composting based on six different AS was analyzed. The data obtained by our experiment may help understand the optimal composting conditions corresponding to certain AS formulations. The efficient utilization of different AS from different areas as substrates for A. bisporuscultivation has the potential to reduce the cost of transporting raw materials and increase farming profits in China.Materials and Methods Mushroom strain The A. bisporusstrain A106 was obtained from our lab and cultured at 25 C on potato dextrose agar PDA medium for further experiment. Wheat grains purchased from a local grocery store were used to prepare A. bisporusspawn as described by Cheng 1999 .Composting and sampling Composting was conducted in the fermentation room of our experimental base located in Hangzhou Zhejiang province between 2015 and 2017. The composting windrows 5 2.0 1.8 m each contain a 600 kg mixture consisting of Agriculture straw rapeseed cake Ca SO4 2H2O Ca H2PO4 2 H2O NH4 2SO4 and urea CON2H4 with the formulations of ingredients listed in S1.Before composting stage the raw material were mixed and wetted by manual spraying to adjust the moisture around 75 and 200 g samples M were collected in triplicate. At Phase I of the 3 th I.F 6 th I.S and 10 th I.T day the windrows were turned on to keep the concentration of O2sufficient and enhance the composting process. Ca CO3and water were added manually to maintain the p H 6-8 and moisture content 60-70 during the turning data in S2 . Phase II II consisting of 6 days was characterized by a rapid increase in temperature up to 60 C for 8-9 h followed by stabilization of the compost temperature to 45-50 C for 5 days and gradual cooling to 25 C. Samples at four different stage 200 g each were collected and dried using a vacuum freeze dryer as previously described Song et al. 2014 then stored at -80 C for further analysis.Analysis of physical and chemical properties Throughout Phase I and II the temperature of the tunnel was monitored by tubular mercurial thermometers continuously placed in the middle of the compost Kai Longda Instrument Co. Tianjin China .The water content was measured by water analyzer Ohaus MB25 with 5 g sub-samples. The p H values were determined with an electronic p H meter Mettler-Toledo Instruments Co. Ltd. Shanghai China using 10 w/v sample suspensions in distilled water were used. The total nitrogen N and carbon C levels were assayed by the methods of Kjeldahl Bremner Mulvaney 1982 and K2Cr2O3oxidation Fan 2007 and then C/N ratios were calculated. In addition the fiber profiles including crude fiber of the cell wall cellulose hemicellulose and acid digestible lignin ADL were analyzed as described by Van Soest Robertson Lewis 1991 . The percentage of dry matter losses was calculated according to the following equations Dry matter loss the dry matter weight after Phase II/the dry matter of initial formulation 100 .AS stem sub-samples for transmission electron microscopy The sub-stem samples three cm long were obtained from dried samples of six different AS composts collected after Phase II. Each sample was prepared and subjected to the method described by Song et al. 2014 . The samples were examined using a JEM-1230 transmission electron microscope TEM .Determination of mushroom yields The mushroom yields were recorded from 2015-2017 for three years. The pawning rate of six different pasteurized compost was 1 w/w . Then the spawned compost was divided into 15.0 kg samples wet weight moisture content 65 and transferred to a 45-35 24 cm plastic cultivation boxes. After growing the mycelia at 2'"
      ]
     },
     "execution_count": 33,
     "metadata": {},
     "output_type": "execute_result"
    }
   ],
   "source": [
    "textx = extract_text_from_xml('data/train/XML/10.7717_peerj.10452.xml')\n",
    "textx[:10000]"
   ]
  },
  {
   "cell_type": "code",
   "execution_count": 19,
   "id": "d7c3eb2f",
   "metadata": {},
   "outputs": [],
   "source": [
    "import fitz\n",
    "def extract_text_from_pdf(pdf_path):\n",
    "    doc = fitz.open(pdf_path)\n",
    "    text = \"\"\n",
    "    for page in doc:\n",
    "        text += page.get_text()\n",
    "    doc.close()\n",
    "    return clean_text(text)"
   ]
  },
  {
   "cell_type": "code",
   "execution_count": 122,
   "id": "077384f5",
   "metadata": {},
   "outputs": [
    {
     "data": {
      "text/plain": [
       "'1Vol. 0123456789 Scientific Reports 2024 14 5741 https //doi.org/10.1038/s41598-024-56373-ywww.nature.com/scientificreports Planctoellipticum variicoloris gen. nov. sp. nov. a novel member of the family Planctomycetaceae isolated from wastewater of the aeration lagoon of a sugar processing plant in Northern Germany Carmen E. Wurzbacher 1 3 Tom Haufschild 1 3 Jonathan Hammer 1 Muriel C. F. van Teeseling 2 Nicolai Kallscheuer 1 Christian Jogler 1 In the present study we characterise a strain isolated from the wastewater aeration lagoon of a sugar processing plant in Schleswig Northern Germany by Heinz Schlesner. As a pioneer in planctomycetal research he isolated numerous strains belonging to the phylum Planctomycetota from aquatic habitats around the world. Phylogenetic analyses show that strain SH412T belongs to the family Planctomycetaceae and shares with 91.6 the highest 16S r RNA gene sequence similarity with Planctopirus limnophila DSM 3776T. Its genome has a length of 7.3 Mb and a G C content of 63.6 . Optimal growth of strain SH412T occurs at p H 7.0-7.5 and 28 C with its pigmentation depending on sunlight exposure. Strain SH412T reproduces by polar asymmetric division budding and forms ovoid cells. The cell size determination was performed using a semi-automatic pipeline which we first evaluated with the model species P. limnophila and then applied to strain SH412T. Furthermore the data acquired during time-lapse analyses suggests a lifestyle switch from flagellated daughter cells to non-flagellated mother cells in the subsequent cycle. Based on our data we suggest that strain SH412T represents a novel species within a novel genus for which we propose the name Planctoellipticum variicoloris gen. nov. sp. nov. with strain SH412T CECT 30430T STH00996T the STH number refers to the Jena Microbial Resource Collection JMRC as the type strain of the new species.Keywords Limnic bacteria Planctomycetota Asymmetric cell division Schlesner strain collection Pigmentation Initially classified as eukaryotes1 members of the phylum Planctomycetota were only later acknowledged as bacteria2. Along with two eponymous and some other sister phyla they form the Planctomycetota-Chlamydiota-Verrucomicrobiota PVC superphylum whose ubiquitous members are of high medical and biotechnological relevance3-5. Similar to the other lineages of this superphylum planctomycetes possess certain unique traits some of which seemed to challenge the fundamental differences between pro- and eukaryotes and led to several alternative hypotheses about the evolution of eukaryotes6. For example planctomycetes were proposed to lack peptidoglycan7 to form compartmentalised cells8 to possess a nucleus-like structure9 and to be capable of an endocytosis-like mechanism10 whereby especially the latter is a hallmark trait of eukaryotes. However advances OPEN1Department of Microbial Interactions Institute of Microbiology Friedrich Schiller University Jena Germany. 2Junior Research Group Prokaryotic Cell Biology Institute of Microbiology Friedrich Schiller University Jena Germany. 3These authors contributed equally Carmen E. Wurzbacher and Tom Haufschild. email christian.jogler uni-jena.de2Vol . 1234567890 Scientific Reports 2024 14 5741 https //doi.org/10.1038/s41598-024-56373-ywww.nature.com/scientificreports/in high-resolution imaging techniques as well as the development of genetic tools for planctomycetes11-13 led to reinvestigations that induced a paradigm shift in planctomycetal research for review see Wiegand et al.6 . Thereby planctomycetes were found to possess peptidoglycan14 15 and although exceptional in several other cell biological aspects the cell envelope architecture of planctomycetes is considered like that of diderm Gram-negative bacteria16-18. Planctomycetal cells turned out to possess an enlarged periplasm with complex invagina-tion patterns of the cytoplasmic membrane16. Combined with the crateriform structures found on the surface of various planctomycetes these invaginations are presumably involved in a yet uncharacterised mechanism for the uptake of entire high molecular weight polysaccharide molecules and their degradation6 16.Although some of the controversy is now resolved members of the phylum Planctomycetota are still excep-tional. They employ different division modes either a mode of asymmetric polar reproduction budding class Planctomycetia binary fission classes Phycispherae and Candidatus Brocadiae or a combination of both types19 while lacking most of the canonical bacterial cell division enzymes including the contractile Z-ring-forming key player Fts Z19-21. Some strains as for example the model species Planctopirus limnophila have been reported to undergo a lifestyle switch with attached cells reproducing asymmetrically at the pole opposite to the surface-anchored holdfast structure. Newly produced daughter cells are flagellated and swim until they attach to a surface and start to divide themselves6 11 22 23.Besides their uncommon cell biology planctomycetal genomes are just as intriguing and hold potential for biotechnological application of this phylum. In comparison to members of other bacterial phyla planctomycetes can possess exceptionally large genomes of up to 12.4 Mb Fimbriiglobus ruber and are the phylum containing the most predicted genes with unknown function6 24 25. Genome sizes also differ highly between the currently described classes of the phylum Planctomycetia 4.8-12.4 Mb Phycisphaerae and Ca. Brocadiae 3.0-4.3 Mb . As shown in the past years members of the phylum Planctomycetota produce small molecules with possible health-promoting bioactivities5 26-29. Among the small molecules recently discovered in planctomycetes are stieleriacines30-32 carotenoids33 34 and an aromatic compound potentially acting as a plant toxin35.Here we characterise strain SH412T which was isolated by Heinz Schlesner Institute for Microbiology Christian-Albrechts-University Kiel Germany in the late 1980s from the wastewater aeration lagoon of a sugar processing plant in Schleswig a town in Northern Germany. Strain SH412T is one of approximately 257 strains whose isolation has been reported in 199436. However a polyphasic analysis of phenotypic and genomic features has not yet been conducted for many strains from Schlesner s collection37. In addition we present a standardised semi-automatic pipeline for cell size determination employing light microscopy which was first tested with the limnic model planctomycete Planctopirus limnophila DSM 3776T and then applied to the novel strain.Materials and methods Isolation and cultivation Strain SH412T was isolated by Heinz Schlesner Institute for Microbiology Christian-Albrechts-University Kiel Germany from a wastewater aeration lagoon of a sugar processing plant in Schleswig Northern Germany . At the sampling site a conductivity of 6270 μS/cm and a p H of 7.8 were measured. The strain was isolated on M31PY medium and routinely cultivated at 28 C in the same medium. P. limnophila DSM 3776T served for testing of the cell size determination pipeline and was cultivated in limnic M1 medium at 28 C. 1 L M31PY medium contained Mineral Salt Solution Hutner s Basal Salts 20 m L see below BD Bacto Peptone 0.25 g BD Bacto Yeast Extract 0.25 g Tris/HCl final concentration 5 m M Ca Cl2 2 H2O 0.1 g and Mg Cl2 6 H2O 0.1 g . The p H was adjusted to 7.5 in liquid cultures and p H 8.5 for agar plates. After autoclaving the following amounts of sterile-filtered solutions were added N-acetyl glucosamine solution 40 m L of 50 g/L stock vitamin solution 5 m L see below and Na2HPO4 2 H2O solution 1 m L of 100 g/L stock . For solidified medium 15 g/L agar previously washed three times with dd H2O and separately autoclaved were added. 1 L of limnic M1 medium contained Mineral Salt Solution Hutner s Basal Salts 20 m L see below NH4Cl 0.53 mg KH2PO4 1.4 mg KNO3 10 mg Mg SO4 7 H2O 49.3 mg Ca Cl2 2 H2O 14.7 mg Ca CO3 25 mg Na HCO3 25 mg BD Bacto Peptone 0.25 g BD Bacto Yeast Extract 0.25 g and 4- 2-hydroxyethyl -1-piperazineethanesulfonic acid HEPES 2.38 g . The p H value was adjusted to 7.0. After autoclaving the following sterile-filtered solutions were added glucose solution 4 m L 25 v/w stock vitamin solution 5 m L see below N-acetyl glucosa-mine 20 m L 50 g/L stock and trace element solution 1 m L see below . The following supplemental solutions were prepared for both media 1 L vitamin solution contained p-aminobenzoic acid 0.01 g biotin 0.004 g pyridoxine hydrochloride 0.02 g thiamine hydrochloride 0.01 g sodium pantothenate 0.01 g folic acid 0.004 g riboflavin 0.01 g nicotinamide 0.01 g and vitamin B12 0.0002 g . 1 L Mineral Salt Solution Hutner s Basal Salts contained nitrilotriacetic acid 10 g Mg SO4 7 H2O 29.7 g Ca Cl2 2 H2O 3.34 g Fe SO4 7 H2O 0.099 g and Metal Salt Solution 44 50 m L . 1 L of Metal Salt Solution 44 contained Na2-EDTA 250 g Zn SO4 7 H2O 1.095 g Fe SO4 7 H2O 0.5 g Mn SO4 H2O 0.154 g Cu SO4 5 H2O 0.0395 g Co Cl2 6 H2O 0.0203 g and Na2B4O7 10 H2O 0.0177 g . 1 L Trace Element Solution used only for limnic M1 medium contained sodium nitrilotriacetate 1.5 g Mn SO4 7 H2O 0.5 g Fe SO4 7 H2O 0.1 g Co NO3 2 6 H2O 0.1 g Zn Cl2 0.1 g Ni Cl2 6 H2O 0.05 g H2Se O3 0.05 g Cu SO4 5 H2O 0.01 g Al K SO4 2 12 H2O 0.01 g H3BO3 0.01 g Na Mo O4 2 H2O 0.01 g Na2WO4 2 H2O 0.01 g .Initial PCR-based amplification of the 16S r RNA gene An amplification and sequencing of the 16S r RNA gene of the novel isolate was performed to determine its phy-logenetic position and degree of novelty. The sequencing was also used to check the purity of the axenic culture. Colonies from plates were lysed by boiling 95 C 3 min and subsequent freezing three times repeated . Prior to genome sequencing extracted g DNA was used as PCR template to check for purity. The following primers were used for the amplification reaction eubplancto8f 5 -AGA GTT TGATCMTGG CTC AG-3 and eubplancto1492r 3Vol. 0123456789 Scientific Reports 2024 14 5741 https //doi.org/10.1038/s41598-024-56373-ywww.nature.com/scientificreports/5 -GGY TAC CTT GTT ACG ACT T-3 . Dream Taq DNA Polymerase Thermo Scientific was employed for the reaction and the PCR was performed using the following program Initial denaturation for 2 min at 95 C fol-lowed by 45 cycles of denaturation 30 s at 95 C annealing 30 s and elongation 2 min at 72 C . Thereby the annealing temperature was 54 C during the first ten and 49 C during the remaining 35 cycles. Afterwards the PCR was concluded by a final elongation step for 7 min at 72 C. For sequencing samples were prepared with the primer eubplancto8f to obtain a partial 16S r RNA sequence. Sequencing was performed by Macrogen Europe.Isolation of genomic DNAGenomic DNA for long-read sequencing was isolated using the Wizard HMW DNA Extraction Kit Promega following the manufacturer s instructions. The obtained g DNA was quantified using the Qubit fluorometer with the Qubit ds DNA BR-Assay-Kit Thermo Scientific . DNA quality and purity were determined using Nano Drop 2000 Thermo Scientific absorbance measurements at 230 260 and 280 nm. Integrity and fragment length distribution of obtained g DNA were analysed with the 4150 Tape Station System using Genomic DNA reagents and Screen Tape Agilent Technologies .Long-read sequencing with Oxford Nanopore and genome assembly For nanopore long-read sequencing a multiplex sequencing library was prepared from at least 400 ng of high quality g DNA per sample according to the manufacturer s protocol for the Native Barcoding Kit 24 SQK-NBD112.24 Oxford Nanopore Technologies . Briefly the DNA was repaired using the NEBNext FFPE DNA Repair Mix and the NEBNext Ultra II End Repair/d A-tailing Module reagents New England Biolabs . A clean-up was performed with one volume of AMPure XP Beads Beckman Coulter per sample volume. The equimolar mass of each DNA sample was taken forward to the native barcode ligation step using the NEB Blunt/TA Ligase Mix New England Biolabs and the ligation was stopped using EDTA. Barcoded DNA of all samples was pooled and cleaned with 0.4 volumes of AMPure XP Beads Beckman Coulter . Sequencing adapters were ligated to the DNA using the NEBNext Quick Ligation Module New England Biolabs and another purification step with 0.4 volumes of beads was performed. The washing steps were performed with Long Fragment Buffer Oxford Nanopore Technologies instead of 70 v/v ethanol to enrich DNA fragments larger than 3 kb. For sequenc-ing 5 to 10 fmol of the final library were loaded onto a primed R10.4 flowcell FLO-MIN112 Oxford Nanopore Technologies . Sequencing was performed on a Min ION Mk1B device Oxford Nanopore Technologies . The raw nanopore sequencing data was basecalled using bonito version 0.5.3 with the basecalling model dna_10.4_e8.1_sup v3.4 Oxford Nanopore Technologies . The basecalled reads were filtered using Nano Filt 2.8.038 and only reads with a Phred quality score 10 were further processed. Demultiplexing and adapter trimming were performed using Guppy version 6.3.9 with the optional flag -trim_barcodes Oxford Nanopore Technologies . Demultiplexed and trimmed reads were uploaded to the Galaxy web platform and the server available under the public domain usegalaxy.eu was used for the processing of the data39. We created and used a Galaxy workflow that is available at https // usega laxy. eu/u/ domi/w/ copy- of- fastq flyem edaka prokk abusc oquast. The workflow included Nano Plot version 1.28.2 for quality control of the nanopore reads38 Flye version 2.940 41 for genome assembly and Medaka version 1.4.4 Oxford Nanopore Technologies for polishing of the raw assembly with the original long reads. The workflow also includes evaluation of the assembly completeness using BUSCO version 5.2.242 43 and annotation of the assembled genome using Prokka version 1.14.644 45.Polishing of the assembly with Illumina short reads and post-processing Library preparation and short-read sequencing using the Illumina Nova Seq platform was performed by Eurofins Genomics Germany Gmb H. The Illumina reads approx. 5 million read pairs 2 150 bp per strain were also uploaded to the Galaxy web server usegalaxy.eu39. We created and used another Galaxy workflow that is available via https // usega laxy. eu/u/ domi/w/ copy- of- bwa- mem2p ilonp rokka busco quast. The workflow comprises evalu-ation of the Illumina reads using Fast QC version 0.11.9 https // www. bioin forma tics. babra ham. ac. uk/ proje cts/ fastqc/ mapping of Illumina reads to the genome assembly using BWA-MEM2 version 2.2.146-48 and polishing using Pilon version 1.2049. Evaluation of assembly completeness was performed again with BUSCO version 5.2.242 43. The polished assembly was again annotated using Prokka version 1.14.644 45. The obtained genome was manually circularised and rotated to the start codon of the chromosomal replication initiator protein-encoding gene dna A according to the Prokka annotation . The genome was finally annotated using the NCBI Prokaryotic Genome Annotation Pipeline PGAP version 2022-12-13.build649450-52.Nucleotide sequence accession numbers The 16S r RNA gene and genome sequence of strain SH412T are available from the NCBI Gen Bank database under the accession numbers OR353748 and CP130886 respectively.Phylogenomic analyses The 16S r RNA gene sequence of strain SH412T was extracted from the annotated genome and the identification of the closest neighbours of the novel isolate was performed using NCBI s BLASTn suite accessed on 5th July 2023 53. The 16S r RNA gene sequences of strain SH412T and all characterised members of the phylum were aligned with Clustal W54. The alignment was used to calculate a 16S r RNA similarity matrix with Taxon DC55. The 16S r RNA gene sequence-based maximum likelihood phylogenetic tree was calculated from the same alignment with Fast Tree 2.156 employing the GTR CAT model and 1000 bootstraps replications. Three 16S r RNA genes of bacterial strains from the PVC superphylum outside of the phylum Planctomycetota namely Opitutus terrae NCBI acc. no. AJ229235 Kiritimatiella glycovorans acc. no. NR_146840 and Lentisphaera araneosa acc. no. NR_027571 were used as outgroup. The multi-locus sequence-based phylogenetic analysis was performed using 4Vol . 1234567890 Scientific Reports 2024 14 5741 https //doi.org/10.1038/s41598-024-56373-ywww.nature.com/scientificreports/auto MLST with 500 bootstrap replicates57. The analysis was performed with the auto MLST-simplified-wrapper tool available on Git Hub. The MLSA-based phylogenetic tree was constructed based on the reference genomes of all current members of the family Planctomycetaceae Gen Bank accession numbers are given in brackets Alieni-monas californiensis CA12T GCA_007743815.1 Alienimonas chondri Lz C2T GCA_013036045.1 Calycomor-photria hydatis V22T GCA_007745435.1 Caulifigura coniformis Pan44T GCA_007745175.1 Fuerstiella maris-germanici NH11T GCA_001983935.1 Gimesia alba Pan241w T GCA_007744675.1 Gimesia algae Pan161T GCA_007746795.1 Gimesia aquarii V144T GCA_007748195.1 Gimesia benthica E7T GCA_009720525.1 Gimesia chilikensis JC646T GCA_008329715.1 Gimesia fumaroli Enr17T GCA_007754425.1 Gimesia maris CA11 GCA_007747015.1 Gimesia panareensis Pan110T GCA_007748015.1 Maioricimonas rariso-cia Mal4T GCA_007747795.1 Planctomicrobium piriforme P3T GCA_900113665.1 Planctopirus ephydatiae spb1T GCA_007752345.1 Planctopirus hydrillae JC280T GCA_001707835.1 Planctopirus limnophila DSM 3776T GCA_000092105.1 Rubinisphaera brasiliensis DSM 5305T GCA_000165715.3 Rubinisphaera italica Pan54T GCA_007859715.1 Rubinisphaera margarita ICM_H10T GCA_022267515.1 Schlesneria paludi-cola MPL7T GCA_000255655.1 Symmachiella dynata Mal52T GCA_007747995.1 Symmachiella dynata Pan258 GCA_007744975.1 Symmachiella macrocystis CA54T GCA_007860075.1 Thalassoglobus neptunius KOR42T GCA_007859735.1 Thalassoglobus polymorphus Mal48T GCA_007744255.1 and Thalassoroseus pseudoceratinae JC658T GCA_011634775.1 . The genomes of Rhodopirellula baltica SH1T Gen Bank acc. no. BX119912.1 Pirellula staleyi DSM 6068T acc. no. CP001848.1 and Blastopirellula marina DSM 3645T acc. no. GCA_000153105.1 all belonging to the family Pirellulaceae served as outgroup. Average amino acid identities g AAI and average nucleotide identities g ANI were calculated using the respective scripts of the enveom-ics collection58. The percentage of conserved proteins POCP was calculated as described59. The rpo B gene sequences were taken from publicly available genome annotations and sequence identities were determined as previously described60. The alignment and matrix calculation were performed upon extracting a 1298 bp region of the rpo B coding sequence that would have been sequenced with the described primer set. Alignment and matrix calculation were performed with Clustal Omega61.Analysis of genome-encoded features The Estimate Metabolism function of anvi o v. 7.162 was used for the analysis of genome-encoded primary meta-bolic functions. Numbers of putative carbohydrate-active enzymes CAZymes were obtained from the genome annotation provided by eggnog-mapper v.2.1.1063. An in silico prediction of biosynthetic gene clusters BGCs putatively involved in the biosynthesis of secondary metabolites was carried out using anti SMASH 764. The pre-diction was run with relaxed strictness anti SMASH beta features and all extra features activated. The genome completeness was assessed with BUSCO v5.4.743 while the coding density was analysed with Check M v1.1.665.Physiological analysis For determination of the temperature optimum for growth 100 μL supernatant of an exponentially growing culture containing no visible aggregates were plated and plates were incubated in triplicates at temperatures ranging from 4 to 37 C. Plates were checked daily and growth was evaluated by the time required until visible colonies were formed. The temperature at which colonies appeared the earliest was considered the temperature optimum for growth. The p H optimum for growth was determined in liquid cultures. For this purpose Tris-buffer in M31PY was substituted by 100 m M of buffering agents 2- N-morpholino ethanesulfonic acid MES for p H 5.0 and 6.0 4- 2-hydroxyethyl -1-piperazineethanesulfonic acid HEPES for p H 7.0 and 8.0 and N-cyclohexyl-2-aminoethanesulfonic acid CHES for p H 9.0 and 10.0 whereas for p H 7.5 standard M31PY liquid medium was used. Supernatant from a growing culture was used for inoculation and cultivation was performed at 24 C in duplicates without agitation. The temperature was chosen after determining the temperature optimum for growth of strain SH412T and displays a compromise between fastest growth and most biomass production see below . Growth was evaluated by eye by the amount of aggregates biomass formed after 18 days incubation as optical density OD measurements are not possible with this strain. Anaerobic growth was examined on a plate that was incubated at 21 C in an anaerobic jar. The presence of catalase was tested by transferring a colony of the strain into a drop of 3 v/v H2O2 the test is considered positive upon vigorous gas production. The pres-ence of cytochrome c oxidase was tested with Kovács oxidase test reagent on filter paper where a colour change towards dark blue indicates a positive test result.Light microscopy Phase-contrast and differential interference contrast DIC analyses were performed with a Nikon Eclipse Ti2 inverted microscope with a Nikon DS-Ri2 Camera and a Nikon CFI Plan Apochromat Lambda 100X oil immer-sion objective numerical aperture 1.45 . For phase contrast analyses the objective additionally contained a Ph3 module. The Images were processed employing the Nikon NIS-Elements software Version 5.30 https // www. micro scope. healt hcare. nikon. com/ de_ EU/ produ cts/ softw are/ nis- eleme nts and FIJI Version 2.9.0 https // downl oads. imagej. net/ fiji/ relea ses/2. 9.0/ . Specimens were immobilised on a medium-supplemented 1 w/v agarose cushion for time-lapse analyses the cover glass was sealed with VLAP 33 w/w vaseline 33 w/w lanoline 33 w/w paraffin against the slide to minimise evaporation. Additional time-lapse analyses were performed in a Nunc Glass Base Dish Thermo Fisher Scientific 12 mm which was incubated with supernatant of a growing culture for 24 h. Fluid was then discarded and remaining cells were immobilised with an agarose cushion as described above.5Vol. 0123456789 Scientific Reports 2024 14 5741 https //doi.org/10.1038/s41598-024-56373-ywww.nature.com/scientificreports/Cell size determination To test the new cell size determination pipeline a pre-culture of the model strain P. limnophila DSM 3776 T was grown to the mid-exponential phase and then split into independent replicates. For microscopy these replicates were then grown until early exponential phase. This procedure ensured a reproducible cell size and prevented an overcrowded image during microscopy. Phase-contrast images were taken as described above. Since each image contained three channels RGB for further image analysis the second channel was duplicated and saved as a separate tiff file in FIJI. Length and width of the exact same 100 cells were analysed employing three differ-ent methods Firstly two independent researchers measured the cells using the line and measurement tool in FIJI66. Then Microbe J Version 5.13 m 67 and Bac Stalk Version 1.8 68 were employed for size determination. For cell detection in Microbe J the thresholding was set to bright auto and default mode. The area was set to 1-max length to 0.9-3 width to 0.5-2.5 and all other parameters were set to 0-max. Length and width of the detected cells were determined in medial axis mode. To analyse the cells in Bac Stalk the respective images of one replicate were loaded into the software. The pixel size was set to 0.029 μm the option for stalk detection was unchecked. The segmentation parameters were set to 20 pixels for cell size and 15 pixels for minimum cell size. All budding cells and aggregates were manually removed from the analysis and only solitary cells were analysed. The obtained data was transformed from .csv files to .xlsx files and uploaded separately into Super Plots Of Data. For strain SH412T the cell size determination was done for three independently growing cultures incubated at 28 C and 150 cells from each of the supernatants were analysed as described above.Analysis of light-dependent pigmentation To investigate an influence of light on the degree of pigmentation of the strain duplicates were inoculated on agar plates and incubated in the same room either directly next to a window or covered in aluminium foil inside a cabinet.Results and discussion Phylogenetic analysis The phylogenetic position of strain SH412T was determined based on its 16S r RNA gene sequence and MLSA Fig. 1 . In both constructed maximum likelihood phylogenetic trees strain SH412T clusters in the family Planc-tomycetaceae close to the characterised members of the genera Planctopirus and Schlesneria. While in the 16S r RNA gene sequence-based tree SH412T clusters between the two genera in the MLSA-based tree it clusters outside of them. Both tree positions display good bootstrap support 96-100 . To further analyse the phyloge-netic position of SH412T five phylogenetic markers were evaluated 16S r RNA gene sequence similarity g ANI g AAI POCP and similarity of a 1298 bp partial sequence of the gene rpo B coding for the β-subunit of the RNA polymerase which is an established phylogenetic marker within the order Planctomycetales60. The maximal g ANI value of 76.7 between SH412T and the four closest neighbours showed that the strain does not belong to a described species threshold of 95 69 . Strain SH412T shares the highest 16S r RNA gene sequence similarity Figure 1. Maximum likelihood 16S r RNA gene sequence- A and MLSA-based B phylogenetic trees highlighting the position of SH412T. Analyses were performed as described in the Materials and Methods section. Bootstrap values after 1000 16S r RNA gene sequence-based tree or 500 re-samplings MLSA-based tree are given at the nodes in .6Vol . 1234567890 Scientific Reports 2024 14 5741 https //doi.org/10.1038/s41598-024-56373-ywww.nature.com/scientificreports/with P. limnophila DSM 3776T 91.6 . Thus taking the 16S r RNA gene similarity genus threshold of 94.5 70 into account SH412T belongs to a novel genus.In contrast comparison of the SH412T partial rpo B gene with members of the genus Planctopirus yielded values between 75.9 and 76.2 . Such values are in the genus threshold range of 75.5-78.0 71. However the value obtained for a comparison with S. paludicola MPL7T 79.1 is slightly above the genus threshold. Yet results from the other phylogenetic analyses support SH412T as a new species of a distinct genus a maximal g AAI value of 56.9 is obtained with S. paludicola MPL7T with members of the genus Planctopirus values around 54 are obtained. These values are far below the genus threshold range of g AAI 60-80 72 73. The same is true for the obtained POCP values 48.7 which are below the accepted genus threshold of 50 59. Although the analysed phylogenetic markers imply different species as the current next relative of strain SH412T four out of five markers suggest that the strain should be delineated from the described genera in the family Planctomycetaceae forming a novel genus and species.Genomic characteristics The type strains of the two closest related genera were chosen for the comparison of genomic features of the novel isolate P. limnophila DSM 3776T74 P. ephydatiae spb1T75 P. hydrillae JC280T76 and S. paludicola MPL7T77 Table 1 . The genome of strain SH412T is 7 276 092 bp in size and has a DNA G C content of 63.6 . It is thereby considerably larger than the genomes of the current genus Planctopirus 5.2-5.8 Mb but smaller than the one of S. paludicola MPL7T 8.7 Mb . Extrachromosomal elements are not present. Notably the DNA G C content of strain SH412T is almost 10 percentage points higher than in its currently closest relatives. Relevant additional genomic features are summarised in Table 1. The automatic gene annotation by NCBI s Prokaryotic Genome Annotation Pipeline PGAP predicted 5608 protein-coding genes of which 28 1573 genes are categorised as hypothetical proteins. In accordance with its larger genome the number of predicted protein-coding genes of strain SH412T lies between the values of the genera Planctopirus and Schlesneria. However strain SH412T has both the highest number of genes per Mb as well as highest coding density although all values are within the same range. Furthermore strain SH412T carries two copies of each r RNA gene while most of its closest relatives Table 1. Comparison of genomic characteristics of strain SH412T and the type strains of Planctopirus limnophila Planctopirus ephydatiae Planctopirus hydrillae and Schlesneria paludicola regarding genomic features. n.d. not detected.Characteristics SH412TPlanctopirus limnophila DSM 3776TPlanctopirus ephydatiae spb1TPlanctopirus hydrillae JC280TSchlesneria paludicola MPL7TGenome size bp 7 276 0925 460 0855 214 0615 750 2438 702 386Plasmids010n.d.n.d.DNA G C 63.653.553.853.855.7Coding density 85.984.985.284.583.9Completeness Busco 99.899.599.398.299.7Genes total 56934109390943576306Genes/Mb782753750758725Protein-coding genes56084015381842486181Protein-coding genes/Mb771735732739710Hypothetical proteins1573107194512301640Hypothetical proteins 28.026.724.829.026.5r RNAs 5S 16S 23S 2 2 21 2 11 2 11 1 13 1 1t RNAs5474757577Carbohydrate-active enzymes Glycoside hydrolases1711111119 Glycosyl transferases2218172123 Carbohydrate esterases21614 Carbohydrate-bind. Modules85554anti SMASH Biosynthetic gene clusters Terpenoid33333 Type I PKS23434 Type III PKS01112 NRPS-like00102 Resorcinol00100 Arylpolyene00100 Bacteriocin01001 Ri PP-like210017Vol. 0123456789 Scientific Reports 2024 14 5741 https //doi.org/10.1038/s41598-024-56373-ywww.nature.com/scientificreports/merely possess multiple copies of one of these genes. Remarkably the genome of strain SH412T contains only 54 t RNA genes while all the other strains possess at least 20 more t RNA genes.Analysis of genome-encoded features In order to predict metabolic capabilities of strain SH412T the genome-based primary metabolism of the novel isolate was analysed with the Estimate Metabolism tool of anvi o. All analyses in the following section were also performed again for the four type strains of the currently closest related genera P. limnophila DSM 3776 T P. ephydatiae spb1T P. hydrillae JC280T and S. paludicola MPL7T as this information was given the historical context either not available at all for some strains or different software/older software versions had been used previously. The results point towards a canonical central metabolism expected in a heterotrophic bacterium. A complete set of enzymes required for a functional glycolysis tricarboxylic acid TCA cycle pentose phosphate pathway and respiratory chain is encoded in the genome. The strain harbours a gene coding for cytochrome c oxidase and but lacks cat A also referred to as kat A encoding catalase. A putative catalase superfamily protein was annotated by PGAP but the protein lacks several domains that are typically found in catalases. These results from the genome annotation are in line with the results obtained for the respective enzyme activity tests Table 2 . Based on the functional annotation the strain should be capable of the de novo biosynthesis of fatty acids nucleotides proteinogenic amino acids and isoprenoids. At least two genes of strain SH412T code for vitamin B12 cobalamin -dependent enzymes namely the methionine synthase Met H and the class II ribonucleotide reductase Nrd J. Since the genome indicates the lack of a functional pathway for biosynthesis of this vitamin the strain is likely auxotrophic for vitamin B12. The same was shown for the close relative P. limnophila78 but no data is available for the other three strains chosen for comparison.Besides the central metabolism we also analysed the genomes for putative carbohydrate-active enzymes CAZymes and biosynthetic gene clusters BGCs since members of the phylum Planctomycetota are expected to be of high biotechnological relevance6. The numbers of CAZymes of the analysed strains fall between 35 and 50. The obtained numbers turned out to reflect the size of the genomes. Members of the genus Planctopirus have less than 40 putative CAZymes whereas strain SH412T and S. paludicola MPL7T both with considerable larger genomes have 49 or 50 candidate CAZymes. Glycoside hydrolases and glycosyltransferases are the dominant classes of CAZymes in all four species.Genome mining for BGCs by anti SMASH provides indications that strain SH412T produces terpenoids polyketide compounds derived from type I polyketide synthases and ribosomally synthesised and post-transla-tionally modified peptides. Despite the larger genome of strain SH412T compared to the type strains of the three Planctopirus species it has an equal or even lower number of BGCs.Macroscopic appearance and physiological characteristics Detailed information on morphology and physiology of strain SH412T is summarised in Table 2. In terms of pigmentation strain SH412T showed higher similarity with the pink- to red-coloured type strains of the genus Planctopirus while S. paludicola MPL7T seems to lack pigment formation. Appearance of strain SH412T varied highly depending on different environmental conditions Fig. 2 which has not been reported for any of its Table 2. Comparison of phenotypic characteristics of strain SH412T and the type strains of Planctopirus limnophila Planctopirus ephydatiae Planctopirus hydrillae and Schlesneria paludicola. n.i. no information available. Discrepancies between values in paper and supplementary information not verified.Characteristics SH412TPlanctopirus limnophila DSM 3776TPlanctopirus ephydatiae spb1TPlanctopirus hydrillae JC280TSchlesneria paludicola MPL7TLiterature This study11 74 76757677Colour Ranging from almost white to dark pink/red varying orange red and pink com-ponents Red Pink Dark pink Unpigmented Size μm 0.7-2.2 0.7-2.81.1-1.51.1-1.5 1.5-2.51.0-1.40.8-1.4 1.3-2.1Shape Primarily ovoid small por-tion almost spherical Spherical to ovoid Ovoid to spherical Spherical to ovoid Ellipsoid Clusters Large aggregates flakes strong cohesion Aggregates Rosettes aggregates Aggregates Pairs rosettes Temperature range opti-mum C 10-32 28 17-39 30-32 15-33 30 10-45 20-30 4-32 20-28/15-26 p H range optimum 6.0-8.0 7.0-7.5 6.2-8.0 6.2-7.0 7.0-9.0 9.0 6.0-9.0 6.5-7.5 4.2-7.2 5.0-6.2 Division Asymmetric Asymmetric Asymmetric Asymmetric Asymmetric Dimorphic lifestyle Yes Yes Yesn.i.Yes Motility/flagella Yes/genes present Yes/monotrichous polar Yes/n.i Yes/monotrichous sub-polar Yes/lophotrichous two flagella Respiration Facultative anaerobic Facultative anaerobicn.i.Obligate aerobic Facultative anaerobic Catalase Negativen.i.n.i.Positive Positive Cytochrome c oxidase Positiven.i.n.i.Positive Positive8Vol . 1234567890 Scientific Reports 2024 14 5741 https //doi.org/10.1038/s41598-024-56373-ywww.nature.com/scientificreports/currently closest relatives. Especially between plates and liquid cultures the colour of strain SH412T differed significantly. Colonies on plates appeared intensely salmon- to pink- or red-coloured Fig. 2A B . Their colour intensity was furthermore found to relate to sun light exposure with colonies grown in darkness being lighter coloured than colonies grown in daylight Fig. 3A B . Light exposure of colonies grown in darkness led to an increase of the pigmentation intensity compared to the control Fig. 3C D .Cells in colonies adhered strongly to each other as well as to the solidified medium forming round shiny and firm colonies Fig. 2A B . Colonies transferred from plate to liquid medium lost their colour within a few days and the freshly obtained liquid cultures appeared much lighter in colour. Thereby most of the cells were part of large salmon to pale pink flake-like aggregates which were impossible to resuspend by agitation Fig. 2B C . Aggregates usually emerged in the following manner Cells attached to the surface of the cultivation tube forming a thin lawn. Especially under agitation differently sized fragments of this lawn peeled off the walls thus floating around as aggregates in the medium. Mostly aggregates started off as thin mat-like objects but upon further incubation they disrupted and developed into thicker more flake-like structures.Strain SH412T can grow over a temperature range from 10 to 32 C and a p H range from 6.0 to 8.0 Fig. 4 . Fastest growth of strain SH412T occurred at 28 C evaluated by time until first colonies appeared however most biomass was produced at 21 C evaluated by colony size . Formation of single colonies took about 10 days Figure 2. Pigmentation and macroscopic appearance of strain SH412T. A Single colony of the novel isolate incubated at 21 C on a M31PY plate. The colour shade in the picture represents what is referred to as salmon-coloured . B Colonies of strain SH412T on a M31PY plate incubated at 21 C in complete darkness for 20 d and subsequently for three more days next to a window. The colonies display almost the full range of colours that this strain displayed in the current study. However this picture shows the red/orange shades predominantly. C Liquid culture grown under constant agitation the aggregates sedimented at the bottom. D Aggregates appear like flakes after thoroughly shaking the tube which also makes OD600 measurements impossible.9Vol. 0123456789 Scientific Reports 2024 14 5741 https //doi.org/10.1038/s41598-024-56373-ywww.nature.com/scientificreports/at 28 C and 14 days at 21 C. After 21 days they had usually reached a diameter of about 2 mm but continued to grow. The p H optimum for growth is between p H 7.0 and 7.5. In that regard strain SH412T resembles the mesophilic and neutrophilic members of the genus Planctopirus as S. paludicola MPL7T is acidophilic. Due to its strong aggregation growth rate and doubling time could not be determined photometrically. Yet data from timelapse microscopy analyses suggests a doubling time of around 10 h Fig. 5 .Strain SH412T turned out to grow under anaerobic conditions almost as well as under aerobic conditions but colony morphology differed. While the lawn occurred light pink and opaque under aerobic conditions under anaerobic conditions it was barely coloured and more translucent.Hence strain SH412T resembles the type strains of P. limnophila DSM 3776T and S. paludicola MPL7T regard-ing its relationship to oxygen but no morphological differences under anaerobic conditions were reported for these strains. P. hydrillae JC280T in contrast is obligate aerobic. Strain SH412T is cytochrome c oxidase-positive like the type strains of P. limnophila DSM 3776T S. paludicola MPL7T and P. hydrillae JC280T. In contrast to these strains strain SH412T is catalase-negative Table 2 .A new automated pipeline for the determination of the cell size During the past few years we determined the cell size for novel strains of the phylum Planctomycetota man-ually by employing the measurement tool in the Nikon NIS-Elements software79 80. However various semi-automatic applications such as Microbe J and Bac Stalk exist that improve efficiency and reproducibility of the measurement67 68. Testing the applicability of Bac Stalk as well as Microbe J for the purpose of describing novel bacterial strains two independent researchers analysed the very same cells first manually and afterwards employ-ing Bac Stalk as well as Microbe J Fig. 6 . For both measurements taken researcher 2 obtained slightly higher values than researcher 1 as well as the two softwares. Since both semi-automatic solutions performed equally Figure 3. Pigmentation of strain SH412T in dependence on illumination during growth. The plates were incubated for 20 days at 21 C next to a window A or in complete darkness B . Notably the colonies appeared red-pink when grown in light and slightly salmon-coloured upon incubation in darkness. Afterwards all plates were incubated next to the same window for three more days. Plates that were continuously incubated next to the window did not show any change in colour C . On plates that were previously incubated in darkness especially single colonies started to turn more red-pink D .Figure 4. Temperature and p H optimum of strain SH412T. The colour code represents the growth of strain SH412T at the different conditions from white no growth to red best growth . However the evaluation degrees do not represent a linear relationship. Temperature optimum for growth 28 C p H optimum for growth 7.0-7.5.10Vol . 1234567890 Scientific Reports 2024 14 5741 https //doi.org/10.1038/s41598-024-56373-ywww.nature.com/scientificreports/well and offer the advantage that the algorithms will give the same results when using the same cultivation con-ditions software parameters and input images we recommend using such semi-automatic programs for cell size determination in strain description articles. Furthermore high reproducibility can be achieved by imaging bacterial cells of different replicates at a very similar OD600 within the mid-exponential phase. For measuring the cell size of strain SH412T we chose Bac Stalk as this software with its fewer options is easier to employ for untrained researchers. However for more complex analysis tasks and more complex cell shapes Microbe J appears to be more suitable.Microscopic analysis Cells of strain SH412T measure 0.7-2.2 μm in width 0.7-2.8 μm in length with most of them being ovoid but few cells tend to be more spherical Fig. 7 . SH412T divides asymmetrically polar budding Fig. 5 and Fig. 7 A B and single daughter cells were observed to be motile while cells in aggregates did not show any movement. Since many genes required for flagellum formation were identified during annotation of the genome using PGAP and all type strains of the currently closest related genera Planctopirus Schlesneria were found to possess flagella it is likely that motility of strain SH412T is conferred by at least one flagellum as well.In comparison to the four type strains of the genera Planctopirus and Schlesneria strain SH412T encompassed a much wider range regarding its cell size. Regarding cell shape strain SH412T resembles the representatives of the genus Planctopirus which also form ovoid to spherical cells. The variety in cell size is an interesting observation especially since both length and width can vary with a factor of 2.5 to 3 and thereby spread over an unusually wide range.These differences found in cell size and motility could be explained by a life-style switch which has been reported for various planctomycetes including members of the two currently closest related genera. Producing both swarmer and sessile cells P. limnophila has been shown to possess a life cycle with two distinct cell types11. Sessile stalked mother cells thereby reproduce through budding opposite to the stalked pole and form motile swarmer cells with a single flagellum. The motile daughter cells later attach to surfaces or aggregates turning into sessile cells that start to divide. Even though a size difference between the two cell types was not explicitly reported for this species other studies on planctomycetal life cycles reported differences i.e. daughter cells are about half the size of the mother cells by the time they are released23 81. Afterwards daughter cells increase in size over a defined period before they become sessile. We therefore suggest that such a life cycle is also present in strain SH412T.Conclusion Based on both phylogenetic as well as morphological analyses strain SH412T represents a new species within a new genus belonging to the family Planctomycetaceae for which we propose the name Planctoellipticum vari-icoloris gen. nov. sp. nov.Figure 5. Cell division of strain SH412T. Mother cells produce daughter cells by asymmetric cell division budding at one pole. Phase contrast photos of dividing cells were acquired during time- lapse microscopy in the glass bottom dish setup. Timestamps indicate the hours passed in relation to the first image left upper corner .11Vol. 0123456789 Scientific Reports 2024 14 5741 https //doi.org/10.1038/s41598-024-56373-ywww.nature.com/scientificreports/Description of Planctoellipticum gen. nov.Planctoellipticum Planc.to.el.lip ti.cum. Gr. masc. adj. planktos wandering floating Gr. fem. n. elleipsis ellipse N.L. neut. n. Planctoellipticum a floating bacterium with an ellipsoid cell shape .Members of the genus have a Gram-negative cell envelope architecture. Facultatively anaerobic heterotrophs with a mesophilic and neutrophilic growth profile. Cells are ellipsoid and divide asymmetrically. Colonies are pigmented ranging from light pink/salmon to dark red/orange. The DNA G C content is around 64 . The genus belongs to the family Planctomycetaceae order Planctomycetales class Planctomycetia phylum Planctomycetota. The type species of the genus is Planctoellipticum variicoloris.Description of Planctoellipticum variicoloris sp. nov.Planctoellipticum variicoloris va.ri.i.co.lo ris. L. masc. adj. varius varying L. masc. n. color colour N.L. gen. n. variicoloris of varying colour .Colonies of this species vary in colour from light pink/salmon to dark red/orange in response to sunlight exposure. Cells are ellipsoid/ovoid length 0.7-2.8 μm width 0.7-2.2 μm and strongly aggregating but not rosette-forming. Crateriform structures fimbriae and stalks were not observed. Cells are facultatively anaerobic and daughter cells are motile. Cells of the type strain grow at temperatures between 10 and 32 C optimum 28 C and in a p H range from 6.0 to 8.0 optimum 7.0-7.5 . The type strain is SH412T CECT 30430 T STH00996T the STH number refers to the Jena Microbial Resource Collection JMRC and was isolated from a wastewater Figure 6. Establishment of a standardised cell size determination pipeline. A Budding and aggregating cells that were excluded from the analysis due to potential unreliable cell detection by the algorithm. B Single non-aggregating cells suitable for cell size determination in Bac Stalk. C Schematic representation of the obtained cell size parameters. The cell length is defined as the maximal extension of the medial line yellow and the cell width equals the maximal distance measured perpendicular to the medial line blue . D Comparison between three different cell size determination methods. Two researchers analysed length and width of the exact same 100 cells manually with the line and measurement tools in FIJI a difference in the mean of up to 0.3 μm in length/width is visible. Each dot represents an individual cell the three replicates are indicated in blue purple and salmon. Mean values are given below the plots. For Microbe J and Bac Stalk only one plot is depicted as the algorithm is user-independent and thus performs the same when using the same images. Analysis of the exact same cells with different analysis tools yielded comparable mean values with slightly different superplot shapes. E Final size determination pipeline obtaining images on the microscope converting them from native file format to tiff in FIJI analysing them with Bac Stalk/Microbe J converting the csv files from Bac Stalk to xlsx files in Excel and finally plotting the data in Super Plots Of Data.12Vol . 1234567890 Scientific Reports 2024 14 5741 https //doi.org/10.1038/s41598-024-56373-ywww.nature.com/scientificreports/aeration lagoon of a sugar processing plant in Schleswig Germany. The genome of the type strain has a size of 7.3 Mb and a DNA G C content of 63.6 .Data availability The datasets generated and/or analysed during the current study are available from the NCBI Gen Bank database under the accession numbers OR353748 16S r RNA gene and CP130886 genome .Received 3 November 2023 Accepted 5 March 2024References 1. Gimesi N. Hydrobiologiai Tanulmálnyok Hydrobiologische Studien . I. Planctomyces bekefii Gim. nov. gen. et sp. Ein neues Glied des Phytoplanktons. In Hungarian with German résumé. Budapest Kiadja a Magyar Ciszterci Rend 1-8 1924 . 2. Hirsch P. Two identical genera of budding and stalked bacteria Planctomyces Gimesi 1924 and Blastocaulis Henrici and Johnson 1935. Int. J. Syst. Evol. Microbiol. 22 1972 107-111 1972 . 3. Rivas-Marín E. Devos D. P. The paradigms they are a-changin Past present and future of PVC bacteria research. Antonie Van Leeuwenhoek 111 785-799 2018 . 4. Wagner M. Horn M. The Planctomycetes Verrucomicrobia Chlamydiae and sister phyla comprise a superphylum with biotech-nological and medical relevance. Curr. Opin. Biotechnol. 17 241-249 2006 . 5. Kallscheuer N. Jogler C. The bacterial phylum Planctomycetes as novel source for bioactive small molecules. Biotechnol. Adv. 53 107818 2021 . 6. Wiegand S. Jogler M. Jogler C. On the maverick Planctomycetes. FEMS Microbiol. Rev 42 739-760 2018 . 7. König E. Schlesner H. Hirsch P. Cell wall studies on budding bacteria of the Planctomyces/Pasteuria group and on a Pros-thecomicrobium sp. Arch. Microbiol. 138 200-205 1984 . 8. Lindsay M. R. Webb R. I. Fuerst J. A. Pirellulosomes A new type of membrane-bounded cell compartment in planctomycete bacteria of the genus Pirellula. Microbiology-UK 143 739-748 1997 . 9. Fuerst J. A. Webb R. I. Membrane-bounded nucleoid in the eubacterium Gemmata obscuriglobus. Proc. Natl. Acad. Sci. U. S. A. 88 8184-8188 1991 .10. Lonhienne T. G. et al. Endocytosis-like protein uptake in the bacterium Gemmata obscuriglobus. Proc. Natl. Acad. Sci. U. S. A. 107 12883-12888 2010 .11. Jogler C. Glöckner F. O. Kolter R. Characterization of Planctomyces limnophilus and development of genetic tools for its manipulation establish it as a model species for the phylum Planctomycetes. Appl. Environ. Microbiol. 77 5826-5829 2011 .12. Rivas-Marín E. Canosa I. Santero E. Devos D. P. Development of genetic tools for the manipulation of the Planctomycetes. Front. Microbiol. 7 914 2016 .13. Jogler M. Jogler C. Planctomycetes Cell Structure Origins and Biology 141-164 Springer 2013 .14. van Teeseling M. C. F. et al. Anammox Planctomycetes have a peptidoglycan cell wall. Nat. Commun. 6 6878 2015 .15. Jeske O. et al. Planctomycetes do possess a peptidoglycan cell wall. Nat. Commun. 6 7116 2015 .16. Boedeker C. et al. Determining the bacterial cell biology of Planctomycetes. Nat. Commun. 8 14853 2017 .17. Acehan D. Santarella-Mellwig R. Devos D. P. A bacterial tubulovesicular network. J. Cell Sci. 127 277-280 2013 .18. Santarella-Mellwig R. Pruggnaller S. Roos N. Mattaj I. W. Devos D. P. Three-dimensional reconstruction of bacteria with a complex endomembrane system. PLo S Biol. 11 e1001565 2013 .Figure 7. Cellular features of strain SH412T. Light microscopy images with A phase contrast and B differential interference contrast DIC showing single and dividing cells as well as a typical aggregate of strain SH412T. C Superplots of cellular measurements regarding cell length and cell width of strain SH412T for three independent replicates with n 150 respectively. Each replicate is depicted in a different colour the replicates mean values are indicated by the larger circles overlapping each other.13Vol. 0123456789 Scientific Reports 2024 14 5741 https //doi.org/10.1038/s41598-024-56373-ywww.nature.com/scientificreports/19. Wiegand S. et al. Cultivation and functional characterization of 79 planctomycetes uncovers their unique biology. Nat. Microbiol. 5 126-140 2020 .20. Jogler C. et al. Identification of proteins likely to be involved in morphogenesis cell division and signal transduction in Plancto-mycetes by comparative genomics. J. Bacteriol. 194 6419-6430 2012 .21. Pilhofer M. et al. Characterization and evolution of cell division and cell wall synthesis genes in the bacterial phyla Verrucomicro-bia Lentisphaerae Chlamydiae and Planctomycetes and phylogenetic comparison with r RNA genes. J. Bacteriol. 190 3192-3202 2008 .22. Franzmann P. D. Skerman V. B. D. Gemmata obscuriglobus a new genus and species of the budding bacteria. Antonie van Leeuwenhoek 50 261-268 1984 .23. Gade D. Stührmann T. Reinhardt R. Rabus R. Growth phase dependent regulation of protein composition in Rhodopirellula baltica. Environ. Microbiol. 7 1074-1084 2005 .24. Ravin N. V. et al. Genome analysis of Fimbriiglobus ruber SP5T a Planctomycete with confirmed chitinolytic capability. Appl. Environ. Microbiol. 84 e02645-17 2018 .25. Overmann J. Abt B. Sikorski J. Present and future of culturing bacteria. Annu. Rev. Microbiol. 71 711-730 2017 .26. Jeske O. et al. Developing techniques for the utilization of Planctomycetes as producers of bioactive molecules. Front. Microbiol. 7 1242 2016 .27. Jeske O. Jogler M. Petersen J. Sikorski J. Jogler C. From genome mining to phenotypic microarrays Planctomycetes as source for novel bioactive molecules. Antonie Van Leeuwenhoek 104 551-567 2013 .28. Graça A. P. Calisto R. Lage O. M. Planctomycetes as novel source of bioactive molecules. Front. Microbiol. 7 1241 2016 .29. Calisto R. et al. Anticancer activity in planctomycetes. Front. Mar. Sci. 5 499 2019 .30. Sandargo B. et al. Stieleriacines N-Acyl dehydrotyrosines from the marine planctomycete Stieleria neptunia sp. nov. Front. Microbiol. 11 1408 2020 .31. Kallscheuer N. et al. Author correction The planctomycete Stieleria maiorica Mal15T employs stieleriacines to alter the species composition in marine biofilms. Commun. Biol. 3 531 2020 .32. Kallscheuer N. et al. The planctomycete Stieleria maiorica Mal15T employs stieleriacines to alter the species composition in marine biofilms. Commun. Biol. 3 303 2020 .33. Kallscheuer N. et al. Pink- and orange-pigmented Planctomycetes produce saproxanthin-type carotenoids including a rare C45 carotenoid. Environ. Microbiol. Rep. 11 741-748 2019 .34. Santana-Molina C. Henriques V. Hornero-Méndez D. Devos D. P. Rivas-Marin E. The squalene route to C30 carotenoid biosynthesis and the origins of carotenoid biosynthetic pathways. Proc. Natl. Acad. Sci. U. S. A. 119 e2210081119 2022 .35. Panter F. et al. Production of a dibrominated aromatic secondary metabolite by a planctomycete implies complex interaction with a macroalgal host. ACS Chem. Biol. 14 2713-2719 2019 .36. Schlesner H. The development of media suitable for the microorganisms morphologically resembling Planctomyces spp. Pirellula spp. and other Planctomycetales from various aquatic habitats using dilute media. Syst. Appl. Microbiol. 17 135-145 1994 .37. Kallscheuer N. Wurzbacher C. E. Schmitz R. A. Jogler C. In the footsteps of Heinz Schlesner and Peter Hirsch Exploring the untapped diversity of the phylum Planctomycetota in isolates from the 1980s. Syst. Appl. Microbiol. 47 126486 2024 .38. De Coster W. D Hert S. Schultz D. T. Cruts M. Van Broeckhoven C. Nano Pack Visualizing and processing long-read sequencing data. Bioinformatics 34 2666-2669 2018 .39. The Galaxy Community. The Galaxy platform for accessible reproducible and collaborative biomedical analyses 2022 update. Nucleic Acids Res. 50 W345-W351 2022 .40. Lin Y. et al. Assembly of long error-prone reads using de Bruijn graphs. Proc. Natl. Acad. Sci. U. S. A. 113 E8396-E8405 2016 .41. Kolmogorov M. Yuan J. Lin Y. Pevzner P. A. Assembly of long error-prone reads using repeat graphs. Nat. Biotechnol. 37 540-546 2019 .42. Simão F. A. Waterhouse R. M. Ioannidis P. Kriventseva E. V. Zdobnov E. M. BUSCO Assessing genome assembly and annotation completeness with single-copy orthologs. Bioinformatics 31 3210-3212 2015 .43. Manni M. Berkeley M. R. Seppey M. Simão F. A. Zdobnov E. M. BUSCO update Novel and streamlined workflows along with broader and deeper phylogenetic coverage for scoring of eukaryotic prokaryotic and viral genomes. Mol. Biol. Evol. 38 4647-4654 2021 .44. Cuccuru G. et al. Orione a web-based framework for NGS analysis in microbiology. Bioinformatics 30 1928-1929 2014 .45. Seemann T. Prokka Rapid prokaryotic genome annotation. Bioinformatics 30 2068-2069 2014 .46. Li H. Durbin R. Fast and accurate short read alignment with burrows-wheeler transform. Bioinformatics 25 1754-1760 2009 .47. Li H. Durbin R. Fast and accurate long-read alignment with burrows-wheeler transform. Bioinformatics 26 589-595 2010 .48. Li H. Aligning sequence reads clone sequences and assembly contigs with BWA-MEM. Preprint at https // ar Xiv. org/ ar Xiv 1303. 3997 2013 .49. Walker B. J. et al. Pilon An integrated tool for comprehensive microbial variant detection and genome assembly improvement. PLo S One 9 e112963 2014 .50. Li W. et al. Ref Seq Expanding the prokaryotic genome annotation pipeline reach with protein family model curation. Nucleic Acids Res. 49 D1020-D1028 2021 .51. Haft D. H. et al. Ref Seq An update on prokaryotic genome annotation and curation. Nucleic Acids Res. 46 D851-d860 2018 .52. Tatusova T. et al. NCBI prokaryotic genome annotation pipeline. Nucleic Acids Res. 44 6614-6624 2016 .53. Johnson M. et al. NCBI BLAST A better web interface. Nucleic Acids Res. 36 W5-W9 2008 .54. Thompson J. D. Gibson T. J. Higgins D. G. Multiple sequence alignment using Clustal W and Clustal X. Curr. Protoc. Bioinform.s 00 2.3.1-2.3.22 2003 .55. Tarlachkov S. Starodumova I. Taxon DC Calculating the similarity value of the 16S r RNA gene sequences of prokaryotes or ITS regions of fungi. J. Bioinform. Genom. https // doi. org/ 10. 18454/ jbg. 2017.3. 5.1 2017 .56. Price M. N. Dehal P. S. Arkin A. P. Fast Tree 2-Approximately maximum-likelihood trees for large alignments. PLo S One 5 e9490 2010 .57. Alanjary M. Steinke K. Ziemert N. Auto MLST An automated web server for generating multi-locus species trees highlighting natural product potential. Nucleic Acids Res. 47 W276-W282 2019 .58. Rodriguez-R L. M. Konstantinidis K. T. The enveomics collection a toolbox for specialized analyses of microbial genomes and metagenomes. Report No. 2167-9843 Peer J Preprints 2016 .59. Qin Q.-L. et al. A proposed genus boundary for the prokaryotes based on genomic insights. J. Bacteriol. 196 2210-2215 2014 .60. Bondoso J. Harder J. Lage O. M. rpo B gene as a novel molecular marker to infer phylogeny in Planctomycetales. Antonie van Leeuwenhoek 104 477-488 2013 .61. Sievers F. Higgins D. G. Clustal omega. Curr. Prot Bioinform. 48 3.13.11-13.13.16 2014 .62. Eren A. M. et al. Community-led integrated reproducible multi-omics with anvi o. Nat. Microbiol. 6 3-6 2021 .63. Cantalapiedra C. P. Hernández-Plaza A. Letunic I. Bork P. Huerta-Cepas J. egg NOG-mapper v2 Functional annotation orthology assignments and domain prediction at the metagenomic scale. bio Rxiv https // doi. org/ 10. 1101/ 2021. 06. 03. 446934 2021 .64. Blin K. et al. anti SMASH 6.0 Improving cluster detection and comparison capabilities. Nucleic Acids Res. 49 W29-W35 2021 .14Vol . 1234567890 Scientific Reports 2024 14 5741 https //doi.org/10.1038/s41598-024-56373-ywww.nature.com/scientificreports/65. Parks D. H. Imelfort M. Skennerton C. T. Hugenholtz P. Tyson G. W. Check M Assessing the quality of microbial genomes recovered from isolates single cells and metagenomes. Genome Res. 25 1043-1055 2015 .66. Schindelin J. et al. Fiji An open-source platform for biological-image analysis. Nat. Methods 9 676-682 2012 .67. Ducret A. Quardokus E. M. Brun Y. V. Microbe J a tool for high throughput bacterial cell detection and quantitative analysis. Nat. Microbiol. 1 16077 2016 .68. Hartmann R. van Teeseling M. C. F. Thanbichler M. Drescher K. Bac Stalk A comprehensive and interactive image analysis software tool for bacterial cell biology. Mol. Microbiol. 114 140-150 2020 .69. Rodríguez-R L. Konstantinidis K. Bypassing cultivation to identify bacterial species Culture-independent genomic approaches identify credibly distinct clusters avoid cultivation bias and provide true insights into microbial species. Microbe Mag. 9 111-118 2014 .70. Yarza P. et al. Uniting the classification of cultured and uncultured bacteria and archaea using 16S r RNA gene sequences. Nat. Rev. Microbiol. 12 635-645 2014 .71. Kallscheuer N. et al. Description of three bacterial strains belonging to the new genus Novipirellula gen. nov. reclassificiation of Rhodopirellula rosea and Rhodopirellula caenicola and readjustment of the genus threshold of the phylogenetic marker rpo B for Planctomycetaceae. Antonie van Leeuwenhoek 113 1779-1795 2020 .72. Rodriguez-R L. M. Konstantinidis K. T. Bypassing cultivation to identify bacterial species. Microbe 9 111-118 2014 .73. Luo C. Rodriguez-R L. M. Konstantinidis K. T. My Taxa An advanced taxonomic classifier for genomic and metagenomic sequences. Nucleic Acids Res. 42 e73-e73 2014 .74. Hirsch P. Müller M. Planctomyces limnophilus sp. nov. a stalked and budding bacterium from freshwater. Syst. Appl. Microbiol. 6 276-280 1985 .75. Kohn T. et al. Planctopirus ephydatiae a novel Planctomycete isolated from a freshwater sponge. Syst. Appl. Microbiol. 43 126022 2020 .76. Yadav S. et al. Planctopirus hydrillae sp. nov. an antibiotic producing Planctomycete isolated from the aquatic plant Hydrilla and its whole genome shotgun sequence analysis. J. Antibiot. 71 575-583 2018 .77. Kulichevskaya I. S. et al. Schlesneria paludicola gen. nov. sp. nov. the first acidophilic member of the order Planctomycetales from Sphagnum-dominated boreal wetlands. Int. J. Syst. Evol. Microbiol. 57 2680-2687 2007 .78. Kruppa O. C. Gerlach D. Fan R. Czermak P. Development of a chemically defined medium for Planctopirus limnophila to increase biomass production. Electron. J. Biotechnol. 54 86-93 2021 .79. Kallscheuer N. et al. Rubinisphaera italica sp. nov. isolated from a hydrothermal area in the Tyrrhenian Sea close to the volcanic island Panarea. Antonie van Leeuwenhoek 113 1727-1736 2020 .80. Boersma A. S. et al. Alienimonas californiensis gen. nov. sp. nov. a novel Planctomycete isolated from the kelp forest in Monterey Bay. Antonie van Leeuwenhoek 113 1751-1766 2020 .81. Tekniepe B. L. Schmidt J. M. Starr M. P. Life cycle of a budding and appendaged bacterium belonging to morphotype IV of the Blastocaulis-Planctomyces group. Curr. Microbiol. 5 1-6 1981 .Acknowledgements The authors like to thank Prof. Aharon Oren for advice on the etymology of the novel taxa.Author contributions CEW performed physiological and microscopic analyses for strain SH412T TH performed microscopy and image analysis of P. limnophila CEW and TH wrote the manuscript JH performed genome sequencing and assembly of the genome Mv T assisted in microscopy and performed image analysis for P. limnophila NK performed genomic and phylogenetic analyses CJ supervised the study. All authors read and approved the final version of the manuscript.Funding Open Access funding enabled and organized by Projekt DEAL.Competing interests The authors declare no competing interests.Additional information Correspondence and requests for materials should be addressed to C.J.Reprints and permissions information is available at www.nature.com/reprints.Publisher s note Springer Nature remains neutral with regard to jurisdictional claims in published maps and institutional affiliations.Open Access This article is licensed under a Creative Commons Attribution 4.0 International License which permits use sharing adaptation distribution and reproduction in any medium or format as long as you give appropriate credit to the original author s and the source provide a link to the Creative Commons licence and indicate if changes were made. The images or other third party material in this article are included in the article s Creative Commons licence unless indicated otherwise in a credit line to the material. If material is not included in the article s Creative Commons licence and your intended use is not permitted by statutory regulation or exceeds the permitted use you will need to obtain permission directly from the copyright holder. To view a copy of this licence visit http // creat iveco mmons. org/ licen ses/ by/4. 0/. The Author s 2024'"
      ]
     },
     "execution_count": 122,
     "metadata": {},
     "output_type": "execute_result"
    }
   ],
   "source": [
    "textp = extract_text_from_pdf('data/train/PDF/10.1038_s41598-024-56373-y.pdf')\n",
    "textp"
   ]
  },
  {
   "cell_type": "code",
   "execution_count": null,
   "id": "e0ebc74e",
   "metadata": {},
   "outputs": [],
   "source": [
    "\n",
    "def extract_context(text, pattern, window=30):\n",
    "    \"\"\"\n",
    "    Extract context around regex matches from given text.\n",
    "\n",
    "    Parameters:\n",
    "    - text (str): Input document text.\n",
    "    - pattern (str): Regex pattern to match.\n",
    "    - window (int): Number of words before and after match to include in context.\n",
    "\n",
    "    Returns:\n",
    "    - List of dicts with 'match' and 'context' keys.\n",
    "    \"\"\"\n",
    "\n",
    "    matches = []\n",
    "\n",
    "    # Tokenize the full text once\n",
    "    tokens = text.split()\n",
    "\n",
    "    # Map character index → token index\n",
    "    char_to_token = {}\n",
    "    index = 0\n",
    "    for i, tok in enumerate(tokens):\n",
    "        index = text.find(tok, index)\n",
    "        for j in range(index, index + len(tok)):\n",
    "            char_to_token[j] = i\n",
    "        index += len(tok)\n",
    "\n",
    "    # Find matches using re.finditer()\n",
    "    for match in re.finditer(pattern, text):\n",
    "        raw_match = match.group()\n",
    "        cleaned_match = re.sub(r'[\\s\\-]', '', raw_match)  # Remove spaces/dashes inside ID\n",
    "\n",
    "        start_char = match.start()\n",
    "\n",
    "        if start_char in char_to_token:\n",
    "            token_index = char_to_token[start_char]\n",
    "            start = max(0, token_index - window)\n",
    "            end = min(len(tokens), token_index + window + 1)\n",
    "            context_window = tokens[start:end]\n",
    "\n",
    "            matches.append({\n",
    "                'match': cleaned_match,\n",
    "                'context': ' '.join(context_window)\n",
    "            })\n",
    "\n",
    "    return matches"
   ]
  },
  {
   "cell_type": "code",
   "execution_count": null,
   "id": "327dbeb3",
   "metadata": {},
   "outputs": [],
   "source": [
    "extract_context(textp, r'SAMN\\d{8}')\n"
   ]
  },
  {
   "cell_type": "code",
   "execution_count": null,
   "id": "bec628bf",
   "metadata": {},
   "outputs": [],
   "source": [
    "extract_context(textp, r'EPI_ISL_\\d+')"
   ]
  },
  {
   "cell_type": "code",
   "execution_count": null,
   "id": "3dbeda93",
   "metadata": {},
   "outputs": [
    {
     "data": {
      "text/plain": [
       "[{'match': 'SAMN16233641',\n",
       "  'context': 'draft.DNA Deposition The following information was supplied regarding the deposition of DNA sequences The 16s RNA sequences of compost for Agaricus bisporus production are available at Gen Bank PRJNA664798.Bio Sample SAMN16233641 SAMN16233642 SAMN16233643 SAMN16233644 SAMN16233645 SAMN16233646 SAMN16233647 SAMN16233648 SAMN16233649 SAMN16233650 SAMN16233651 SAMN16233652 SAMN16233653 SAMN16233654 SAMN16233655 SAMN16233656 SAMN16233657 SAMN16233658 SAMN16233659 SAMN16233660 SAMN16233661 SAMN16233662 SAMN16233663 SAMN16233664.The 16s RNA sequences of compost for Agaricus'},\n",
       " {'match': 'SAMN16233642',\n",
       "  'context': 'Deposition The following information was supplied regarding the deposition of DNA sequences The 16s RNA sequences of compost for Agaricus bisporus production are available at Gen Bank PRJNA664798.Bio Sample SAMN16233641 SAMN16233642 SAMN16233643 SAMN16233644 SAMN16233645 SAMN16233646 SAMN16233647 SAMN16233648 SAMN16233649 SAMN16233650 SAMN16233651 SAMN16233652 SAMN16233653 SAMN16233654 SAMN16233655 SAMN16233656 SAMN16233657 SAMN16233658 SAMN16233659 SAMN16233660 SAMN16233661 SAMN16233662 SAMN16233663 SAMN16233664.The 16s RNA sequences of compost for Agaricus bisporus'},\n",
       " {'match': 'SAMN16233643',\n",
       "  'context': 'The following information was supplied regarding the deposition of DNA sequences The 16s RNA sequences of compost for Agaricus bisporus production are available at Gen Bank PRJNA664798.Bio Sample SAMN16233641 SAMN16233642 SAMN16233643 SAMN16233644 SAMN16233645 SAMN16233646 SAMN16233647 SAMN16233648 SAMN16233649 SAMN16233650 SAMN16233651 SAMN16233652 SAMN16233653 SAMN16233654 SAMN16233655 SAMN16233656 SAMN16233657 SAMN16233658 SAMN16233659 SAMN16233660 SAMN16233661 SAMN16233662 SAMN16233663 SAMN16233664.The 16s RNA sequences of compost for Agaricus bisporus production'},\n",
       " {'match': 'SAMN16233644',\n",
       "  'context': 'following information was supplied regarding the deposition of DNA sequences The 16s RNA sequences of compost for Agaricus bisporus production are available at Gen Bank PRJNA664798.Bio Sample SAMN16233641 SAMN16233642 SAMN16233643 SAMN16233644 SAMN16233645 SAMN16233646 SAMN16233647 SAMN16233648 SAMN16233649 SAMN16233650 SAMN16233651 SAMN16233652 SAMN16233653 SAMN16233654 SAMN16233655 SAMN16233656 SAMN16233657 SAMN16233658 SAMN16233659 SAMN16233660 SAMN16233661 SAMN16233662 SAMN16233663 SAMN16233664.The 16s RNA sequences of compost for Agaricus bisporus production are'},\n",
       " {'match': 'SAMN16233645',\n",
       "  'context': 'information was supplied regarding the deposition of DNA sequences The 16s RNA sequences of compost for Agaricus bisporus production are available at Gen Bank PRJNA664798.Bio Sample SAMN16233641 SAMN16233642 SAMN16233643 SAMN16233644 SAMN16233645 SAMN16233646 SAMN16233647 SAMN16233648 SAMN16233649 SAMN16233650 SAMN16233651 SAMN16233652 SAMN16233653 SAMN16233654 SAMN16233655 SAMN16233656 SAMN16233657 SAMN16233658 SAMN16233659 SAMN16233660 SAMN16233661 SAMN16233662 SAMN16233663 SAMN16233664.The 16s RNA sequences of compost for Agaricus bisporus production are also'},\n",
       " {'match': 'SAMN16233646',\n",
       "  'context': 'was supplied regarding the deposition of DNA sequences The 16s RNA sequences of compost for Agaricus bisporus production are available at Gen Bank PRJNA664798.Bio Sample SAMN16233641 SAMN16233642 SAMN16233643 SAMN16233644 SAMN16233645 SAMN16233646 SAMN16233647 SAMN16233648 SAMN16233649 SAMN16233650 SAMN16233651 SAMN16233652 SAMN16233653 SAMN16233654 SAMN16233655 SAMN16233656 SAMN16233657 SAMN16233658 SAMN16233659 SAMN16233660 SAMN16233661 SAMN16233662 SAMN16233663 SAMN16233664.The 16s RNA sequences of compost for Agaricus bisporus production are also availableat'},\n",
       " {'match': 'SAMN16233647',\n",
       "  'context': 'supplied regarding the deposition of DNA sequences The 16s RNA sequences of compost for Agaricus bisporus production are available at Gen Bank PRJNA664798.Bio Sample SAMN16233641 SAMN16233642 SAMN16233643 SAMN16233644 SAMN16233645 SAMN16233646 SAMN16233647 SAMN16233648 SAMN16233649 SAMN16233650 SAMN16233651 SAMN16233652 SAMN16233653 SAMN16233654 SAMN16233655 SAMN16233656 SAMN16233657 SAMN16233658 SAMN16233659 SAMN16233660 SAMN16233661 SAMN16233662 SAMN16233663 SAMN16233664.The 16s RNA sequences of compost for Agaricus bisporus production are also availableat Figshare'},\n",
       " {'match': 'SAMN16233648',\n",
       "  'context': 'regarding the deposition of DNA sequences The 16s RNA sequences of compost for Agaricus bisporus production are available at Gen Bank PRJNA664798.Bio Sample SAMN16233641 SAMN16233642 SAMN16233643 SAMN16233644 SAMN16233645 SAMN16233646 SAMN16233647 SAMN16233648 SAMN16233649 SAMN16233650 SAMN16233651 SAMN16233652 SAMN16233653 SAMN16233654 SAMN16233655 SAMN16233656 SAMN16233657 SAMN16233658 SAMN16233659 SAMN16233660 SAMN16233661 SAMN16233662 SAMN16233663 SAMN16233664.The 16s RNA sequences of compost for Agaricus bisporus production are also availableat Figshare 1'},\n",
       " {'match': 'SAMN16233649',\n",
       "  'context': 'the deposition of DNA sequences The 16s RNA sequences of compost for Agaricus bisporus production are available at Gen Bank PRJNA664798.Bio Sample SAMN16233641 SAMN16233642 SAMN16233643 SAMN16233644 SAMN16233645 SAMN16233646 SAMN16233647 SAMN16233648 SAMN16233649 SAMN16233650 SAMN16233651 SAMN16233652 SAMN16233653 SAMN16233654 SAMN16233655 SAMN16233656 SAMN16233657 SAMN16233658 SAMN16233659 SAMN16233660 SAMN16233661 SAMN16233662 SAMN16233663 SAMN16233664.The 16s RNA sequences of compost for Agaricus bisporus production are also availableat Figshare 1 SONG'},\n",
       " {'match': 'SAMN16233650',\n",
       "  'context': 'deposition of DNA sequences The 16s RNA sequences of compost for Agaricus bisporus production are available at Gen Bank PRJNA664798.Bio Sample SAMN16233641 SAMN16233642 SAMN16233643 SAMN16233644 SAMN16233645 SAMN16233646 SAMN16233647 SAMN16233648 SAMN16233649 SAMN16233650 SAMN16233651 SAMN16233652 SAMN16233653 SAMN16233654 SAMN16233655 SAMN16233656 SAMN16233657 SAMN16233658 SAMN16233659 SAMN16233660 SAMN16233661 SAMN16233662 SAMN16233663 SAMN16233664.The 16s RNA sequences of compost for Agaricus bisporus production are also availableat Figshare 1 SONG TINGTING'},\n",
       " {'match': 'SAMN16233651',\n",
       "  'context': 'of DNA sequences The 16s RNA sequences of compost for Agaricus bisporus production are available at Gen Bank PRJNA664798.Bio Sample SAMN16233641 SAMN16233642 SAMN16233643 SAMN16233644 SAMN16233645 SAMN16233646 SAMN16233647 SAMN16233648 SAMN16233649 SAMN16233650 SAMN16233651 SAMN16233652 SAMN16233653 SAMN16233654 SAMN16233655 SAMN16233656 SAMN16233657 SAMN16233658 SAMN16233659 SAMN16233660 SAMN16233661 SAMN16233662 SAMN16233663 SAMN16233664.The 16s RNA sequences of compost for Agaricus bisporus production are also availableat Figshare 1 SONG TINGTING 2020'},\n",
       " {'match': 'SAMN16233652',\n",
       "  'context': 'DNA sequences The 16s RNA sequences of compost for Agaricus bisporus production are available at Gen Bank PRJNA664798.Bio Sample SAMN16233641 SAMN16233642 SAMN16233643 SAMN16233644 SAMN16233645 SAMN16233646 SAMN16233647 SAMN16233648 SAMN16233649 SAMN16233650 SAMN16233651 SAMN16233652 SAMN16233653 SAMN16233654 SAMN16233655 SAMN16233656 SAMN16233657 SAMN16233658 SAMN16233659 SAMN16233660 SAMN16233661 SAMN16233662 SAMN16233663 SAMN16233664.The 16s RNA sequences of compost for Agaricus bisporus production are also availableat Figshare 1 SONG TINGTING 2020 II.CS.fastq.'},\n",
       " {'match': 'SAMN16233653',\n",
       "  'context': 'sequences The 16s RNA sequences of compost for Agaricus bisporus production are available at Gen Bank PRJNA664798.Bio Sample SAMN16233641 SAMN16233642 SAMN16233643 SAMN16233644 SAMN16233645 SAMN16233646 SAMN16233647 SAMN16233648 SAMN16233649 SAMN16233650 SAMN16233651 SAMN16233652 SAMN16233653 SAMN16233654 SAMN16233655 SAMN16233656 SAMN16233657 SAMN16233658 SAMN16233659 SAMN16233660 SAMN16233661 SAMN16233662 SAMN16233663 SAMN16233664.The 16s RNA sequences of compost for Agaricus bisporus production are also availableat Figshare 1 SONG TINGTING 2020 II.CS.fastq. figshare.'},\n",
       " {'match': 'SAMN16233654',\n",
       "  'context': 'The 16s RNA sequences of compost for Agaricus bisporus production are available at Gen Bank PRJNA664798.Bio Sample SAMN16233641 SAMN16233642 SAMN16233643 SAMN16233644 SAMN16233645 SAMN16233646 SAMN16233647 SAMN16233648 SAMN16233649 SAMN16233650 SAMN16233651 SAMN16233652 SAMN16233653 SAMN16233654 SAMN16233655 SAMN16233656 SAMN16233657 SAMN16233658 SAMN16233659 SAMN16233660 SAMN16233661 SAMN16233662 SAMN16233663 SAMN16233664.The 16s RNA sequences of compost for Agaricus bisporus production are also availableat Figshare 1 SONG TINGTING 2020 II.CS.fastq. figshare. Dataset.'},\n",
       " {'match': 'SAMN16233655',\n",
       "  'context': '16s RNA sequences of compost for Agaricus bisporus production are available at Gen Bank PRJNA664798.Bio Sample SAMN16233641 SAMN16233642 SAMN16233643 SAMN16233644 SAMN16233645 SAMN16233646 SAMN16233647 SAMN16233648 SAMN16233649 SAMN16233650 SAMN16233651 SAMN16233652 SAMN16233653 SAMN16233654 SAMN16233655 SAMN16233656 SAMN16233657 SAMN16233658 SAMN16233659 SAMN16233660 SAMN16233661 SAMN16233662 SAMN16233663 SAMN16233664.The 16s RNA sequences of compost for Agaricus bisporus production are also availableat Figshare 1 SONG TINGTING 2020 II.CS.fastq. figshare. Dataset. Available'},\n",
       " {'match': 'SAMN16233656',\n",
       "  'context': 'RNA sequences of compost for Agaricus bisporus production are available at Gen Bank PRJNA664798.Bio Sample SAMN16233641 SAMN16233642 SAMN16233643 SAMN16233644 SAMN16233645 SAMN16233646 SAMN16233647 SAMN16233648 SAMN16233649 SAMN16233650 SAMN16233651 SAMN16233652 SAMN16233653 SAMN16233654 SAMN16233655 SAMN16233656 SAMN16233657 SAMN16233658 SAMN16233659 SAMN16233660 SAMN16233661 SAMN16233662 SAMN16233663 SAMN16233664.The 16s RNA sequences of compost for Agaricus bisporus production are also availableat Figshare 1 SONG TINGTING 2020 II.CS.fastq. figshare. Dataset. Available at'},\n",
       " {'match': 'SAMN16233657',\n",
       "  'context': 'sequences of compost for Agaricus bisporus production are available at Gen Bank PRJNA664798.Bio Sample SAMN16233641 SAMN16233642 SAMN16233643 SAMN16233644 SAMN16233645 SAMN16233646 SAMN16233647 SAMN16233648 SAMN16233649 SAMN16233650 SAMN16233651 SAMN16233652 SAMN16233653 SAMN16233654 SAMN16233655 SAMN16233656 SAMN16233657 SAMN16233658 SAMN16233659 SAMN16233660 SAMN16233661 SAMN16233662 SAMN16233663 SAMN16233664.The 16s RNA sequences of compost for Agaricus bisporus production are also availableat Figshare 1 SONG TINGTING 2020 II.CS.fastq. figshare. Dataset. Available at https'},\n",
       " {'match': 'SAMN16233658',\n",
       "  'context': 'of compost for Agaricus bisporus production are available at Gen Bank PRJNA664798.Bio Sample SAMN16233641 SAMN16233642 SAMN16233643 SAMN16233644 SAMN16233645 SAMN16233646 SAMN16233647 SAMN16233648 SAMN16233649 SAMN16233650 SAMN16233651 SAMN16233652 SAMN16233653 SAMN16233654 SAMN16233655 SAMN16233656 SAMN16233657 SAMN16233658 SAMN16233659 SAMN16233660 SAMN16233661 SAMN16233662 SAMN16233663 SAMN16233664.The 16s RNA sequences of compost for Agaricus bisporus production are also availableat Figshare 1 SONG TINGTING 2020 II.CS.fastq. figshare. Dataset. Available at https //doi.org/10.6084/m9.figshare.12764129.v1Song'},\n",
       " {'match': 'SAMN16233659',\n",
       "  'context': 'compost for Agaricus bisporus production are available at Gen Bank PRJNA664798.Bio Sample SAMN16233641 SAMN16233642 SAMN16233643 SAMN16233644 SAMN16233645 SAMN16233646 SAMN16233647 SAMN16233648 SAMN16233649 SAMN16233650 SAMN16233651 SAMN16233652 SAMN16233653 SAMN16233654 SAMN16233655 SAMN16233656 SAMN16233657 SAMN16233658 SAMN16233659 SAMN16233660 SAMN16233661 SAMN16233662 SAMN16233663 SAMN16233664.The 16s RNA sequences of compost for Agaricus bisporus production are also availableat Figshare 1 SONG TINGTING 2020 II.CS.fastq. figshare. Dataset. Available at https //doi.org/10.6084/m9.figshare.12764129.v1Song et'},\n",
       " {'match': 'SAMN16233660',\n",
       "  'context': 'for Agaricus bisporus production are available at Gen Bank PRJNA664798.Bio Sample SAMN16233641 SAMN16233642 SAMN16233643 SAMN16233644 SAMN16233645 SAMN16233646 SAMN16233647 SAMN16233648 SAMN16233649 SAMN16233650 SAMN16233651 SAMN16233652 SAMN16233653 SAMN16233654 SAMN16233655 SAMN16233656 SAMN16233657 SAMN16233658 SAMN16233659 SAMN16233660 SAMN16233661 SAMN16233662 SAMN16233663 SAMN16233664.The 16s RNA sequences of compost for Agaricus bisporus production are also availableat Figshare 1 SONG TINGTING 2020 II.CS.fastq. figshare. Dataset. Available at https //doi.org/10.6084/m9.figshare.12764129.v1Song et al.'},\n",
       " {'match': 'SAMN16233661',\n",
       "  'context': 'Agaricus bisporus production are available at Gen Bank PRJNA664798.Bio Sample SAMN16233641 SAMN16233642 SAMN16233643 SAMN16233644 SAMN16233645 SAMN16233646 SAMN16233647 SAMN16233648 SAMN16233649 SAMN16233650 SAMN16233651 SAMN16233652 SAMN16233653 SAMN16233654 SAMN16233655 SAMN16233656 SAMN16233657 SAMN16233658 SAMN16233659 SAMN16233660 SAMN16233661 SAMN16233662 SAMN16233663 SAMN16233664.The 16s RNA sequences of compost for Agaricus bisporus production are also availableat Figshare 1 SONG TINGTING 2020 II.CS.fastq. figshare. Dataset. Available at https //doi.org/10.6084/m9.figshare.12764129.v1Song et al. 2021'},\n",
       " {'match': 'SAMN16233662',\n",
       "  'context': 'bisporus production are available at Gen Bank PRJNA664798.Bio Sample SAMN16233641 SAMN16233642 SAMN16233643 SAMN16233644 SAMN16233645 SAMN16233646 SAMN16233647 SAMN16233648 SAMN16233649 SAMN16233650 SAMN16233651 SAMN16233652 SAMN16233653 SAMN16233654 SAMN16233655 SAMN16233656 SAMN16233657 SAMN16233658 SAMN16233659 SAMN16233660 SAMN16233661 SAMN16233662 SAMN16233663 SAMN16233664.The 16s RNA sequences of compost for Agaricus bisporus production are also availableat Figshare 1 SONG TINGTING 2020 II.CS.fastq. figshare. Dataset. Available at https //doi.org/10.6084/m9.figshare.12764129.v1Song et al. 2021 Peer'},\n",
       " {'match': 'SAMN16233663',\n",
       "  'context': 'production are available at Gen Bank PRJNA664798.Bio Sample SAMN16233641 SAMN16233642 SAMN16233643 SAMN16233644 SAMN16233645 SAMN16233646 SAMN16233647 SAMN16233648 SAMN16233649 SAMN16233650 SAMN16233651 SAMN16233652 SAMN16233653 SAMN16233654 SAMN16233655 SAMN16233656 SAMN16233657 SAMN16233658 SAMN16233659 SAMN16233660 SAMN16233661 SAMN16233662 SAMN16233663 SAMN16233664.The 16s RNA sequences of compost for Agaricus bisporus production are also availableat Figshare 1 SONG TINGTING 2020 II.CS.fastq. figshare. Dataset. Available at https //doi.org/10.6084/m9.figshare.12764129.v1Song et al. 2021 Peer J'},\n",
       " {'match': 'SAMN16233664',\n",
       "  'context': 'are available at Gen Bank PRJNA664798.Bio Sample SAMN16233641 SAMN16233642 SAMN16233643 SAMN16233644 SAMN16233645 SAMN16233646 SAMN16233647 SAMN16233648 SAMN16233649 SAMN16233650 SAMN16233651 SAMN16233652 SAMN16233653 SAMN16233654 SAMN16233655 SAMN16233656 SAMN16233657 SAMN16233658 SAMN16233659 SAMN16233660 SAMN16233661 SAMN16233662 SAMN16233663 SAMN16233664.The 16s RNA sequences of compost for Agaricus bisporus production are also availableat Figshare 1 SONG TINGTING 2020 II.CS.fastq. figshare. Dataset. Available at https //doi.org/10.6084/m9.figshare.12764129.v1Song et al. 2021 Peer J DOI'}]"
      ]
     },
     "execution_count": 40,
     "metadata": {},
     "output_type": "execute_result"
    }
   ],
   "source": [
    "extract_context(textp, r'SAMN\\d{8}')"
   ]
  },
  {
   "cell_type": "code",
   "execution_count": 41,
   "id": "663a7e34",
   "metadata": {},
   "outputs": [
    {
     "data": {
      "text/plain": [
       "24"
      ]
     },
     "execution_count": 41,
     "metadata": {},
     "output_type": "execute_result"
    }
   ],
   "source": [
    "len(extract_context(textp, r'SAMN\\d{8}'))"
   ]
  },
  {
   "cell_type": "code",
   "execution_count": 42,
   "id": "8f1934b4",
   "metadata": {},
   "outputs": [
    {
     "name": "stdout",
     "output_type": "stream",
     "text": [
      "24\n",
      "['SAMN16233641', 'SAMN16233642', 'SAMN16233643', 'SAMN16233644', 'SAMN16233645', 'SAMN16233646', 'SAMN16233647', 'SAMN16233648', 'SAMN16233649', 'SAMN16233650', 'SAMN16233651', 'SAMN16233652', 'SAMN16233653', 'SAMN16233654', 'SAMN16233655', 'SAMN16233656', 'SAMN16233657', 'SAMN16233658', 'SAMN16233659', 'SAMN16233660', 'SAMN16233661', 'SAMN16233662', 'SAMN16233663', 'SAMN16233664']\n"
     ]
    }
   ],
   "source": [
    "samns = re.findall(r'SAMN[\\s\\-]?\\d{8}', textx)\n",
    "print(len(samns))\n",
    "print(samns)"
   ]
  },
  {
   "cell_type": "code",
   "execution_count": 37,
   "id": "42ffc10a",
   "metadata": {},
   "outputs": [
    {
     "name": "stdout",
     "output_type": "stream",
     "text": [
      "24\n",
      "['SAMN16233641', 'SAMN16233642', 'SAMN16233643', 'SAMN16233644', 'SAMN16233645', 'SAMN16233646', 'SAMN16233647', 'SAMN16233648', 'SAMN16233649', 'SAMN16233650', 'SAMN16233651', 'SAMN16233652', 'SAMN16233653', 'SAMN16233654', 'SAMN16233655', 'SAMN16233656', 'SAMN16233657', 'SAMN16233658', 'SAMN16233659', 'SAMN16233660', 'SAMN16233661', 'SAMN16233662', 'SAMN16233663', 'SAMN16233664']\n"
     ]
    }
   ],
   "source": [
    "samns = re.findall(r'SAMN[\\s\\-]?\\d{8}', textp)\n",
    "print(len(samns))\n",
    "print(samns)"
   ]
  },
  {
   "cell_type": "code",
   "execution_count": 25,
   "id": "69d2ed60",
   "metadata": {},
   "outputs": [
    {
     "name": "stdout",
     "output_type": "stream",
     "text": [
      "/Users/aswinbenny/Downloads/projects/make_data_count/dataset-reference-finder/.venv/bin/python\n"
     ]
    }
   ],
   "source": [
    "import sys\n",
    "print(sys.executable)"
   ]
  },
  {
   "cell_type": "code",
   "execution_count": null,
   "id": "830bf5c6",
   "metadata": {},
   "outputs": [],
   "source": []
  },
  {
   "cell_type": "code",
   "execution_count": null,
   "id": "8b4f04d5",
   "metadata": {},
   "outputs": [],
   "source": []
  },
  {
   "cell_type": "code",
   "execution_count": null,
   "id": "3efd3512",
   "metadata": {},
   "outputs": [],
   "source": []
  }
 ],
 "metadata": {
  "kernelspec": {
   "display_name": "Python 3.10 (DataRefFinder)",
   "language": "python",
   "name": "py10-drfinder"
  },
  "language_info": {
   "codemirror_mode": {
    "name": "ipython",
    "version": 3
   },
   "file_extension": ".py",
   "mimetype": "text/x-python",
   "name": "python",
   "nbconvert_exporter": "python",
   "pygments_lexer": "ipython3",
   "version": "3.10.11"
  }
 },
 "nbformat": 4,
 "nbformat_minor": 5
}
