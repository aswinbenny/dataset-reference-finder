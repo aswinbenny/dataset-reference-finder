{
 "cells": [
  {
   "cell_type": "code",
   "execution_count": 43,
   "id": "07c763a3",
   "metadata": {},
   "outputs": [],
   "source": [
    "import pandas as pd\n",
    "import numpy as np\n",
    "import ftfy\n",
    "import unicodedata\n",
    "import re\n",
    "from lxml import etree\n",
    "pd.set_option('display.max_columns', None)\n",
    "pd.set_option('display.max_rows', None)"
   ]
  },
  {
   "cell_type": "code",
   "execution_count": 2,
   "id": "72a003ee",
   "metadata": {},
   "outputs": [
    {
     "data": {
      "text/html": [
       "<div>\n",
       "<style scoped>\n",
       "    .dataframe tbody tr th:only-of-type {\n",
       "        vertical-align: middle;\n",
       "    }\n",
       "\n",
       "    .dataframe tbody tr th {\n",
       "        vertical-align: top;\n",
       "    }\n",
       "\n",
       "    .dataframe thead th {\n",
       "        text-align: right;\n",
       "    }\n",
       "</style>\n",
       "<table border=\"1\" class=\"dataframe\">\n",
       "  <thead>\n",
       "    <tr style=\"text-align: right;\">\n",
       "      <th></th>\n",
       "      <th>article_id</th>\n",
       "      <th>dataset_id</th>\n",
       "      <th>type</th>\n",
       "    </tr>\n",
       "  </thead>\n",
       "  <tbody>\n",
       "    <tr>\n",
       "      <th>0</th>\n",
       "      <td>10.1002_2017jc013030</td>\n",
       "      <td>https://doi.org/10.17882/49388</td>\n",
       "      <td>Primary</td>\n",
       "    </tr>\n",
       "    <tr>\n",
       "      <th>1</th>\n",
       "      <td>10.1002_anie.201916483</td>\n",
       "      <td>Missing</td>\n",
       "      <td>Missing</td>\n",
       "    </tr>\n",
       "    <tr>\n",
       "      <th>2</th>\n",
       "      <td>10.1002_anie.202005531</td>\n",
       "      <td>Missing</td>\n",
       "      <td>Missing</td>\n",
       "    </tr>\n",
       "    <tr>\n",
       "      <th>3</th>\n",
       "      <td>10.1002_anie.202007717</td>\n",
       "      <td>Missing</td>\n",
       "      <td>Missing</td>\n",
       "    </tr>\n",
       "    <tr>\n",
       "      <th>4</th>\n",
       "      <td>10.1002_chem.201902131</td>\n",
       "      <td>Missing</td>\n",
       "      <td>Missing</td>\n",
       "    </tr>\n",
       "  </tbody>\n",
       "</table>\n",
       "</div>"
      ],
      "text/plain": [
       "               article_id                      dataset_id     type\n",
       "0    10.1002_2017jc013030  https://doi.org/10.17882/49388  Primary\n",
       "1  10.1002_anie.201916483                         Missing  Missing\n",
       "2  10.1002_anie.202005531                         Missing  Missing\n",
       "3  10.1002_anie.202007717                         Missing  Missing\n",
       "4  10.1002_chem.201902131                         Missing  Missing"
      ]
     },
     "execution_count": 2,
     "metadata": {},
     "output_type": "execute_result"
    }
   ],
   "source": [
    "train_labels = pd.read_csv('data/train_labels.csv')\n",
    "train_labels.head()"
   ]
  },
  {
   "cell_type": "code",
   "execution_count": 81,
   "id": "bc175253",
   "metadata": {},
   "outputs": [
    {
     "data": {
      "text/html": [
       "<div>\n",
       "<style scoped>\n",
       "    .dataframe tbody tr th:only-of-type {\n",
       "        vertical-align: middle;\n",
       "    }\n",
       "\n",
       "    .dataframe tbody tr th {\n",
       "        vertical-align: top;\n",
       "    }\n",
       "\n",
       "    .dataframe thead th {\n",
       "        text-align: right;\n",
       "    }\n",
       "</style>\n",
       "<table border=\"1\" class=\"dataframe\">\n",
       "  <thead>\n",
       "    <tr style=\"text-align: right;\">\n",
       "      <th></th>\n",
       "      <th>article_id</th>\n",
       "      <th>dataset_id</th>\n",
       "      <th>type</th>\n",
       "    </tr>\n",
       "  </thead>\n",
       "  <tbody>\n",
       "  </tbody>\n",
       "</table>\n",
       "</div>"
      ],
      "text/plain": [
       "Empty DataFrame\n",
       "Columns: [article_id, dataset_id, type]\n",
       "Index: []"
      ]
     },
     "execution_count": 81,
     "metadata": {},
     "output_type": "execute_result"
    }
   ],
   "source": [
    "train_labels[train_labels['dataset_id'] ==  'GO0034774']"
   ]
  },
  {
   "cell_type": "code",
   "execution_count": null,
   "id": "3c72fd49",
   "metadata": {},
   "outputs": [
    {
     "data": {
      "text/plain": [
       "['E-PROT-100',\n",
       " 'E-PROT-101',\n",
       " 'E-PROT-102',\n",
       " 'E-PROT-103',\n",
       " 'E-PROT-104',\n",
       " 'E-PROT-105',\n",
       " 'E-PROT-106',\n",
       " 'E-PROT-107',\n",
       " 'E-PROT-108',\n",
       " 'E-PROT-109',\n",
       " 'E-PROT-110',\n",
       " 'E-PROT-23',\n",
       " 'PXD001676',\n",
       " 'PXD002137',\n",
       " 'PXD005693',\n",
       " 'PXD005709',\n",
       " 'PXD010458',\n",
       " 'PXD014511',\n",
       " 'PXD019504',\n",
       " 'PXD020454',\n",
       " 'PXD031556',\n",
       " 'PXD032899']"
      ]
     },
     "execution_count": 78,
     "metadata": {},
     "output_type": "execute_result"
    }
   ],
   "source": [
    "list(train_labels[train_labels['article_id'] == '10.1371_journal.pcbi.1011828']['dataset_id'])"
   ]
  },
  {
   "cell_type": "code",
   "execution_count": 56,
   "id": "f7458514",
   "metadata": {},
   "outputs": [
    {
     "data": {
      "text/plain": [
       "(11, 3)"
      ]
     },
     "execution_count": 56,
     "metadata": {},
     "output_type": "execute_result"
    }
   ],
   "source": [
    "train_labels[train_labels['article_id'] == '10.1021_acsomega.3c06074'].shape"
   ]
  },
  {
   "cell_type": "code",
   "execution_count": 5,
   "id": "7f2e421c",
   "metadata": {},
   "outputs": [
    {
     "data": {
      "text/plain": [
       "(1028, 3)"
      ]
     },
     "execution_count": 5,
     "metadata": {},
     "output_type": "execute_result"
    }
   ],
   "source": [
    "train_labels.shape"
   ]
  },
  {
   "cell_type": "code",
   "execution_count": 6,
   "id": "6b8cb966",
   "metadata": {},
   "outputs": [
    {
     "data": {
      "text/plain": [
       "np.int64(0)"
      ]
     },
     "execution_count": 6,
     "metadata": {},
     "output_type": "execute_result"
    }
   ],
   "source": [
    "train_labels['dataset_id'].isna().sum()"
   ]
  },
  {
   "cell_type": "code",
   "execution_count": 7,
   "id": "486de694",
   "metadata": {},
   "outputs": [
    {
     "data": {
      "text/plain": [
       "(309, 3)"
      ]
     },
     "execution_count": 7,
     "metadata": {},
     "output_type": "execute_result"
    }
   ],
   "source": [
    "train_labels[train_labels['dataset_id'] == 'Missing'].shape"
   ]
  },
  {
   "cell_type": "code",
   "execution_count": 8,
   "id": "e69964ab",
   "metadata": {},
   "outputs": [
    {
     "data": {
      "text/plain": [
       "720"
      ]
     },
     "execution_count": 8,
     "metadata": {},
     "output_type": "execute_result"
    }
   ],
   "source": [
    "train_labels['dataset_id'].nunique()"
   ]
  },
  {
   "cell_type": "code",
   "execution_count": 9,
   "id": "7ae09644",
   "metadata": {},
   "outputs": [
    {
     "data": {
      "text/plain": [
       "396"
      ]
     },
     "execution_count": 9,
     "metadata": {},
     "output_type": "execute_result"
    }
   ],
   "source": [
    "train_labels.loc[train_labels['dataset_id'].str.contains('https://doi.org/10'), 'dataset_id'] = 1\n",
    "train_labels.loc[train_labels['dataset_id'] == 'Missing', 'dataset_id'] = 0\n",
    "train_labels['dataset_id'].nunique()"
   ]
  },
  {
   "cell_type": "code",
   "execution_count": 10,
   "id": "89e8e600",
   "metadata": {},
   "outputs": [
    {
     "name": "stdout",
     "output_type": "stream",
     "text": [
      "[1, 0, '5VA1', 'CHEMBL1097', 'CHEMBL1257578', 'CHEMBL1257821', 'CHEMBL1782574', 'CHEMBL195180', 'CHEMBL2424928', 'CHEMBL3422978', 'CHEMBL390649', 'CHEMBL572163', 'CHEMBL70', 'IPR000884', 'IPR001124', 'IPR001577', 'IPR002477', 'IPR002889', 'IPR004007', 'IPR004302', 'IPR004785', 'IPR004911', 'IPR004963', 'IPR004981', 'IPR005524', 'IPR006201', 'IPR008139', 'IPR009613', 'IPR011040', 'IPR011124', 'IPR012338', 'IPR016201', 'IPR017920', 'IPR021345', 'IPR028730', 'IPR029723', 'IPR029787', 'IPR033396', 'IPR036452', 'PF00348', 'PF00484', 'PF01493', 'PF05834', 'PF15461', 'GSE130386', 'SRP184152', 'EMPIAR-10005', 'EMPIAR-10017', 'EMPIAR-10028', 'EMPIAR-10081', 'EMPIAR-10093', 'EMPIAR-10345', 'EMPIAR-10387', 'EMPIAR-10406', 'EMPIAR-10532', 'EMPIAR-10590', 'EMPIAR-10852', 'EMPIAR-11057', 'ENSBTAG00000011038', 'ENSBTAG00000013718', 'ENSBTAG00000017121', 'ENSBTAG00000017131', 'ENSBTAG00000021275', 'ENSBTAG00000047833', 'ENSOARG00000003950', 'ENSOARG00000012128', 'ENSOARG00000012835', 'ENSOARG00000013782', 'ENSOARG00000013966', 'ENSOARG00000014129', 'IPR000264', 'IPR002172', 'IPR014760', 'IPR020857', 'IPR020858', 'IPR021177', 'IPR023415', 'NM_001078656', 'BX119912', 'CP001848', 'CP130886', 'STH00996', 'ENSMMUT00000003274', 'ENSMMUT00000007289', 'ENSMMUT00000008499', 'ENSMMUT00000013362', 'ENSMMUT00000015979', 'ENSMMUT00000017222', 'ENSMMUT00000042190', 'ENSMMUT00000043132', 'ENSMMUT00000047863', 'F6RVJ3', '3.10.180.10', '3.20.20.120', '3.20.20.140', '3.30.450.20', '3.30.450.40', '3.30.930.10', '3.40.30.10', '3.40.50.1000', '3.40.50.1820', '3.40.50.620', '3.40.630.30', '3.90.1200.10', '3.90.226.10', '3.90.228.10', 'PF00106', 'PF03372', 'rs33912345', 'CAB004592', 'CAB010055', 'HPA001426', 'HPA001522', 'HPA001612', 'HPA003156', 'HPA003927', 'HPA007450', 'HPA008063', 'HPA030827', 'HPA042865', 'O75787', 'P17900', 'P21741', 'P23142', 'P24593', 'P24821', 'P51884', 'P53004', 'Q08629', 'Q12907', 'Q96AG4', 'Q99538', 'EPI_ISL_291131', 'EPI_ISL_293286', 'EPI_ISL_293287', 'EPI_ISL_293288', 'EPI_ISL_293289', 'EPI_ISL_293290', 'EPI_ISL_293291', 'EPI_ISL_332358', 'EPI_ISL_332395', 'EPI_ISL_332396', 'EPI_ISL_332399', 'EPI_ISL_332401', 'EPI_ISL_376123', 'EPI_ISL_445001', 'EPI_ISL_445002', 'EPI_ISL_445051', 'EPI_ISL_445052', 'EPI_ISL_445089', 'EPI_ISL_445090', 'EPI_ISL_445091', 'EPI_ISL_445092', 'EPI_ISL_445093', 'K02388', 'K02389', 'K02390', 'K02391', 'K02396', 'K02397', 'K02398', 'K02400', 'K02401', 'K02404', 'K02405', 'K02407', 'K02409', 'K02410', 'K02412', 'K02413', 'K02414', 'K02417', 'K02418', 'K02422', 'PF00248', 'PF00356', 'PF01052', 'PF02154', 'PF03748', 'PF03963', 'PF04347', 'PF04509', 'PF13377', 'CVCL_0213', 'CVCL_0395', 'CVCL_0530', 'CVCL_0627', 'CVCL_1916', 'CVCL_1917', 'CVCL_1918', 'CVCL_1919', 'CVCL_2213', 'CVCL_2235', 'CVCL_3967', 'CVCL_6245', 'CVCL_7151', 'CVCL_D615', 'CVCL_KS61', 'GSE67047', 'GSE87048', 'E-PROT-100', 'E-PROT-101', 'E-PROT-102', 'E-PROT-103', 'E-PROT-104', 'E-PROT-105', 'E-PROT-106', 'E-PROT-107', 'E-PROT-108', 'E-PROT-109', 'E-PROT-110', 'E-PROT-23', 'PXD001676', 'PXD002137', 'PXD005693', 'PXD005709', 'PXD010458', 'PXD014511', 'PXD019504', 'PXD020454', 'PXD031556', 'PXD032899', 'CP013147', 'PRJNA10687', 'PRJNA16146', 'PRJNA16148', 'PRJNA167229', 'PRJNA167235', 'PRJNA167242', 'PRJNA167243', 'PRJNA167255', 'PRJNA167259', 'PRJNA185511', 'PRJNA20133', 'PRJNA217894', 'PRJNA287300', 'PRJNA293', 'PRJNA296687', 'PRJNA32553', 'PRJNA47139', 'PRJNA65041', 'PRJNA65043', 'PRJNA74039', 'PRJNA74077', 'PRJNA74079', 'PRJNA74089', 'PRJNA74123', 'PRJNA74167', 'SRX1830060', 'E-GEOD-19722', 'E-GEOD-28654', 'E-GEOD-29623', 'E-GEOD-39084', 'E-GEOD-45216', 'E-GEOD-45670', 'E-GEOD-46474', 'E-GEOD-48278', 'E-GEOD-48350', 'E-GEOD-48780', 'E-GEOD-49243', 'E-GEOD-50774', 'E-GEOD-53224', 'E-GEOD-53890', 'E-GEOD-54543', 'E-GEOD-54837', 'E-GEOD-58697', 'E-GEOD-59312', 'E-GEOD-60028', 'E-GEOD-61804', 'E-GEOD-63626', 'E-GEOD-64415', 'E-GEOD-64857', 'E-GEOD-67851', 'E-GEOD-68720', '2nrj', '4k1p', '7nmq', 'EPI_ISL_10271777', 'EPI_ISL_13295050', 'EPI_ISL_1626969', 'EPI_ISL_17371329', 'EPI_ISL_2340570', 'EPI_ISL_2340575', 'EPI_ISL_2340581', 'EPI_ISL_2340614', 'EPI_ISL_2340615', 'EPI_ISL_2340626', 'EPI_ISL_2340662', 'EPI_ISL_2365356', 'EPI_ISL_2402571', 'NC_017643.1', 'SAMN07159041', 'SAMN07159044', 'SAMN07159045', 'SAMN08172567', 'SAMN08199278', 'SAMN09534374', 'SAMN12620691', 'SAMN12620692', 'SAMN12620693', 'SAMN12620694', 'SAMN12620697', 'SAMN12620700', 'SAMN12620701', 'SAMN12620702', 'SAMN12620703', 'SAMN12620704', 'SAMN17525956', 'CHEMBL1568820', 'CHEMBL1652119', 'CHEMBL198796', 'CHEMBL243644', 'CHEMBL2436978', 'CHEMBL3109593', 'CHEMBL3311228', 'CHEMBL3752642', 'CHEMBL3960662', 'CHEMBL402487', 'CHEMBL403', 'CHEMBL4065616', 'CHEMBL408500', 'CHEMBL561', 'CHEMBL64391', 'CHEMBL76', 'D10700', 'EPI1018205', 'EPI1018206', 'EPI1018207', 'EPI1018208', 'EPI1018210', 'EPI1018211', 'EPI1019551', 'EPI1019552', 'EPI1019553', 'EPI1019554', 'EPI1019555', 'EPI1019556', 'EPI1019558', 'EPI1104284', 'EPI1104285', 'EPI1104286', 'EPI1104288', 'EPI1183999', 'EPI1184004', 'EPI1184005', 'EPI1184014', 'EPI1387245', 'EPI954552', 'EPI954553', 'EPI954554', 'EPI954555', 'EPI954556', 'EPI954557', 'EPI954559', 'KX000727', 'KX000734', 'ERR2135448', 'PF00078', 'PF02170', 'PF02171', 'PF03368', 'PF05183', 'SRR2429147', 'SRR2430028', 'SRR2430030', 'SRR7962068', 'CHEMBL3347550', 'CHEMBL3347551', 'CHEMBL3733336', 'CVCL_1379', 'MODEL2106070001', 'PRJNA664798', 'SAMN16233641', 'SAMN16233642', 'SAMN16233643', 'SAMN16233644', 'SAMN16233645', 'SAMN16233646', 'SAMN16233647', 'SAMN16233648', 'SAMN16233649', 'SAMN16233650', 'SAMN16233651', 'SAMN16233652', 'SAMN16233653', 'SAMN16233654', 'SAMN16233655', 'SAMN16233656', 'SAMN16233657', 'SAMN16233658', 'SAMN16233659', 'SAMN16233660', 'SAMN16233661', 'SAMN16233662', 'SAMN16233663', 'SAMN16233664']\n"
     ]
    }
   ],
   "source": [
    "print(list(train_labels['dataset_id'].unique()))\n"
   ]
  },
  {
   "cell_type": "code",
   "execution_count": null,
   "id": "31e60225",
   "metadata": {},
   "outputs": [],
   "source": []
  },
  {
   "cell_type": "code",
   "execution_count": 11,
   "id": "f2695443",
   "metadata": {},
   "outputs": [
    {
     "data": {
      "text/plain": [
       "396"
      ]
     },
     "execution_count": 11,
     "metadata": {},
     "output_type": "execute_result"
    }
   ],
   "source": [
    "len(list(train_labels['dataset_id'].unique()))"
   ]
  },
  {
   "cell_type": "code",
   "execution_count": 12,
   "id": "d9d61eb0",
   "metadata": {},
   "outputs": [],
   "source": [
    "li = list(train_labels['dataset_id'].unique())\n",
    "li = [item for item in li if item not in [0, 1]]\n",
    "\n"
   ]
  },
  {
   "cell_type": "code",
   "execution_count": 13,
   "id": "f954eb71",
   "metadata": {},
   "outputs": [
    {
     "name": "stdout",
     "output_type": "stream",
     "text": [
      "41\n",
      "['SAMN07159041', 'SAMN07159044', 'SAMN07159045', 'SAMN08172567', 'SAMN08199278', 'SAMN09534374', 'SAMN12620691', 'SAMN12620692', 'SAMN12620693', 'SAMN12620694', 'SAMN12620697', 'SAMN12620700', 'SAMN12620701', 'SAMN12620702', 'SAMN12620703', 'SAMN12620704', 'SAMN17525956', 'SAMN16233641', 'SAMN16233642', 'SAMN16233643', 'SAMN16233644', 'SAMN16233645', 'SAMN16233646', 'SAMN16233647', 'SAMN16233648', 'SAMN16233649', 'SAMN16233650', 'SAMN16233651', 'SAMN16233652', 'SAMN16233653', 'SAMN16233654', 'SAMN16233655', 'SAMN16233656', 'SAMN16233657', 'SAMN16233658', 'SAMN16233659', 'SAMN16233660', 'SAMN16233661', 'SAMN16233662', 'SAMN16233663', 'SAMN16233664']\n"
     ]
    }
   ],
   "source": [
    "samn = [item for item in li if item.startswith('SAMN')]\n",
    "print(len(samn))\n",
    "print(samn)"
   ]
  },
  {
   "cell_type": "code",
   "execution_count": 14,
   "id": "fadaf47a",
   "metadata": {},
   "outputs": [
    {
     "name": "stdout",
     "output_type": "stream",
     "text": [
      "41\n",
      "['SAMN07159041', 'SAMN07159044', 'SAMN07159045', 'SAMN08172567', 'SAMN08199278', 'SAMN09534374', 'SAMN12620691', 'SAMN12620692', 'SAMN12620693', 'SAMN12620694', 'SAMN12620697', 'SAMN12620700', 'SAMN12620701', 'SAMN12620702', 'SAMN12620703', 'SAMN12620704', 'SAMN17525956', 'SAMN16233641', 'SAMN16233642', 'SAMN16233643', 'SAMN16233644', 'SAMN16233645', 'SAMN16233646', 'SAMN16233647', 'SAMN16233648', 'SAMN16233649', 'SAMN16233650', 'SAMN16233651', 'SAMN16233652', 'SAMN16233653', 'SAMN16233654', 'SAMN16233655', 'SAMN16233656', 'SAMN16233657', 'SAMN16233658', 'SAMN16233659', 'SAMN16233660', 'SAMN16233661', 'SAMN16233662', 'SAMN16233663', 'SAMN16233664']\n"
     ]
    }
   ],
   "source": [
    "samns = re.findall(r'\\bSAMN\\d{8}\\b', ' '.join(li))\n",
    "print(len(samns))\n",
    "print(samns)"
   ]
  },
  {
   "cell_type": "code",
   "execution_count": 15,
   "id": "228105bb",
   "metadata": {},
   "outputs": [
    {
     "name": "stdout",
     "output_type": "stream",
     "text": [
      "29\n",
      "['CHEMBL1097', 'CHEMBL1257578', 'CHEMBL1257821', 'CHEMBL1782574', 'CHEMBL195180', 'CHEMBL2424928', 'CHEMBL3422978', 'CHEMBL390649', 'CHEMBL572163', 'CHEMBL70', 'CHEMBL1568820', 'CHEMBL1652119', 'CHEMBL198796', 'CHEMBL243644', 'CHEMBL2436978', 'CHEMBL3109593', 'CHEMBL3311228', 'CHEMBL3752642', 'CHEMBL3960662', 'CHEMBL402487', 'CHEMBL403', 'CHEMBL4065616', 'CHEMBL408500', 'CHEMBL561', 'CHEMBL64391', 'CHEMBL76', 'CHEMBL3347550', 'CHEMBL3347551', 'CHEMBL3733336']\n"
     ]
    }
   ],
   "source": [
    "che = [item for item in li if item.startswith('CHEMBL')]\n",
    "print(len( che))\n",
    "print(che)"
   ]
  },
  {
   "cell_type": "code",
   "execution_count": null,
   "id": "0f16f592",
   "metadata": {},
   "outputs": [],
   "source": [
    "\n",
    "\n",
    "def clean_text(text):\n",
    "    # 1. Fix encoding issues like mojibake or smart quotes\n",
    "    text = ftfy.fix_text(text)\n",
    "\n",
    "    # 2. Normalize ligatures and full-width characters\n",
    "    text = unicodedata.normalize(\"NFKC\", text)\n",
    "\n",
    "    # 3. Remove non-printable control characters (ASCII 0–31 and 127)\n",
    "    text = re.sub(r'[\\x00-\\x1F\\x7F]', '', text)\n",
    "\n",
    "    # 4. Remove unnecessary backslashes before quotes (like d\\'Océanographie → d'Océanographie)\n",
    "    text = re.sub(r'\\\\([\\'\"“”‘’`´])', r'\\1', text)\n",
    "\n",
    "    # 5. Add space between glued lowercase-uppercase boundaries (e.g., datasetEuropean → dataset European)\n",
    "    text = re.sub(r'(?<=[a-z])(?=[A-Z])', ' ', text)\n",
    "\n",
    "    # 6. Insert space before URLs (e.g., doihttps://... → doi https://...)\n",
    "    text = re.sub(r'(?<=[a-zA-Z])(?=https?://)', ' ', text)\n",
    "\n",
    "    # 7. Replace all weird dash characters with standard hyphen\n",
    "    text = re.sub(r'[\\u2010\\u2011\\u2012\\u2013\\u2014\\u2212]', '-', text)\n",
    "\n",
    "    # 8. Add space after punctuation if not followed by space\n",
    "    text = re.sub(r'([,;!?)\\]\\}])(?=\\S)', r'\\1 ', text)\n",
    "\n",
    "    # 9.Remove all symbols **except** alphanumeric, hyphen, underscore, dot, and space\n",
    "    text = re.sub(r'[^\\w\\s\\.\\-_\\/]', ' ', text)\n",
    "\n",
    "    # 10.Collapse repeated valid symbols, while preserving `//`\n",
    "    text = re.sub(r'-{2,}', '-', text)\n",
    "    text = re.sub(r'_{2,}', '_', text)\n",
    "    text = re.sub(r'\\.{2,}', '.', text)\n",
    "    text = re.sub(r'/{3,}', '//', text)  # Keep `//` but collapse longer\n",
    "\n",
    "    # 11. Flatten all whitespace (spaces, tabs, newlines) into a single space\n",
    "    text = re.sub(r'\\s+', ' ', text)\n",
    "\n",
    "    # 12. Remove any leftover leading/trailing space\n",
    "    return text.strip()"
   ]
  },
  {
   "cell_type": "code",
   "execution_count": 17,
   "id": "c239869c",
   "metadata": {},
   "outputs": [],
   "source": [
    "\n",
    "\n",
    "def extract_text_from_xml(xml_path):\n",
    "    parser = etree.XMLParser(recover=True)\n",
    "    tree = etree.parse(xml_path, parser)\n",
    "    root = tree.getroot()\n",
    "    text_parts = []\n",
    "    for elem in root.iter():\n",
    "        if elem.text and elem.text.strip():\n",
    "            text_parts.append(elem.text.strip())\n",
    "        if elem.tail and elem.tail.strip():\n",
    "            text_parts.append(elem.tail.strip())\n",
    "    \n",
    "    text =  ''.join(text_parts)\n",
    "    return clean_text(text)"
   ]
  },
  {
   "cell_type": "code",
   "execution_count": 33,
   "id": "afb8cbef",
   "metadata": {},
   "outputs": [
    {
     "data": {
      "text/plain": [
       "'open_access-//NLM//DTD JATS Z39.96 Journal Publishing DTD v1.1 20151215//ENpublic JATS-journalpublishing1.dtd1.1jp2nlmx2.xsl1Peer JPeer Jpeerjpeerj Peer J2167-8359Peer J Inc.San Diego USA78799491045210.7717/peerj.10452Agricultural Science Biotechnology Microbiology Molecular Biology Mycology Bacterial community diversity lignocellulose components and histological changes in composting using agricultural straws for Agaricus bisporusproduction Song Tingting1Shen Yingyue1Jin Qunli1Feng Weilin1Fan Lijun1Cao Guangtian15a1903025 cjlu.edu.cn2Cai Weimingcaiwm0527 126.com11Institute of Horticulture Zhejiang Academy of Agricultural Sciences Hanzghou Zhejiang China2China Jiliang University College of Standardisation Hangzhou Zhejiang China Arora Gunjan92202120219e1045210820209112020 2021 Song et al.2021Song et al.This is an open access article distributed under the terms of the Creative Commons Attribution License which permits unrestricted use distribution reproduction and adaptation in any medium and for any purpose provided that it is properly attributed. For attribution the original author s title publication source Peer J and either DOI or URL of the article must be cited.Agricultural straws AS may serve as potential base-substances in the production of Agaricus bisporus. Six AS that occur across China were investigated in a two-stage composting experiment lignocellulose components AS morphology and the effects of different AS on mushroom yields from 2015-2017 were examined. In addition microbial biodiversity and their impact on substrate degradation were studied using 16S gene sequenc based on six different AS on the 3rd I.F 6th I.S and 10th I.T day of Phase I and Phase II II . Results showed that the six different AS exhibited differences in the progression of degradation under the same compost condition the wheat straw rice straw and cotton straw induced a significantly higher mushroom yield than did the others P 0.05 Thermobispora Thermopolyspora and Vulgatibactergenera may play an important role in the different AS degradations. According to our experiments we can adjust formulations and compost methods to obtain high-yield mushroom compost based on different AS in the future.Agaricus bisporus Agricultural straw Lignocellulose Composting Histological changes16S r RNA sequencing Mushroom yield China Agriculture Research System CARS -20 Substrate Utilization of Crop Straw201503137This work was supported by the China Agriculture Research System CARS -20 and Substrate Utilization of Crop Straw 201503137 . The funders had no role in study design data collection and analysis decision to publish or preparation of the manuscript.Introduction Agricultural straws AS are organic agricultural residues produced at a global rate of 2-4 109t per year which is 1.4 times the annual crop yield Smil 1999 . AS comprise mainly of lignocellulosic biomass most of which is used for combustion in China Sheng et al. 2018 . Until 2018 the amount of AS had reached 886 million tons in China. AS waste is rich in macromolecular organic matter including cellulose hemicellulose starch and lignin. Many techniques have been applied to the utilization of AS waste resources. Among these methods mushroom cultivation is one of the most efficient and economical biotechnological process for converting lignocellulosic materials into high quality food. Rice straw and wheat straw have been used for hydrogen production Liu et al. 2015 and ethanol fermentation Nair et al. 2017 .White button mushrooms Agaricus bisporus are well-known basidiomycete fungi grown on substrate with a casing layer and produced in large quantities for human consumption De Groot et al. 1998 . In America and Europe the wheat straw is a major traditional ingredients for A. bisporuscultivating Straatsma et al. 2000 . In China rice straw is widely available and has formed the major material for A. bisporuscultivation in recent decades Gong 2011 . There are three distinct phases of the compost production and preparation Mc Gee 2018 Phases I and II form the aerobic fermentation processes Simsek et al. 2008 and Phase III form inoculation and mycelium growth processes Patyshakuliyeva et al. 2015 . In general Phase I periods of about 5-7 and 15-21 days are used in Europe and China respectively. The compost temperature stays at approximately 80 C due to the growth of thermophilic microorganisms Zhang et al. 2019 . Subsequently a pasteurization process Phase II is performed at 45-50 C for about 4-9 days until the ammonia level decreases to a level that is non-toxic to A. bisporusmycelia. The compost preparation is achieved by manipulating the natural succession of microorganisms present in the raw materials. The microbial populations substrate compositions and the physical states of the materials change during Phases I and II of this process.The bacterial community of the compost is highly diverse and exhibits dynamic changes in response to the quality of the compost Székely et al. 2009 Zhang et al. 2014 Siyoum et al. 2016 Mc Gee et al. 2017 . The substrates are self-heated after mixing and wetting in Phase I compost and are characterized by high microbial activity Miller Harper Macauley 1989 while aerobic microorganisms dominate the fermentation process because of controlled temperature conditions in Phase II compost Straatsma et al. 1995 . For the past decades several techniques have been used for studying of microbial communities at different stages including community-level physiological profile analysis phospholipid fatty acid analysis and environmental DNA amplification-based methods Dees Ghiorse 2001 Tiquia Michel 2002 Helgason Walley Germida 2010 Takaku et al. 2006 . The development of next-generation sequencing technologies has provide a more reliable method for the analysis of the depth and composition of microbial communities.In order to make full use of AS across the different areas of China six major straws and residues including wheat straw WS rice straw RS cotton straw CS corncob CC corn straw C and bagasse B were selected as the representative substrates to cultivate A. bisporus following the initial screening of various materials. Then physicochemical properties histological changes and the production properties of the different A. bisporuscompost materials were compared. Additionally the bacterial community structure of four-stage composting based on six different AS was analyzed. The data obtained by our experiment may help understand the optimal composting conditions corresponding to certain AS formulations. The efficient utilization of different AS from different areas as substrates for A. bisporuscultivation has the potential to reduce the cost of transporting raw materials and increase farming profits in China.Materials and Methods Mushroom strain The A. bisporusstrain A106 was obtained from our lab and cultured at 25 C on potato dextrose agar PDA medium for further experiment. Wheat grains purchased from a local grocery store were used to prepare A. bisporusspawn as described by Cheng 1999 .Composting and sampling Composting was conducted in the fermentation room of our experimental base located in Hangzhou Zhejiang province between 2015 and 2017. The composting windrows 5 2.0 1.8 m each contain a 600 kg mixture consisting of Agriculture straw rapeseed cake Ca SO4 2H2O Ca H2PO4 2 H2O NH4 2SO4 and urea CON2H4 with the formulations of ingredients listed in S1.Before composting stage the raw material were mixed and wetted by manual spraying to adjust the moisture around 75 and 200 g samples M were collected in triplicate. At Phase I of the 3 th I.F 6 th I.S and 10 th I.T day the windrows were turned on to keep the concentration of O2sufficient and enhance the composting process. Ca CO3and water were added manually to maintain the p H 6-8 and moisture content 60-70 during the turning data in S2 . Phase II II consisting of 6 days was characterized by a rapid increase in temperature up to 60 C for 8-9 h followed by stabilization of the compost temperature to 45-50 C for 5 days and gradual cooling to 25 C. Samples at four different stage 200 g each were collected and dried using a vacuum freeze dryer as previously described Song et al. 2014 then stored at -80 C for further analysis.Analysis of physical and chemical properties Throughout Phase I and II the temperature of the tunnel was monitored by tubular mercurial thermometers continuously placed in the middle of the compost Kai Longda Instrument Co. Tianjin China .The water content was measured by water analyzer Ohaus MB25 with 5 g sub-samples. The p H values were determined with an electronic p H meter Mettler-Toledo Instruments Co. Ltd. Shanghai China using 10 w/v sample suspensions in distilled water were used. The total nitrogen N and carbon C levels were assayed by the methods of Kjeldahl Bremner Mulvaney 1982 and K2Cr2O3oxidation Fan 2007 and then C/N ratios were calculated. In addition the fiber profiles including crude fiber of the cell wall cellulose hemicellulose and acid digestible lignin ADL were analyzed as described by Van Soest Robertson Lewis 1991 . The percentage of dry matter losses was calculated according to the following equations Dry matter loss the dry matter weight after Phase II/the dry matter of initial formulation 100 .AS stem sub-samples for transmission electron microscopy The sub-stem samples three cm long were obtained from dried samples of six different AS composts collected after Phase II. Each sample was prepared and subjected to the method described by Song et al. 2014 . The samples were examined using a JEM-1230 transmission electron microscope TEM .Determination of mushroom yields The mushroom yields were recorded from 2015-2017 for three years. The pawning rate of six different pasteurized compost was 1 w/w . Then the spawned compost was divided into 15.0 kg samples wet weight moisture content 65 and transferred to a 45-35 24 cm plastic cultivation boxes. After growing the mycelia at 2'"
      ]
     },
     "execution_count": 33,
     "metadata": {},
     "output_type": "execute_result"
    }
   ],
   "source": [
    "textx = extract_text_from_xml('data/train/XML/10.7717_peerj.10452.xml')\n",
    "textx[:10000]"
   ]
  },
  {
   "cell_type": "code",
   "execution_count": 19,
   "id": "d7c3eb2f",
   "metadata": {},
   "outputs": [],
   "source": [
    "import fitz\n",
    "def extract_text_from_pdf(pdf_path):\n",
    "    doc = fitz.open(pdf_path)\n",
    "    text = \"\"\n",
    "    for page in doc:\n",
    "        text += page.get_text()\n",
    "    doc.close()\n",
    "    return clean_text(text)"
   ]
  },
  {
   "cell_type": "code",
   "execution_count": 34,
   "id": "077384f5",
   "metadata": {},
   "outputs": [
    {
     "data": {
      "text/plain": [
       "'Submitted 10 August 2020Accepted 9 November 2020Published 9 February 2021Corresponding authors Guangtian Cao 15a1903025 cjlu.edu.cn Weiming Cai caiwm0527 126.com Academic editor Gunjan Arora Additional Information and Declarations can be found onpage 14DOI 10.7717/peerj.10452Copyright2021 Song et al.Distributed under Creative Commons CC-BY 4.0OPEN ACCESSBacterial community diversity lignocellulose components and histologicalchanges in composting using agriculturalstraws for Agaricus bisporus production Tingting Song1 Yingyue Shen1 Qunli Jin1 Weilin Feng1 Lijun Fan1 Guangtian Cao2 and Weiming Cai11 Institute of Horticulture Zhejiang Academy of Agricultural Sciences Hanzghou Zhejiang China2 China Jiliang University College of Standardisation Hangzhou Zhejiang China ABSTRACTAgricultural straws AS may serve as potential base-substances in the productionof Agaricus bisporus. Six AS that occur across China were investigated in a two-stagecomposting experiment lignocellulose components AS morphology and the effectsof different AS on mushroom yields from 2015-2017 were examined. In addition microbial biodiversity and their impact on substrate degradation were studied using16S gene sequenc based on six different AS on the 3rd I.F 6th I.S and 10th I.T day of Phase I and Phase II II . Results showed that the six different AS exhibiteddifferences in the progression of degradation under the same compost condition thewheat straw rice straw and cotton straw induced a significantly higher mushroom yieldthan did the others P 0.05 Thermobispora Thermopolyspora and Vulgatibactergenera may play an important role in the different AS degradations. According to ourexperiments we can adjust formulations and compost methods to obtain high-yieldmushroom compost based on different AS in the future.Subjects Agricultural Science Biotechnology Microbiology Molecular Biology Mycology Keywords Agaricus bisporus Agricultural straw Lignocellulose Composting Histologicalchanges 16S r RNA sequencing Mushroom yield INTRODUCTIONAgricultural straws AS are organic agricultural residues produced at a global rate of2-4 109 t per year which is 1.4 times the annual crop yield Smil 1999 . AS comprisemainly of lignocellulosic biomass most of which is used for combustion in China Shenget al. 2018 . Until 2018 the amount of AS had reached 886 million tons in China. ASwaste is rich in macromolecular organic matter including cellulose hemicellulose starch and lignin. Many techniques have been applied to the utilization of AS waste resources.Among these methods mushroom cultivation is one of the most efficient and economicalbiotechnological process for converting lignocellulosic materials into high quality food.Rice straw and wheat straw have been used for hydrogen production Liu et al. 2015 andethanol fermentation Nair et al. 2017 .How to cite this article Song T Shen Y Jin Q Feng W Fan L Cao G Cai W. 2021. Bacterial community diversity lignocellulosecomponents and histological changes in composting using agricultural straws for Agaricus bisporus production. Peer J 9 e10452http //doi.org/10.7717/peerj.10452White button mushrooms Agaricus bisporus are well-known basidiomycete fungi grown on substrate with a casing layer and produced in large quantities for humanconsumption De Groot et al. 1998 . In America and Europe the wheat straw is a majortraditional ingredients for A. bisporus cultivating Straatsma et al. 2000 . In China ricestraw is widely available and has formed the major material for A. bisporus cultivation inrecent decades Gong 2011 . There are three distinct phases of the compost productionand preparation Mc Gee 2018 Phases I and II form the aerobic fermentation processes Simsek et al. 2008 and Phase III form inoculation and mycelium growth processes Patyshakuliyeva et al. 2015 . In general Phase I periods of about 5-7 and 15-21 days areused in Europe and China respectively. The compost temperature stays at approximately80 C due to the growth of thermophilic microorganisms Zhang et al. 2019 . Subsequently a pasteurization process Phase II is performed at 45-50 C for about 4-9 days until theammonia level decreases to a level that is non-toxic to A. bisporus mycelia. The compostpreparation is achieved by manipulating the natural succession of microorganisms presentin the raw materials. The microbial populations substrate compositions and the physicalstates of the materials change during Phases I and II of this process.The bacterial community of the compost is highly diverse and exhibits dynamic changesin response to the quality of the compost Székely et al. 2009 Zhang et al. 2014 Siyoumet al. 2016 Mc Gee et al. 2017 . The substrates are self-heated after mixing and wettingin Phase I compost and are characterized by high microbial activity Miller Harper Macauley 1989 while aerobic microorganisms dominate the fermentation process becauseof controlled temperature conditions in Phase II compost Straatsma et al. 1995 . For thepast decades several techniques have been used for studying of microbial communitiesat different stages including community-level physiological profile analysis phospholipidfatty acid analysis and environmental DNA amplification-based methods Dees Ghiorse 2001 Tiquia Michel 2002 Helgason Walley Germida 2010 Takaku et al. 2006 . Thedevelopment of next-generation sequencing technologies has provide a more reliablemethod for the analysis of the depth and composition of microbial communities.In order to make full use of AS across the different areas of China six major straws andresidues including wheat straw WS rice straw RS cotton straw CS corncob CC corn straw C and bagasse B were selected as the representative substrates to cultivate A. bisporus following the initial screening of various materials. Then physicochemicalproperties histological changes and the production properties of the different A. bisporuscompost materials were compared. Additionally the bacterial community structure offour-stage composting based on six different AS was analyzed. The data obtained by ourexperiment may help understand the optimal composting conditions corresponding tocertain AS formulations. The efficient utilization of different AS from different areas assubstrates for A. bisporus cultivation has the potential to reduce the cost of transportingraw materials and increase farming profits in China.Song et al. 2021 Peer J DOI 10.7717/peerj.104522/19MATERIALS AND METHODSMushroom strain The A. bisporus strain A106 was obtained from our lab and cultured at 25 C on potatodextrose agar PDA medium for further experiment. Wheat grains purchased from alocal grocery store were used to prepare A. bisporus spawn as described by Cheng 1999 .Composting and sampling Composting was conducted in the fermentation room of our experimental base located in Hangzhou Zhejiang province between 2015 and 2017. The composting windrows 5 2.0 1.8 m each contain a 600 kg mixture consisting of Agriculture straw rapeseed cake Ca SO4 2H2O Ca H2PO4 2 H2O NH4 2SO4 and urea CON2H4 with the formulationsof ingredients listed in S1.Before composting stage the raw material were mixed and wetted by manual sprayingto adjust the moisture around 75 and 200 g samples M were collected in triplicate.At Phase I of the 3 th I.F 6 th I.S and 10 th I.T day the windrows were turned onto keep the concentration of O2sufficient and enhance the composting process. Ca CO3and water were added manually to maintain the p H 6-8 and moisture content 60-70 during the turning data in S2 . Phase II II consisting of 6 days was characterized bya rapid increase in temperature up to 60 C for 8-9 h followed by stabilization of thecompost temperature to 45-50 C for 5 days and gradual cooling to 25 C. Samples atfour different stage 200 g each were collected and dried using a vacuum freeze dryer aspreviously described Song et al. 2014 then stored at -80 C for further analysis.Analysis of physical and chemical properties Throughout Phase I and II the temperature of the tunnel was monitored by tubularmercurial thermometers continuously placed in the middle of the compost Kai Longda Instrument Co. Tianjin China .The water content was measured by water analyzer Ohaus MB25 with 5 g sub-samples. The p H values were determined with an electronicp H meter Mettler-Toledo Instruments Co. Ltd. Shanghai China using 10 w/v sample suspensions in distilled water were used. The total nitrogen N and carbon C levels were assayed by the methods of Kjeldahl Bremner Mulvaney 1982 and K2Cr2O3oxidation Fan 2007 and then C/N ratios were calculated. In addition the fiber profiles including crude fiber of the cell wall cellulose hemicellulose and acid digestible lignin ADL were analyzed as described by Van Soest Robertson Lewis 1991 . The percentageof dry matter losses was calculated according to the following equations Dry matter loss the dry matter weight after Phase II/the dry matter of initial formulation 100 .AS stem sub-samples for transmission electron microscopy The sub-stem samples three cm long were obtained from dried samples of six different AScomposts collected after Phase II. Each sample was prepared and subjected to the methoddescribed by Song et al. 2014 . The samples were examined using a JEM-1230 transmissionelectron microscope TEM .Song et al. 2021 Peer J DOI 10.7717/peerj.104523/19Determination of mushroom yields The mushroom yields were recorded from 2015-2017 for three years. The pawning rate ofsix different pasteurized compost was 1 w/w . Then the spawned compost was dividedinto 15.0 kg samples wet weight moisture content 65 and transferred to a 45-35 24 cm plastic cultivation boxes. After growing the mycelia at 22-25 C for 25 days the casing soil was overlaidto initiate primordium formation. Fruit bodies in different AScomposts were harvested and the weights of the total fresh mushroom yields TY g/kgsubstrate during the harvesting period as well as the 1-3 flushes T3 of fruit bodies wererecorded. Biological efficiency BE value'"
      ]
     },
     "execution_count": 34,
     "metadata": {},
     "output_type": "execute_result"
    }
   ],
   "source": [
    "textp = extract_text_from_pdf('data/train/PDF/10.7717_peerj.10452.pdf')\n",
    "textp[:10000]"
   ]
  },
  {
   "cell_type": "code",
   "execution_count": null,
   "id": "e0ebc74e",
   "metadata": {},
   "outputs": [],
   "source": [
    "\n",
    "def extract_context(text, pattern, window=30):\n",
    "    \"\"\"\n",
    "    Extract context around regex matches from given text.\n",
    "\n",
    "    Parameters:\n",
    "    - text (str): Input document text.\n",
    "    - pattern (str): Regex pattern to match.\n",
    "    - window (int): Number of words before and after match to include in context.\n",
    "\n",
    "    Returns:\n",
    "    - List of dicts with 'match' and 'context' keys.\n",
    "    \"\"\"\n",
    "\n",
    "    matches = []\n",
    "\n",
    "    # Tokenize the full text once\n",
    "    tokens = text.split()\n",
    "\n",
    "    # Map character index → token index\n",
    "    char_to_token = {}\n",
    "    index = 0\n",
    "    for i, tok in enumerate(tokens):\n",
    "        index = text.find(tok, index)\n",
    "        for j in range(index, index + len(tok)):\n",
    "            char_to_token[j] = i\n",
    "        index += len(tok)\n",
    "\n",
    "    # Find matches using re.finditer()\n",
    "    for match in re.finditer(pattern, text):\n",
    "        raw_match = match.group()\n",
    "        cleaned_match = re.sub(r'[\\s\\-]', '', raw_match)  # Remove spaces/dashes inside ID\n",
    "\n",
    "        start_char = match.start()\n",
    "\n",
    "        if start_char in char_to_token:\n",
    "            token_index = char_to_token[start_char]\n",
    "            start = max(0, token_index - window)\n",
    "            end = min(len(tokens), token_index + window + 1)\n",
    "            context_window = tokens[start:end]\n",
    "\n",
    "            matches.append({\n",
    "                'match': cleaned_match,\n",
    "                'context': ' '.join(context_window)\n",
    "            })\n",
    "\n",
    "    return matches"
   ]
  },
  {
   "cell_type": "code",
   "execution_count": null,
   "id": "327dbeb3",
   "metadata": {},
   "outputs": [],
   "source": [
    "extract_context(textp, r'SAMN\\d{8}')\n"
   ]
  },
  {
   "cell_type": "code",
   "execution_count": null,
   "id": "bec628bf",
   "metadata": {},
   "outputs": [],
   "source": [
    "extract_context(textp, r'EPI_ISL_\\d+')"
   ]
  },
  {
   "cell_type": "code",
   "execution_count": null,
   "id": "3dbeda93",
   "metadata": {},
   "outputs": [
    {
     "data": {
      "text/plain": [
       "[{'match': 'SAMN16233641',\n",
       "  'context': 'draft.DNA Deposition The following information was supplied regarding the deposition of DNA sequences The 16s RNA sequences of compost for Agaricus bisporus production are available at Gen Bank PRJNA664798.Bio Sample SAMN16233641 SAMN16233642 SAMN16233643 SAMN16233644 SAMN16233645 SAMN16233646 SAMN16233647 SAMN16233648 SAMN16233649 SAMN16233650 SAMN16233651 SAMN16233652 SAMN16233653 SAMN16233654 SAMN16233655 SAMN16233656 SAMN16233657 SAMN16233658 SAMN16233659 SAMN16233660 SAMN16233661 SAMN16233662 SAMN16233663 SAMN16233664.The 16s RNA sequences of compost for Agaricus'},\n",
       " {'match': 'SAMN16233642',\n",
       "  'context': 'Deposition The following information was supplied regarding the deposition of DNA sequences The 16s RNA sequences of compost for Agaricus bisporus production are available at Gen Bank PRJNA664798.Bio Sample SAMN16233641 SAMN16233642 SAMN16233643 SAMN16233644 SAMN16233645 SAMN16233646 SAMN16233647 SAMN16233648 SAMN16233649 SAMN16233650 SAMN16233651 SAMN16233652 SAMN16233653 SAMN16233654 SAMN16233655 SAMN16233656 SAMN16233657 SAMN16233658 SAMN16233659 SAMN16233660 SAMN16233661 SAMN16233662 SAMN16233663 SAMN16233664.The 16s RNA sequences of compost for Agaricus bisporus'},\n",
       " {'match': 'SAMN16233643',\n",
       "  'context': 'The following information was supplied regarding the deposition of DNA sequences The 16s RNA sequences of compost for Agaricus bisporus production are available at Gen Bank PRJNA664798.Bio Sample SAMN16233641 SAMN16233642 SAMN16233643 SAMN16233644 SAMN16233645 SAMN16233646 SAMN16233647 SAMN16233648 SAMN16233649 SAMN16233650 SAMN16233651 SAMN16233652 SAMN16233653 SAMN16233654 SAMN16233655 SAMN16233656 SAMN16233657 SAMN16233658 SAMN16233659 SAMN16233660 SAMN16233661 SAMN16233662 SAMN16233663 SAMN16233664.The 16s RNA sequences of compost for Agaricus bisporus production'},\n",
       " {'match': 'SAMN16233644',\n",
       "  'context': 'following information was supplied regarding the deposition of DNA sequences The 16s RNA sequences of compost for Agaricus bisporus production are available at Gen Bank PRJNA664798.Bio Sample SAMN16233641 SAMN16233642 SAMN16233643 SAMN16233644 SAMN16233645 SAMN16233646 SAMN16233647 SAMN16233648 SAMN16233649 SAMN16233650 SAMN16233651 SAMN16233652 SAMN16233653 SAMN16233654 SAMN16233655 SAMN16233656 SAMN16233657 SAMN16233658 SAMN16233659 SAMN16233660 SAMN16233661 SAMN16233662 SAMN16233663 SAMN16233664.The 16s RNA sequences of compost for Agaricus bisporus production are'},\n",
       " {'match': 'SAMN16233645',\n",
       "  'context': 'information was supplied regarding the deposition of DNA sequences The 16s RNA sequences of compost for Agaricus bisporus production are available at Gen Bank PRJNA664798.Bio Sample SAMN16233641 SAMN16233642 SAMN16233643 SAMN16233644 SAMN16233645 SAMN16233646 SAMN16233647 SAMN16233648 SAMN16233649 SAMN16233650 SAMN16233651 SAMN16233652 SAMN16233653 SAMN16233654 SAMN16233655 SAMN16233656 SAMN16233657 SAMN16233658 SAMN16233659 SAMN16233660 SAMN16233661 SAMN16233662 SAMN16233663 SAMN16233664.The 16s RNA sequences of compost for Agaricus bisporus production are also'},\n",
       " {'match': 'SAMN16233646',\n",
       "  'context': 'was supplied regarding the deposition of DNA sequences The 16s RNA sequences of compost for Agaricus bisporus production are available at Gen Bank PRJNA664798.Bio Sample SAMN16233641 SAMN16233642 SAMN16233643 SAMN16233644 SAMN16233645 SAMN16233646 SAMN16233647 SAMN16233648 SAMN16233649 SAMN16233650 SAMN16233651 SAMN16233652 SAMN16233653 SAMN16233654 SAMN16233655 SAMN16233656 SAMN16233657 SAMN16233658 SAMN16233659 SAMN16233660 SAMN16233661 SAMN16233662 SAMN16233663 SAMN16233664.The 16s RNA sequences of compost for Agaricus bisporus production are also availableat'},\n",
       " {'match': 'SAMN16233647',\n",
       "  'context': 'supplied regarding the deposition of DNA sequences The 16s RNA sequences of compost for Agaricus bisporus production are available at Gen Bank PRJNA664798.Bio Sample SAMN16233641 SAMN16233642 SAMN16233643 SAMN16233644 SAMN16233645 SAMN16233646 SAMN16233647 SAMN16233648 SAMN16233649 SAMN16233650 SAMN16233651 SAMN16233652 SAMN16233653 SAMN16233654 SAMN16233655 SAMN16233656 SAMN16233657 SAMN16233658 SAMN16233659 SAMN16233660 SAMN16233661 SAMN16233662 SAMN16233663 SAMN16233664.The 16s RNA sequences of compost for Agaricus bisporus production are also availableat Figshare'},\n",
       " {'match': 'SAMN16233648',\n",
       "  'context': 'regarding the deposition of DNA sequences The 16s RNA sequences of compost for Agaricus bisporus production are available at Gen Bank PRJNA664798.Bio Sample SAMN16233641 SAMN16233642 SAMN16233643 SAMN16233644 SAMN16233645 SAMN16233646 SAMN16233647 SAMN16233648 SAMN16233649 SAMN16233650 SAMN16233651 SAMN16233652 SAMN16233653 SAMN16233654 SAMN16233655 SAMN16233656 SAMN16233657 SAMN16233658 SAMN16233659 SAMN16233660 SAMN16233661 SAMN16233662 SAMN16233663 SAMN16233664.The 16s RNA sequences of compost for Agaricus bisporus production are also availableat Figshare 1'},\n",
       " {'match': 'SAMN16233649',\n",
       "  'context': 'the deposition of DNA sequences The 16s RNA sequences of compost for Agaricus bisporus production are available at Gen Bank PRJNA664798.Bio Sample SAMN16233641 SAMN16233642 SAMN16233643 SAMN16233644 SAMN16233645 SAMN16233646 SAMN16233647 SAMN16233648 SAMN16233649 SAMN16233650 SAMN16233651 SAMN16233652 SAMN16233653 SAMN16233654 SAMN16233655 SAMN16233656 SAMN16233657 SAMN16233658 SAMN16233659 SAMN16233660 SAMN16233661 SAMN16233662 SAMN16233663 SAMN16233664.The 16s RNA sequences of compost for Agaricus bisporus production are also availableat Figshare 1 SONG'},\n",
       " {'match': 'SAMN16233650',\n",
       "  'context': 'deposition of DNA sequences The 16s RNA sequences of compost for Agaricus bisporus production are available at Gen Bank PRJNA664798.Bio Sample SAMN16233641 SAMN16233642 SAMN16233643 SAMN16233644 SAMN16233645 SAMN16233646 SAMN16233647 SAMN16233648 SAMN16233649 SAMN16233650 SAMN16233651 SAMN16233652 SAMN16233653 SAMN16233654 SAMN16233655 SAMN16233656 SAMN16233657 SAMN16233658 SAMN16233659 SAMN16233660 SAMN16233661 SAMN16233662 SAMN16233663 SAMN16233664.The 16s RNA sequences of compost for Agaricus bisporus production are also availableat Figshare 1 SONG TINGTING'},\n",
       " {'match': 'SAMN16233651',\n",
       "  'context': 'of DNA sequences The 16s RNA sequences of compost for Agaricus bisporus production are available at Gen Bank PRJNA664798.Bio Sample SAMN16233641 SAMN16233642 SAMN16233643 SAMN16233644 SAMN16233645 SAMN16233646 SAMN16233647 SAMN16233648 SAMN16233649 SAMN16233650 SAMN16233651 SAMN16233652 SAMN16233653 SAMN16233654 SAMN16233655 SAMN16233656 SAMN16233657 SAMN16233658 SAMN16233659 SAMN16233660 SAMN16233661 SAMN16233662 SAMN16233663 SAMN16233664.The 16s RNA sequences of compost for Agaricus bisporus production are also availableat Figshare 1 SONG TINGTING 2020'},\n",
       " {'match': 'SAMN16233652',\n",
       "  'context': 'DNA sequences The 16s RNA sequences of compost for Agaricus bisporus production are available at Gen Bank PRJNA664798.Bio Sample SAMN16233641 SAMN16233642 SAMN16233643 SAMN16233644 SAMN16233645 SAMN16233646 SAMN16233647 SAMN16233648 SAMN16233649 SAMN16233650 SAMN16233651 SAMN16233652 SAMN16233653 SAMN16233654 SAMN16233655 SAMN16233656 SAMN16233657 SAMN16233658 SAMN16233659 SAMN16233660 SAMN16233661 SAMN16233662 SAMN16233663 SAMN16233664.The 16s RNA sequences of compost for Agaricus bisporus production are also availableat Figshare 1 SONG TINGTING 2020 II.CS.fastq.'},\n",
       " {'match': 'SAMN16233653',\n",
       "  'context': 'sequences The 16s RNA sequences of compost for Agaricus bisporus production are available at Gen Bank PRJNA664798.Bio Sample SAMN16233641 SAMN16233642 SAMN16233643 SAMN16233644 SAMN16233645 SAMN16233646 SAMN16233647 SAMN16233648 SAMN16233649 SAMN16233650 SAMN16233651 SAMN16233652 SAMN16233653 SAMN16233654 SAMN16233655 SAMN16233656 SAMN16233657 SAMN16233658 SAMN16233659 SAMN16233660 SAMN16233661 SAMN16233662 SAMN16233663 SAMN16233664.The 16s RNA sequences of compost for Agaricus bisporus production are also availableat Figshare 1 SONG TINGTING 2020 II.CS.fastq. figshare.'},\n",
       " {'match': 'SAMN16233654',\n",
       "  'context': 'The 16s RNA sequences of compost for Agaricus bisporus production are available at Gen Bank PRJNA664798.Bio Sample SAMN16233641 SAMN16233642 SAMN16233643 SAMN16233644 SAMN16233645 SAMN16233646 SAMN16233647 SAMN16233648 SAMN16233649 SAMN16233650 SAMN16233651 SAMN16233652 SAMN16233653 SAMN16233654 SAMN16233655 SAMN16233656 SAMN16233657 SAMN16233658 SAMN16233659 SAMN16233660 SAMN16233661 SAMN16233662 SAMN16233663 SAMN16233664.The 16s RNA sequences of compost for Agaricus bisporus production are also availableat Figshare 1 SONG TINGTING 2020 II.CS.fastq. figshare. Dataset.'},\n",
       " {'match': 'SAMN16233655',\n",
       "  'context': '16s RNA sequences of compost for Agaricus bisporus production are available at Gen Bank PRJNA664798.Bio Sample SAMN16233641 SAMN16233642 SAMN16233643 SAMN16233644 SAMN16233645 SAMN16233646 SAMN16233647 SAMN16233648 SAMN16233649 SAMN16233650 SAMN16233651 SAMN16233652 SAMN16233653 SAMN16233654 SAMN16233655 SAMN16233656 SAMN16233657 SAMN16233658 SAMN16233659 SAMN16233660 SAMN16233661 SAMN16233662 SAMN16233663 SAMN16233664.The 16s RNA sequences of compost for Agaricus bisporus production are also availableat Figshare 1 SONG TINGTING 2020 II.CS.fastq. figshare. Dataset. Available'},\n",
       " {'match': 'SAMN16233656',\n",
       "  'context': 'RNA sequences of compost for Agaricus bisporus production are available at Gen Bank PRJNA664798.Bio Sample SAMN16233641 SAMN16233642 SAMN16233643 SAMN16233644 SAMN16233645 SAMN16233646 SAMN16233647 SAMN16233648 SAMN16233649 SAMN16233650 SAMN16233651 SAMN16233652 SAMN16233653 SAMN16233654 SAMN16233655 SAMN16233656 SAMN16233657 SAMN16233658 SAMN16233659 SAMN16233660 SAMN16233661 SAMN16233662 SAMN16233663 SAMN16233664.The 16s RNA sequences of compost for Agaricus bisporus production are also availableat Figshare 1 SONG TINGTING 2020 II.CS.fastq. figshare. Dataset. Available at'},\n",
       " {'match': 'SAMN16233657',\n",
       "  'context': 'sequences of compost for Agaricus bisporus production are available at Gen Bank PRJNA664798.Bio Sample SAMN16233641 SAMN16233642 SAMN16233643 SAMN16233644 SAMN16233645 SAMN16233646 SAMN16233647 SAMN16233648 SAMN16233649 SAMN16233650 SAMN16233651 SAMN16233652 SAMN16233653 SAMN16233654 SAMN16233655 SAMN16233656 SAMN16233657 SAMN16233658 SAMN16233659 SAMN16233660 SAMN16233661 SAMN16233662 SAMN16233663 SAMN16233664.The 16s RNA sequences of compost for Agaricus bisporus production are also availableat Figshare 1 SONG TINGTING 2020 II.CS.fastq. figshare. Dataset. Available at https'},\n",
       " {'match': 'SAMN16233658',\n",
       "  'context': 'of compost for Agaricus bisporus production are available at Gen Bank PRJNA664798.Bio Sample SAMN16233641 SAMN16233642 SAMN16233643 SAMN16233644 SAMN16233645 SAMN16233646 SAMN16233647 SAMN16233648 SAMN16233649 SAMN16233650 SAMN16233651 SAMN16233652 SAMN16233653 SAMN16233654 SAMN16233655 SAMN16233656 SAMN16233657 SAMN16233658 SAMN16233659 SAMN16233660 SAMN16233661 SAMN16233662 SAMN16233663 SAMN16233664.The 16s RNA sequences of compost for Agaricus bisporus production are also availableat Figshare 1 SONG TINGTING 2020 II.CS.fastq. figshare. Dataset. Available at https //doi.org/10.6084/m9.figshare.12764129.v1Song'},\n",
       " {'match': 'SAMN16233659',\n",
       "  'context': 'compost for Agaricus bisporus production are available at Gen Bank PRJNA664798.Bio Sample SAMN16233641 SAMN16233642 SAMN16233643 SAMN16233644 SAMN16233645 SAMN16233646 SAMN16233647 SAMN16233648 SAMN16233649 SAMN16233650 SAMN16233651 SAMN16233652 SAMN16233653 SAMN16233654 SAMN16233655 SAMN16233656 SAMN16233657 SAMN16233658 SAMN16233659 SAMN16233660 SAMN16233661 SAMN16233662 SAMN16233663 SAMN16233664.The 16s RNA sequences of compost for Agaricus bisporus production are also availableat Figshare 1 SONG TINGTING 2020 II.CS.fastq. figshare. Dataset. Available at https //doi.org/10.6084/m9.figshare.12764129.v1Song et'},\n",
       " {'match': 'SAMN16233660',\n",
       "  'context': 'for Agaricus bisporus production are available at Gen Bank PRJNA664798.Bio Sample SAMN16233641 SAMN16233642 SAMN16233643 SAMN16233644 SAMN16233645 SAMN16233646 SAMN16233647 SAMN16233648 SAMN16233649 SAMN16233650 SAMN16233651 SAMN16233652 SAMN16233653 SAMN16233654 SAMN16233655 SAMN16233656 SAMN16233657 SAMN16233658 SAMN16233659 SAMN16233660 SAMN16233661 SAMN16233662 SAMN16233663 SAMN16233664.The 16s RNA sequences of compost for Agaricus bisporus production are also availableat Figshare 1 SONG TINGTING 2020 II.CS.fastq. figshare. Dataset. Available at https //doi.org/10.6084/m9.figshare.12764129.v1Song et al.'},\n",
       " {'match': 'SAMN16233661',\n",
       "  'context': 'Agaricus bisporus production are available at Gen Bank PRJNA664798.Bio Sample SAMN16233641 SAMN16233642 SAMN16233643 SAMN16233644 SAMN16233645 SAMN16233646 SAMN16233647 SAMN16233648 SAMN16233649 SAMN16233650 SAMN16233651 SAMN16233652 SAMN16233653 SAMN16233654 SAMN16233655 SAMN16233656 SAMN16233657 SAMN16233658 SAMN16233659 SAMN16233660 SAMN16233661 SAMN16233662 SAMN16233663 SAMN16233664.The 16s RNA sequences of compost for Agaricus bisporus production are also availableat Figshare 1 SONG TINGTING 2020 II.CS.fastq. figshare. Dataset. Available at https //doi.org/10.6084/m9.figshare.12764129.v1Song et al. 2021'},\n",
       " {'match': 'SAMN16233662',\n",
       "  'context': 'bisporus production are available at Gen Bank PRJNA664798.Bio Sample SAMN16233641 SAMN16233642 SAMN16233643 SAMN16233644 SAMN16233645 SAMN16233646 SAMN16233647 SAMN16233648 SAMN16233649 SAMN16233650 SAMN16233651 SAMN16233652 SAMN16233653 SAMN16233654 SAMN16233655 SAMN16233656 SAMN16233657 SAMN16233658 SAMN16233659 SAMN16233660 SAMN16233661 SAMN16233662 SAMN16233663 SAMN16233664.The 16s RNA sequences of compost for Agaricus bisporus production are also availableat Figshare 1 SONG TINGTING 2020 II.CS.fastq. figshare. Dataset. Available at https //doi.org/10.6084/m9.figshare.12764129.v1Song et al. 2021 Peer'},\n",
       " {'match': 'SAMN16233663',\n",
       "  'context': 'production are available at Gen Bank PRJNA664798.Bio Sample SAMN16233641 SAMN16233642 SAMN16233643 SAMN16233644 SAMN16233645 SAMN16233646 SAMN16233647 SAMN16233648 SAMN16233649 SAMN16233650 SAMN16233651 SAMN16233652 SAMN16233653 SAMN16233654 SAMN16233655 SAMN16233656 SAMN16233657 SAMN16233658 SAMN16233659 SAMN16233660 SAMN16233661 SAMN16233662 SAMN16233663 SAMN16233664.The 16s RNA sequences of compost for Agaricus bisporus production are also availableat Figshare 1 SONG TINGTING 2020 II.CS.fastq. figshare. Dataset. Available at https //doi.org/10.6084/m9.figshare.12764129.v1Song et al. 2021 Peer J'},\n",
       " {'match': 'SAMN16233664',\n",
       "  'context': 'are available at Gen Bank PRJNA664798.Bio Sample SAMN16233641 SAMN16233642 SAMN16233643 SAMN16233644 SAMN16233645 SAMN16233646 SAMN16233647 SAMN16233648 SAMN16233649 SAMN16233650 SAMN16233651 SAMN16233652 SAMN16233653 SAMN16233654 SAMN16233655 SAMN16233656 SAMN16233657 SAMN16233658 SAMN16233659 SAMN16233660 SAMN16233661 SAMN16233662 SAMN16233663 SAMN16233664.The 16s RNA sequences of compost for Agaricus bisporus production are also availableat Figshare 1 SONG TINGTING 2020 II.CS.fastq. figshare. Dataset. Available at https //doi.org/10.6084/m9.figshare.12764129.v1Song et al. 2021 Peer J DOI'}]"
      ]
     },
     "execution_count": 40,
     "metadata": {},
     "output_type": "execute_result"
    }
   ],
   "source": [
    "extract_context(textp, r'SAMN\\d{8}')"
   ]
  },
  {
   "cell_type": "code",
   "execution_count": 41,
   "id": "663a7e34",
   "metadata": {},
   "outputs": [
    {
     "data": {
      "text/plain": [
       "24"
      ]
     },
     "execution_count": 41,
     "metadata": {},
     "output_type": "execute_result"
    }
   ],
   "source": [
    "len(extract_context(textp, r'SAMN\\d{8}'))"
   ]
  },
  {
   "cell_type": "code",
   "execution_count": 42,
   "id": "8f1934b4",
   "metadata": {},
   "outputs": [
    {
     "name": "stdout",
     "output_type": "stream",
     "text": [
      "24\n",
      "['SAMN16233641', 'SAMN16233642', 'SAMN16233643', 'SAMN16233644', 'SAMN16233645', 'SAMN16233646', 'SAMN16233647', 'SAMN16233648', 'SAMN16233649', 'SAMN16233650', 'SAMN16233651', 'SAMN16233652', 'SAMN16233653', 'SAMN16233654', 'SAMN16233655', 'SAMN16233656', 'SAMN16233657', 'SAMN16233658', 'SAMN16233659', 'SAMN16233660', 'SAMN16233661', 'SAMN16233662', 'SAMN16233663', 'SAMN16233664']\n"
     ]
    }
   ],
   "source": [
    "samns = re.findall(r'SAMN[\\s\\-]?\\d{8}', textx)\n",
    "print(len(samns))\n",
    "print(samns)"
   ]
  },
  {
   "cell_type": "code",
   "execution_count": 37,
   "id": "42ffc10a",
   "metadata": {},
   "outputs": [
    {
     "name": "stdout",
     "output_type": "stream",
     "text": [
      "24\n",
      "['SAMN16233641', 'SAMN16233642', 'SAMN16233643', 'SAMN16233644', 'SAMN16233645', 'SAMN16233646', 'SAMN16233647', 'SAMN16233648', 'SAMN16233649', 'SAMN16233650', 'SAMN16233651', 'SAMN16233652', 'SAMN16233653', 'SAMN16233654', 'SAMN16233655', 'SAMN16233656', 'SAMN16233657', 'SAMN16233658', 'SAMN16233659', 'SAMN16233660', 'SAMN16233661', 'SAMN16233662', 'SAMN16233663', 'SAMN16233664']\n"
     ]
    }
   ],
   "source": [
    "samns = re.findall(r'SAMN[\\s\\-]?\\d{8}', textp)\n",
    "print(len(samns))\n",
    "print(samns)"
   ]
  },
  {
   "cell_type": "code",
   "execution_count": 25,
   "id": "69d2ed60",
   "metadata": {},
   "outputs": [
    {
     "name": "stdout",
     "output_type": "stream",
     "text": [
      "/Users/aswinbenny/Downloads/projects/make_data_count/dataset-reference-finder/.venv/bin/python\n"
     ]
    }
   ],
   "source": [
    "import sys\n",
    "print(sys.executable)"
   ]
  },
  {
   "cell_type": "code",
   "execution_count": null,
   "id": "830bf5c6",
   "metadata": {},
   "outputs": [],
   "source": []
  },
  {
   "cell_type": "code",
   "execution_count": null,
   "id": "8b4f04d5",
   "metadata": {},
   "outputs": [],
   "source": []
  },
  {
   "cell_type": "code",
   "execution_count": null,
   "id": "3efd3512",
   "metadata": {},
   "outputs": [],
   "source": []
  }
 ],
 "metadata": {
  "kernelspec": {
   "display_name": "Python 3.10 (DataRefFinder)",
   "language": "python",
   "name": "py10-drfinder"
  },
  "language_info": {
   "codemirror_mode": {
    "name": "ipython",
    "version": 3
   },
   "file_extension": ".py",
   "mimetype": "text/x-python",
   "name": "python",
   "nbconvert_exporter": "python",
   "pygments_lexer": "ipython3",
   "version": "3.10.11"
  }
 },
 "nbformat": 4,
 "nbformat_minor": 5
}
