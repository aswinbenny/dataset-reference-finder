{
 "cells": [
  {
   "cell_type": "code",
   "execution_count": 1,
   "id": "07c763a3",
   "metadata": {},
   "outputs": [],
   "source": [
    "import pandas as pd\n",
    "import numpy as np\n",
    "import ftfy\n",
    "import unicodedata\n",
    "import re\n",
    "from lxml import etree\n",
    "pd.set_option('display.max_columns', None)\n",
    "pd.set_option('display.max_rows', None)"
   ]
  },
  {
   "cell_type": "code",
   "execution_count": 2,
   "id": "72a003ee",
   "metadata": {},
   "outputs": [
    {
     "data": {
      "text/html": [
       "<div>\n",
       "<style scoped>\n",
       "    .dataframe tbody tr th:only-of-type {\n",
       "        vertical-align: middle;\n",
       "    }\n",
       "\n",
       "    .dataframe tbody tr th {\n",
       "        vertical-align: top;\n",
       "    }\n",
       "\n",
       "    .dataframe thead th {\n",
       "        text-align: right;\n",
       "    }\n",
       "</style>\n",
       "<table border=\"1\" class=\"dataframe\">\n",
       "  <thead>\n",
       "    <tr style=\"text-align: right;\">\n",
       "      <th></th>\n",
       "      <th>article_id</th>\n",
       "      <th>dataset_id</th>\n",
       "      <th>type</th>\n",
       "    </tr>\n",
       "  </thead>\n",
       "  <tbody>\n",
       "    <tr>\n",
       "      <th>0</th>\n",
       "      <td>10.1002_2017jc013030</td>\n",
       "      <td>https://doi.org/10.17882/49388</td>\n",
       "      <td>Primary</td>\n",
       "    </tr>\n",
       "    <tr>\n",
       "      <th>1</th>\n",
       "      <td>10.1002_anie.201916483</td>\n",
       "      <td>Missing</td>\n",
       "      <td>Missing</td>\n",
       "    </tr>\n",
       "    <tr>\n",
       "      <th>2</th>\n",
       "      <td>10.1002_anie.202005531</td>\n",
       "      <td>Missing</td>\n",
       "      <td>Missing</td>\n",
       "    </tr>\n",
       "    <tr>\n",
       "      <th>3</th>\n",
       "      <td>10.1002_anie.202007717</td>\n",
       "      <td>Missing</td>\n",
       "      <td>Missing</td>\n",
       "    </tr>\n",
       "    <tr>\n",
       "      <th>4</th>\n",
       "      <td>10.1002_chem.201902131</td>\n",
       "      <td>Missing</td>\n",
       "      <td>Missing</td>\n",
       "    </tr>\n",
       "  </tbody>\n",
       "</table>\n",
       "</div>"
      ],
      "text/plain": [
       "               article_id                      dataset_id     type\n",
       "0    10.1002_2017jc013030  https://doi.org/10.17882/49388  Primary\n",
       "1  10.1002_anie.201916483                         Missing  Missing\n",
       "2  10.1002_anie.202005531                         Missing  Missing\n",
       "3  10.1002_anie.202007717                         Missing  Missing\n",
       "4  10.1002_chem.201902131                         Missing  Missing"
      ]
     },
     "execution_count": 2,
     "metadata": {},
     "output_type": "execute_result"
    }
   ],
   "source": [
    "train_labels = pd.read_csv('data/train_labels.csv')\n",
    "train_labels.head()"
   ]
  },
  {
   "cell_type": "code",
   "execution_count": 3,
   "id": "7f2e421c",
   "metadata": {},
   "outputs": [
    {
     "data": {
      "text/plain": [
       "(1028, 3)"
      ]
     },
     "execution_count": 3,
     "metadata": {},
     "output_type": "execute_result"
    }
   ],
   "source": [
    "train_labels.shape"
   ]
  },
  {
   "cell_type": "code",
   "execution_count": 4,
   "id": "6b8cb966",
   "metadata": {},
   "outputs": [
    {
     "data": {
      "text/plain": [
       "np.int64(0)"
      ]
     },
     "execution_count": 4,
     "metadata": {},
     "output_type": "execute_result"
    }
   ],
   "source": [
    "train_labels['dataset_id'].isna().sum()"
   ]
  },
  {
   "cell_type": "code",
   "execution_count": 5,
   "id": "486de694",
   "metadata": {},
   "outputs": [
    {
     "data": {
      "text/plain": [
       "(309, 3)"
      ]
     },
     "execution_count": 5,
     "metadata": {},
     "output_type": "execute_result"
    }
   ],
   "source": [
    "train_labels[train_labels['dataset_id'] == 'Missing'].shape"
   ]
  },
  {
   "cell_type": "code",
   "execution_count": 6,
   "id": "e69964ab",
   "metadata": {},
   "outputs": [
    {
     "data": {
      "text/plain": [
       "720"
      ]
     },
     "execution_count": 6,
     "metadata": {},
     "output_type": "execute_result"
    }
   ],
   "source": [
    "train_labels['dataset_id'].nunique()"
   ]
  },
  {
   "cell_type": "code",
   "execution_count": 7,
   "id": "7ae09644",
   "metadata": {},
   "outputs": [
    {
     "data": {
      "text/plain": [
       "396"
      ]
     },
     "execution_count": 7,
     "metadata": {},
     "output_type": "execute_result"
    }
   ],
   "source": [
    "train_labels.loc[train_labels['dataset_id'].str.contains('https://doi.org/10'), 'dataset_id'] = 1\n",
    "train_labels.loc[train_labels['dataset_id'] == 'Missing', 'dataset_id'] = 0\n",
    "train_labels['dataset_id'].nunique()"
   ]
  },
  {
   "cell_type": "code",
   "execution_count": 8,
   "id": "89e8e600",
   "metadata": {},
   "outputs": [
    {
     "name": "stdout",
     "output_type": "stream",
     "text": [
      "[1, 0, '5VA1', 'CHEMBL1097', 'CHEMBL1257578', 'CHEMBL1257821', 'CHEMBL1782574', 'CHEMBL195180', 'CHEMBL2424928', 'CHEMBL3422978', 'CHEMBL390649', 'CHEMBL572163', 'CHEMBL70', 'IPR000884', 'IPR001124', 'IPR001577', 'IPR002477', 'IPR002889', 'IPR004007', 'IPR004302', 'IPR004785', 'IPR004911', 'IPR004963', 'IPR004981', 'IPR005524', 'IPR006201', 'IPR008139', 'IPR009613', 'IPR011040', 'IPR011124', 'IPR012338', 'IPR016201', 'IPR017920', 'IPR021345', 'IPR028730', 'IPR029723', 'IPR029787', 'IPR033396', 'IPR036452', 'PF00348', 'PF00484', 'PF01493', 'PF05834', 'PF15461', 'GSE130386', 'SRP184152', 'EMPIAR-10005', 'EMPIAR-10017', 'EMPIAR-10028', 'EMPIAR-10081', 'EMPIAR-10093', 'EMPIAR-10345', 'EMPIAR-10387', 'EMPIAR-10406', 'EMPIAR-10532', 'EMPIAR-10590', 'EMPIAR-10852', 'EMPIAR-11057', 'ENSBTAG00000011038', 'ENSBTAG00000013718', 'ENSBTAG00000017121', 'ENSBTAG00000017131', 'ENSBTAG00000021275', 'ENSBTAG00000047833', 'ENSOARG00000003950', 'ENSOARG00000012128', 'ENSOARG00000012835', 'ENSOARG00000013782', 'ENSOARG00000013966', 'ENSOARG00000014129', 'IPR000264', 'IPR002172', 'IPR014760', 'IPR020857', 'IPR020858', 'IPR021177', 'IPR023415', 'NM_001078656', 'BX119912', 'CP001848', 'CP130886', 'STH00996', 'ENSMMUT00000003274', 'ENSMMUT00000007289', 'ENSMMUT00000008499', 'ENSMMUT00000013362', 'ENSMMUT00000015979', 'ENSMMUT00000017222', 'ENSMMUT00000042190', 'ENSMMUT00000043132', 'ENSMMUT00000047863', 'F6RVJ3', '3.10.180.10', '3.20.20.120', '3.20.20.140', '3.30.450.20', '3.30.450.40', '3.30.930.10', '3.40.30.10', '3.40.50.1000', '3.40.50.1820', '3.40.50.620', '3.40.630.30', '3.90.1200.10', '3.90.226.10', '3.90.228.10', 'PF00106', 'PF03372', 'rs33912345', 'CAB004592', 'CAB010055', 'HPA001426', 'HPA001522', 'HPA001612', 'HPA003156', 'HPA003927', 'HPA007450', 'HPA008063', 'HPA030827', 'HPA042865', 'O75787', 'P17900', 'P21741', 'P23142', 'P24593', 'P24821', 'P51884', 'P53004', 'Q08629', 'Q12907', 'Q96AG4', 'Q99538', 'EPI_ISL_291131', 'EPI_ISL_293286', 'EPI_ISL_293287', 'EPI_ISL_293288', 'EPI_ISL_293289', 'EPI_ISL_293290', 'EPI_ISL_293291', 'EPI_ISL_332358', 'EPI_ISL_332395', 'EPI_ISL_332396', 'EPI_ISL_332399', 'EPI_ISL_332401', 'EPI_ISL_376123', 'EPI_ISL_445001', 'EPI_ISL_445002', 'EPI_ISL_445051', 'EPI_ISL_445052', 'EPI_ISL_445089', 'EPI_ISL_445090', 'EPI_ISL_445091', 'EPI_ISL_445092', 'EPI_ISL_445093', 'K02388', 'K02389', 'K02390', 'K02391', 'K02396', 'K02397', 'K02398', 'K02400', 'K02401', 'K02404', 'K02405', 'K02407', 'K02409', 'K02410', 'K02412', 'K02413', 'K02414', 'K02417', 'K02418', 'K02422', 'PF00248', 'PF00356', 'PF01052', 'PF02154', 'PF03748', 'PF03963', 'PF04347', 'PF04509', 'PF13377', 'CVCL_0213', 'CVCL_0395', 'CVCL_0530', 'CVCL_0627', 'CVCL_1916', 'CVCL_1917', 'CVCL_1918', 'CVCL_1919', 'CVCL_2213', 'CVCL_2235', 'CVCL_3967', 'CVCL_6245', 'CVCL_7151', 'CVCL_D615', 'CVCL_KS61', 'GSE67047', 'GSE87048', 'E-PROT-100', 'E-PROT-101', 'E-PROT-102', 'E-PROT-103', 'E-PROT-104', 'E-PROT-105', 'E-PROT-106', 'E-PROT-107', 'E-PROT-108', 'E-PROT-109', 'E-PROT-110', 'E-PROT-23', 'PXD001676', 'PXD002137', 'PXD005693', 'PXD005709', 'PXD010458', 'PXD014511', 'PXD019504', 'PXD020454', 'PXD031556', 'PXD032899', 'CP013147', 'PRJNA10687', 'PRJNA16146', 'PRJNA16148', 'PRJNA167229', 'PRJNA167235', 'PRJNA167242', 'PRJNA167243', 'PRJNA167255', 'PRJNA167259', 'PRJNA185511', 'PRJNA20133', 'PRJNA217894', 'PRJNA287300', 'PRJNA293', 'PRJNA296687', 'PRJNA32553', 'PRJNA47139', 'PRJNA65041', 'PRJNA65043', 'PRJNA74039', 'PRJNA74077', 'PRJNA74079', 'PRJNA74089', 'PRJNA74123', 'PRJNA74167', 'SRX1830060', 'E-GEOD-19722', 'E-GEOD-28654', 'E-GEOD-29623', 'E-GEOD-39084', 'E-GEOD-45216', 'E-GEOD-45670', 'E-GEOD-46474', 'E-GEOD-48278', 'E-GEOD-48350', 'E-GEOD-48780', 'E-GEOD-49243', 'E-GEOD-50774', 'E-GEOD-53224', 'E-GEOD-53890', 'E-GEOD-54543', 'E-GEOD-54837', 'E-GEOD-58697', 'E-GEOD-59312', 'E-GEOD-60028', 'E-GEOD-61804', 'E-GEOD-63626', 'E-GEOD-64415', 'E-GEOD-64857', 'E-GEOD-67851', 'E-GEOD-68720', '2nrj', '4k1p', '7nmq', 'EPI_ISL_10271777', 'EPI_ISL_13295050', 'EPI_ISL_1626969', 'EPI_ISL_17371329', 'EPI_ISL_2340570', 'EPI_ISL_2340575', 'EPI_ISL_2340581', 'EPI_ISL_2340614', 'EPI_ISL_2340615', 'EPI_ISL_2340626', 'EPI_ISL_2340662', 'EPI_ISL_2365356', 'EPI_ISL_2402571', 'NC_017643.1', 'SAMN07159041', 'SAMN07159044', 'SAMN07159045', 'SAMN08172567', 'SAMN08199278', 'SAMN09534374', 'SAMN12620691', 'SAMN12620692', 'SAMN12620693', 'SAMN12620694', 'SAMN12620697', 'SAMN12620700', 'SAMN12620701', 'SAMN12620702', 'SAMN12620703', 'SAMN12620704', 'SAMN17525956', 'CHEMBL1568820', 'CHEMBL1652119', 'CHEMBL198796', 'CHEMBL243644', 'CHEMBL2436978', 'CHEMBL3109593', 'CHEMBL3311228', 'CHEMBL3752642', 'CHEMBL3960662', 'CHEMBL402487', 'CHEMBL403', 'CHEMBL4065616', 'CHEMBL408500', 'CHEMBL561', 'CHEMBL64391', 'CHEMBL76', 'D10700', 'EPI1018205', 'EPI1018206', 'EPI1018207', 'EPI1018208', 'EPI1018210', 'EPI1018211', 'EPI1019551', 'EPI1019552', 'EPI1019553', 'EPI1019554', 'EPI1019555', 'EPI1019556', 'EPI1019558', 'EPI1104284', 'EPI1104285', 'EPI1104286', 'EPI1104288', 'EPI1183999', 'EPI1184004', 'EPI1184005', 'EPI1184014', 'EPI1387245', 'EPI954552', 'EPI954553', 'EPI954554', 'EPI954555', 'EPI954556', 'EPI954557', 'EPI954559', 'KX000727', 'KX000734', 'ERR2135448', 'PF00078', 'PF02170', 'PF02171', 'PF03368', 'PF05183', 'SRR2429147', 'SRR2430028', 'SRR2430030', 'SRR7962068', 'CHEMBL3347550', 'CHEMBL3347551', 'CHEMBL3733336', 'CVCL_1379', 'MODEL2106070001', 'PRJNA664798', 'SAMN16233641', 'SAMN16233642', 'SAMN16233643', 'SAMN16233644', 'SAMN16233645', 'SAMN16233646', 'SAMN16233647', 'SAMN16233648', 'SAMN16233649', 'SAMN16233650', 'SAMN16233651', 'SAMN16233652', 'SAMN16233653', 'SAMN16233654', 'SAMN16233655', 'SAMN16233656', 'SAMN16233657', 'SAMN16233658', 'SAMN16233659', 'SAMN16233660', 'SAMN16233661', 'SAMN16233662', 'SAMN16233663', 'SAMN16233664']\n"
     ]
    }
   ],
   "source": [
    "print(list(train_labels['dataset_id'].unique()))\n"
   ]
  },
  {
   "cell_type": "code",
   "execution_count": 9,
   "id": "f2695443",
   "metadata": {},
   "outputs": [
    {
     "data": {
      "text/plain": [
       "396"
      ]
     },
     "execution_count": 9,
     "metadata": {},
     "output_type": "execute_result"
    }
   ],
   "source": [
    "len(list(train_labels['dataset_id'].unique()))"
   ]
  },
  {
   "cell_type": "code",
   "execution_count": 10,
   "id": "d9d61eb0",
   "metadata": {},
   "outputs": [],
   "source": [
    "li = list(train_labels['dataset_id'].unique())\n",
    "li = [item for item in li if item not in [0, 1]]\n",
    "\n"
   ]
  },
  {
   "cell_type": "code",
   "execution_count": 11,
   "id": "f954eb71",
   "metadata": {},
   "outputs": [
    {
     "name": "stdout",
     "output_type": "stream",
     "text": [
      "41\n",
      "['SAMN07159041', 'SAMN07159044', 'SAMN07159045', 'SAMN08172567', 'SAMN08199278', 'SAMN09534374', 'SAMN12620691', 'SAMN12620692', 'SAMN12620693', 'SAMN12620694', 'SAMN12620697', 'SAMN12620700', 'SAMN12620701', 'SAMN12620702', 'SAMN12620703', 'SAMN12620704', 'SAMN17525956', 'SAMN16233641', 'SAMN16233642', 'SAMN16233643', 'SAMN16233644', 'SAMN16233645', 'SAMN16233646', 'SAMN16233647', 'SAMN16233648', 'SAMN16233649', 'SAMN16233650', 'SAMN16233651', 'SAMN16233652', 'SAMN16233653', 'SAMN16233654', 'SAMN16233655', 'SAMN16233656', 'SAMN16233657', 'SAMN16233658', 'SAMN16233659', 'SAMN16233660', 'SAMN16233661', 'SAMN16233662', 'SAMN16233663', 'SAMN16233664']\n"
     ]
    }
   ],
   "source": [
    "samn = [item for item in li if item.startswith('SAMN')]\n",
    "print(len(samn))\n",
    "print(samn)"
   ]
  },
  {
   "cell_type": "code",
   "execution_count": 12,
   "id": "fadaf47a",
   "metadata": {},
   "outputs": [
    {
     "name": "stdout",
     "output_type": "stream",
     "text": [
      "41\n",
      "['SAMN07159041', 'SAMN07159044', 'SAMN07159045', 'SAMN08172567', 'SAMN08199278', 'SAMN09534374', 'SAMN12620691', 'SAMN12620692', 'SAMN12620693', 'SAMN12620694', 'SAMN12620697', 'SAMN12620700', 'SAMN12620701', 'SAMN12620702', 'SAMN12620703', 'SAMN12620704', 'SAMN17525956', 'SAMN16233641', 'SAMN16233642', 'SAMN16233643', 'SAMN16233644', 'SAMN16233645', 'SAMN16233646', 'SAMN16233647', 'SAMN16233648', 'SAMN16233649', 'SAMN16233650', 'SAMN16233651', 'SAMN16233652', 'SAMN16233653', 'SAMN16233654', 'SAMN16233655', 'SAMN16233656', 'SAMN16233657', 'SAMN16233658', 'SAMN16233659', 'SAMN16233660', 'SAMN16233661', 'SAMN16233662', 'SAMN16233663', 'SAMN16233664']\n"
     ]
    }
   ],
   "source": [
    "samns = re.findall(r'\\bSAMN\\d{8}\\b', ' '.join(li))\n",
    "print(len(samns))\n",
    "print(samns)"
   ]
  },
  {
   "cell_type": "code",
   "execution_count": 13,
   "id": "228105bb",
   "metadata": {},
   "outputs": [
    {
     "name": "stdout",
     "output_type": "stream",
     "text": [
      "29\n",
      "['CHEMBL1097', 'CHEMBL1257578', 'CHEMBL1257821', 'CHEMBL1782574', 'CHEMBL195180', 'CHEMBL2424928', 'CHEMBL3422978', 'CHEMBL390649', 'CHEMBL572163', 'CHEMBL70', 'CHEMBL1568820', 'CHEMBL1652119', 'CHEMBL198796', 'CHEMBL243644', 'CHEMBL2436978', 'CHEMBL3109593', 'CHEMBL3311228', 'CHEMBL3752642', 'CHEMBL3960662', 'CHEMBL402487', 'CHEMBL403', 'CHEMBL4065616', 'CHEMBL408500', 'CHEMBL561', 'CHEMBL64391', 'CHEMBL76', 'CHEMBL3347550', 'CHEMBL3347551', 'CHEMBL3733336']\n"
     ]
    }
   ],
   "source": [
    "che = [item for item in li if item.startswith('CHEMBL')]\n",
    "print(len( che))\n",
    "print(che)"
   ]
  },
  {
   "cell_type": "code",
   "execution_count": 14,
   "id": "0f16f592",
   "metadata": {},
   "outputs": [],
   "source": [
    "import re\n",
    "import ftfy\n",
    "import unicodedata\n",
    "\n",
    "def clean_text(text):\n",
    "    # 1. Fix encoding issues like mojibake or smart quotes\n",
    "    text = ftfy.fix_text(text)\n",
    "\n",
    "    # 2. Normalize ligatures and full-width characters\n",
    "    text = unicodedata.normalize(\"NFKC\", text)\n",
    "\n",
    "    # 3. Remove non-printable control characters (ASCII 0–31 and 127)\n",
    "    text = re.sub(r'[\\x00-\\x1F\\x7F]', '', text)\n",
    "\n",
    "    # 4. Remove unnecessary backslashes before quotes (like d\\'Océanographie → d'Océanographie)\n",
    "    text = re.sub(r'\\\\([\\'\"“”‘’`´])', r'\\1', text)\n",
    "\n",
    "    # 5. Add space between glued lowercase-uppercase boundaries (e.g., datasetEuropean → dataset European)\n",
    "    text = re.sub(r'(?<=[a-z])(?=[A-Z])', ' ', text)\n",
    "\n",
    "    # 6. Insert space before URLs (e.g., doihttps://... → doi https://...)\n",
    "    text = re.sub(r'(?<=[a-zA-Z])(?=https?://)', ' ', text)\n",
    "\n",
    "    # 7. Flatten all whitespace (spaces, tabs, newlines) into a single space\n",
    "    text = re.sub(r'\\s+', ' ', text)\n",
    "\n",
    "    # 8. Remove any leftover leading/trailing space\n",
    "    return text.strip()"
   ]
  },
  {
   "cell_type": "code",
   "execution_count": 15,
   "id": "c239869c",
   "metadata": {},
   "outputs": [],
   "source": [
    "\n",
    "\n",
    "def extract_text_from_xml(xml_path):\n",
    "    parser = etree.XMLParser(recover=True)\n",
    "    tree = etree.parse(xml_path, parser)\n",
    "    root = tree.getroot()\n",
    "    text_parts = []\n",
    "    for elem in root.iter():\n",
    "        if elem.text:\n",
    "            text_parts.append(elem.text.strip())\n",
    "    \n",
    "    text =  ''.join(text_parts)\n",
    "    return clean_text(text)"
   ]
  },
  {
   "cell_type": "code",
   "execution_count": 16,
   "id": "afb8cbef",
   "metadata": {},
   "outputs": [
    {
     "data": {
      "text/plain": [
       "'Assessing the variability in the relationship between the particulate backscattering coefficient and the chlorophyll a concentration from a global Biogeochemical-Argo database European Union European Commission GMMC)LEFE Cyber British Natural Environment Research Council -NERCCNES-TOSCAAgence Nationale de la Recherche Italian Ministry of Education, University and Research -MIUR)European Research Council Argo-Italy Marie Barbieuxbarbieux@obs-vlfr.fr-Sorbonne Universités, UPMC Univ Paris 06, CNRS, Observatoire Océanologique de Villefranche (OOV), Laboratoire d\\'Océanographie de Villefranche (LOV), 181 Chemin du Lazaret, 06 230 Villefranche-sur-Mer, France.Sorbonne Universités Observatoire Océanologique de Villefranche (OOV)Laboratoire d\\'Océanographie de Villefranche (LOV)UPMC Univ Paris 06CNRS181 Chemin du Lazaret, 06 230Villefranche-sur-Mer France Julia Uitz-Sorbonne Universités, UPMC Univ Paris 06, CNRS, Observatoire Océanologique de Villefranche (OOV), Laboratoire d\\'Océanographie de Villefranche (LOV), 181 Chemin du Lazaret, 06 230 Villefranche-sur-Mer, France.Sorbonne Universités Observatoire Océanologique de Villefranche (OOV)Laboratoire d\\'Océanographie de Villefranche (LOV)UPMC Univ Paris 06CNRS181 Chemin du Lazaret, 06 230Villefranche-sur-Mer France Annick Bricaud-Sorbonne Universités, UPMC Univ Paris 06, CNRS, Observatoire Océanologique de Villefranche (OOV), Laboratoire d\\'Océanographie de Villefranche (LOV), 181 Chemin du Lazaret, 06 230 Villefranche-sur-Mer, France.Sorbonne Universités Observatoire Océanologique de Villefranche (OOV)Laboratoire d\\'Océanographie de Villefranche (LOV)UPMC Univ Paris 06CNRS181 Chemin du Lazaret, 06 230Villefranche-sur-Mer France Emanuele Organelli-Sorbonne Universités, UPMC Univ Paris 06, CNRS, Observatoire Océanologique de Villefranche (OOV), Laboratoire d\\'Océanographie de Villefranche (LOV), 181 Chemin du Lazaret, 06 230 Villefranche-sur-Mer, France.Sorbonne Universités Observatoire Océanologique de Villefranche (OOV)Laboratoire d\\'Océanographie de Villefranche (LOV)UPMC Univ Paris 06CNRS181 Chemin du Lazaret, 06 230Villefranche-sur-Mer France-Plymouth Marine Laboratory, Prospect Place, The Hoe, PL1 3DH Plymouth, United Kingdom.Plymouth Marine Laboratory Prospect Place, The Hoe PL1 3DHPlymouth United Kingdom Antoine Poteau-Sorbonne Universités, UPMC Univ Paris 06, CNRS, Observatoire Océanologique de Villefranche (OOV), Laboratoire d\\'Océanographie de Villefranche (LOV), 181 Chemin du Lazaret, 06 230 Villefranche-sur-Mer, France.Sorbonne Universités Observatoire Océanologique de Villefranche (OOV)Laboratoire d\\'Océanographie de Villefranche (LOV)UPMC Univ Paris 06CNRS181 Chemin du Lazaret, 06 230Villefranche-sur-Mer France Catherine Schmechtig-OSU Ecce Terra, UMS 3455, CNRS and Université Pierre et Marie Curie, Paris 6, 4 place Jussieu 75252 Paris cedex 05, France OSU Ecce Terra UMS 3455CNRSUniversité Pierre et Marie Curie Paris 6, 4 place Jussieu75252, cedex 05Paris France Bernard Gentili-Sorbonne Universités, UPMC Univ Paris 06, CNRS, Observatoire Océanologique de Villefranche (OOV), Laboratoire d\\'Océanographie de Villefranche (LOV), 181 Chemin du Lazaret, 06 230 Villefranche-sur-Mer, France.Sorbonne Universités Observatoire Océanologique de Villefranche (OOV)Laboratoire d\\'Océanographie de Villefranche (LOV)UPMC Univ Paris 06CNRS181 Chemin du Lazaret, 06 230Villefranche-sur-Mer France Christophe Penkerc\\'h-Sorbonne Universités, UPMC Univ Paris 06, CNRS, Observatoire Océanologique de Villefranche (OOV), Laboratoire d\\'Océanographie de Villefranche (LOV), 181 Chemin du Lazaret, 06 230 Villefranche-sur-Mer, France.Sorbonne Universités Observatoire Océanologique de Villefranche (OOV)Laboratoire d\\'Océanographie de Villefranche (LOV)UPMC Univ Paris 06CNRS181 Chemin du Lazaret, 06 230Villefranche-sur-Mer France Edouard Leymarie-Sorbonne Universités, UPMC Univ Paris 06, CNRS, Observatoire Océanologique de Villefranche (OOV), Laboratoire d\\'Océanographie de Villefranche (LOV), 181 Chemin du Lazaret, 06 230 Villefranche-sur-Mer, France.Sorbonne Universités Observatoire Océanologique de Villefranche (OOV)Laboratoire d\\'Océanographie de Villefranche (LOV)UPMC Univ Paris 06CNRS181 Chemin du Lazaret, 06 230Villefranche-sur-Mer France Fabrizio D\\'ortenzio-Sorbonne Universités, UPMC Univ Paris 06, CNRS, Observatoire Océanologique de Villefranche (OOV), Laboratoire d\\'Océanographie de Villefranche (LOV), 181 Chemin du Lazaret, 06 230 Villefranche-sur-Mer, France.Sorbonne Universités Observatoire Océanologique de Villefranche (OOV)Laboratoire d\\'Océanographie de Villefranche (LOV)UPMC Univ Paris 06CNRS181 Chemin du Lazaret, 06 230Villefranche-sur-Mer France HervéClaustre-Sorbonne Universités, UPMC Univ Paris 06, CNRS, Observatoire Océanologique de Villefranche (OOV), Laboratoire d\\'Océanographie de Villefranche (LOV), 181 Chemin du Lazaret, 06 230 Villefranche-sur-Mer, France.Sorbonne Universités Observatoire Océanologique de Villefranche (OOV)Laboratoire d\\'Océanographie de Villefranche (LOV)UPMC Univ Paris 06CNRS181 Chemin du Lazaret, 06 230Villefranche-sur-Mer France Assessing the variability in the relationship between the particulate backscattering coefficient and the chlorophyll a concentration from a global Biogeochemical-Argo database AC20912767141CFB68EBF1B3F0A47742GROBID - A machine learning software for extracting information from scholarly documents Particle backscattering BGC-Argo profiling floatsoptical propertiesphytoplankton biomassworld\\'s oceans The particulate backscattering coefficient vs chlorophyll a concentration relationship varies along the water column, according to seasons and oceanic regions.-The b bp -to-Chla ratio is a valuable biogeochemical proxy for assessing the nature of the particulate assemblage and revealing photoacclimation processes.-The BGC-Argo float network yields an unprecedented amount of quality data for studying biogeochemical processes at a global scale and along the vertical dimension.INTRODUCTIONOur ability to observe the dynamics of phytoplankton biomass and associated carbon fluxes on relevant space and time scales considerably limits our understanding and prediction skills of the biogeochemical role of phytoplankton in the carbon biological pump(Volk and Hoffert, 1985;Honjo et al., 2014;Legendre et al., 2015)For example, in situ measurements of primary production and phytoplankton carbon biomass are particularly challenging and remain scarce, although novel promising techniques have been recently proposed(Riser and Johnson, 2008;Graff et al., 2012Graff et al., , 2015))To overcome space-time coverage sampling limitations, bio-optical oceanographers have implemented optical sensors on a variety of in situ or remote platforms, from research vessels and moorings to ocean color satellites, gliders and profiling floats, each with specific complementary space-time observation scales(Dickey, 2003;Claustre et al., 2010)Such platforms enable to monitor bio-optical properties that serve as proxies for major biogeochemical variables.Those include the concentration of chlorophyll a (Chla) and the particulate backscattering coefficient at 700 nm (hereafter referred simply as b bp ).The chlorophyll a concentration is the most commonly used proxy for the phytoplankton carbon biomass(Cullen, 1982;Siegel et al., 2013)(Geider, 1993;Staehr et al., 2002;Álvarez et al., 2016)(Geider et al., 1997;Mac Intyre et al., 2002;Halsey and Jones, 2015)In the absence of mineral particles (i.e., in most open-ocean waters), b bp generally covaries with, and is therefore used as a proxy of, the stock of particulate organic carbon (POC)(Stramski et al., 1999;Loisel et al., 2002;Bishop, 2009)However changes in the nature (composition and size) of the particle assemblage may cause large variability in the b bp signal and in the POC-to-b bp relationship(Flory et al., 2004;Gardner et al., 2006;Stramski et al., 2008;Bishop, 2009)Examining bio-optical relationships, which for example link the inherent optical properties of particles such as absorption or scattering, to Chla, has long been an area of active research in bio-optical oceanography(Smith and Baker, 1978a;Mitchell and Holm-Hansen, 1991;Mitchell, 1992;Bricaud et al., 1995;Morel et al., 2007b;Szeto et al., 2011;Huot and Antoine, 2016;Organelli et al., 2017a)Among different types of applications, bio-optical relationships enable deriving biogeochemical information over a broad range of space and time scales from in situ or remote optical measurements(Loisel et al., 2002;Siegel et al., 2005;Huot et al., 2007b)Such relationships are also used in semi-analytical inverse models to interpret remote sensing ocean color data(Gordon et al., 1988;Loisel and Morel, 1998;Morel and Maritorena, 2001)Various studies focused on the relationship between Chla and b bp using data from ocean color remote sensing(Reynolds et al., 2001;Stramska et al., 2003)(Huot et al., 2008;Dall\\'Olmo et al., 2009)(Antoine et al., 2011)(Xing et al., 2014)All of these studies confirmed the principle of the \"bio-optical assumption\"(Smith and Baker, 1978b;Siegel et al., 2005)Yet, depending on the considered data set, previous studies also indicate large second-order variability around the mean b bp vs. Chla power-law relationship(Brown et al., 2008;Huot et al., 2008;Xing et al., 2014)Restricted to a given period of time, region or trophic regime and mainly to the surface layer of the water column, these studies did not lead to a thorough characterization of the variability in the relationship between Chla and b bp over the full range of environments encountered in the open ocean.In addition, these studies involved different methodologies for b bp measurements or retrievals, so that it is difficult to untangle regional and/or seasonal variability from possible methodological biases(Sullivan et al., 2013)The recently launched network of BGC-Argo profiling floats is progressively transforming our capability to observe optical properties and biogeochemical processes in the oce'"
      ]
     },
     "execution_count": 16,
     "metadata": {},
     "output_type": "execute_result"
    }
   ],
   "source": [
    "text = extract_text_from_xml('data/train/XML/10.1002_2017jc013030.xml')\n",
    "text[:10000]"
   ]
  },
  {
   "cell_type": "code",
   "execution_count": 17,
   "id": "d7c3eb2f",
   "metadata": {},
   "outputs": [],
   "source": [
    "import fitz\n",
    "def extract_text_from_pdf(pdf_path):\n",
    "    doc = fitz.open(pdf_path)\n",
    "    text = \"\"\n",
    "    for page in doc:\n",
    "        text += page.get_text()\n",
    "    doc.close()\n",
    "    return clean_text(text)"
   ]
  },
  {
   "cell_type": "code",
   "execution_count": 18,
   "id": "077384f5",
   "metadata": {},
   "outputs": [
    {
     "data": {
      "text/plain": [
       "\"RESEARCH ARTICLE10.1002/2017JC013030Assessing the Variability in the Relationship Between the Particulate Backscattering Coefficient and the Chlorophyll a Concentration From a Global Biogeochemical-Argo Database Marie Barbieux1, Julia Uitz1, Annick Bricaud1, Emanuele Organelli1,2, Antoine Poteau1,Catherine Schmechtig3, Bernard Gentili1, Grigor Obolensky4, Edouard Leymarie1,Christophe Penkerc'h1, Fabrizio D'Ortenzio1, and Herve Claustre11Sorbonne Universites, UPMC Univ Paris 06, CNRS, Observatoire Oceanologique de Villefranche, Laboratoired'Oceanographie de Villefranche, Villefranche-sur-Mer, France, 2Plymouth Marine Laboratory, Prospect Place, The Hoe,Plymouth, United Kingdom, 3OSU Ecce Terra, UMS 3455, CNRS and Universite Pierre et Marie Curie, Paris 6, Paris, France,4ERIC Euro-Argo, 29280 Plouzane, France Abstract Characterizing phytoplankton distribution and dynamics in the world's open oceans requires insitu observations over a broad range of space and time scales. In addition to temperature/salinity measure-ments, Biogeochemical-Argo (BGC-Argo) profiling floats are capable of autonomously observing at high-frequency bio-optical properties such as the chlorophyll fluorescence, a proxy of the chlorophyll a concen-tration (Chla), the particulate backscattering coefficient (bbp), a proxy of the stock of particulate organic car-bon, and the light available for photosynthesis. We analyzed an unprecedented BGC-Argo database of morethan 8,500 multivariable profiles collected in various oceanic conditions, from subpolar waters to subtropicalgyres. Our objective is to refine previously established Chla versus bbp relationships and gain insights intothe sources of vertical, seasonal, and regional variability in this relationship. Despite some regional, seasonaland vertical variations, a general covariation occurs at a global scale. We distinguish two main contrastedsituations: (1) concomitant changes in Chla and bbp that correspond to actual variations in phytoplanktonbiomass, e.g., in subpolar regimes; (2) a decoupling between the two variables attributed to photoacclima-tion or changes in the relative abundance of nonalgal particles, e.g., in subtropical regimes. The variability inthe bbp:Chla ratio in the surface layer appears to be essentially influenced by the type of particles and byphotoacclimation processes. The large BGC-Argo database helps identifying the spatial and temporal scalesat which this ratio is predominantly driven by one or the other of these two factors.1. Introduction Our ability to observe the dynamics of phytoplankton biomass and associated carbon fluxes on relevantspace and time scales considerably limits our understanding and prediction skills of the biogeochemical roleof phytoplankton in the carbon biological pump (Honjo et al., 2014; Legendre et al., 2015; Volk & Hoffert,1985). For example, in situ measurements of primary production and phytoplankton carbon biomass are par-ticularly challenging and remain scarce, although novel promising techniques have been recently proposed(Graff et al., 2012, 2015; Riser & Johnson, 2008). To overcome space-time coverage sampling limitations, bio-optical oceanographers have implemented optical sensors on a variety of in situ or remote platforms, fromresearch vessels and moorings to ocean color satellites, gliders, and profiling floats, each with specific com-plementary space-time observation scales (Claustre et al., 2010; Dickey, 2003). Such platforms enable to mon-itor bio-optical properties that serve as proxies for major biogeochemical variables. Those include theconcentration of chlorophyll a (Chla) and the particulate backscattering coefficient at 700 nm (hereafterreferred simply as bbp). The chlorophyll a concentration is the most commonly used proxy for the phyto-plankton carbon biomass (Cullen, 1982; Siegel et al., 2013), although it is well known that the ratio of Chla tocarbon shows large fluctuations driven by a variety of factors such as phytoplankton physiology (Alvarezet al., 2016; Geider, 1993; Staehr et al., 2002) or community composition (Geider et al., 1997; Halsey & Jones,2015; Mac Intyre et al., 2002). In the absence of mineral particles (i.e., in most open ocean waters), bbp gener-ally covaries with, and is therefore used as a proxy of, the stock of particulate organic carbon (POC; Bishop,Key Points: The bbp-to-Chla relationship variesalong the water column, as well aswith seasons and oceanic regions The bbp-to-Chla ratio is a valuablebiogeochemical proxy for assessingthe nature of the particulateassemblage and revealingphotoacclimation processes The BGC-Argo float network yields anunprecedented amount of qualitydata for studying biogeochemicalprocesses at a global scale and alongthe vertical dimension Supporting Information: Supporting Information S1 Supporting Information S2 Supporting Information S3 Table S1 Table S2 Table S3Correspondence to:M. Barbieux,barbieux@obs-vlfr.fr Citation:Barbieux, M., Uitz, J., Bricaud, A.,Organelli, E., Poteau, A.,Schmechtig, C., . . . Claustre, H. (2018).Assessing the variability in therelationship between the particulatebackscattering coefficient and thechlorophyll a concentration from aglobal Biogeochemical-Argo database.Journal of Geophysical Research:Oceans, 123, 1229–1250. https://doi.org/10.1002/2017JC013030Received 26 APR 2017Accepted 7 DEC 2017Accepted article online 28 DEC 2017Published online 15 FEB 2018VC 2017. American Geophysical Union.All Rights Reserved.BARBIEUX ET AL.1229Journal of Geophysical Research: Oceans PUBLICATIONS2009; Loisel et al., 2002; Stramski et al., 1999). However, changes in the nature (composition and size) ofthe particle assemblage may cause large variability in the bbp signal and in the POC-to-bbp relationship(Bishop, 2009; Flory et al., 2004; Gardner et al., 2006; Stramski et al., 2008).Examining bio-optical relationships, which, for example, link the inherent optical properties of particles suchas absorption or scattering, to Chla, has long been an area of active research in bio-optical oceanography(Bricaud et al., 1995; Huot & Antoine, 2016; Mitchell, 1992; Mitchell & Holm-Hansen, 1991; Morel et al., 2007;Organelli et al., 2017a; Smith & Baker, 1978a; Szeto et al., 2011). Among different types of applications, bio-optical relationships enable deriving biogeochemical information over a broad range of space and timescales from in situ or remote optical measurements (Huot et al., 2007; Loisel et al., 2002; Siegel et al., 2005).Such relationships are also used in semianalytical inverse models to interpret remote sensing ocean colordata (Gordon et al., 1988; Loisel & Morel, 1998; Morel & Maritorena, 2001). Various studies focused on therelationship between Chla and bbp using data from ocean color remote sensing (Reynolds et al., 2001;Stramska et al., 2003), field cruises (Dall'Olmo et al., 2009; Huot et al., 2008), fixed mooring (Antoine et al.,2011), or Biogeochemical-Argo (BGC-Argo) profiling floats (Xing et al., 2014). All of these studies confirmedthe principle of the ''bio-optical assumption'' (Siegel et al., 2005; Smith & Baker, 1978b), suggesting that inopen ocean waters the optical properties of a water mass covary to a first order with Chla. Yet dependingon the considered data set, previous studies also indicate large second-order variability around the meanbbp versus Chla power law relationship (Brown et al., 2008; Huot et al., 2008; Xing et al., 2014). Restricted toa given period of time, region, or trophic regime and mainly to the surface layer of the water column, thesestudies did not lead to a thorough characterization of the variability in the relationship between Chla andbbp over the full range of environments encountered in the open ocean. In addition, these studies involveddifferent methodologies for bbp measurements or retrievals, so that it is difficult to untangle regional and/orseasonal variability from possible methodological biases (Sullivan et al., 2013).The recently launched network of BGC-Argo profiling floats is progressively transforming our capability toobserve optical properties and biogeochemical processes in the oceans (Biogeochemical-Argo Planning Group, 2016; Claustre et al., 2010; IOCCG, 2011; Johnson & Claustre, 2016). The current BGC-Argo bio-opticaldatabase has drastically increased over recent years and now encompasses observations collected in a broadrange of hydrological, trophic, and bio-optical conditions encountered in the world's open oceans (Organelliet al., 2017a, 2017b). Based on homogeneous measurements and processing methodologies, this databaseoffers a unique opportunity to comprehensively reassess bio-optical relationships. Based on the analysis ofmore than 8,500 multivariable profiles collected within the water column (0–1,000 m) by BGC-Argo floats,this study aims to (i) investigate the natural variability around the mean statistical bbp-to-Chla relationship atthe vertical, regional, and seasonal scales and (ii) identify the underlying sources of variability.2. Data and Methods2.1. BGC-Argo Profiling Floats2.1.1. BGC-Argo Database An array of 105 BGC-Argo profiling floats was deployed in several areas of the world's oceans in the frameof several research programs (Organelli et al., 2016a, 2017a). BGC-Argo profiling float real-time data areaccessible online (at ftp://ftp.ifremer.fr/ifremer/argo/dac/coriolis/), distributed as net CDF data files (Wonget al., 2013), and updated daily with new profiles. The quality-controlled database of bio-optical vertical pro-files that supports this work is publicly available from SEANOE (SEA scie Ntific Open data Edition) publisher(Barbieux et al., 2017). In this database, profiles of bbp were eliminated when bathymetry was shallowerthan 400 m and a signature of bbp at depth was noticeable. This allowed us to remove the data collected inwaters where a coastal influence was suspected, Black Sea excepted. Hence, 8908 BGC-Argo multiparameterprofiles or ''stations'' (corresponding\""
      ]
     },
     "execution_count": 18,
     "metadata": {},
     "output_type": "execute_result"
    }
   ],
   "source": [
    "text = extract_text_from_pdf('data/train/PDF/10.1002_2017jc013030.pdf')\n",
    "text[:10000]"
   ]
  },
  {
   "cell_type": "code",
   "execution_count": 16,
   "id": "69d2ed60",
   "metadata": {},
   "outputs": [
    {
     "name": "stdout",
     "output_type": "stream",
     "text": [
      "/Users/aswinbenny/Downloads/projects/make_data_count/dataset-reference-finder/.venv/bin/python\n"
     ]
    }
   ],
   "source": [
    "import sys\n",
    "print(sys.executable)"
   ]
  },
  {
   "cell_type": "code",
   "execution_count": null,
   "id": "830bf5c6",
   "metadata": {},
   "outputs": [],
   "source": []
  }
 ],
 "metadata": {
  "kernelspec": {
   "display_name": "Python 3.10 (DataRefFinder)",
   "language": "python",
   "name": "py10-drfinder"
  },
  "language_info": {
   "codemirror_mode": {
    "name": "ipython",
    "version": 3
   },
   "file_extension": ".py",
   "mimetype": "text/x-python",
   "name": "python",
   "nbconvert_exporter": "python",
   "pygments_lexer": "ipython3",
   "version": "3.10.11"
  }
 },
 "nbformat": 4,
 "nbformat_minor": 5
}
