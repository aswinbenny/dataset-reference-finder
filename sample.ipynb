{
 "cells": [
  {
   "cell_type": "code",
   "execution_count": 1,
   "id": "07c763a3",
   "metadata": {},
   "outputs": [],
   "source": [
    "import pandas as pd\n",
    "import numpy as np\n",
    "import ftfy\n",
    "import unicodedata\n",
    "import re\n",
    "from lxml import etree\n",
    "pd.set_option('display.max_columns', None)\n",
    "pd.set_option('display.max_rows', None)"
   ]
  },
  {
   "cell_type": "code",
   "execution_count": 2,
   "id": "72a003ee",
   "metadata": {},
   "outputs": [
    {
     "data": {
      "text/html": [
       "<div>\n",
       "<style scoped>\n",
       "    .dataframe tbody tr th:only-of-type {\n",
       "        vertical-align: middle;\n",
       "    }\n",
       "\n",
       "    .dataframe tbody tr th {\n",
       "        vertical-align: top;\n",
       "    }\n",
       "\n",
       "    .dataframe thead th {\n",
       "        text-align: right;\n",
       "    }\n",
       "</style>\n",
       "<table border=\"1\" class=\"dataframe\">\n",
       "  <thead>\n",
       "    <tr style=\"text-align: right;\">\n",
       "      <th></th>\n",
       "      <th>article_id</th>\n",
       "      <th>dataset_id</th>\n",
       "      <th>type</th>\n",
       "    </tr>\n",
       "  </thead>\n",
       "  <tbody>\n",
       "    <tr>\n",
       "      <th>0</th>\n",
       "      <td>10.1002_2017jc013030</td>\n",
       "      <td>https://doi.org/10.17882/49388</td>\n",
       "      <td>Primary</td>\n",
       "    </tr>\n",
       "    <tr>\n",
       "      <th>1</th>\n",
       "      <td>10.1002_anie.201916483</td>\n",
       "      <td>Missing</td>\n",
       "      <td>Missing</td>\n",
       "    </tr>\n",
       "    <tr>\n",
       "      <th>2</th>\n",
       "      <td>10.1002_anie.202005531</td>\n",
       "      <td>Missing</td>\n",
       "      <td>Missing</td>\n",
       "    </tr>\n",
       "    <tr>\n",
       "      <th>3</th>\n",
       "      <td>10.1002_anie.202007717</td>\n",
       "      <td>Missing</td>\n",
       "      <td>Missing</td>\n",
       "    </tr>\n",
       "    <tr>\n",
       "      <th>4</th>\n",
       "      <td>10.1002_chem.201902131</td>\n",
       "      <td>Missing</td>\n",
       "      <td>Missing</td>\n",
       "    </tr>\n",
       "  </tbody>\n",
       "</table>\n",
       "</div>"
      ],
      "text/plain": [
       "               article_id                      dataset_id     type\n",
       "0    10.1002_2017jc013030  https://doi.org/10.17882/49388  Primary\n",
       "1  10.1002_anie.201916483                         Missing  Missing\n",
       "2  10.1002_anie.202005531                         Missing  Missing\n",
       "3  10.1002_anie.202007717                         Missing  Missing\n",
       "4  10.1002_chem.201902131                         Missing  Missing"
      ]
     },
     "execution_count": 2,
     "metadata": {},
     "output_type": "execute_result"
    }
   ],
   "source": [
    "train_labels = pd.read_csv('data/train_labels.csv')\n",
    "train_labels.head()"
   ]
  },
  {
   "cell_type": "code",
   "execution_count": 3,
   "id": "bc175253",
   "metadata": {},
   "outputs": [
    {
     "data": {
      "text/html": [
       "<div>\n",
       "<style scoped>\n",
       "    .dataframe tbody tr th:only-of-type {\n",
       "        vertical-align: middle;\n",
       "    }\n",
       "\n",
       "    .dataframe tbody tr th {\n",
       "        vertical-align: top;\n",
       "    }\n",
       "\n",
       "    .dataframe thead th {\n",
       "        text-align: right;\n",
       "    }\n",
       "</style>\n",
       "<table border=\"1\" class=\"dataframe\">\n",
       "  <thead>\n",
       "    <tr style=\"text-align: right;\">\n",
       "      <th></th>\n",
       "      <th>article_id</th>\n",
       "      <th>dataset_id</th>\n",
       "      <th>type</th>\n",
       "    </tr>\n",
       "  </thead>\n",
       "  <tbody>\n",
       "    <tr>\n",
       "      <th>848</th>\n",
       "      <td>10.3389_fmicb.2024.1456637</td>\n",
       "      <td>SAMN07159041</td>\n",
       "      <td>Secondary</td>\n",
       "    </tr>\n",
       "  </tbody>\n",
       "</table>\n",
       "</div>"
      ],
      "text/plain": [
       "                     article_id    dataset_id       type\n",
       "848  10.3389_fmicb.2024.1456637  SAMN07159041  Secondary"
      ]
     },
     "execution_count": 3,
     "metadata": {},
     "output_type": "execute_result"
    }
   ],
   "source": [
    "train_labels[train_labels['dataset_id'] == 'SAMN07159041']"
   ]
  },
  {
   "cell_type": "code",
   "execution_count": 4,
   "id": "3c72fd49",
   "metadata": {},
   "outputs": [
    {
     "data": {
      "text/html": [
       "<div>\n",
       "<style scoped>\n",
       "    .dataframe tbody tr th:only-of-type {\n",
       "        vertical-align: middle;\n",
       "    }\n",
       "\n",
       "    .dataframe tbody tr th {\n",
       "        vertical-align: top;\n",
       "    }\n",
       "\n",
       "    .dataframe thead th {\n",
       "        text-align: right;\n",
       "    }\n",
       "</style>\n",
       "<table border=\"1\" class=\"dataframe\">\n",
       "  <thead>\n",
       "    <tr style=\"text-align: right;\">\n",
       "      <th></th>\n",
       "      <th>article_id</th>\n",
       "      <th>dataset_id</th>\n",
       "      <th>type</th>\n",
       "    </tr>\n",
       "  </thead>\n",
       "  <tbody>\n",
       "    <tr>\n",
       "      <th>847</th>\n",
       "      <td>10.3389_fmicb.2024.1456637</td>\n",
       "      <td>NC_017643.1</td>\n",
       "      <td>Secondary</td>\n",
       "    </tr>\n",
       "    <tr>\n",
       "      <th>848</th>\n",
       "      <td>10.3389_fmicb.2024.1456637</td>\n",
       "      <td>SAMN07159041</td>\n",
       "      <td>Secondary</td>\n",
       "    </tr>\n",
       "    <tr>\n",
       "      <th>849</th>\n",
       "      <td>10.3389_fmicb.2024.1456637</td>\n",
       "      <td>SAMN07159044</td>\n",
       "      <td>Secondary</td>\n",
       "    </tr>\n",
       "    <tr>\n",
       "      <th>850</th>\n",
       "      <td>10.3389_fmicb.2024.1456637</td>\n",
       "      <td>SAMN07159045</td>\n",
       "      <td>Secondary</td>\n",
       "    </tr>\n",
       "    <tr>\n",
       "      <th>851</th>\n",
       "      <td>10.3389_fmicb.2024.1456637</td>\n",
       "      <td>SAMN08172567</td>\n",
       "      <td>Secondary</td>\n",
       "    </tr>\n",
       "    <tr>\n",
       "      <th>852</th>\n",
       "      <td>10.3389_fmicb.2024.1456637</td>\n",
       "      <td>SAMN08199278</td>\n",
       "      <td>Secondary</td>\n",
       "    </tr>\n",
       "    <tr>\n",
       "      <th>853</th>\n",
       "      <td>10.3389_fmicb.2024.1456637</td>\n",
       "      <td>SAMN09534374</td>\n",
       "      <td>Secondary</td>\n",
       "    </tr>\n",
       "    <tr>\n",
       "      <th>854</th>\n",
       "      <td>10.3389_fmicb.2024.1456637</td>\n",
       "      <td>SAMN12620691</td>\n",
       "      <td>Secondary</td>\n",
       "    </tr>\n",
       "    <tr>\n",
       "      <th>855</th>\n",
       "      <td>10.3389_fmicb.2024.1456637</td>\n",
       "      <td>SAMN12620692</td>\n",
       "      <td>Secondary</td>\n",
       "    </tr>\n",
       "    <tr>\n",
       "      <th>856</th>\n",
       "      <td>10.3389_fmicb.2024.1456637</td>\n",
       "      <td>SAMN12620693</td>\n",
       "      <td>Secondary</td>\n",
       "    </tr>\n",
       "    <tr>\n",
       "      <th>857</th>\n",
       "      <td>10.3389_fmicb.2024.1456637</td>\n",
       "      <td>SAMN12620694</td>\n",
       "      <td>Secondary</td>\n",
       "    </tr>\n",
       "    <tr>\n",
       "      <th>858</th>\n",
       "      <td>10.3389_fmicb.2024.1456637</td>\n",
       "      <td>SAMN12620697</td>\n",
       "      <td>Secondary</td>\n",
       "    </tr>\n",
       "    <tr>\n",
       "      <th>859</th>\n",
       "      <td>10.3389_fmicb.2024.1456637</td>\n",
       "      <td>SAMN12620700</td>\n",
       "      <td>Secondary</td>\n",
       "    </tr>\n",
       "    <tr>\n",
       "      <th>860</th>\n",
       "      <td>10.3389_fmicb.2024.1456637</td>\n",
       "      <td>SAMN12620701</td>\n",
       "      <td>Secondary</td>\n",
       "    </tr>\n",
       "    <tr>\n",
       "      <th>861</th>\n",
       "      <td>10.3389_fmicb.2024.1456637</td>\n",
       "      <td>SAMN12620702</td>\n",
       "      <td>Secondary</td>\n",
       "    </tr>\n",
       "    <tr>\n",
       "      <th>862</th>\n",
       "      <td>10.3389_fmicb.2024.1456637</td>\n",
       "      <td>SAMN12620703</td>\n",
       "      <td>Secondary</td>\n",
       "    </tr>\n",
       "    <tr>\n",
       "      <th>863</th>\n",
       "      <td>10.3389_fmicb.2024.1456637</td>\n",
       "      <td>SAMN12620704</td>\n",
       "      <td>Secondary</td>\n",
       "    </tr>\n",
       "    <tr>\n",
       "      <th>864</th>\n",
       "      <td>10.3389_fmicb.2024.1456637</td>\n",
       "      <td>SAMN17525956</td>\n",
       "      <td>Secondary</td>\n",
       "    </tr>\n",
       "  </tbody>\n",
       "</table>\n",
       "</div>"
      ],
      "text/plain": [
       "                     article_id    dataset_id       type\n",
       "847  10.3389_fmicb.2024.1456637   NC_017643.1  Secondary\n",
       "848  10.3389_fmicb.2024.1456637  SAMN07159041  Secondary\n",
       "849  10.3389_fmicb.2024.1456637  SAMN07159044  Secondary\n",
       "850  10.3389_fmicb.2024.1456637  SAMN07159045  Secondary\n",
       "851  10.3389_fmicb.2024.1456637  SAMN08172567  Secondary\n",
       "852  10.3389_fmicb.2024.1456637  SAMN08199278  Secondary\n",
       "853  10.3389_fmicb.2024.1456637  SAMN09534374  Secondary\n",
       "854  10.3389_fmicb.2024.1456637  SAMN12620691  Secondary\n",
       "855  10.3389_fmicb.2024.1456637  SAMN12620692  Secondary\n",
       "856  10.3389_fmicb.2024.1456637  SAMN12620693  Secondary\n",
       "857  10.3389_fmicb.2024.1456637  SAMN12620694  Secondary\n",
       "858  10.3389_fmicb.2024.1456637  SAMN12620697  Secondary\n",
       "859  10.3389_fmicb.2024.1456637  SAMN12620700  Secondary\n",
       "860  10.3389_fmicb.2024.1456637  SAMN12620701  Secondary\n",
       "861  10.3389_fmicb.2024.1456637  SAMN12620702  Secondary\n",
       "862  10.3389_fmicb.2024.1456637  SAMN12620703  Secondary\n",
       "863  10.3389_fmicb.2024.1456637  SAMN12620704  Secondary\n",
       "864  10.3389_fmicb.2024.1456637  SAMN17525956  Secondary"
      ]
     },
     "execution_count": 4,
     "metadata": {},
     "output_type": "execute_result"
    }
   ],
   "source": [
    "train_labels[train_labels['article_id'] == '10.3389_fmicb.2024.1456637']"
   ]
  },
  {
   "cell_type": "code",
   "execution_count": 5,
   "id": "7f2e421c",
   "metadata": {},
   "outputs": [
    {
     "data": {
      "text/plain": [
       "(1028, 3)"
      ]
     },
     "execution_count": 5,
     "metadata": {},
     "output_type": "execute_result"
    }
   ],
   "source": [
    "train_labels.shape"
   ]
  },
  {
   "cell_type": "code",
   "execution_count": 6,
   "id": "6b8cb966",
   "metadata": {},
   "outputs": [
    {
     "data": {
      "text/plain": [
       "np.int64(0)"
      ]
     },
     "execution_count": 6,
     "metadata": {},
     "output_type": "execute_result"
    }
   ],
   "source": [
    "train_labels['dataset_id'].isna().sum()"
   ]
  },
  {
   "cell_type": "code",
   "execution_count": 7,
   "id": "486de694",
   "metadata": {},
   "outputs": [
    {
     "data": {
      "text/plain": [
       "(309, 3)"
      ]
     },
     "execution_count": 7,
     "metadata": {},
     "output_type": "execute_result"
    }
   ],
   "source": [
    "train_labels[train_labels['dataset_id'] == 'Missing'].shape"
   ]
  },
  {
   "cell_type": "code",
   "execution_count": 8,
   "id": "e69964ab",
   "metadata": {},
   "outputs": [
    {
     "data": {
      "text/plain": [
       "720"
      ]
     },
     "execution_count": 8,
     "metadata": {},
     "output_type": "execute_result"
    }
   ],
   "source": [
    "train_labels['dataset_id'].nunique()"
   ]
  },
  {
   "cell_type": "code",
   "execution_count": 9,
   "id": "7ae09644",
   "metadata": {},
   "outputs": [
    {
     "data": {
      "text/plain": [
       "396"
      ]
     },
     "execution_count": 9,
     "metadata": {},
     "output_type": "execute_result"
    }
   ],
   "source": [
    "train_labels.loc[train_labels['dataset_id'].str.contains('https://doi.org/10'), 'dataset_id'] = 1\n",
    "train_labels.loc[train_labels['dataset_id'] == 'Missing', 'dataset_id'] = 0\n",
    "train_labels['dataset_id'].nunique()"
   ]
  },
  {
   "cell_type": "code",
   "execution_count": 10,
   "id": "89e8e600",
   "metadata": {},
   "outputs": [
    {
     "name": "stdout",
     "output_type": "stream",
     "text": [
      "[1, 0, '5VA1', 'CHEMBL1097', 'CHEMBL1257578', 'CHEMBL1257821', 'CHEMBL1782574', 'CHEMBL195180', 'CHEMBL2424928', 'CHEMBL3422978', 'CHEMBL390649', 'CHEMBL572163', 'CHEMBL70', 'IPR000884', 'IPR001124', 'IPR001577', 'IPR002477', 'IPR002889', 'IPR004007', 'IPR004302', 'IPR004785', 'IPR004911', 'IPR004963', 'IPR004981', 'IPR005524', 'IPR006201', 'IPR008139', 'IPR009613', 'IPR011040', 'IPR011124', 'IPR012338', 'IPR016201', 'IPR017920', 'IPR021345', 'IPR028730', 'IPR029723', 'IPR029787', 'IPR033396', 'IPR036452', 'PF00348', 'PF00484', 'PF01493', 'PF05834', 'PF15461', 'GSE130386', 'SRP184152', 'EMPIAR-10005', 'EMPIAR-10017', 'EMPIAR-10028', 'EMPIAR-10081', 'EMPIAR-10093', 'EMPIAR-10345', 'EMPIAR-10387', 'EMPIAR-10406', 'EMPIAR-10532', 'EMPIAR-10590', 'EMPIAR-10852', 'EMPIAR-11057', 'ENSBTAG00000011038', 'ENSBTAG00000013718', 'ENSBTAG00000017121', 'ENSBTAG00000017131', 'ENSBTAG00000021275', 'ENSBTAG00000047833', 'ENSOARG00000003950', 'ENSOARG00000012128', 'ENSOARG00000012835', 'ENSOARG00000013782', 'ENSOARG00000013966', 'ENSOARG00000014129', 'IPR000264', 'IPR002172', 'IPR014760', 'IPR020857', 'IPR020858', 'IPR021177', 'IPR023415', 'NM_001078656', 'BX119912', 'CP001848', 'CP130886', 'STH00996', 'ENSMMUT00000003274', 'ENSMMUT00000007289', 'ENSMMUT00000008499', 'ENSMMUT00000013362', 'ENSMMUT00000015979', 'ENSMMUT00000017222', 'ENSMMUT00000042190', 'ENSMMUT00000043132', 'ENSMMUT00000047863', 'F6RVJ3', '3.10.180.10', '3.20.20.120', '3.20.20.140', '3.30.450.20', '3.30.450.40', '3.30.930.10', '3.40.30.10', '3.40.50.1000', '3.40.50.1820', '3.40.50.620', '3.40.630.30', '3.90.1200.10', '3.90.226.10', '3.90.228.10', 'PF00106', 'PF03372', 'rs33912345', 'CAB004592', 'CAB010055', 'HPA001426', 'HPA001522', 'HPA001612', 'HPA003156', 'HPA003927', 'HPA007450', 'HPA008063', 'HPA030827', 'HPA042865', 'O75787', 'P17900', 'P21741', 'P23142', 'P24593', 'P24821', 'P51884', 'P53004', 'Q08629', 'Q12907', 'Q96AG4', 'Q99538', 'EPI_ISL_291131', 'EPI_ISL_293286', 'EPI_ISL_293287', 'EPI_ISL_293288', 'EPI_ISL_293289', 'EPI_ISL_293290', 'EPI_ISL_293291', 'EPI_ISL_332358', 'EPI_ISL_332395', 'EPI_ISL_332396', 'EPI_ISL_332399', 'EPI_ISL_332401', 'EPI_ISL_376123', 'EPI_ISL_445001', 'EPI_ISL_445002', 'EPI_ISL_445051', 'EPI_ISL_445052', 'EPI_ISL_445089', 'EPI_ISL_445090', 'EPI_ISL_445091', 'EPI_ISL_445092', 'EPI_ISL_445093', 'K02388', 'K02389', 'K02390', 'K02391', 'K02396', 'K02397', 'K02398', 'K02400', 'K02401', 'K02404', 'K02405', 'K02407', 'K02409', 'K02410', 'K02412', 'K02413', 'K02414', 'K02417', 'K02418', 'K02422', 'PF00248', 'PF00356', 'PF01052', 'PF02154', 'PF03748', 'PF03963', 'PF04347', 'PF04509', 'PF13377', 'CVCL_0213', 'CVCL_0395', 'CVCL_0530', 'CVCL_0627', 'CVCL_1916', 'CVCL_1917', 'CVCL_1918', 'CVCL_1919', 'CVCL_2213', 'CVCL_2235', 'CVCL_3967', 'CVCL_6245', 'CVCL_7151', 'CVCL_D615', 'CVCL_KS61', 'GSE67047', 'GSE87048', 'E-PROT-100', 'E-PROT-101', 'E-PROT-102', 'E-PROT-103', 'E-PROT-104', 'E-PROT-105', 'E-PROT-106', 'E-PROT-107', 'E-PROT-108', 'E-PROT-109', 'E-PROT-110', 'E-PROT-23', 'PXD001676', 'PXD002137', 'PXD005693', 'PXD005709', 'PXD010458', 'PXD014511', 'PXD019504', 'PXD020454', 'PXD031556', 'PXD032899', 'CP013147', 'PRJNA10687', 'PRJNA16146', 'PRJNA16148', 'PRJNA167229', 'PRJNA167235', 'PRJNA167242', 'PRJNA167243', 'PRJNA167255', 'PRJNA167259', 'PRJNA185511', 'PRJNA20133', 'PRJNA217894', 'PRJNA287300', 'PRJNA293', 'PRJNA296687', 'PRJNA32553', 'PRJNA47139', 'PRJNA65041', 'PRJNA65043', 'PRJNA74039', 'PRJNA74077', 'PRJNA74079', 'PRJNA74089', 'PRJNA74123', 'PRJNA74167', 'SRX1830060', 'E-GEOD-19722', 'E-GEOD-28654', 'E-GEOD-29623', 'E-GEOD-39084', 'E-GEOD-45216', 'E-GEOD-45670', 'E-GEOD-46474', 'E-GEOD-48278', 'E-GEOD-48350', 'E-GEOD-48780', 'E-GEOD-49243', 'E-GEOD-50774', 'E-GEOD-53224', 'E-GEOD-53890', 'E-GEOD-54543', 'E-GEOD-54837', 'E-GEOD-58697', 'E-GEOD-59312', 'E-GEOD-60028', 'E-GEOD-61804', 'E-GEOD-63626', 'E-GEOD-64415', 'E-GEOD-64857', 'E-GEOD-67851', 'E-GEOD-68720', '2nrj', '4k1p', '7nmq', 'EPI_ISL_10271777', 'EPI_ISL_13295050', 'EPI_ISL_1626969', 'EPI_ISL_17371329', 'EPI_ISL_2340570', 'EPI_ISL_2340575', 'EPI_ISL_2340581', 'EPI_ISL_2340614', 'EPI_ISL_2340615', 'EPI_ISL_2340626', 'EPI_ISL_2340662', 'EPI_ISL_2365356', 'EPI_ISL_2402571', 'NC_017643.1', 'SAMN07159041', 'SAMN07159044', 'SAMN07159045', 'SAMN08172567', 'SAMN08199278', 'SAMN09534374', 'SAMN12620691', 'SAMN12620692', 'SAMN12620693', 'SAMN12620694', 'SAMN12620697', 'SAMN12620700', 'SAMN12620701', 'SAMN12620702', 'SAMN12620703', 'SAMN12620704', 'SAMN17525956', 'CHEMBL1568820', 'CHEMBL1652119', 'CHEMBL198796', 'CHEMBL243644', 'CHEMBL2436978', 'CHEMBL3109593', 'CHEMBL3311228', 'CHEMBL3752642', 'CHEMBL3960662', 'CHEMBL402487', 'CHEMBL403', 'CHEMBL4065616', 'CHEMBL408500', 'CHEMBL561', 'CHEMBL64391', 'CHEMBL76', 'D10700', 'EPI1018205', 'EPI1018206', 'EPI1018207', 'EPI1018208', 'EPI1018210', 'EPI1018211', 'EPI1019551', 'EPI1019552', 'EPI1019553', 'EPI1019554', 'EPI1019555', 'EPI1019556', 'EPI1019558', 'EPI1104284', 'EPI1104285', 'EPI1104286', 'EPI1104288', 'EPI1183999', 'EPI1184004', 'EPI1184005', 'EPI1184014', 'EPI1387245', 'EPI954552', 'EPI954553', 'EPI954554', 'EPI954555', 'EPI954556', 'EPI954557', 'EPI954559', 'KX000727', 'KX000734', 'ERR2135448', 'PF00078', 'PF02170', 'PF02171', 'PF03368', 'PF05183', 'SRR2429147', 'SRR2430028', 'SRR2430030', 'SRR7962068', 'CHEMBL3347550', 'CHEMBL3347551', 'CHEMBL3733336', 'CVCL_1379', 'MODEL2106070001', 'PRJNA664798', 'SAMN16233641', 'SAMN16233642', 'SAMN16233643', 'SAMN16233644', 'SAMN16233645', 'SAMN16233646', 'SAMN16233647', 'SAMN16233648', 'SAMN16233649', 'SAMN16233650', 'SAMN16233651', 'SAMN16233652', 'SAMN16233653', 'SAMN16233654', 'SAMN16233655', 'SAMN16233656', 'SAMN16233657', 'SAMN16233658', 'SAMN16233659', 'SAMN16233660', 'SAMN16233661', 'SAMN16233662', 'SAMN16233663', 'SAMN16233664']\n"
     ]
    }
   ],
   "source": [
    "print(list(train_labels['dataset_id'].unique()))\n"
   ]
  },
  {
   "cell_type": "code",
   "execution_count": null,
   "id": "31e60225",
   "metadata": {},
   "outputs": [
    {
     "name": "stdout",
     "output_type": "stream",
     "text": [
      "1028\n"
     ]
    }
   ],
   "source": []
  },
  {
   "cell_type": "code",
   "execution_count": 11,
   "id": "f2695443",
   "metadata": {},
   "outputs": [
    {
     "data": {
      "text/plain": [
       "396"
      ]
     },
     "execution_count": 11,
     "metadata": {},
     "output_type": "execute_result"
    }
   ],
   "source": [
    "len(list(train_labels['dataset_id'].unique()))"
   ]
  },
  {
   "cell_type": "code",
   "execution_count": 12,
   "id": "d9d61eb0",
   "metadata": {},
   "outputs": [],
   "source": [
    "li = list(train_labels['dataset_id'].unique())\n",
    "li = [item for item in li if item not in [0, 1]]\n",
    "\n"
   ]
  },
  {
   "cell_type": "code",
   "execution_count": 13,
   "id": "f954eb71",
   "metadata": {},
   "outputs": [
    {
     "name": "stdout",
     "output_type": "stream",
     "text": [
      "41\n",
      "['SAMN07159041', 'SAMN07159044', 'SAMN07159045', 'SAMN08172567', 'SAMN08199278', 'SAMN09534374', 'SAMN12620691', 'SAMN12620692', 'SAMN12620693', 'SAMN12620694', 'SAMN12620697', 'SAMN12620700', 'SAMN12620701', 'SAMN12620702', 'SAMN12620703', 'SAMN12620704', 'SAMN17525956', 'SAMN16233641', 'SAMN16233642', 'SAMN16233643', 'SAMN16233644', 'SAMN16233645', 'SAMN16233646', 'SAMN16233647', 'SAMN16233648', 'SAMN16233649', 'SAMN16233650', 'SAMN16233651', 'SAMN16233652', 'SAMN16233653', 'SAMN16233654', 'SAMN16233655', 'SAMN16233656', 'SAMN16233657', 'SAMN16233658', 'SAMN16233659', 'SAMN16233660', 'SAMN16233661', 'SAMN16233662', 'SAMN16233663', 'SAMN16233664']\n"
     ]
    }
   ],
   "source": [
    "samn = [item for item in li if item.startswith('SAMN')]\n",
    "print(len(samn))\n",
    "print(samn)"
   ]
  },
  {
   "cell_type": "code",
   "execution_count": 14,
   "id": "fadaf47a",
   "metadata": {},
   "outputs": [
    {
     "name": "stdout",
     "output_type": "stream",
     "text": [
      "41\n",
      "['SAMN07159041', 'SAMN07159044', 'SAMN07159045', 'SAMN08172567', 'SAMN08199278', 'SAMN09534374', 'SAMN12620691', 'SAMN12620692', 'SAMN12620693', 'SAMN12620694', 'SAMN12620697', 'SAMN12620700', 'SAMN12620701', 'SAMN12620702', 'SAMN12620703', 'SAMN12620704', 'SAMN17525956', 'SAMN16233641', 'SAMN16233642', 'SAMN16233643', 'SAMN16233644', 'SAMN16233645', 'SAMN16233646', 'SAMN16233647', 'SAMN16233648', 'SAMN16233649', 'SAMN16233650', 'SAMN16233651', 'SAMN16233652', 'SAMN16233653', 'SAMN16233654', 'SAMN16233655', 'SAMN16233656', 'SAMN16233657', 'SAMN16233658', 'SAMN16233659', 'SAMN16233660', 'SAMN16233661', 'SAMN16233662', 'SAMN16233663', 'SAMN16233664']\n"
     ]
    }
   ],
   "source": [
    "samns = re.findall(r'\\bSAMN\\d{8}\\b', ' '.join(li))\n",
    "print(len(samns))\n",
    "print(samns)"
   ]
  },
  {
   "cell_type": "code",
   "execution_count": 15,
   "id": "228105bb",
   "metadata": {},
   "outputs": [
    {
     "name": "stdout",
     "output_type": "stream",
     "text": [
      "29\n",
      "['CHEMBL1097', 'CHEMBL1257578', 'CHEMBL1257821', 'CHEMBL1782574', 'CHEMBL195180', 'CHEMBL2424928', 'CHEMBL3422978', 'CHEMBL390649', 'CHEMBL572163', 'CHEMBL70', 'CHEMBL1568820', 'CHEMBL1652119', 'CHEMBL198796', 'CHEMBL243644', 'CHEMBL2436978', 'CHEMBL3109593', 'CHEMBL3311228', 'CHEMBL3752642', 'CHEMBL3960662', 'CHEMBL402487', 'CHEMBL403', 'CHEMBL4065616', 'CHEMBL408500', 'CHEMBL561', 'CHEMBL64391', 'CHEMBL76', 'CHEMBL3347550', 'CHEMBL3347551', 'CHEMBL3733336']\n"
     ]
    }
   ],
   "source": [
    "che = [item for item in li if item.startswith('CHEMBL')]\n",
    "print(len( che))\n",
    "print(che)"
   ]
  },
  {
   "cell_type": "code",
   "execution_count": 16,
   "id": "0f16f592",
   "metadata": {},
   "outputs": [],
   "source": [
    "import re\n",
    "import ftfy\n",
    "import unicodedata\n",
    "\n",
    "def clean_text(text):\n",
    "    # 1. Fix encoding issues like mojibake or smart quotes\n",
    "    text = ftfy.fix_text(text)\n",
    "\n",
    "    # 2. Normalize ligatures and full-width characters\n",
    "    text = unicodedata.normalize(\"NFKC\", text)\n",
    "\n",
    "    # 3. Remove non-printable control characters (ASCII 0–31 and 127)\n",
    "    text = re.sub(r'[\\x00-\\x1F\\x7F]', '', text)\n",
    "\n",
    "    # 4. Remove unnecessary backslashes before quotes (like d\\'Océanographie → d'Océanographie)\n",
    "    text = re.sub(r'\\\\([\\'\"“”‘’`´])', r'\\1', text)\n",
    "\n",
    "    # 5. Add space between glued lowercase-uppercase boundaries (e.g., datasetEuropean → dataset European)\n",
    "    text = re.sub(r'(?<=[a-z])(?=[A-Z])', ' ', text)\n",
    "\n",
    "    # 6. Insert space before URLs (e.g., doihttps://... → doi https://...)\n",
    "    text = re.sub(r'(?<=[a-zA-Z])(?=https?://)', ' ', text)\n",
    "\n",
    "    # 7. Replace all weird dash characters with standard hyphen\n",
    "    text = re.sub(r'[\\u2010\\u2011\\u2012\\u2013\\u2014\\u2212]', '-', text)\n",
    "\n",
    "    # 8. Add space after punctuation if not followed by space\n",
    "    text = re.sub(r'([,;!?)\\]\\}])(?=\\S)', r'\\1 ', text)\n",
    "\n",
    "\n",
    "    # 9. Flatten all whitespace (spaces, tabs, newlines) into a single space\n",
    "    text = re.sub(r'\\s+', ' ', text)\n",
    "\n",
    "    # 10. Remove any leftover leading/trailing space\n",
    "    return text.strip()"
   ]
  },
  {
   "cell_type": "code",
   "execution_count": 17,
   "id": "c239869c",
   "metadata": {},
   "outputs": [],
   "source": [
    "\n",
    "\n",
    "def extract_text_from_xml(xml_path):\n",
    "    parser = etree.XMLParser(recover=True)\n",
    "    tree = etree.parse(xml_path, parser)\n",
    "    root = tree.getroot()\n",
    "    text_parts = []\n",
    "    for elem in root.iter():\n",
    "        if elem.text and elem.text.strip():\n",
    "            text_parts.append(elem.text.strip())\n",
    "        if elem.tail and elem.tail.strip():\n",
    "            text_parts.append(elem.tail.strip())\n",
    "    \n",
    "    text =  ''.join(text_parts)\n",
    "    return clean_text(text)"
   ]
  },
  {
   "cell_type": "code",
   "execution_count": 18,
   "id": "afb8cbef",
   "metadata": {},
   "outputs": [
    {
     "data": {
      "text/plain": [
       "'-//NLM//DTD Journal Publishing DTD v2.3 20070202//ENpublicjournalpublishing.dtd2.3nlm2jats3.xsl1open_accesspmc Front Microbiol Front Microbiol Front. Microbiol.Frontiers in Microbiology1664-302XFrontiers Media S.A.1142099310.3389/fmicb.2024.1456637Microbiology Original Research Conditional expression of flagellar motility, curli fimbriae, and biofilms in Shiga toxin- producing Escherichia albertii Carter Michelle Qiu1*Carychao Diana1Lindsey Rebecca L.21Produce Safety and Microbiology Research Unit, U.S. Department of Agriculture, Agricultural Research Service, Western Regional Research Center, Albany, CA, United States2Enteric Diseases Laboratory Branch, Centers for Disease Control and Prevention, Atlanta, GA, United States Edited by: Renmao \"Tim\" Tian, Illinois Institute of Technology, United States Reviewed by: Steven L. Foley, National Center for Toxicological Research (FDA) , United States Salvatore Walter Papasergi, National Research Council (CNR) , Italy*Correspondence: Michelle Qiu Carter, michelle.carter@usda.gov0992024202415145663728620241482024Copyright © 2024 Carter, Carychao and Lindsey.2024Carter, Carychao and Lindsey https://creativecommons.org/licenses/by/4.0/This is an open-access article distributed under the terms of the Creative Commons Attribution License (CC BY) . The use, distribution or reproduction in other forums is permitted, provided the original author(s) and the copyright owner(s) are credited and that the original publication in this journal is cited, in accordance with accepted academic practice. No use, distribution or reproduction is permitted which does not comply with these terms.Escherichia albertiiis an emerging foodborne pathogen. We previously reported that some avian Shiga toxin-producing E. albertiistrains exhibited higher or comparable cytotoxicity in Vero-d2EGFP cells with several enterohemorrhagic E. coli(EHEC) outbreak strains. To better understand the environmental persistence of this pathogen, comparative genomics and phenotypic assays were applied to assess adhesion capability, motility, and biofilm formation in E. albertii. Among the 108 adherence-related genes, those involved in biogenesis of curli fimbriae, hemorrhagic E. colipilus, type 1 fimbriae, and Sfm fimbriae were conserved in E. albertii. All 20E. albertiistrains carried a complete set of primary flagellar genes that were organized into four gene clusters, while five strains possessed genes related to the secondary flagella, also known as lateral flagella. Compared to EHEC strain EDL933, the eight chemotaxis genes located within the primary flagellar gene clusters were deleted in E. albertii. Additional deletion of motility genesflh ABCDandmot BCwas identified in several E. albertiistrains. Swimming motility was detected in three strains when grown in LB medium, however, when grown in 5% TSB or in the pond water-supplemented with 10% pigeon droppings, an additional four strains became motile. Although all E. albertiistrains carried curli genes, curli fimbriae were detected only in four, eight, and nine strains following 24, 48, and 120 h incubation, respectively. Type 1 fimbriae were undetectable in any of the strains grown at 37°C or 28°C. Strong biofilms were detected in strains that produced curli fimbriae and in a chicken isolate that was curli fimbriae negative but carried genes encoding adhesive fimbriae K88, a signature of enterotoxigenic E. colistrains causing neonatal diarrhea in piglets. In all phenotypic traits examined, no correlation was revealed between the strains isolated from different sources, or between the strains with and without Shiga toxin genes. The phenotypic variations could not be explained solely by the genetic diversity or the difference in adherence genes repertoire, implying complex regulation in expression of various adhesins. Strains that exhibited a high level of cytotoxicity and were also proficient in biofilm production, may have potential to emerge into high-risk pathogens.Escherichia albertiifoodborne pathogenbiofilmadhesinsfimbriaeflagellamotility The author(s) declare financial support was received for the research, authorship, and/or publication of the article. This work was supported by the USDA-ARS CRIS project 2030-42000-052-000D and the Advanced Molecular Detection (AMD) Initiative grant number AMD-21 at the Centers for Disease Control and Prevention.section-at-acceptance Infectious Agents and Disease1 Introduction Escherichia albertii, an emerging foodborne pathogen, is the most divergent lineage among the other Escherichiaspecies and clades (Walk et al., 2009; Ooka et al., 2015) . Due to similar biochemical properties and possession of the intimin gene located on the locus of enterocyte effacement (LEE) pathogenicity island, many E. albertiiisolates have been misidentified as enteropathogenic E. coli(EPEC) , or enterohemorrhagic E. coli(EHEC) (Ooka et al., 2012) .E. albertiicauses diarrhea, abdominal pain, and high fever in humans, although bacteremia and extraintestinal infections were also reported (Gomes et al., 2020) . The well-known virulence factors in E. albertiiinclude LEE encoded intimin and its Tir receptor, responsible for the initial adherence of pathogen cells to the host epithelial cell surfaces, as well as the LEE-encoded type three secretion system (T3SS) and the effector proteins. Other common virulence factors include Shiga toxin (Stx) , cytolethal distending toxin (CDT) , type six secretion systems (T6SS) , and the vacuolating autotransporter toxin Vat (Carter et al., 2023a) . Sporadic infections and outbreaks of foodborne gastroenteritis caused by E. albertiihave been reported worldwide (Konno et al., 2012; Ooka et al., 2013; Ori et al., 2018; Masuda et al., 2020; Bengtsson et al., 2023; Iguchi et al., 2023) . Transmission of E. albertiiis thought to occur via contaminated food or water although in most outbreaks the transmission vehicles were not identified (Masuda et al., 2020; Muchaamba et al., 2022) .Growing evidence supports that E. albertiihas a wide habitat range.E. albertiistrains have been isolated from domestic and wild animals, various foods, and aquatic environments (Muchaamba et al., 2022) . Among the reported animal hosts, birds appear to be one of the main reservoirs/carriers (Oaks et al., 2010; Hinenoya et al., 2021; Hinenoya et al., 2022; Wang et al., 2022; Barmettler et al., 2023; Xu et al., 2024) . Presence of E. albertiiin various water bodies and food products including chicken, pork, duck meat, mutton, and oysters has been reported (Felfoldi et al., 2010; Maheux et al., 2014; Lindsey et al., 2015; Maeda et al., 2015; Wang et al., 2016; Arai et al., 2022) , however, little is known about the contamination routes and the environmental prevalence and persistence of this emerging foodborne pathogen. A recent study investigating the survival of E. albertiiin foods and water revealed that E. albertiigrew faster in chicken than in pork or in oysters but had low viability in warm environmental water (Hirose et al., 2024) . Induction of flagellar biosynthesis and swimming motility was observed in some strains when cells were exposed to hypoosmotic pressure or at ambient temperature, suggesting a role of flagellar motility in the survival of E. albertiiin aquatic environments (Ikeda et al., 2020) .Biofilm is a common microbial lifestyle in natural environments (Watnick and Kolter, 2000) . Compared with planktonic cells, biofilm-associated cells are better at coping with environmental stresses and have increased resistance to toxic substances including antibiotics and chemical sanitizers. Therefore, biofilm formation by enteropathogenic bacteria would increase their survival and persistence in natural environments and may serve as a source of contamination. Biofilm formation involves multiple steps, including initial surface contact, transient association, attachment, maturation, and dispersion (O\\'Toole et al., 2000) . Numerous bacterial adherence factors including surface adhesive appendages and autotransporter proteins play a role in biofilm formation. In E. coli K-12 strains, flagellar motility, curli fimbriae, as well as Fim H adhesin were found to be important for initial surface contact and attachment. Additionally, flagellar motility was found playing a role in biofilm dispersion (Pratt and Kolter, 1998; Reisner et al., 2003; Karatan and Watnick, 2009) .Shiga toxin-producing E. coli(STEC) produces diverse fimbrial and nonfimbrial adhesins that facilitate the attachment to and/or colonization by STEC cells in diverse ecological niches (Mc Williams and Torres, 2014; Vogeleer et al., 2014) . In STEC O157:H7 strains, curli fimbriae were found to mediate binding to, and invasion of epithelial cells, and promote the attachment of pathogens to plant and abiotic surfaces (Gophna et al., 2001; Fink et al., 2012; Carter et al., 2016) . The hemorrhagic E. colipilus (HCP) , originally identified in STEC O157:H7 as a colonization factor (Xicohtencatl-Cortes et al., 2007) , contributed to the biofilm formation of STEC O157:H7 strains on abiotic surfaces (Xicohtencatl-Cortes et al., 2009) . In E. coliand other enteric pathogens, expression of type 1 fimbriae is controlled by a phase variation mechanism, which reversibly switches between the \"ON\" and \"OFF\" state offimgenes transcription (Abraham et al., 1985) . This switch is mediated by an invertible DNA element, fim S, and two site-specific recombinases. Inversion offim Sabolishes the transcription offim A, which encodes the major subunit of type 1 fimbriae. Expression of type 1 fimbriae were detected in STEC non-O157 strains, but not in O157:H7 strains (Roe et al., 2001) . In STEC O157:H7 strains, transcription offim Ais locked at the \"OFF\" state due to a 16-bp deletion within thefim S(Iida et al., 2001) . Type 1 fimbriae contributed to the attachment of STEC cells to abiotic surfaces in a O128:H2 strain and contributed to the biofilm formation when thefimgenes of the STEC O157:H7'"
      ]
     },
     "execution_count": 18,
     "metadata": {},
     "output_type": "execute_result"
    }
   ],
   "source": [
    "textx = extract_text_from_xml('data/train/XML/10.3389_fmicb.2024.1456637.xml')\n",
    "textx[:10000]"
   ]
  },
  {
   "cell_type": "code",
   "execution_count": 19,
   "id": "d7c3eb2f",
   "metadata": {},
   "outputs": [],
   "source": [
    "import fitz\n",
    "def extract_text_from_pdf(pdf_path):\n",
    "    doc = fitz.open(pdf_path)\n",
    "    text = \"\"\n",
    "    for page in doc:\n",
    "        text += page.get_text()\n",
    "    doc.close()\n",
    "    return clean_text(text)"
   ]
  },
  {
   "cell_type": "code",
   "execution_count": 20,
   "id": "077384f5",
   "metadata": {},
   "outputs": [
    {
     "data": {
      "text/plain": [
       "'TYPE Original Research PUBLISHED 09 September 2024DOI 10.3389/fmicb.2024.1456637OPEN ACCESSEDITED BYRenmao \"Tim\" Tian, Illinois Institute of Technology, United States REVIEWED BYSteven L. Foley, National Center for Toxicological Research(FDA) , United States Salvatore Walter Papasergi, National Research Council (CNR) , Italy*CORRESPONDENCEMichelle Qiu Cartermichelle.carter@usda.gov RECEIVED 28 June 2024ACCEPTED 14 August 2024PUBLISHED 09 September 2024CITATIONCarter MQ, Carychao D and Lindsey RL(2024) Conditional expression of flagellarmotility, curli fimbriae, and biofilms in Shigatoxin- producing Escherichia albertii.Front. Microbiol. 15:1456637.doi: 10.3389/fmicb.2024.1456637COPYRIGHT© 2024 Carter, Carychao and Lindsey. This isan open-access article distributed under theterms of the Creative Commons Attribution License (CC BY) . The use, distribution orreproduction in other forums is permitted, provided the original author(s) and thecopyright owner(s) are credited and that theoriginal publication in this journal is cited, inaccordance with accepted academicpractice. No use, distribution or reproductionis permitted which does not comply withthese terms.Conditional expression offlagellar motility, curli fimbriae, and biofilms in Shiga toxin-producing Escherichia albertii Michelle Qiu Carter1*, Diana Carychao1 and Rebecca L. Lindsey21Produce Safety and Microbiology Research Unit, U.S. Department of Agriculture, Agricultural Research Service, Western Regional Research Center, Albany, CA, United States, 2Enteric Diseases Laboratory Branch, Centers for Disease Control and Prevention, Atlanta, GA, United States Escherichia albertii is an emerging foodborne pathogen. We previously reportedthat some avian Shiga toxin-producing E. albertii strains exhibited higher orcomparable cytotoxicity in Vero-d2EGFP cells with several enterohemorrhagic E. coli (EHEC) outbreak strains. To better understand the environmentalpersistence of this pathogen, comparative genomics and phenotypic assayswere applied to assess adhesion capability, motility, and biofilm formation in E. albertii. Among the 108 adherence-related genes, those involved in biogenesisof curli fimbriae, hemorrhagic E. coli pilus, type 1 fimbriae, and Sfm fimbriaewere conserved in E. albertii. All 20 E. albertii strains carried a complete set ofprimary flagellar genes that were organized into four gene clusters, while fivestrains possessed genes related to the secondary flagella, also known as lateralflagella. Compared to EHEC strain EDL933, the eight chemotaxis genes locatedwithin the primary flagellar gene clusters were deleted in E. albertii. Additionaldeletion of motility genes flh ABCD and mot BC was identified in several E. albertiistrains. Swimming motility was detected in three strains when grown in LBmedium, however, when grown in 5% TSB or in the pond water-supplementedwith 10% pigeon droppings, an additional four strains became motile. Althoughall E. albertii strains carried curli genes, curli fimbriae were detected only infour, eight, and nine strains following 24, 48, and 120 h incubation, respectively.Type 1 fimbriae were undetectable in any of the strains grown at 37◦C or 28◦C.Strong biofilms were detected in strains that produced curli fimbriae and ina chicken isolate that was curli fimbriae negative but carried genes encodingadhesive fimbriae K88, a signature of enterotoxigenic E. coli strains causingneonatal diarrhea in piglets. In all phenotypic traits examined, no correlationwas revealed between the strains isolated from different sources, or betweenthe strains with and without Shiga toxin genes. The phenotypic variations couldnot be explained solely by the genetic diversity or the difference in adherencegenes repertoire, implying complex regulation in expression of various adhesins.Strains that exhibited a high level of cytotoxicity and were also proficient inbiofilm production, may have potential to emerge into high-risk pathogens.KEYWORDSEscherichia albertii, foodborne pathogen, biofilm, adhesins, fimbriae, flagella, motility Frontiers in Microbiology01frontiersin.org Carter et al.10.3389/fmicb.2024.14566371 Introduction Escherichia albertii, an emerging foodborne pathogen, is themost divergent lineage among the other Escherichia speciesand clades (Walk et al., 2009; Ooka et al., 2015) . Due tosimilar biochemical properties and possession of the intimin genelocated on the locus of enterocyte effacement (LEE) pathogenicityisland, many E. albertii isolates have been misidentified asenteropathogenic E. coli (EPEC) , or enterohemorrhagic E. coli(EHEC) (Ooka et al., 2012) . E. albertii causes diarrhea, abdominalpain, and high fever in humans, although bacteremia andextraintestinal infections were also reported (Gomes et al., 2020) .The well-known virulence factors in E. albertii include LEEencoded intimin and its Tir receptor, responsible for the initialadherence of pathogen cells to the host epithelial cell surfaces, as well as the LEE-encoded type three secretion system (T3SS) and the effector proteins. Other common virulence factors include Shiga toxin (Stx) , cytolethal distending toxin (CDT) , type sixsecretion systems (T6SS) , and the vacuolating autotransportertoxin Vat (Carter et al., 2023a) . Sporadic infections and outbreaksof foodborne gastroenteritis caused by E. albertii have beenreported worldwide (Konno et al., 2012; Ooka et al., 2013; Oriet al., 2018; Masuda et al., 2020; Bengtsson et al., 2023; Iguchiet al., 2023) . Transmission of E. albertii is thought to occurvia contaminated food or water although in most outbreaks thetransmission vehicles were not identified (Masuda et al., 2020; Muchaamba et al., 2022) .Growing evidence supports that E. albertii has a wide habitatrange. E. albertii strains have been isolated from domestic and wildanimals, various foods, and aquatic environments (Muchaambaet al., 2022) . Among the reported animal hosts, birds appear to beone of the main reservoirs/carriers (Oaks et al., 2010; Hinenoyaet al., 2021; Hinenoya et al., 2022; Wang et al., 2022; Barmettleret al., 2023; Xu et al., 2024) . Presence of E. albertii in variouswater bodies and food products including chicken, pork, duckmeat, mutton, and oysters has been reported (Felfoldi et al., 2010; Maheux et al., 2014; Lindsey et al., 2015; Maeda et al., 2015; Wanget al., 2016; Arai et al., 2022) , however, little is known aboutthe contamination routes and the environmental prevalence andpersistence of this emerging foodborne pathogen. A recent studyinvestigating the survival of E. albertii in foods and water revealedthat E. albertii grew faster in chicken than in pork or in oysters buthad low viability in warm environmental water (Hirose et al., 2024) .Induction of flagellar biosynthesis and swimming motility wasobserved in some strains when cells were exposed to hypoosmoticpressure or at ambient temperature, suggesting a role of flagellarmotility in the survival of E. albertii in aquatic environments(Ikeda et al., 2020) .Biofilmisacommonmicrobiallifestyleinnaturalenvironments (Watnick and Kolter, 2000) . Compared withplanktonic cells, biofilm-associated cells are better at copingwith environmental stresses and have increased resistance totoxic substances including antibiotics and chemical sanitizers.Therefore, biofilm formation by enteropathogenic bacteria wouldincrease their survival and persistence in natural environments andmay serve as a source of contamination. Biofilm formationinvolvesmultiplesteps, includinginitialsurfacecontact, transient association, attachment, maturation, and dispersion(O\\'Toole et al., 2000) .Numerousbacterialadherencefactorsincludingsurfaceadhesiveappendagesandautotransporterproteins play a role in biofilm formation. In E. coli K-12 strains, flagellar motility, curli fimbriae, as well as Fim H adhesin werefound to be important for initial surface contact and attachment.Additionally, flagellar motility was found playing a role inbiofilm dispersion (Pratt and Kolter, 1998; Reisner et al., 2003; Karatan and Watnick, 2009) .Shiga toxin-producing E. coli (STEC) produces diverse fimbrialand nonfimbrial adhesins that facilitate the attachment toand/or colonization by STEC cells in diverse ecological niches(Mc Williams and Torres, 2014; Vogeleer et al., 2014) . In STECO157:H7 strains, curli fimbriae were found to mediate bindingto, and invasion of epithelial cells, and promote the attachmentof pathogens to plant and abiotic surfaces (Gophna et al., 2001; Fink et al., 2012; Carter et al., 2016) . The hemorrhagic E. coli pilus (HCP) , originally identified in STEC O157:H7 as acolonization factor (Xicohtencatl-Cortes et al., 2007) , contributedto the biofilm formation of STEC O157:H7 strains on abioticsurfaces (Xicohtencatl-Cortes et al., 2009) . In E. coli and otherenteric pathogens, expression of type 1 fimbriae is controlled by aphase variation mechanism, which reversibly switches between the\"ON\" and \"OFF\" state of fim genes transcription (Abraham et al., 1985) . This switch is mediated by an invertible DNA element, fim S, and two site-specific recombinases. Inversion of fim S abolishes thetranscription of fim A, which encodes the major subunit of type1 fimbriae. Expression of type 1 fimbriae were detected in STECnon-O157 strains, but not in O157:H7 strains (Roe et al., 2001) . In STEC O157:H7 strains, transcription of fim A is locked at the \"OFF\"state due to a 16-bp deletion within the fim S (Iida et al., 2001) .Type 1 fimbriae contributed to the attachment of STEC cells toabiotic surfaces in a O128:H2 strain and contributed to the biofilmformation when the fim genes of the STEC O157:H7 strain Sakaiwere expressed in a nonpathogenic E. coli strain (Cookson et al., 2002; Elpers and Hensel, 2020) .Knowledge about environmental persistence of E. alberti isscarce. Biofilm formation by E. albertii was reported in only a fewclinical strains at 37◦C although the efficiency of biofilm formationwas much lower than that of E. coli strain '"
      ]
     },
     "execution_count": 20,
     "metadata": {},
     "output_type": "execute_result"
    }
   ],
   "source": [
    "textp = extract_text_from_pdf('data/train/PDF/10.3389_fmicb.2024.1456637.pdf')\n",
    "textp[:10000]"
   ]
  },
  {
   "cell_type": "code",
   "execution_count": 28,
   "id": "e0ebc74e",
   "metadata": {},
   "outputs": [],
   "source": [
    "import re\n",
    "\n",
    "def extract_context(text, pattern, window=20):\n",
    "    \"\"\"\n",
    "    Extract context around regex matches from given text.\n",
    "\n",
    "    Parameters:\n",
    "    - text (str): Input document text.\n",
    "    - pattern (str): Regex pattern to match.\n",
    "    - window (int): Number of words before and after match to include in context.\n",
    "\n",
    "    Returns:\n",
    "    - List of dicts with 'match' and 'context' keys.\n",
    "    \"\"\"\n",
    "\n",
    "    matches = []\n",
    "\n",
    "    # Normalize weird dash characters to simple hyphen\n",
    "    text = re.sub(r'[\\u2010\\u2011\\u2012\\u2013\\u2014\\u2212]', '-', text)\n",
    "\n",
    "    # Tokenize the full text once\n",
    "    tokens = text.split()\n",
    "\n",
    "    # Map character index → token index\n",
    "    char_to_token = {}\n",
    "    index = 0\n",
    "    for i, tok in enumerate(tokens):\n",
    "        index = text.find(tok, index)\n",
    "        for j in range(index, index + len(tok)):\n",
    "            char_to_token[j] = i\n",
    "        index += len(tok)\n",
    "\n",
    "    # Find matches using re.finditer()\n",
    "    for match in re.finditer(pattern, text):\n",
    "        raw_match = match.group()\n",
    "        cleaned_match = re.sub(r'[\\s\\-]', '', raw_match)  # Remove spaces/dashes inside ID\n",
    "\n",
    "        start_char = match.start()\n",
    "\n",
    "        if start_char in char_to_token:\n",
    "            token_index = char_to_token[start_char]\n",
    "            start = max(0, token_index - window)\n",
    "            end = min(len(tokens), token_index + window + 1)\n",
    "            context_window = tokens[start:end]\n",
    "\n",
    "            matches.append({\n",
    "                'match': cleaned_match,\n",
    "                'context': ' '.join(context_window)\n",
    "            })\n",
    "\n",
    "    return matches"
   ]
  },
  {
   "cell_type": "code",
   "execution_count": 29,
   "id": "663a7e34",
   "metadata": {},
   "outputs": [
    {
     "data": {
      "text/plain": [
       "[{'match': 'SAMN12620691',\n",
       "  'context': 'ofisolation Gen Bank Bio Sample Numbera Swimming Motilitystx2f -positive E. albertii LB5% TSBPond water with 10%pigeon droppings RM9973American crow (Corvusbrachyrhynchos) /2009SAMN12620691-++RM9974American crow (Corvusbrachyrhynchos) /2009SAMN12620692---RM9976American crow (Corvusbrachyrhynchos) /2009SAMN12620693-++RM10507Brown-headed cowbird(Molothrus ater) /2009SAMN12620694+++RM10705Brown-headed cowbird(Molothrus ater) /2009SAMN12620697+++RM15112Oregon Junco (Juncohyemalis) /2011SAMN12620700---RM15113Oregon Junco (Juncohyemalis) /2011SAMN12620701---RM15114Oregon Junco (Juncohyemalis)'},\n",
       " {'match': 'SAMN12620692',\n",
       "  'context': 'Bio Sample Numbera Swimming Motilitystx2f -positive E. albertii LB5% TSBPond water with 10%pigeon droppings RM9973American crow (Corvusbrachyrhynchos) /2009SAMN12620691-++RM9974American crow (Corvusbrachyrhynchos) /2009SAMN12620692---RM9976American crow (Corvusbrachyrhynchos) /2009SAMN12620693-++RM10507Brown-headed cowbird(Molothrus ater) /2009SAMN12620694+++RM10705Brown-headed cowbird(Molothrus ater) /2009SAMN12620697+++RM15112Oregon Junco (Juncohyemalis) /2011SAMN12620700---RM15113Oregon Junco (Juncohyemalis) /2011SAMN12620701---RM15114Oregon Junco (Juncohyemalis) /2011SAMN12620702---RM15115White-Breasted Nuthatch(Sitta carolinensis)'},\n",
       " {'match': 'SAMN12620693',\n",
       "  'context': 'Swimming Motilitystx2f -positive E. albertii LB5% TSBPond water with 10%pigeon droppings RM9973American crow (Corvusbrachyrhynchos) /2009SAMN12620691-++RM9974American crow (Corvusbrachyrhynchos) /2009SAMN12620692---RM9976American crow (Corvusbrachyrhynchos) /2009SAMN12620693-++RM10507Brown-headed cowbird(Molothrus ater) /2009SAMN12620694+++RM10705Brown-headed cowbird(Molothrus ater) /2009SAMN12620697+++RM15112Oregon Junco (Juncohyemalis) /2011SAMN12620700---RM15113Oregon Junco (Juncohyemalis) /2011SAMN12620701---RM15114Oregon Junco (Juncohyemalis) /2011SAMN12620702---RM15115White-Breasted Nuthatch(Sitta carolinensis) /2011SAMN12620703---RM15116Oregon Junco (Juncohyemalis)'},\n",
       " {'match': 'SAMN12620694',\n",
       "  'context': 'E. albertii LB5% TSBPond water with 10%pigeon droppings RM9973American crow (Corvusbrachyrhynchos) /2009SAMN12620691-++RM9974American crow (Corvusbrachyrhynchos) /2009SAMN12620692---RM9976American crow (Corvusbrachyrhynchos) /2009SAMN12620693-++RM10507Brown-headed cowbird(Molothrus ater) /2009SAMN12620694+++RM10705Brown-headed cowbird(Molothrus ater) /2009SAMN12620697+++RM15112Oregon Junco (Juncohyemalis) /2011SAMN12620700---RM15113Oregon Junco (Juncohyemalis) /2011SAMN12620701---RM15114Oregon Junco (Juncohyemalis) /2011SAMN12620702---RM15115White-Breasted Nuthatch(Sitta carolinensis) /2011SAMN12620703---RM15116Oregon Junco (Juncohyemalis) /2011SAMN12620704---2011C-4180Human/2011SAMN03019926---2012EL-1823BHuman/2012SAMN04498560---2014C-4015Human/2014SAMN04505646---2014EL-1348Human/2014SAMN04505647---stx-negative E. albertii2014C-4356Chicken'},\n",
       " {'match': 'SAMN12620697',\n",
       "  'context': 'TSBPond water with 10%pigeon droppings RM9973American crow (Corvusbrachyrhynchos) /2009SAMN12620691-++RM9974American crow (Corvusbrachyrhynchos) /2009SAMN12620692---RM9976American crow (Corvusbrachyrhynchos) /2009SAMN12620693-++RM10507Brown-headed cowbird(Molothrus ater) /2009SAMN12620694+++RM10705Brown-headed cowbird(Molothrus ater) /2009SAMN12620697+++RM15112Oregon Junco (Juncohyemalis) /2011SAMN12620700---RM15113Oregon Junco (Juncohyemalis) /2011SAMN12620701---RM15114Oregon Junco (Juncohyemalis) /2011SAMN12620702---RM15115White-Breasted Nuthatch(Sitta carolinensis) /2011SAMN12620703---RM15116Oregon Junco (Juncohyemalis) /2011SAMN12620704---2011C-4180Human/2011SAMN03019926---2012EL-1823BHuman/2012SAMN04498560---2014C-4015Human/2014SAMN04505646---2014EL-1348Human/2014SAMN04505647---stx-negative E. albertii2014C-4356Chicken Carcass/2009SAMN07159041-++05-3106Human/2005SAMN08199278-++07-3866Human/2007SAMN07159045+++54-2045 (NCTC 9362)'},\n",
       " {'match': 'SAMN12620700',\n",
       "  'context': '10%pigeon droppings RM9973American crow (Corvusbrachyrhynchos) /2009SAMN12620691-++RM9974American crow (Corvusbrachyrhynchos) /2009SAMN12620692---RM9976American crow (Corvusbrachyrhynchos) /2009SAMN12620693-++RM10507Brown-headed cowbird(Molothrus ater) /2009SAMN12620694+++RM10705Brown-headed cowbird(Molothrus ater) /2009SAMN12620697+++RM15112Oregon Junco (Juncohyemalis) /2011SAMN12620700---RM15113Oregon Junco (Juncohyemalis) /2011SAMN12620701---RM15114Oregon Junco (Juncohyemalis) /2011SAMN12620702---RM15115White-Breasted Nuthatch(Sitta carolinensis) /2011SAMN12620703---RM15116Oregon Junco (Juncohyemalis) /2011SAMN12620704---2011C-4180Human/2011SAMN03019926---2012EL-1823BHuman/2012SAMN04498560---2014C-4015Human/2014SAMN04505646---2014EL-1348Human/2014SAMN04505647---stx-negative E. albertii2014C-4356Chicken Carcass/2009SAMN07159041-++05-3106Human/2005SAMN08199278-++07-3866Human/2007SAMN07159045+++54-2045 (NCTC 9362) Human/1954SAMN09534374---2010C-3449Human/2010SAMN07159044---2013C-4143Human/2013SAMN08172567---a Swimming motility'},\n",
       " {'match': 'SAMN12620701',\n",
       "  'context': 'crow (Corvusbrachyrhynchos) /2009SAMN12620691-++RM9974American crow (Corvusbrachyrhynchos) /2009SAMN12620692---RM9976American crow (Corvusbrachyrhynchos) /2009SAMN12620693-++RM10507Brown-headed cowbird(Molothrus ater) /2009SAMN12620694+++RM10705Brown-headed cowbird(Molothrus ater) /2009SAMN12620697+++RM15112Oregon Junco (Juncohyemalis) /2011SAMN12620700---RM15113Oregon Junco (Juncohyemalis) /2011SAMN12620701---RM15114Oregon Junco (Juncohyemalis) /2011SAMN12620702---RM15115White-Breasted Nuthatch(Sitta carolinensis) /2011SAMN12620703---RM15116Oregon Junco (Juncohyemalis) /2011SAMN12620704---2011C-4180Human/2011SAMN03019926---2012EL-1823BHuman/2012SAMN04498560---2014C-4015Human/2014SAMN04505646---2014EL-1348Human/2014SAMN04505647---stx-negative E. albertii2014C-4356Chicken Carcass/2009SAMN07159041-++05-3106Human/2005SAMN08199278-++07-3866Human/2007SAMN07159045+++54-2045 (NCTC 9362) Human/1954SAMN09534374---2010C-3449Human/2010SAMN07159044---2013C-4143Human/2013SAMN08172567---a Swimming motility was observed after'},\n",
       " {'match': 'SAMN12620702',\n",
       "  'context': 'crow (Corvusbrachyrhynchos) /2009SAMN12620692---RM9976American crow (Corvusbrachyrhynchos) /2009SAMN12620693-++RM10507Brown-headed cowbird(Molothrus ater) /2009SAMN12620694+++RM10705Brown-headed cowbird(Molothrus ater) /2009SAMN12620697+++RM15112Oregon Junco (Juncohyemalis) /2011SAMN12620700---RM15113Oregon Junco (Juncohyemalis) /2011SAMN12620701---RM15114Oregon Junco (Juncohyemalis) /2011SAMN12620702---RM15115White-Breasted Nuthatch(Sitta carolinensis) /2011SAMN12620703---RM15116Oregon Junco (Juncohyemalis) /2011SAMN12620704---2011C-4180Human/2011SAMN03019926---2012EL-1823BHuman/2012SAMN04498560---2014C-4015Human/2014SAMN04505646---2014EL-1348Human/2014SAMN04505647---stx-negative E. albertii2014C-4356Chicken Carcass/2009SAMN07159041-++05-3106Human/2005SAMN08199278-++07-3866Human/2007SAMN07159045+++54-2045 (NCTC 9362) Human/1954SAMN09534374---2010C-3449Human/2010SAMN07159044---2013C-4143Human/2013SAMN08172567---a Swimming motility was observed after incubation at 30◦C'},\n",
       " {'match': 'SAMN12620703',\n",
       "  'context': 'crow (Corvusbrachyrhynchos) /2009SAMN12620693-++RM10507Brown-headed cowbird(Molothrus ater) /2009SAMN12620694+++RM10705Brown-headed cowbird(Molothrus ater) /2009SAMN12620697+++RM15112Oregon Junco (Juncohyemalis) /2011SAMN12620700---RM15113Oregon Junco (Juncohyemalis) /2011SAMN12620701---RM15114Oregon Junco (Juncohyemalis) /2011SAMN12620702---RM15115White-Breasted Nuthatch(Sitta carolinensis) /2011SAMN12620703---RM15116Oregon Junco (Juncohyemalis) /2011SAMN12620704---2011C-4180Human/2011SAMN03019926---2012EL-1823BHuman/2012SAMN04498560---2014C-4015Human/2014SAMN04505646---2014EL-1348Human/2014SAMN04505647---stx-negative E. albertii2014C-4356Chicken Carcass/2009SAMN07159041-++05-3106Human/2005SAMN08199278-++07-3866Human/2007SAMN07159045+++54-2045 (NCTC 9362) Human/1954SAMN09534374---2010C-3449Human/2010SAMN07159044---2013C-4143Human/2013SAMN08172567---a Swimming motility was observed after incubation at 30◦C for three days.(Supplementary'},\n",
       " {'match': 'SAMN12620704',\n",
       "  'context': 'cowbird(Molothrus ater) /2009SAMN12620694+++RM10705Brown-headed cowbird(Molothrus ater) /2009SAMN12620697+++RM15112Oregon Junco (Juncohyemalis) /2011SAMN12620700---RM15113Oregon Junco (Juncohyemalis) /2011SAMN12620701---RM15114Oregon Junco (Juncohyemalis) /2011SAMN12620702---RM15115White-Breasted Nuthatch(Sitta carolinensis) /2011SAMN12620703---RM15116Oregon Junco (Juncohyemalis) /2011SAMN12620704---2011C-4180Human/2011SAMN03019926---2012EL-1823BHuman/2012SAMN04498560---2014C-4015Human/2014SAMN04505646---2014EL-1348Human/2014SAMN04505647---stx-negative E. albertii2014C-4356Chicken Carcass/2009SAMN07159041-++05-3106Human/2005SAMN08199278-++07-3866Human/2007SAMN07159045+++54-2045 (NCTC 9362) Human/1954SAMN09534374---2010C-3449Human/2010SAMN07159044---2013C-4143Human/2013SAMN08172567---a Swimming motility was observed after incubation at 30◦C for three days.(Supplementary Table 3) .'},\n",
       " {'match': 'SAMN03019926',\n",
       "  'context': 'cowbird(Molothrus ater) /2009SAMN12620694+++RM10705Brown-headed cowbird(Molothrus ater) /2009SAMN12620697+++RM15112Oregon Junco (Juncohyemalis) /2011SAMN12620700---RM15113Oregon Junco (Juncohyemalis) /2011SAMN12620701---RM15114Oregon Junco (Juncohyemalis) /2011SAMN12620702---RM15115White-Breasted Nuthatch(Sitta carolinensis) /2011SAMN12620703---RM15116Oregon Junco (Juncohyemalis) /2011SAMN12620704---2011C-4180Human/2011SAMN03019926---2012EL-1823BHuman/2012SAMN04498560---2014C-4015Human/2014SAMN04505646---2014EL-1348Human/2014SAMN04505647---stx-negative E. albertii2014C-4356Chicken Carcass/2009SAMN07159041-++05-3106Human/2005SAMN08199278-++07-3866Human/2007SAMN07159045+++54-2045 (NCTC 9362) Human/1954SAMN09534374---2010C-3449Human/2010SAMN07159044---2013C-4143Human/2013SAMN08172567---a Swimming motility was observed after incubation at 30◦C for three days.(Supplementary Table 3) .'},\n",
       " {'match': 'SAMN04498560',\n",
       "  'context': 'cowbird(Molothrus ater) /2009SAMN12620694+++RM10705Brown-headed cowbird(Molothrus ater) /2009SAMN12620697+++RM15112Oregon Junco (Juncohyemalis) /2011SAMN12620700---RM15113Oregon Junco (Juncohyemalis) /2011SAMN12620701---RM15114Oregon Junco (Juncohyemalis) /2011SAMN12620702---RM15115White-Breasted Nuthatch(Sitta carolinensis) /2011SAMN12620703---RM15116Oregon Junco (Juncohyemalis) /2011SAMN12620704---2011C-4180Human/2011SAMN03019926---2012EL-1823BHuman/2012SAMN04498560---2014C-4015Human/2014SAMN04505646---2014EL-1348Human/2014SAMN04505647---stx-negative E. albertii2014C-4356Chicken Carcass/2009SAMN07159041-++05-3106Human/2005SAMN08199278-++07-3866Human/2007SAMN07159045+++54-2045 (NCTC 9362) Human/1954SAMN09534374---2010C-3449Human/2010SAMN07159044---2013C-4143Human/2013SAMN08172567---a Swimming motility was observed after incubation at 30◦C for three days.(Supplementary Table 3) .'},\n",
       " {'match': 'SAMN04505646',\n",
       "  'context': 'cowbird(Molothrus ater) /2009SAMN12620694+++RM10705Brown-headed cowbird(Molothrus ater) /2009SAMN12620697+++RM15112Oregon Junco (Juncohyemalis) /2011SAMN12620700---RM15113Oregon Junco (Juncohyemalis) /2011SAMN12620701---RM15114Oregon Junco (Juncohyemalis) /2011SAMN12620702---RM15115White-Breasted Nuthatch(Sitta carolinensis) /2011SAMN12620703---RM15116Oregon Junco (Juncohyemalis) /2011SAMN12620704---2011C-4180Human/2011SAMN03019926---2012EL-1823BHuman/2012SAMN04498560---2014C-4015Human/2014SAMN04505646---2014EL-1348Human/2014SAMN04505647---stx-negative E. albertii2014C-4356Chicken Carcass/2009SAMN07159041-++05-3106Human/2005SAMN08199278-++07-3866Human/2007SAMN07159045+++54-2045 (NCTC 9362) Human/1954SAMN09534374---2010C-3449Human/2010SAMN07159044---2013C-4143Human/2013SAMN08172567---a Swimming motility was observed after incubation at 30◦C for three days.(Supplementary Table 3) .'},\n",
       " {'match': 'SAMN04505647',\n",
       "  'context': 'cowbird(Molothrus ater) /2009SAMN12620694+++RM10705Brown-headed cowbird(Molothrus ater) /2009SAMN12620697+++RM15112Oregon Junco (Juncohyemalis) /2011SAMN12620700---RM15113Oregon Junco (Juncohyemalis) /2011SAMN12620701---RM15114Oregon Junco (Juncohyemalis) /2011SAMN12620702---RM15115White-Breasted Nuthatch(Sitta carolinensis) /2011SAMN12620703---RM15116Oregon Junco (Juncohyemalis) /2011SAMN12620704---2011C-4180Human/2011SAMN03019926---2012EL-1823BHuman/2012SAMN04498560---2014C-4015Human/2014SAMN04505646---2014EL-1348Human/2014SAMN04505647---stx-negative E. albertii2014C-4356Chicken Carcass/2009SAMN07159041-++05-3106Human/2005SAMN08199278-++07-3866Human/2007SAMN07159045+++54-2045 (NCTC 9362) Human/1954SAMN09534374---2010C-3449Human/2010SAMN07159044---2013C-4143Human/2013SAMN08172567---a Swimming motility was observed after incubation at 30◦C for three days.(Supplementary Table 3) .'},\n",
       " {'match': 'SAMN07159041',\n",
       "  'context': 'cowbird(Molothrus ater) /2009SAMN12620697+++RM15112Oregon Junco (Juncohyemalis) /2011SAMN12620700---RM15113Oregon Junco (Juncohyemalis) /2011SAMN12620701---RM15114Oregon Junco (Juncohyemalis) /2011SAMN12620702---RM15115White-Breasted Nuthatch(Sitta carolinensis) /2011SAMN12620703---RM15116Oregon Junco (Juncohyemalis) /2011SAMN12620704---2011C-4180Human/2011SAMN03019926---2012EL-1823BHuman/2012SAMN04498560---2014C-4015Human/2014SAMN04505646---2014EL-1348Human/2014SAMN04505647---stx-negative E. albertii2014C-4356Chicken Carcass/2009SAMN07159041-++05-3106Human/2005SAMN08199278-++07-3866Human/2007SAMN07159045+++54-2045 (NCTC 9362) Human/1954SAMN09534374---2010C-3449Human/2010SAMN07159044---2013C-4143Human/2013SAMN08172567---a Swimming motility was observed after incubation at 30◦C for three days.(Supplementary Table 3) . paa encodes an'},\n",
       " {'match': 'SAMN08199278',\n",
       "  'context': 'cowbird(Molothrus ater) /2009SAMN12620697+++RM15112Oregon Junco (Juncohyemalis) /2011SAMN12620700---RM15113Oregon Junco (Juncohyemalis) /2011SAMN12620701---RM15114Oregon Junco (Juncohyemalis) /2011SAMN12620702---RM15115White-Breasted Nuthatch(Sitta carolinensis) /2011SAMN12620703---RM15116Oregon Junco (Juncohyemalis) /2011SAMN12620704---2011C-4180Human/2011SAMN03019926---2012EL-1823BHuman/2012SAMN04498560---2014C-4015Human/2014SAMN04505646---2014EL-1348Human/2014SAMN04505647---stx-negative E. albertii2014C-4356Chicken Carcass/2009SAMN07159041-++05-3106Human/2005SAMN08199278-++07-3866Human/2007SAMN07159045+++54-2045 (NCTC 9362) Human/1954SAMN09534374---2010C-3449Human/2010SAMN07159044---2013C-4143Human/2013SAMN08172567---a Swimming motility was observed after incubation at 30◦C for three days.(Supplementary Table 3) . paa encodes an'},\n",
       " {'match': 'SAMN07159045',\n",
       "  'context': 'cowbird(Molothrus ater) /2009SAMN12620697+++RM15112Oregon Junco (Juncohyemalis) /2011SAMN12620700---RM15113Oregon Junco (Juncohyemalis) /2011SAMN12620701---RM15114Oregon Junco (Juncohyemalis) /2011SAMN12620702---RM15115White-Breasted Nuthatch(Sitta carolinensis) /2011SAMN12620703---RM15116Oregon Junco (Juncohyemalis) /2011SAMN12620704---2011C-4180Human/2011SAMN03019926---2012EL-1823BHuman/2012SAMN04498560---2014C-4015Human/2014SAMN04505646---2014EL-1348Human/2014SAMN04505647---stx-negative E. albertii2014C-4356Chicken Carcass/2009SAMN07159041-++05-3106Human/2005SAMN08199278-++07-3866Human/2007SAMN07159045+++54-2045 (NCTC 9362) Human/1954SAMN09534374---2010C-3449Human/2010SAMN07159044---2013C-4143Human/2013SAMN08172567---a Swimming motility was observed after incubation at 30◦C for three days.(Supplementary Table 3) . paa encodes an'},\n",
       " {'match': 'SAMN09534374',\n",
       "  'context': 'Junco (Juncohyemalis) /2011SAMN12620700---RM15113Oregon Junco (Juncohyemalis) /2011SAMN12620701---RM15114Oregon Junco (Juncohyemalis) /2011SAMN12620702---RM15115White-Breasted Nuthatch(Sitta carolinensis) /2011SAMN12620703---RM15116Oregon Junco (Juncohyemalis) /2011SAMN12620704---2011C-4180Human/2011SAMN03019926---2012EL-1823BHuman/2012SAMN04498560---2014C-4015Human/2014SAMN04505646---2014EL-1348Human/2014SAMN04505647---stx-negative E. albertii2014C-4356Chicken Carcass/2009SAMN07159041-++05-3106Human/2005SAMN08199278-++07-3866Human/2007SAMN07159045+++54-2045 (NCTC 9362) Human/1954SAMN09534374---2010C-3449Human/2010SAMN07159044---2013C-4143Human/2013SAMN08172567---a Swimming motility was observed after incubation at 30◦C for three days.(Supplementary Table 3) . paa encodes an Acf C family'},\n",
       " {'match': 'SAMN07159044',\n",
       "  'context': 'Junco (Juncohyemalis) /2011SAMN12620700---RM15113Oregon Junco (Juncohyemalis) /2011SAMN12620701---RM15114Oregon Junco (Juncohyemalis) /2011SAMN12620702---RM15115White-Breasted Nuthatch(Sitta carolinensis) /2011SAMN12620703---RM15116Oregon Junco (Juncohyemalis) /2011SAMN12620704---2011C-4180Human/2011SAMN03019926---2012EL-1823BHuman/2012SAMN04498560---2014C-4015Human/2014SAMN04505646---2014EL-1348Human/2014SAMN04505647---stx-negative E. albertii2014C-4356Chicken Carcass/2009SAMN07159041-++05-3106Human/2005SAMN08199278-++07-3866Human/2007SAMN07159045+++54-2045 (NCTC 9362) Human/1954SAMN09534374---2010C-3449Human/2010SAMN07159044---2013C-4143Human/2013SAMN08172567---a Swimming motility was observed after incubation at 30◦C for three days.(Supplementary Table 3) . paa encodes an Acf C family'},\n",
       " {'match': 'SAMN08172567',\n",
       "  'context': 'Junco (Juncohyemalis) /2011SAMN12620700---RM15113Oregon Junco (Juncohyemalis) /2011SAMN12620701---RM15114Oregon Junco (Juncohyemalis) /2011SAMN12620702---RM15115White-Breasted Nuthatch(Sitta carolinensis) /2011SAMN12620703---RM15116Oregon Junco (Juncohyemalis) /2011SAMN12620704---2011C-4180Human/2011SAMN03019926---2012EL-1823BHuman/2012SAMN04498560---2014C-4015Human/2014SAMN04505646---2014EL-1348Human/2014SAMN04505647---stx-negative E. albertii2014C-4356Chicken Carcass/2009SAMN07159041-++05-3106Human/2005SAMN08199278-++07-3866Human/2007SAMN07159045+++54-2045 (NCTC 9362) Human/1954SAMN09534374---2010C-3449Human/2010SAMN07159044---2013C-4143Human/2013SAMN08172567---a Swimming motility was observed after incubation at 30◦C for three days.(Supplementary Table 3) . paa encodes an Acf C family'},\n",
       " {'match': 'SAMN33094111',\n",
       "  'context': 'in E. albertii and in somestrains, there are two paa loci, including the bird strains isolatedin Poland (Bio Sample numbers: SAMN33094111, SAMN33094114, SAMN33094099, SAMN33094102, and SAMN33094112) , and apoultry strain isolated in China (SAMN17525956) . The genesin H encodes an intimin-like'},\n",
       " {'match': 'SAMN33094114',\n",
       "  'context': 'E. albertii and in somestrains, there are two paa loci, including the bird strains isolatedin Poland (Bio Sample numbers: SAMN33094111, SAMN33094114, SAMN33094099, SAMN33094102, and SAMN33094112) , and apoultry strain isolated in China (SAMN17525956) . The genesin H encodes an intimin-like inverse'},\n",
       " {'match': 'SAMN33094099',\n",
       "  'context': 'albertii and in somestrains, there are two paa loci, including the bird strains isolatedin Poland (Bio Sample numbers: SAMN33094111, SAMN33094114, SAMN33094099, SAMN33094102, and SAMN33094112) , and apoultry strain isolated in China (SAMN17525956) . The genesin H encodes an intimin-like inverse autotransporter.'},\n",
       " {'match': 'SAMN33094102',\n",
       "  'context': 'and in somestrains, there are two paa loci, including the bird strains isolatedin Poland (Bio Sample numbers: SAMN33094111, SAMN33094114, SAMN33094099, SAMN33094102, and SAMN33094112) , and apoultry strain isolated in China (SAMN17525956) . The genesin H encodes an intimin-like inverse autotransporter. The'},\n",
       " {'match': 'SAMN33094112',\n",
       "  'context': 'somestrains, there are two paa loci, including the bird strains isolatedin Poland (Bio Sample numbers: SAMN33094111, SAMN33094114, SAMN33094099, SAMN33094102, and SAMN33094112) , and apoultry strain isolated in China (SAMN17525956) . The genesin H encodes an intimin-like inverse autotransporter. The inverseautotransporters were'},\n",
       " {'match': 'SAMN17525956',\n",
       "  'context': 'bird strains isolatedin Poland (Bio Sample numbers: SAMN33094111, SAMN33094114, SAMN33094099, SAMN33094102, and SAMN33094112) , and apoultry strain isolated in China (SAMN17525956) . The genesin H encodes an intimin-like inverse autotransporter. The inverseautotransporters were reported to play a role in biofilm formationin'}]"
      ]
     },
     "execution_count": 29,
     "metadata": {},
     "output_type": "execute_result"
    }
   ],
   "source": [
    "extract_context(textp, r'SAMN[\\s\\-]?\\d{8}')"
   ]
  },
  {
   "cell_type": "code",
   "execution_count": null,
   "id": "8f1934b4",
   "metadata": {},
   "outputs": [
    {
     "name": "stdout",
     "output_type": "stream",
     "text": [
      "26\n",
      "['SAMN12620691', 'SAMN12620692', 'SAMN12620693', 'SAMN12620694', 'SAMN12620697', 'SAMN12620700', 'SAMN12620701', 'SAMN12620702', 'SAMN12620703', 'SAMN12620704', 'SAMN03019926', 'SAMN04498560', 'SAMN04505646', 'SAMN04505647', 'SAMN07159041', 'SAMN08199278', 'SAMN07159045', 'SAMN09534374', 'SAMN07159044', 'SAMN08172567', 'SAMN33094111', 'SAMN33094114', 'SAMN33094099', 'SAMN33094102', 'SAMN33094112', 'SAMN17525956']\n"
     ]
    }
   ],
   "source": [
    "samns = re.findall(r'SAMN[\\s\\-]?\\d{8}', textx)\n",
    "print(len(samns))\n",
    "print(samns)"
   ]
  },
  {
   "cell_type": "code",
   "execution_count": null,
   "id": "42ffc10a",
   "metadata": {},
   "outputs": [
    {
     "name": "stdout",
     "output_type": "stream",
     "text": [
      "26\n",
      "['SAMN12620691', 'SAMN12620692', 'SAMN12620693', 'SAMN12620694', 'SAMN12620697', 'SAMN12620700', 'SAMN12620701', 'SAMN12620702', 'SAMN12620703', 'SAMN12620704', 'SAMN03019926', 'SAMN04498560', 'SAMN04505646', 'SAMN04505647', 'SAMN07159041', 'SAMN08199278', 'SAMN07159045', 'SAMN09534374', 'SAMN07159044', 'SAMN08172567', 'SAMN33094111', 'SAMN33094114', 'SAMN33094099', 'SAMN33094102', 'SAMN33094112', 'SAMN17525956']\n"
     ]
    }
   ],
   "source": [
    "samns = re.findall(r'SAMN[\\s\\-]?\\d{8}', textp)\n",
    "print(len(samns))\n",
    "print(samns)"
   ]
  },
  {
   "cell_type": "code",
   "execution_count": 59,
   "id": "69d2ed60",
   "metadata": {},
   "outputs": [
    {
     "name": "stdout",
     "output_type": "stream",
     "text": [
      "/Users/aswinbenny/Downloads/projects/make_data_count/dataset-reference-finder/.venv/bin/python\n"
     ]
    }
   ],
   "source": [
    "import sys\n",
    "print(sys.executable)"
   ]
  },
  {
   "cell_type": "code",
   "execution_count": null,
   "id": "830bf5c6",
   "metadata": {},
   "outputs": [],
   "source": []
  }
 ],
 "metadata": {
  "kernelspec": {
   "display_name": "Python 3.10 (DataRefFinder)",
   "language": "python",
   "name": "py10-drfinder"
  },
  "language_info": {
   "codemirror_mode": {
    "name": "ipython",
    "version": 3
   },
   "file_extension": ".py",
   "mimetype": "text/x-python",
   "name": "python",
   "nbconvert_exporter": "python",
   "pygments_lexer": "ipython3",
   "version": "3.10.11"
  }
 },
 "nbformat": 4,
 "nbformat_minor": 5
}
